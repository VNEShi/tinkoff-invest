{
 "cells": [
  {
   "cell_type": "code",
   "execution_count": 147,
   "metadata": {},
   "outputs": [],
   "source": [
    "from tinkoff.invest import Client\n",
    "import pandas as pd\n",
    "import numpy as np\n",
    "import seaborn as sns\n",
    "import matplotlib.pyplot as plt\n",
    "import datetime\n",
    "from plotly.offline import iplot, init_notebook_mode\n",
    "\n",
    "from plotly.offline import iplot, init_notebook_mode\n",
    "import plotly.express as px\n",
    "import cufflinks\n",
    "cufflinks.go_offline(connected=True)\n",
    "init_notebook_mode(connected=True)"
   ]
  },
  {
   "cell_type": "code",
   "execution_count": 155,
   "metadata": {},
   "outputs": [
    {
     "name": "stdout",
     "output_type": "stream",
     "text": [
      "Collecting cufflinks\n",
      "  Downloading cufflinks-0.17.3.tar.gz (81 kB)\n",
      "Requirement already satisfied: numpy>=1.9.2 in d:\\anaconda\\lib\\site-packages (from cufflinks) (1.18.5)\n",
      "Requirement already satisfied: pandas>=0.19.2 in d:\\anaconda\\lib\\site-packages (from cufflinks) (1.0.5)\n",
      "Requirement already satisfied: plotly>=4.1.1 in d:\\anaconda\\lib\\site-packages (from cufflinks) (4.14.3)\n",
      "Requirement already satisfied: six>=1.9.0 in d:\\anaconda\\lib\\site-packages (from cufflinks) (1.15.0)\n",
      "Collecting colorlover>=0.2.1\n",
      "  Downloading colorlover-0.3.0-py3-none-any.whl (8.9 kB)\n",
      "Requirement already satisfied: setuptools>=34.4.1 in d:\\anaconda\\lib\\site-packages (from cufflinks) (49.2.0.post20200714)\n",
      "Requirement already satisfied: ipython>=5.3.0 in d:\\anaconda\\lib\\site-packages (from cufflinks) (7.16.1)\n",
      "Requirement already satisfied: ipywidgets>=7.0.0 in d:\\anaconda\\lib\\site-packages (from cufflinks) (7.5.1)\n",
      "Requirement already satisfied: python-dateutil>=2.6.1 in d:\\anaconda\\lib\\site-packages (from pandas>=0.19.2->cufflinks) (2.8.2)\n",
      "Requirement already satisfied: pytz>=2017.2 in d:\\anaconda\\lib\\site-packages (from pandas>=0.19.2->cufflinks) (2020.1)\n",
      "Requirement already satisfied: retrying>=1.3.3 in d:\\anaconda\\lib\\site-packages (from plotly>=4.1.1->cufflinks) (1.3.3)\n",
      "Requirement already satisfied: backcall in d:\\anaconda\\lib\\site-packages (from ipython>=5.3.0->cufflinks) (0.2.0)\n",
      "Requirement already satisfied: jedi>=0.10 in d:\\anaconda\\lib\\site-packages (from ipython>=5.3.0->cufflinks) (0.17.1)\n",
      "Requirement already satisfied: pickleshare in d:\\anaconda\\lib\\site-packages (from ipython>=5.3.0->cufflinks) (0.7.5)\n",
      "Requirement already satisfied: decorator in d:\\anaconda\\lib\\site-packages (from ipython>=5.3.0->cufflinks) (4.4.2)\n",
      "Requirement already satisfied: colorama; sys_platform == \"win32\" in d:\\anaconda\\lib\\site-packages (from ipython>=5.3.0->cufflinks) (0.4.3)\n",
      "Requirement already satisfied: prompt-toolkit!=3.0.0,!=3.0.1,<3.1.0,>=2.0.0 in d:\\anaconda\\lib\\site-packages (from ipython>=5.3.0->cufflinks) (3.0.5)\n",
      "Requirement already satisfied: traitlets>=4.2 in d:\\anaconda\\lib\\site-packages (from ipython>=5.3.0->cufflinks) (4.3.3)\n",
      "Requirement already satisfied: pygments in d:\\anaconda\\lib\\site-packages (from ipython>=5.3.0->cufflinks) (2.6.1)\n",
      "Requirement already satisfied: ipykernel>=4.5.1 in d:\\anaconda\\lib\\site-packages (from ipywidgets>=7.0.0->cufflinks) (5.3.2)\n",
      "Requirement already satisfied: widgetsnbextension~=3.5.0 in d:\\anaconda\\lib\\site-packages (from ipywidgets>=7.0.0->cufflinks) (3.5.1)\n",
      "Requirement already satisfied: nbformat>=4.2.0 in d:\\anaconda\\lib\\site-packages (from ipywidgets>=7.0.0->cufflinks) (5.0.7)\n",
      "Requirement already satisfied: parso<0.8.0,>=0.7.0 in d:\\anaconda\\lib\\site-packages (from jedi>=0.10->ipython>=5.3.0->cufflinks) (0.7.0)\n",
      "Requirement already satisfied: wcwidth in d:\\anaconda\\lib\\site-packages (from prompt-toolkit!=3.0.0,!=3.0.1,<3.1.0,>=2.0.0->ipython>=5.3.0->cufflinks) (0.2.5)\n",
      "Requirement already satisfied: ipython-genutils in d:\\anaconda\\lib\\site-packages (from traitlets>=4.2->ipython>=5.3.0->cufflinks) (0.2.0)\n",
      "Requirement already satisfied: tornado>=4.2 in d:\\anaconda\\lib\\site-packages (from ipykernel>=4.5.1->ipywidgets>=7.0.0->cufflinks) (6.0.4)\n",
      "Requirement already satisfied: jupyter-client in d:\\anaconda\\lib\\site-packages (from ipykernel>=4.5.1->ipywidgets>=7.0.0->cufflinks) (6.1.6)\n",
      "Requirement already satisfied: notebook>=4.4.1 in d:\\anaconda\\lib\\site-packages (from widgetsnbextension~=3.5.0->ipywidgets>=7.0.0->cufflinks) (6.0.3)\n",
      "Requirement already satisfied: jsonschema!=2.5.0,>=2.4 in d:\\anaconda\\lib\\site-packages (from nbformat>=4.2.0->ipywidgets>=7.0.0->cufflinks) (3.2.0)\n",
      "Requirement already satisfied: jupyter-core in d:\\anaconda\\lib\\site-packages (from nbformat>=4.2.0->ipywidgets>=7.0.0->cufflinks) (4.6.3)\n",
      "Requirement already satisfied: pyzmq>=13 in d:\\anaconda\\lib\\site-packages (from jupyter-client->ipykernel>=4.5.1->ipywidgets>=7.0.0->cufflinks) (19.0.1)\n",
      "Requirement already satisfied: jinja2 in d:\\anaconda\\lib\\site-packages (from notebook>=4.4.1->widgetsnbextension~=3.5.0->ipywidgets>=7.0.0->cufflinks) (2.11.2)\n",
      "Requirement already satisfied: nbconvert in d:\\anaconda\\lib\\site-packages (from notebook>=4.4.1->widgetsnbextension~=3.5.0->ipywidgets>=7.0.0->cufflinks) (5.6.1)\n",
      "Requirement already satisfied: prometheus-client in d:\\anaconda\\lib\\site-packages (from notebook>=4.4.1->widgetsnbextension~=3.5.0->ipywidgets>=7.0.0->cufflinks) (0.8.0)\n",
      "Requirement already satisfied: Send2Trash in d:\\anaconda\\lib\\site-packages (from notebook>=4.4.1->widgetsnbextension~=3.5.0->ipywidgets>=7.0.0->cufflinks) (1.5.0)\n",
      "Requirement already satisfied: terminado>=0.8.1 in d:\\anaconda\\lib\\site-packages (from notebook>=4.4.1->widgetsnbextension~=3.5.0->ipywidgets>=7.0.0->cufflinks) (0.8.3)\n",
      "Requirement already satisfied: pyrsistent>=0.14.0 in d:\\anaconda\\lib\\site-packages (from jsonschema!=2.5.0,>=2.4->nbformat>=4.2.0->ipywidgets>=7.0.0->cufflinks) (0.16.0)\n",
      "Requirement already satisfied: attrs>=17.4.0 in d:\\anaconda\\lib\\site-packages (from jsonschema!=2.5.0,>=2.4->nbformat>=4.2.0->ipywidgets>=7.0.0->cufflinks) (19.3.0)\n",
      "Requirement already satisfied: pywin32>=1.0; sys_platform == \"win32\" in d:\\anaconda\\lib\\site-packages (from jupyter-core->nbformat>=4.2.0->ipywidgets>=7.0.0->cufflinks) (227)\n",
      "Requirement already satisfied: MarkupSafe>=0.23 in d:\\anaconda\\lib\\site-packages (from jinja2->notebook>=4.4.1->widgetsnbextension~=3.5.0->ipywidgets>=7.0.0->cufflinks) (1.1.1)\n",
      "Requirement already satisfied: entrypoints>=0.2.2 in d:\\anaconda\\lib\\site-packages (from nbconvert->notebook>=4.4.1->widgetsnbextension~=3.5.0->ipywidgets>=7.0.0->cufflinks) (0.3)\n",
      "Requirement already satisfied: mistune<2,>=0.8.1 in d:\\anaconda\\lib\\site-packages (from nbconvert->notebook>=4.4.1->widgetsnbextension~=3.5.0->ipywidgets>=7.0.0->cufflinks) (0.8.4)\n",
      "Requirement already satisfied: bleach in d:\\anaconda\\lib\\site-packages (from nbconvert->notebook>=4.4.1->widgetsnbextension~=3.5.0->ipywidgets>=7.0.0->cufflinks) (3.1.5)\n",
      "Requirement already satisfied: defusedxml in d:\\anaconda\\lib\\site-packages (from nbconvert->notebook>=4.4.1->widgetsnbextension~=3.5.0->ipywidgets>=7.0.0->cufflinks) (0.6.0)\n",
      "Requirement already satisfied: pandocfilters>=1.4.1 in d:\\anaconda\\lib\\site-packages (from nbconvert->notebook>=4.4.1->widgetsnbextension~=3.5.0->ipywidgets>=7.0.0->cufflinks) (1.4.2)\n",
      "Requirement already satisfied: testpath in d:\\anaconda\\lib\\site-packages (from nbconvert->notebook>=4.4.1->widgetsnbextension~=3.5.0->ipywidgets>=7.0.0->cufflinks) (0.4.4)\n",
      "Requirement already satisfied: webencodings in d:\\anaconda\\lib\\site-packages (from bleach->nbconvert->notebook>=4.4.1->widgetsnbextension~=3.5.0->ipywidgets>=7.0.0->cufflinks) (0.5.1)\n",
      "Requirement already satisfied: packaging in d:\\anaconda\\lib\\site-packages (from bleach->nbconvert->notebook>=4.4.1->widgetsnbextension~=3.5.0->ipywidgets>=7.0.0->cufflinks) (20.4)\n",
      "Requirement already satisfied: pyparsing>=2.0.2 in d:\\anaconda\\lib\\site-packages (from packaging->bleach->nbconvert->notebook>=4.4.1->widgetsnbextension~=3.5.0->ipywidgets>=7.0.0->cufflinks) (2.4.7)\n",
      "Building wheels for collected packages: cufflinks\n",
      "  Building wheel for cufflinks (setup.py): started\n",
      "  Building wheel for cufflinks (setup.py): finished with status 'done'\n",
      "  Created wheel for cufflinks: filename=cufflinks-0.17.3-py3-none-any.whl size=68729 sha256=b6131b90e13dc182f09733bdd246cb2252c74f461afb1c8ffa42591a8474ceba\n",
      "  Stored in directory: c:\\users\\danila\\appdata\\local\\pip\\cache\\wheels\\6b\\76\\62\\6da97734911ffcbdd559fd1a3f28526321f0ae699182a23866\n",
      "Successfully built cufflinks\n",
      "Installing collected packages: colorlover, cufflinks\n",
      "Successfully installed colorlover-0.3.0 cufflinks-0.17.3\n"
     ]
    }
   ],
   "source": [
    "!pip install cufflinks"
   ]
  },
  {
   "cell_type": "code",
   "execution_count": 85,
   "metadata": {},
   "outputs": [],
   "source": [
    "def money(v):\n",
    "    return v.units + v.nano / 1e9"
   ]
  },
  {
   "cell_type": "code",
   "execution_count": 86,
   "metadata": {},
   "outputs": [],
   "source": [
    "#Информация о инструменте и лотность\n",
    "def info_instrument(instrument):\n",
    "    name = []\n",
    "    figi = []\n",
    "    ticker = []\n",
    "    lot = []\n",
    "    currency = []\n",
    "    country = []\n",
    "    sector = []\n",
    "    nominal = []\n",
    "    \n",
    "    lots = {}\n",
    "    \n",
    "    for i in instrument:\n",
    "        lots[i.figi] = i.lot\n",
    "        figi.append(i.figi)\n",
    "        name.append(i.name)\n",
    "        ticker.append(i.ticker)\n",
    "        lot.append(i.lot)\n",
    "        currency.append(i.currency)\n",
    "        country.append(i.country_of_risk_name)\n",
    "        try:\n",
    "            nominal.append(money(i.nominal))\n",
    "        except AttributeError:\n",
    "            nominal.append(None)\n",
    "        try:\n",
    "            sector.append(i.sector)\n",
    "        except AttributeError:\n",
    "            sector.append(None)\n",
    "    \n",
    "    list_info = [name, figi, ticker, lot, currency, country, sector, nominal]\n",
    "    list_info_name = ['name', 'figi', 'ticker', 'lot', 'currency', 'country', 'sector', 'nominal']\n",
    "    dict_info = {}\n",
    "    \n",
    "    for i in range(8):\n",
    "        dict_info[list_info_name[i]] = list_info[i]\n",
    "            \n",
    "    return dict_info, lots"
   ]
  },
  {
   "cell_type": "markdown",
   "metadata": {},
   "source": [
    "**Файл с токеном**"
   ]
  },
  {
   "cell_type": "code",
   "execution_count": 87,
   "metadata": {},
   "outputs": [],
   "source": [
    "token = open('C:/Users/Danila/Desktop/jupyter/my/Тинькофф инвестиции/Проект 1.txt', 'r').read()"
   ]
  },
  {
   "cell_type": "markdown",
   "metadata": {},
   "source": [
    "# Данные"
   ]
  },
  {
   "cell_type": "code",
   "execution_count": 88,
   "metadata": {},
   "outputs": [],
   "source": [
    "accounts_id = []\n",
    "accounts_name = []\n",
    "accounts_opened = []\n",
    "\n",
    "with Client(token) as client:\n",
    "    \n",
    "    #Информация о брокерских счетах\n",
    "    accounts = client.users.get_accounts()\n",
    "    for account in accounts.accounts:\n",
    "        accounts_id.append(account.id)\n",
    "        accounts_name.append(account.name)\n",
    "        accounts_opened.append(account.opened_date.date())\n",
    "        \n",
    "    #Информация о всех инструментах\n",
    "    info_shares = info_instrument(client.instruments.shares().instruments)[0]\n",
    "    info_bonds = info_instrument(client.instruments.bonds().instruments)[0]\n",
    "    info_etfs = info_instrument(client.instruments.etfs().instruments)[0]\n",
    "    info_currencies = info_instrument(client.instruments.currencies().instruments)[0]\n",
    "    \n",
    "    #Лотность инструмента\n",
    "    lots_info_shares = info_instrument(client.instruments.shares().instruments)[1]\n",
    "    lots_info_bonds = info_instrument(client.instruments.bonds().instruments)[1]\n",
    "    lots_info_etfs = info_instrument(client.instruments.etfs().instruments)[1]\n",
    "    lots_info_currencies = info_instrument(client.instruments.currencies().instruments)[1]"
   ]
  },
  {
   "cell_type": "code",
   "execution_count": 89,
   "metadata": {},
   "outputs": [],
   "source": [
    "#Лотность всех инструментов    \n",
    "all_lots_info = {**lots_info_shares, **lots_info_bonds, **lots_info_etfs, **lots_info_currencies}\n",
    "\n",
    "#Таблицы с информацией о инстурментах\n",
    "df_shares_info = pd.DataFrame(info_shares)\n",
    "df_bonds_info = pd.DataFrame(info_bonds)\n",
    "df_etfs_info = pd.DataFrame(info_etfs)\n",
    "df_currencies_info = pd.DataFrame(info_currencies)\n",
    "\n",
    "#Таблица с информацией о счетах\n",
    "accounts = pd.DataFrame({'account_id': accounts_id,\n",
    "                         'account_name': accounts_name,\n",
    "                         'account_opened': accounts_opened})"
   ]
  },
  {
   "cell_type": "code",
   "execution_count": 90,
   "metadata": {},
   "outputs": [],
   "source": [
    "number_account = 0\n",
    "\n",
    "account_id = accounts.iloc[number_account][0]\n",
    "start_date = datetime.datetime(accounts.iloc[number_account][2].year,\n",
    "                               accounts.iloc[number_account][2].month,\n",
    "                               accounts.iloc[number_account][2].day)"
   ]
  },
  {
   "cell_type": "code",
   "execution_count": 91,
   "metadata": {},
   "outputs": [],
   "source": [
    "figi_buy = []\n",
    "date_buy = []\n",
    "price_buy = []\n",
    "type_buy = []\n",
    "\n",
    "figi_sold = []\n",
    "date_sold = []\n",
    "price_sold = []\n",
    "\n",
    "figi_commission = []\n",
    "commission = []\n",
    "\n",
    "with Client(token) as client:\n",
    "    r = client.operations.get_operations(account_id=account_id,\n",
    "                                         from_=start_date,\n",
    "                                         to=datetime.datetime.now()\n",
    "                                        )\n",
    "    for operation in r.operations:\n",
    "        if operation.state == 1:\n",
    "            if operation.type == 'Покупка ценных бумаг':\n",
    "                if operation.figi not in ['BBG00VHGV1J0','', 'BBG00Y4RPMM1']:\n",
    "                    if int(operation.quantity) % int(all_lots_info[operation.figi]) == 0:\n",
    "                        for i in range(int(operation.quantity / all_lots_info[operation.figi])):\n",
    "                            figi_buy.append(operation.figi)\n",
    "                            date_buy.append(operation.date)\n",
    "                            price_buy.append(money(operation.price) * all_lots_info[operation.figi])\n",
    "                            type_buy.append(operation.instrument_type)\n",
    "                    else:\n",
    "                        for i in range(int(operation.quantity)):\n",
    "                            figi_buy.append(operation.figi)\n",
    "                            date_buy.append(operation.date)\n",
    "                            price_buy.append(money(operation.price))\n",
    "                            type_buy.append(operation.instrument_type)\n",
    "                        \n",
    "                        \n",
    "            elif operation.type == 'Продажа ценных бумаг':\n",
    "                if operation.figi not in ['BBG00VHGV1J0','', 'BBG00Y4RPMM1']:\n",
    "                    if int(operation.quantity) % int(all_lots_info[operation.figi]) == 0:\n",
    "                        for i in range(int(operation.quantity / all_lots_info[operation.figi])):\n",
    "                            figi_sold.append(operation.figi)\n",
    "                            date_sold.append(operation.date)\n",
    "                            price_sold.append(money(operation.price) * all_lots_info[operation.figi])\n",
    "                    else:\n",
    "                        for i in range(int(operation.quantity)):\n",
    "                            figi_sold.append(operation.figi)\n",
    "                            date_sold.append(operation.date)\n",
    "                            price_sold.append(money(operation.price))\n",
    "                        \n",
    "            if operation.type == 'Удержание комиссии за операцию' :\n",
    "                figi_commission.append(operation.figi)\n",
    "                commission.append(money(operation.payment))"
   ]
  },
  {
   "cell_type": "code",
   "execution_count": 92,
   "metadata": {},
   "outputs": [
    {
     "data": {
      "text/html": [
       "<div>\n",
       "<style scoped>\n",
       "    .dataframe tbody tr th:only-of-type {\n",
       "        vertical-align: middle;\n",
       "    }\n",
       "\n",
       "    .dataframe tbody tr th {\n",
       "        vertical-align: top;\n",
       "    }\n",
       "\n",
       "    .dataframe thead th {\n",
       "        text-align: right;\n",
       "    }\n",
       "</style>\n",
       "<table border=\"1\" class=\"dataframe\">\n",
       "  <thead>\n",
       "    <tr style=\"text-align: right;\">\n",
       "      <th></th>\n",
       "      <th>figi_commission</th>\n",
       "      <th>commission</th>\n",
       "    </tr>\n",
       "  </thead>\n",
       "  <tbody>\n",
       "    <tr>\n",
       "      <th>0</th>\n",
       "      <td></td>\n",
       "      <td>-0.63</td>\n",
       "    </tr>\n",
       "    <tr>\n",
       "      <th>1</th>\n",
       "      <td>BBG000B9XRY4</td>\n",
       "      <td>-0.70</td>\n",
       "    </tr>\n",
       "    <tr>\n",
       "      <th>2</th>\n",
       "      <td>BBG000B9ZLB0</td>\n",
       "      <td>-0.09</td>\n",
       "    </tr>\n",
       "    <tr>\n",
       "      <th>3</th>\n",
       "      <td>BBG000BBJQV0</td>\n",
       "      <td>-0.09</td>\n",
       "    </tr>\n",
       "    <tr>\n",
       "      <th>4</th>\n",
       "      <td>BBG000BBK4B9</td>\n",
       "      <td>-0.06</td>\n",
       "    </tr>\n",
       "    <tr>\n",
       "      <th>...</th>\n",
       "      <td>...</td>\n",
       "      <td>...</td>\n",
       "    </tr>\n",
       "    <tr>\n",
       "      <th>80</th>\n",
       "      <td>BBG012F7Y8K5</td>\n",
       "      <td>-5.21</td>\n",
       "    </tr>\n",
       "    <tr>\n",
       "      <th>81</th>\n",
       "      <td>BBG0320C1036</td>\n",
       "      <td>-2.05</td>\n",
       "    </tr>\n",
       "    <tr>\n",
       "      <th>82</th>\n",
       "      <td>TCS00A102DK3</td>\n",
       "      <td>-4.85</td>\n",
       "    </tr>\n",
       "    <tr>\n",
       "      <th>83</th>\n",
       "      <td>TCS00A103117</td>\n",
       "      <td>-29.99</td>\n",
       "    </tr>\n",
       "    <tr>\n",
       "      <th>84</th>\n",
       "      <td>TCS00A103935</td>\n",
       "      <td>-3.30</td>\n",
       "    </tr>\n",
       "  </tbody>\n",
       "</table>\n",
       "<p>85 rows × 2 columns</p>\n",
       "</div>"
      ],
      "text/plain": [
       "   figi_commission  commission\n",
       "0                        -0.63\n",
       "1     BBG000B9XRY4       -0.70\n",
       "2     BBG000B9ZLB0       -0.09\n",
       "3     BBG000BBJQV0       -0.09\n",
       "4     BBG000BBK4B9       -0.06\n",
       "..             ...         ...\n",
       "80    BBG012F7Y8K5       -5.21\n",
       "81    BBG0320C1036       -2.05\n",
       "82    TCS00A102DK3       -4.85\n",
       "83    TCS00A103117      -29.99\n",
       "84    TCS00A103935       -3.30\n",
       "\n",
       "[85 rows x 2 columns]"
      ]
     },
     "execution_count": 92,
     "metadata": {},
     "output_type": "execute_result"
    }
   ],
   "source": [
    "df_comission = pd.DataFrame({\n",
    "                             'figi_commission': figi_commission,\n",
    "                             'commission' : commission\n",
    "                            })\n",
    "df_comission = df_comission.groupby('figi_commission', as_index=False).agg({'commission': 'sum'})\n",
    "df_comission"
   ]
  },
  {
   "cell_type": "code",
   "execution_count": 93,
   "metadata": {},
   "outputs": [],
   "source": [
    "df_buy = pd.DataFrame({\n",
    "                       'date_buy' : date_buy,\n",
    "                       'figi': figi_buy,\n",
    "                       'price_buy': price_buy,\n",
    "                       'type': type_buy \n",
    "                        })\n",
    "\n",
    "df_buy = df_buy.sort_values(['figi', 'date_buy']).reset_index(drop=True)"
   ]
  },
  {
   "cell_type": "code",
   "execution_count": 94,
   "metadata": {},
   "outputs": [],
   "source": [
    "df_sold = pd.DataFrame({\n",
    "                       'date_sold' : date_sold,\n",
    "                       'figi': figi_sold,\n",
    "                       'price_sold': price_sold\n",
    "                        })\n",
    "\n",
    "df_sold = df_sold.sort_values(['figi', 'date_sold']).reset_index(drop=True)"
   ]
  },
  {
   "cell_type": "code",
   "execution_count": 95,
   "metadata": {},
   "outputs": [],
   "source": [
    "df_buy['c'] = df_buy.groupby(['figi']).cumcount()+1\n",
    "df_sold['c'] = df_sold.groupby(['figi']).cumcount()+1"
   ]
  },
  {
   "cell_type": "code",
   "execution_count": 96,
   "metadata": {},
   "outputs": [
    {
     "data": {
      "text/html": [
       "<div>\n",
       "<style scoped>\n",
       "    .dataframe tbody tr th:only-of-type {\n",
       "        vertical-align: middle;\n",
       "    }\n",
       "\n",
       "    .dataframe tbody tr th {\n",
       "        vertical-align: top;\n",
       "    }\n",
       "\n",
       "    .dataframe thead th {\n",
       "        text-align: right;\n",
       "    }\n",
       "</style>\n",
       "<table border=\"1\" class=\"dataframe\">\n",
       "  <thead>\n",
       "    <tr style=\"text-align: right;\">\n",
       "      <th></th>\n",
       "      <th>date_buy</th>\n",
       "      <th>figi</th>\n",
       "      <th>price_buy</th>\n",
       "      <th>type</th>\n",
       "      <th>c</th>\n",
       "      <th>date_sold</th>\n",
       "      <th>price_sold</th>\n",
       "    </tr>\n",
       "  </thead>\n",
       "  <tbody>\n",
       "    <tr>\n",
       "      <th>0</th>\n",
       "      <td>2021-04-27 12:53:30.016000+00:00</td>\n",
       "      <td>BBG000000001</td>\n",
       "      <td>5.927</td>\n",
       "      <td>etf</td>\n",
       "      <td>1</td>\n",
       "      <td>2021-05-07 07:41:28.205000+00:00</td>\n",
       "      <td>5.968012</td>\n",
       "    </tr>\n",
       "    <tr>\n",
       "      <th>1</th>\n",
       "      <td>2021-04-27 12:53:30.016000+00:00</td>\n",
       "      <td>BBG000000001</td>\n",
       "      <td>5.927</td>\n",
       "      <td>etf</td>\n",
       "      <td>2</td>\n",
       "      <td>2021-05-07 07:41:28.205000+00:00</td>\n",
       "      <td>5.968012</td>\n",
       "    </tr>\n",
       "    <tr>\n",
       "      <th>2</th>\n",
       "      <td>2021-04-27 12:53:30.016000+00:00</td>\n",
       "      <td>BBG000000001</td>\n",
       "      <td>5.927</td>\n",
       "      <td>etf</td>\n",
       "      <td>3</td>\n",
       "      <td>2021-05-07 07:41:28.205000+00:00</td>\n",
       "      <td>5.968012</td>\n",
       "    </tr>\n",
       "    <tr>\n",
       "      <th>3</th>\n",
       "      <td>2021-04-27 12:53:30.016000+00:00</td>\n",
       "      <td>BBG000000001</td>\n",
       "      <td>5.927</td>\n",
       "      <td>etf</td>\n",
       "      <td>4</td>\n",
       "      <td>2021-05-07 07:41:28.205000+00:00</td>\n",
       "      <td>5.968012</td>\n",
       "    </tr>\n",
       "    <tr>\n",
       "      <th>4</th>\n",
       "      <td>2021-04-27 12:53:30.016000+00:00</td>\n",
       "      <td>BBG000000001</td>\n",
       "      <td>5.927</td>\n",
       "      <td>etf</td>\n",
       "      <td>5</td>\n",
       "      <td>2021-05-07 07:41:28.205000+00:00</td>\n",
       "      <td>5.968012</td>\n",
       "    </tr>\n",
       "    <tr>\n",
       "      <th>...</th>\n",
       "      <td>...</td>\n",
       "      <td>...</td>\n",
       "      <td>...</td>\n",
       "      <td>...</td>\n",
       "      <td>...</td>\n",
       "      <td>...</td>\n",
       "      <td>...</td>\n",
       "    </tr>\n",
       "    <tr>\n",
       "      <th>5874</th>\n",
       "      <td>2022-04-25 11:29:07.751000+00:00</td>\n",
       "      <td>TCS00A103935</td>\n",
       "      <td>846.000</td>\n",
       "      <td>bond</td>\n",
       "      <td>6</td>\n",
       "      <td>NaT</td>\n",
       "      <td>NaN</td>\n",
       "    </tr>\n",
       "    <tr>\n",
       "      <th>5875</th>\n",
       "      <td>2022-04-25 11:29:07.751000+00:00</td>\n",
       "      <td>TCS00A103935</td>\n",
       "      <td>846.000</td>\n",
       "      <td>bond</td>\n",
       "      <td>7</td>\n",
       "      <td>NaT</td>\n",
       "      <td>NaN</td>\n",
       "    </tr>\n",
       "    <tr>\n",
       "      <th>5876</th>\n",
       "      <td>2022-04-25 11:29:07.751000+00:00</td>\n",
       "      <td>TCS00A103935</td>\n",
       "      <td>846.000</td>\n",
       "      <td>bond</td>\n",
       "      <td>8</td>\n",
       "      <td>NaT</td>\n",
       "      <td>NaN</td>\n",
       "    </tr>\n",
       "    <tr>\n",
       "      <th>5877</th>\n",
       "      <td>2022-04-25 11:29:07.751000+00:00</td>\n",
       "      <td>TCS00A103935</td>\n",
       "      <td>846.000</td>\n",
       "      <td>bond</td>\n",
       "      <td>9</td>\n",
       "      <td>NaT</td>\n",
       "      <td>NaN</td>\n",
       "    </tr>\n",
       "    <tr>\n",
       "      <th>5878</th>\n",
       "      <td>2022-04-25 11:29:07.751000+00:00</td>\n",
       "      <td>TCS00A103935</td>\n",
       "      <td>846.000</td>\n",
       "      <td>bond</td>\n",
       "      <td>10</td>\n",
       "      <td>NaT</td>\n",
       "      <td>NaN</td>\n",
       "    </tr>\n",
       "  </tbody>\n",
       "</table>\n",
       "<p>5879 rows × 7 columns</p>\n",
       "</div>"
      ],
      "text/plain": [
       "                             date_buy          figi  price_buy  type   c  \\\n",
       "0    2021-04-27 12:53:30.016000+00:00  BBG000000001      5.927   etf   1   \n",
       "1    2021-04-27 12:53:30.016000+00:00  BBG000000001      5.927   etf   2   \n",
       "2    2021-04-27 12:53:30.016000+00:00  BBG000000001      5.927   etf   3   \n",
       "3    2021-04-27 12:53:30.016000+00:00  BBG000000001      5.927   etf   4   \n",
       "4    2021-04-27 12:53:30.016000+00:00  BBG000000001      5.927   etf   5   \n",
       "...                               ...           ...        ...   ...  ..   \n",
       "5874 2022-04-25 11:29:07.751000+00:00  TCS00A103935    846.000  bond   6   \n",
       "5875 2022-04-25 11:29:07.751000+00:00  TCS00A103935    846.000  bond   7   \n",
       "5876 2022-04-25 11:29:07.751000+00:00  TCS00A103935    846.000  bond   8   \n",
       "5877 2022-04-25 11:29:07.751000+00:00  TCS00A103935    846.000  bond   9   \n",
       "5878 2022-04-25 11:29:07.751000+00:00  TCS00A103935    846.000  bond  10   \n",
       "\n",
       "                            date_sold  price_sold  \n",
       "0    2021-05-07 07:41:28.205000+00:00    5.968012  \n",
       "1    2021-05-07 07:41:28.205000+00:00    5.968012  \n",
       "2    2021-05-07 07:41:28.205000+00:00    5.968012  \n",
       "3    2021-05-07 07:41:28.205000+00:00    5.968012  \n",
       "4    2021-05-07 07:41:28.205000+00:00    5.968012  \n",
       "...                               ...         ...  \n",
       "5874                              NaT         NaN  \n",
       "5875                              NaT         NaN  \n",
       "5876                              NaT         NaN  \n",
       "5877                              NaT         NaN  \n",
       "5878                              NaT         NaN  \n",
       "\n",
       "[5879 rows x 7 columns]"
      ]
     },
     "execution_count": 96,
     "metadata": {},
     "output_type": "execute_result"
    }
   ],
   "source": [
    "df_buy_sold = df_buy.merge(df_sold,\n",
    "                           how='left',\n",
    "                           on=['figi', 'c'])\n",
    "df_buy_sold"
   ]
  },
  {
   "cell_type": "code",
   "execution_count": 137,
   "metadata": {},
   "outputs": [],
   "source": [
    "usd_mean = df_buy_sold[df_buy_sold['figi'] == 'BBG0013HGFT4']['price_buy'].mean()\n",
    "eur_mean = df_buy_sold[df_buy_sold['figi'] == 'BBG0013HJJ31']['price_buy'].mean()"
   ]
  },
  {
   "cell_type": "code",
   "execution_count": 104,
   "metadata": {},
   "outputs": [],
   "source": [
    "figi_dividend = []\n",
    "last_day_buy = []\n",
    "dividend_net = []\n",
    "\n",
    "with Client(token) as client:\n",
    "    for figis_for_divident_info in list(df_buy_sold[df_buy_sold['type'] == 'share']['figi'].unique()):\n",
    "        dividends_info = client.instruments.get_dividends(figi=figis_for_divident_info,\n",
    "                                                          from_=start_date,\n",
    "                                                          to=datetime.datetime.now())\n",
    "        \n",
    "        for day_dividend_info in dividends_info.dividends:\n",
    "            figi_dividend.append(figis_for_divident_info)\n",
    "            last_day_buy.append(day_dividend_info.last_buy_date)\n",
    "            dividend_net.append(money(day_dividend_info.dividend_net) * all_lots_info[figis_for_divident_info])"
   ]
  },
  {
   "cell_type": "code",
   "execution_count": 105,
   "metadata": {},
   "outputs": [
    {
     "data": {
      "text/html": [
       "<div>\n",
       "<style scoped>\n",
       "    .dataframe tbody tr th:only-of-type {\n",
       "        vertical-align: middle;\n",
       "    }\n",
       "\n",
       "    .dataframe tbody tr th {\n",
       "        vertical-align: top;\n",
       "    }\n",
       "\n",
       "    .dataframe thead th {\n",
       "        text-align: right;\n",
       "    }\n",
       "</style>\n",
       "<table border=\"1\" class=\"dataframe\">\n",
       "  <thead>\n",
       "    <tr style=\"text-align: right;\">\n",
       "      <th></th>\n",
       "      <th>figi</th>\n",
       "      <th>last_day_buy</th>\n",
       "      <th>dividend_net</th>\n",
       "    </tr>\n",
       "  </thead>\n",
       "  <tbody>\n",
       "    <tr>\n",
       "      <th>0</th>\n",
       "      <td>BBG000B9XRY4</td>\n",
       "      <td>2022-02-03 00:00:00+00:00</td>\n",
       "      <td>0.2200</td>\n",
       "    </tr>\n",
       "    <tr>\n",
       "      <th>1</th>\n",
       "      <td>BBG000B9XRY4</td>\n",
       "      <td>2021-11-04 00:00:00+00:00</td>\n",
       "      <td>0.2200</td>\n",
       "    </tr>\n",
       "    <tr>\n",
       "      <th>2</th>\n",
       "      <td>BBG000B9XRY4</td>\n",
       "      <td>2021-08-05 00:00:00+00:00</td>\n",
       "      <td>0.2200</td>\n",
       "    </tr>\n",
       "    <tr>\n",
       "      <th>3</th>\n",
       "      <td>BBG000B9XRY4</td>\n",
       "      <td>2021-05-06 00:00:00+00:00</td>\n",
       "      <td>0.2200</td>\n",
       "    </tr>\n",
       "    <tr>\n",
       "      <th>4</th>\n",
       "      <td>BBG000B9XRY4</td>\n",
       "      <td>2021-02-04 00:00:00+00:00</td>\n",
       "      <td>0.2050</td>\n",
       "    </tr>\n",
       "    <tr>\n",
       "      <th>...</th>\n",
       "      <td>...</td>\n",
       "      <td>...</td>\n",
       "      <td>...</td>\n",
       "    </tr>\n",
       "    <tr>\n",
       "      <th>74</th>\n",
       "      <td>BBG00HFWVGN0</td>\n",
       "      <td>2021-07-21 00:00:00+00:00</td>\n",
       "      <td>0.0680</td>\n",
       "    </tr>\n",
       "    <tr>\n",
       "      <th>75</th>\n",
       "      <td>BBG00HFWVGN0</td>\n",
       "      <td>2021-03-10 00:00:00+00:00</td>\n",
       "      <td>0.1350</td>\n",
       "    </tr>\n",
       "    <tr>\n",
       "      <th>76</th>\n",
       "      <td>BBG00KHGQ0H4</td>\n",
       "      <td>2022-01-20 00:00:00+00:00</td>\n",
       "      <td>0.7140</td>\n",
       "    </tr>\n",
       "    <tr>\n",
       "      <th>77</th>\n",
       "      <td>BBG00KHGQ0H4</td>\n",
       "      <td>2021-06-07 00:00:00+00:00</td>\n",
       "      <td>0.4675</td>\n",
       "    </tr>\n",
       "    <tr>\n",
       "      <th>78</th>\n",
       "      <td>BBG00QPYJ5H0</td>\n",
       "      <td>2021-03-24 00:00:00+00:00</td>\n",
       "      <td>0.2400</td>\n",
       "    </tr>\n",
       "  </tbody>\n",
       "</table>\n",
       "<p>79 rows × 3 columns</p>\n",
       "</div>"
      ],
      "text/plain": [
       "            figi              last_day_buy  dividend_net\n",
       "0   BBG000B9XRY4 2022-02-03 00:00:00+00:00        0.2200\n",
       "1   BBG000B9XRY4 2021-11-04 00:00:00+00:00        0.2200\n",
       "2   BBG000B9XRY4 2021-08-05 00:00:00+00:00        0.2200\n",
       "3   BBG000B9XRY4 2021-05-06 00:00:00+00:00        0.2200\n",
       "4   BBG000B9XRY4 2021-02-04 00:00:00+00:00        0.2050\n",
       "..           ...                       ...           ...\n",
       "74  BBG00HFWVGN0 2021-07-21 00:00:00+00:00        0.0680\n",
       "75  BBG00HFWVGN0 2021-03-10 00:00:00+00:00        0.1350\n",
       "76  BBG00KHGQ0H4 2022-01-20 00:00:00+00:00        0.7140\n",
       "77  BBG00KHGQ0H4 2021-06-07 00:00:00+00:00        0.4675\n",
       "78  BBG00QPYJ5H0 2021-03-24 00:00:00+00:00        0.2400\n",
       "\n",
       "[79 rows x 3 columns]"
      ]
     },
     "execution_count": 105,
     "metadata": {},
     "output_type": "execute_result"
    }
   ],
   "source": [
    "df_dividend = pd.DataFrame({'figi': figi_dividend,\n",
    "                            'last_day_buy': last_day_buy,\n",
    "                            'dividend_net': dividend_net})\n",
    "df_dividend"
   ]
  },
  {
   "cell_type": "markdown",
   "metadata": {},
   "source": [
    "# Закрытые сделки"
   ]
  },
  {
   "cell_type": "markdown",
   "metadata": {},
   "source": [
    "## Акции"
   ]
  },
  {
   "cell_type": "code",
   "execution_count": 132,
   "metadata": {},
   "outputs": [],
   "source": [
    "df_closed_shares = df_buy_sold[(df_buy_sold['type'] == 'share') &\n",
    "                               (~df_buy_sold['price_sold'].isna())]"
   ]
  },
  {
   "cell_type": "code",
   "execution_count": 144,
   "metadata": {},
   "outputs": [
    {
     "data": {
      "text/html": [
       "<div>\n",
       "<style scoped>\n",
       "    .dataframe tbody tr th:only-of-type {\n",
       "        vertical-align: middle;\n",
       "    }\n",
       "\n",
       "    .dataframe tbody tr th {\n",
       "        vertical-align: top;\n",
       "    }\n",
       "\n",
       "    .dataframe thead th {\n",
       "        text-align: right;\n",
       "    }\n",
       "</style>\n",
       "<table border=\"1\" class=\"dataframe\">\n",
       "  <thead>\n",
       "    <tr style=\"text-align: right;\">\n",
       "      <th></th>\n",
       "      <th>name</th>\n",
       "      <th>ticker</th>\n",
       "      <th>country</th>\n",
       "      <th>sector</th>\n",
       "      <th>profit</th>\n",
       "      <th>profit_rub</th>\n",
       "      <th>profit_perc</th>\n",
       "    </tr>\n",
       "  </thead>\n",
       "  <tbody>\n",
       "    <tr>\n",
       "      <th>0</th>\n",
       "      <td>Apple</td>\n",
       "      <td>AAPL</td>\n",
       "      <td>Соединенные Штаты Америки</td>\n",
       "      <td>it</td>\n",
       "      <td>53.850000</td>\n",
       "      <td>4088.054400</td>\n",
       "      <td>6.410333</td>\n",
       "    </tr>\n",
       "    <tr>\n",
       "      <th>1</th>\n",
       "      <td>Compugen</td>\n",
       "      <td>CGEN</td>\n",
       "      <td>Государство Израиль</td>\n",
       "      <td>health_care</td>\n",
       "      <td>0.470000</td>\n",
       "      <td>35.680326</td>\n",
       "      <td>3.094141</td>\n",
       "    </tr>\n",
       "    <tr>\n",
       "      <th>2</th>\n",
       "      <td>China Life Insurance</td>\n",
       "      <td>LFC</td>\n",
       "      <td>Китайская Народная Республика</td>\n",
       "      <td>financial</td>\n",
       "      <td>0.110000</td>\n",
       "      <td>8.350715</td>\n",
       "      <td>1.078431</td>\n",
       "    </tr>\n",
       "    <tr>\n",
       "      <th>3</th>\n",
       "      <td>AMD</td>\n",
       "      <td>AMD</td>\n",
       "      <td>Соединенные Штаты Америки</td>\n",
       "      <td>it</td>\n",
       "      <td>6.650000</td>\n",
       "      <td>504.838658</td>\n",
       "      <td>1.921632</td>\n",
       "    </tr>\n",
       "    <tr>\n",
       "      <th>4</th>\n",
       "      <td>Deutsche Lufthansa AG</td>\n",
       "      <td>LHA@DE</td>\n",
       "      <td>Федеративная Республика Германия</td>\n",
       "      <td>industrials</td>\n",
       "      <td>0.270000</td>\n",
       "      <td>21.262071</td>\n",
       "      <td>4.728546</td>\n",
       "    </tr>\n",
       "    <tr>\n",
       "      <th>5</th>\n",
       "      <td>Bank of America Corp</td>\n",
       "      <td>BAC</td>\n",
       "      <td>Соединенные Штаты Америки</td>\n",
       "      <td>financial</td>\n",
       "      <td>-2.820000</td>\n",
       "      <td>-214.081957</td>\n",
       "      <td>-6.584170</td>\n",
       "    </tr>\n",
       "    <tr>\n",
       "      <th>6</th>\n",
       "      <td>Korea Electric Power</td>\n",
       "      <td>KEP</td>\n",
       "      <td>Республика Корея</td>\n",
       "      <td>utilities</td>\n",
       "      <td>0.700000</td>\n",
       "      <td>53.140911</td>\n",
       "      <td>6.392694</td>\n",
       "    </tr>\n",
       "    <tr>\n",
       "      <th>7</th>\n",
       "      <td>Carnival</td>\n",
       "      <td>CCL</td>\n",
       "      <td>Соединенные Штаты Америки</td>\n",
       "      <td>consumer</td>\n",
       "      <td>15.050002</td>\n",
       "      <td>1142.529747</td>\n",
       "      <td>4.773838</td>\n",
       "    </tr>\n",
       "    <tr>\n",
       "      <th>8</th>\n",
       "      <td>Transocean</td>\n",
       "      <td>RIG</td>\n",
       "      <td>Соединенные Штаты Америки</td>\n",
       "      <td>energy</td>\n",
       "      <td>2.360000</td>\n",
       "      <td>179.160787</td>\n",
       "      <td>5.625745</td>\n",
       "    </tr>\n",
       "    <tr>\n",
       "      <th>9</th>\n",
       "      <td>Cassava Sciences</td>\n",
       "      <td>SAVA</td>\n",
       "      <td>Соединенные Штаты Америки</td>\n",
       "      <td>health_care</td>\n",
       "      <td>61.920000</td>\n",
       "      <td>4700.693193</td>\n",
       "      <td>10.152151</td>\n",
       "    </tr>\n",
       "    <tr>\n",
       "      <th>10</th>\n",
       "      <td>Energy Transfer LP</td>\n",
       "      <td>ET</td>\n",
       "      <td>Соединенные Штаты Америки</td>\n",
       "      <td>energy</td>\n",
       "      <td>6.570000</td>\n",
       "      <td>498.765411</td>\n",
       "      <td>2.561603</td>\n",
       "    </tr>\n",
       "    <tr>\n",
       "      <th>11</th>\n",
       "      <td>Детский Мир</td>\n",
       "      <td>DSKY</td>\n",
       "      <td>Российская Федерация</td>\n",
       "      <td>consumer</td>\n",
       "      <td>131.800000</td>\n",
       "      <td>131.800000</td>\n",
       "      <td>3.517293</td>\n",
       "    </tr>\n",
       "    <tr>\n",
       "      <th>12</th>\n",
       "      <td>Vale SA</td>\n",
       "      <td>VALE</td>\n",
       "      <td>Федеративная Республика Бразилия</td>\n",
       "      <td>materials</td>\n",
       "      <td>6.560000</td>\n",
       "      <td>498.006256</td>\n",
       "      <td>5.942029</td>\n",
       "    </tr>\n",
       "    <tr>\n",
       "      <th>13</th>\n",
       "      <td>Ford</td>\n",
       "      <td>F</td>\n",
       "      <td>Соединенные Штаты Америки</td>\n",
       "      <td>consumer</td>\n",
       "      <td>11.670000</td>\n",
       "      <td>885.934909</td>\n",
       "      <td>15.666532</td>\n",
       "    </tr>\n",
       "    <tr>\n",
       "      <th>14</th>\n",
       "      <td>Aspira Womens Health</td>\n",
       "      <td>AWH</td>\n",
       "      <td>Соединенные Штаты Америки</td>\n",
       "      <td>health_care</td>\n",
       "      <td>-88.530000</td>\n",
       "      <td>-6720.806982</td>\n",
       "      <td>-88.326848</td>\n",
       "    </tr>\n",
       "    <tr>\n",
       "      <th>15</th>\n",
       "      <td>British American Tobacco</td>\n",
       "      <td>BTI</td>\n",
       "      <td>Соединенное Королевство Великобритании и Север...</td>\n",
       "      <td>consumer</td>\n",
       "      <td>1.050000</td>\n",
       "      <td>79.711367</td>\n",
       "      <td>2.690238</td>\n",
       "    </tr>\n",
       "    <tr>\n",
       "      <th>16</th>\n",
       "      <td>The Williams Companies</td>\n",
       "      <td>WMB</td>\n",
       "      <td>Соединенные Штаты Америки</td>\n",
       "      <td>energy</td>\n",
       "      <td>2.590000</td>\n",
       "      <td>196.621372</td>\n",
       "      <td>10.097466</td>\n",
       "    </tr>\n",
       "    <tr>\n",
       "      <th>17</th>\n",
       "      <td>Intel Corporation</td>\n",
       "      <td>INTC</td>\n",
       "      <td>Соединенные Штаты Америки</td>\n",
       "      <td>it</td>\n",
       "      <td>-2.720000</td>\n",
       "      <td>-206.490399</td>\n",
       "      <td>-1.735026</td>\n",
       "    </tr>\n",
       "    <tr>\n",
       "      <th>18</th>\n",
       "      <td>Cisco</td>\n",
       "      <td>CSCO</td>\n",
       "      <td>Соединенные Штаты Америки</td>\n",
       "      <td>it</td>\n",
       "      <td>21.619999</td>\n",
       "      <td>1641.294931</td>\n",
       "      <td>5.727759</td>\n",
       "    </tr>\n",
       "    <tr>\n",
       "      <th>19</th>\n",
       "      <td>Aluminum Corp of China</td>\n",
       "      <td>ACH</td>\n",
       "      <td>Китайская Народная Республика</td>\n",
       "      <td>materials</td>\n",
       "      <td>3.550000</td>\n",
       "      <td>269.500336</td>\n",
       "      <td>4.937413</td>\n",
       "    </tr>\n",
       "    <tr>\n",
       "      <th>20</th>\n",
       "      <td>Квадра</td>\n",
       "      <td>TGKD</td>\n",
       "      <td>Российская Федерация</td>\n",
       "      <td>utilities</td>\n",
       "      <td>22.500000</td>\n",
       "      <td>22.500000</td>\n",
       "      <td>1.821125</td>\n",
       "    </tr>\n",
       "    <tr>\n",
       "      <th>21</th>\n",
       "      <td>Range Resources</td>\n",
       "      <td>RRC</td>\n",
       "      <td>Соединенные Штаты Америки</td>\n",
       "      <td>energy</td>\n",
       "      <td>36.200000</td>\n",
       "      <td>2748.144276</td>\n",
       "      <td>11.497904</td>\n",
       "    </tr>\n",
       "    <tr>\n",
       "      <th>22</th>\n",
       "      <td>Gazprom PJSC</td>\n",
       "      <td>OGZD@GS</td>\n",
       "      <td>Российская Федерация</td>\n",
       "      <td>energy</td>\n",
       "      <td>1.500000</td>\n",
       "      <td>113.873382</td>\n",
       "      <td>5.201110</td>\n",
       "    </tr>\n",
       "    <tr>\n",
       "      <th>23</th>\n",
       "      <td>Takeda Pharmaceutical Co Ltd</td>\n",
       "      <td>TAK</td>\n",
       "      <td></td>\n",
       "      <td>health_care</td>\n",
       "      <td>0.880000</td>\n",
       "      <td>66.805717</td>\n",
       "      <td>3.011636</td>\n",
       "    </tr>\n",
       "    <tr>\n",
       "      <th>24</th>\n",
       "      <td>Gevo</td>\n",
       "      <td>GEVO</td>\n",
       "      <td>Соединенные Штаты Америки</td>\n",
       "      <td>energy</td>\n",
       "      <td>9.210000</td>\n",
       "      <td>699.182563</td>\n",
       "      <td>2.483283</td>\n",
       "    </tr>\n",
       "    <tr>\n",
       "      <th>25</th>\n",
       "      <td>Amicus Therapeutics</td>\n",
       "      <td>FOLD</td>\n",
       "      <td>Соединенные Штаты Америки</td>\n",
       "      <td>health_care</td>\n",
       "      <td>0.680000</td>\n",
       "      <td>51.622600</td>\n",
       "      <td>1.215588</td>\n",
       "    </tr>\n",
       "    <tr>\n",
       "      <th>26</th>\n",
       "      <td>ChemoCentryx, Inc</td>\n",
       "      <td>CCXI</td>\n",
       "      <td>Соединенные Штаты Америки</td>\n",
       "      <td>health_care</td>\n",
       "      <td>1904.600000</td>\n",
       "      <td>144588.828403</td>\n",
       "      <td>104.800370</td>\n",
       "    </tr>\n",
       "    <tr>\n",
       "      <th>27</th>\n",
       "      <td>Cinemark Holdings Inc</td>\n",
       "      <td>CNK</td>\n",
       "      <td>Соединенные Штаты Америки</td>\n",
       "      <td>telecom</td>\n",
       "      <td>38.340002</td>\n",
       "      <td>2910.603786</td>\n",
       "      <td>8.385277</td>\n",
       "    </tr>\n",
       "    <tr>\n",
       "      <th>28</th>\n",
       "      <td>Bluebird Bio Inc</td>\n",
       "      <td>BLUE</td>\n",
       "      <td>Соединенные Штаты Америки</td>\n",
       "      <td>health_care</td>\n",
       "      <td>8.560000</td>\n",
       "      <td>649.837431</td>\n",
       "      <td>11.941964</td>\n",
       "    </tr>\n",
       "    <tr>\n",
       "      <th>29</th>\n",
       "      <td>Delta Air Lines</td>\n",
       "      <td>DAL</td>\n",
       "      <td>Соединенные Штаты Америки</td>\n",
       "      <td>industrials</td>\n",
       "      <td>69.680002</td>\n",
       "      <td>5289.798305</td>\n",
       "      <td>7.886278</td>\n",
       "    </tr>\n",
       "    <tr>\n",
       "      <th>30</th>\n",
       "      <td>TAL Education Group</td>\n",
       "      <td>TAL</td>\n",
       "      <td>Китайская Народная Республика</td>\n",
       "      <td>consumer</td>\n",
       "      <td>4.850000</td>\n",
       "      <td>368.190601</td>\n",
       "      <td>3.279243</td>\n",
       "    </tr>\n",
       "    <tr>\n",
       "      <th>31</th>\n",
       "      <td>Vipshop</td>\n",
       "      <td>VIPS</td>\n",
       "      <td>Китайская Народная Республика</td>\n",
       "      <td>consumer</td>\n",
       "      <td>6.970000</td>\n",
       "      <td>529.131647</td>\n",
       "      <td>2.993729</td>\n",
       "    </tr>\n",
       "    <tr>\n",
       "      <th>32</th>\n",
       "      <td>Coursera, Inc.</td>\n",
       "      <td>COUR</td>\n",
       "      <td>Соединенные Штаты Америки</td>\n",
       "      <td>consumer</td>\n",
       "      <td>-13.000000</td>\n",
       "      <td>-986.902641</td>\n",
       "      <td>-15.838207</td>\n",
       "    </tr>\n",
       "    <tr>\n",
       "      <th>33</th>\n",
       "      <td>Сбер Банк - привилегированные акции</td>\n",
       "      <td>SBERP</td>\n",
       "      <td>Российская Федерация</td>\n",
       "      <td>financial</td>\n",
       "      <td>424.300000</td>\n",
       "      <td>424.300000</td>\n",
       "      <td>4.990649</td>\n",
       "    </tr>\n",
       "    <tr>\n",
       "      <th>34</th>\n",
       "      <td>Северсталь</td>\n",
       "      <td>CHMF</td>\n",
       "      <td>Российская Федерация</td>\n",
       "      <td>materials</td>\n",
       "      <td>375.000000</td>\n",
       "      <td>375.000000</td>\n",
       "      <td>4.645689</td>\n",
       "    </tr>\n",
       "    <tr>\n",
       "      <th>35</th>\n",
       "      <td>Магнит</td>\n",
       "      <td>MGNT</td>\n",
       "      <td>Российская Федерация</td>\n",
       "      <td>consumer</td>\n",
       "      <td>658.000000</td>\n",
       "      <td>658.000000</td>\n",
       "      <td>19.685864</td>\n",
       "    </tr>\n",
       "    <tr>\n",
       "      <th>36</th>\n",
       "      <td>TCS Group (Tinkoff Bank holder)</td>\n",
       "      <td>TCS</td>\n",
       "      <td>Российская Федерация</td>\n",
       "      <td>financial</td>\n",
       "      <td>5.400000</td>\n",
       "      <td>409.944174</td>\n",
       "      <td>1.368474</td>\n",
       "    </tr>\n",
       "    <tr>\n",
       "      <th>37</th>\n",
       "      <td>Atara Biotherapeutics Inc</td>\n",
       "      <td>ATRA</td>\n",
       "      <td>Соединенные Штаты Америки</td>\n",
       "      <td>health_care</td>\n",
       "      <td>48.700000</td>\n",
       "      <td>3697.089123</td>\n",
       "      <td>11.225078</td>\n",
       "    </tr>\n",
       "    <tr>\n",
       "      <th>38</th>\n",
       "      <td>Baozun Inc</td>\n",
       "      <td>BZUN</td>\n",
       "      <td>Китайская Народная Республика</td>\n",
       "      <td>consumer</td>\n",
       "      <td>7.900000</td>\n",
       "      <td>599.733143</td>\n",
       "      <td>10.496944</td>\n",
       "    </tr>\n",
       "    <tr>\n",
       "      <th>39</th>\n",
       "      <td>Eargo</td>\n",
       "      <td>EAR</td>\n",
       "      <td>Соединенные Штаты Америки</td>\n",
       "      <td>health_care</td>\n",
       "      <td>-92.270004</td>\n",
       "      <td>-7004.731584</td>\n",
       "      <td>-87.985125</td>\n",
       "    </tr>\n",
       "    <tr>\n",
       "      <th>40</th>\n",
       "      <td>Cortexyme Inc</td>\n",
       "      <td>CRTX</td>\n",
       "      <td>Соединенные Штаты Америки</td>\n",
       "      <td>health_care</td>\n",
       "      <td>-59.530000</td>\n",
       "      <td>-4519.254938</td>\n",
       "      <td>-84.022583</td>\n",
       "    </tr>\n",
       "    <tr>\n",
       "      <th>41</th>\n",
       "      <td>Micro Focus</td>\n",
       "      <td>MFGP</td>\n",
       "      <td>Соединенное Королевство Великобритании и Север...</td>\n",
       "      <td>it</td>\n",
       "      <td>-0.090000</td>\n",
       "      <td>-6.832403</td>\n",
       "      <td>-0.547445</td>\n",
       "    </tr>\n",
       "    <tr>\n",
       "      <th>42</th>\n",
       "      <td>Deciphera Pharmaceuticals Inc</td>\n",
       "      <td>DCPH</td>\n",
       "      <td>Соединенные Штаты Америки</td>\n",
       "      <td>health_care</td>\n",
       "      <td>8.949999</td>\n",
       "      <td>679.444434</td>\n",
       "      <td>6.168584</td>\n",
       "    </tr>\n",
       "    <tr>\n",
       "      <th>43</th>\n",
       "      <td>HeadHunter Group PLC</td>\n",
       "      <td>HHR</td>\n",
       "      <td>Российская Федерация</td>\n",
       "      <td>consumer</td>\n",
       "      <td>3.280000</td>\n",
       "      <td>249.003128</td>\n",
       "      <td>7.651038</td>\n",
       "    </tr>\n",
       "    <tr>\n",
       "      <th>44</th>\n",
       "      <td>Livent Corporation</td>\n",
       "      <td>LTHM</td>\n",
       "      <td>Соединенные Штаты Америки</td>\n",
       "      <td>materials</td>\n",
       "      <td>5.570000</td>\n",
       "      <td>422.849824</td>\n",
       "      <td>4.683033</td>\n",
       "    </tr>\n",
       "    <tr>\n",
       "      <th>45</th>\n",
       "      <td>Clover Health Investments, Corp.</td>\n",
       "      <td>CLOV</td>\n",
       "      <td>Соединенные Штаты Америки</td>\n",
       "      <td>health_care</td>\n",
       "      <td>0.570000</td>\n",
       "      <td>43.271885</td>\n",
       "      <td>2.337023</td>\n",
       "    </tr>\n",
       "    <tr>\n",
       "      <th>46</th>\n",
       "      <td>QuantumScape Corporation</td>\n",
       "      <td>QS</td>\n",
       "      <td>Соединенные Штаты Америки</td>\n",
       "      <td>industrials</td>\n",
       "      <td>9.900000</td>\n",
       "      <td>751.564319</td>\n",
       "      <td>8.601216</td>\n",
       "    </tr>\n",
       "    <tr>\n",
       "      <th>47</th>\n",
       "      <td>Li Auto</td>\n",
       "      <td>LI</td>\n",
       "      <td>Китайская Народная Республика</td>\n",
       "      <td>consumer</td>\n",
       "      <td>33.850000</td>\n",
       "      <td>2569.742645</td>\n",
       "      <td>8.711653</td>\n",
       "    </tr>\n",
       "    <tr>\n",
       "      <th>48</th>\n",
       "      <td>Ozon Holdings PLC</td>\n",
       "      <td>OZON</td>\n",
       "      <td>Российская Федерация</td>\n",
       "      <td>consumer</td>\n",
       "      <td>1230.000000</td>\n",
       "      <td>1230.000000</td>\n",
       "      <td>24.000000</td>\n",
       "    </tr>\n",
       "    <tr>\n",
       "      <th>49</th>\n",
       "      <td>Nexters Inc</td>\n",
       "      <td>GDEV</td>\n",
       "      <td>Соединенные Штаты Америки</td>\n",
       "      <td>it</td>\n",
       "      <td>5.100000</td>\n",
       "      <td>387.169497</td>\n",
       "      <td>4.100997</td>\n",
       "    </tr>\n",
       "    <tr>\n",
       "      <th>50</th>\n",
       "      <td>FTC Solar, Inc.</td>\n",
       "      <td>FTCI</td>\n",
       "      <td>Соединенные Штаты Америки</td>\n",
       "      <td>utilities</td>\n",
       "      <td>42.590005</td>\n",
       "      <td>3233.245261</td>\n",
       "      <td>9.479191</td>\n",
       "    </tr>\n",
       "  </tbody>\n",
       "</table>\n",
       "</div>"
      ],
      "text/plain": [
       "                                   name   ticker  \\\n",
       "0                                 Apple     AAPL   \n",
       "1                              Compugen     CGEN   \n",
       "2                  China Life Insurance      LFC   \n",
       "3                                   AMD      AMD   \n",
       "4                 Deutsche Lufthansa AG   LHA@DE   \n",
       "5                  Bank of America Corp      BAC   \n",
       "6                  Korea Electric Power      KEP   \n",
       "7                              Carnival      CCL   \n",
       "8                            Transocean      RIG   \n",
       "9                      Cassava Sciences     SAVA   \n",
       "10                   Energy Transfer LP       ET   \n",
       "11                          Детский Мир     DSKY   \n",
       "12                              Vale SA     VALE   \n",
       "13                                 Ford        F   \n",
       "14                 Aspira Womens Health      AWH   \n",
       "15             British American Tobacco      BTI   \n",
       "16               The Williams Companies      WMB   \n",
       "17                    Intel Corporation     INTC   \n",
       "18                                Cisco     CSCO   \n",
       "19               Aluminum Corp of China      ACH   \n",
       "20                               Квадра     TGKD   \n",
       "21                      Range Resources      RRC   \n",
       "22                         Gazprom PJSC  OGZD@GS   \n",
       "23         Takeda Pharmaceutical Co Ltd      TAK   \n",
       "24                                 Gevo     GEVO   \n",
       "25                  Amicus Therapeutics     FOLD   \n",
       "26                    ChemoCentryx, Inc     CCXI   \n",
       "27                Cinemark Holdings Inc      CNK   \n",
       "28                     Bluebird Bio Inc     BLUE   \n",
       "29                      Delta Air Lines      DAL   \n",
       "30                  TAL Education Group      TAL   \n",
       "31                              Vipshop     VIPS   \n",
       "32                       Coursera, Inc.     COUR   \n",
       "33  Сбер Банк - привилегированные акции    SBERP   \n",
       "34                           Северсталь     CHMF   \n",
       "35                               Магнит     MGNT   \n",
       "36      TCS Group (Tinkoff Bank holder)      TCS   \n",
       "37            Atara Biotherapeutics Inc     ATRA   \n",
       "38                           Baozun Inc     BZUN   \n",
       "39                                Eargo      EAR   \n",
       "40                        Cortexyme Inc     CRTX   \n",
       "41                          Micro Focus     MFGP   \n",
       "42        Deciphera Pharmaceuticals Inc     DCPH   \n",
       "43                 HeadHunter Group PLC      HHR   \n",
       "44                   Livent Corporation     LTHM   \n",
       "45     Clover Health Investments, Corp.     CLOV   \n",
       "46             QuantumScape Corporation       QS   \n",
       "47                              Li Auto       LI   \n",
       "48                    Ozon Holdings PLC     OZON   \n",
       "49                          Nexters Inc     GDEV   \n",
       "50                      FTC Solar, Inc.     FTCI   \n",
       "\n",
       "                                              country       sector  \\\n",
       "0                           Соединенные Штаты Америки           it   \n",
       "1                                 Государство Израиль  health_care   \n",
       "2                       Китайская Народная Республика    financial   \n",
       "3                           Соединенные Штаты Америки           it   \n",
       "4                    Федеративная Республика Германия  industrials   \n",
       "5                           Соединенные Штаты Америки    financial   \n",
       "6                                    Республика Корея    utilities   \n",
       "7                           Соединенные Штаты Америки     consumer   \n",
       "8                           Соединенные Штаты Америки       energy   \n",
       "9                           Соединенные Штаты Америки  health_care   \n",
       "10                          Соединенные Штаты Америки       energy   \n",
       "11                               Российская Федерация     consumer   \n",
       "12                   Федеративная Республика Бразилия    materials   \n",
       "13                          Соединенные Штаты Америки     consumer   \n",
       "14                          Соединенные Штаты Америки  health_care   \n",
       "15  Соединенное Королевство Великобритании и Север...     consumer   \n",
       "16                          Соединенные Штаты Америки       energy   \n",
       "17                          Соединенные Штаты Америки           it   \n",
       "18                          Соединенные Штаты Америки           it   \n",
       "19                      Китайская Народная Республика    materials   \n",
       "20                               Российская Федерация    utilities   \n",
       "21                          Соединенные Штаты Америки       energy   \n",
       "22                               Российская Федерация       energy   \n",
       "23                                                     health_care   \n",
       "24                          Соединенные Штаты Америки       energy   \n",
       "25                          Соединенные Штаты Америки  health_care   \n",
       "26                          Соединенные Штаты Америки  health_care   \n",
       "27                          Соединенные Штаты Америки      telecom   \n",
       "28                          Соединенные Штаты Америки  health_care   \n",
       "29                          Соединенные Штаты Америки  industrials   \n",
       "30                      Китайская Народная Республика     consumer   \n",
       "31                      Китайская Народная Республика     consumer   \n",
       "32                          Соединенные Штаты Америки     consumer   \n",
       "33                               Российская Федерация    financial   \n",
       "34                               Российская Федерация    materials   \n",
       "35                               Российская Федерация     consumer   \n",
       "36                               Российская Федерация    financial   \n",
       "37                          Соединенные Штаты Америки  health_care   \n",
       "38                      Китайская Народная Республика     consumer   \n",
       "39                          Соединенные Штаты Америки  health_care   \n",
       "40                          Соединенные Штаты Америки  health_care   \n",
       "41  Соединенное Королевство Великобритании и Север...           it   \n",
       "42                          Соединенные Штаты Америки  health_care   \n",
       "43                               Российская Федерация     consumer   \n",
       "44                          Соединенные Штаты Америки    materials   \n",
       "45                          Соединенные Штаты Америки  health_care   \n",
       "46                          Соединенные Штаты Америки  industrials   \n",
       "47                      Китайская Народная Республика     consumer   \n",
       "48                               Российская Федерация     consumer   \n",
       "49                          Соединенные Штаты Америки           it   \n",
       "50                          Соединенные Штаты Америки    utilities   \n",
       "\n",
       "         profit     profit_rub  profit_perc  \n",
       "0     53.850000    4088.054400     6.410333  \n",
       "1      0.470000      35.680326     3.094141  \n",
       "2      0.110000       8.350715     1.078431  \n",
       "3      6.650000     504.838658     1.921632  \n",
       "4      0.270000      21.262071     4.728546  \n",
       "5     -2.820000    -214.081957    -6.584170  \n",
       "6      0.700000      53.140911     6.392694  \n",
       "7     15.050002    1142.529747     4.773838  \n",
       "8      2.360000     179.160787     5.625745  \n",
       "9     61.920000    4700.693193    10.152151  \n",
       "10     6.570000     498.765411     2.561603  \n",
       "11   131.800000     131.800000     3.517293  \n",
       "12     6.560000     498.006256     5.942029  \n",
       "13    11.670000     885.934909    15.666532  \n",
       "14   -88.530000   -6720.806982   -88.326848  \n",
       "15     1.050000      79.711367     2.690238  \n",
       "16     2.590000     196.621372    10.097466  \n",
       "17    -2.720000    -206.490399    -1.735026  \n",
       "18    21.619999    1641.294931     5.727759  \n",
       "19     3.550000     269.500336     4.937413  \n",
       "20    22.500000      22.500000     1.821125  \n",
       "21    36.200000    2748.144276    11.497904  \n",
       "22     1.500000     113.873382     5.201110  \n",
       "23     0.880000      66.805717     3.011636  \n",
       "24     9.210000     699.182563     2.483283  \n",
       "25     0.680000      51.622600     1.215588  \n",
       "26  1904.600000  144588.828403   104.800370  \n",
       "27    38.340002    2910.603786     8.385277  \n",
       "28     8.560000     649.837431    11.941964  \n",
       "29    69.680002    5289.798305     7.886278  \n",
       "30     4.850000     368.190601     3.279243  \n",
       "31     6.970000     529.131647     2.993729  \n",
       "32   -13.000000    -986.902641   -15.838207  \n",
       "33   424.300000     424.300000     4.990649  \n",
       "34   375.000000     375.000000     4.645689  \n",
       "35   658.000000     658.000000    19.685864  \n",
       "36     5.400000     409.944174     1.368474  \n",
       "37    48.700000    3697.089123    11.225078  \n",
       "38     7.900000     599.733143    10.496944  \n",
       "39   -92.270004   -7004.731584   -87.985125  \n",
       "40   -59.530000   -4519.254938   -84.022583  \n",
       "41    -0.090000      -6.832403    -0.547445  \n",
       "42     8.949999     679.444434     6.168584  \n",
       "43     3.280000     249.003128     7.651038  \n",
       "44     5.570000     422.849824     4.683033  \n",
       "45     0.570000      43.271885     2.337023  \n",
       "46     9.900000     751.564319     8.601216  \n",
       "47    33.850000    2569.742645     8.711653  \n",
       "48  1230.000000    1230.000000    24.000000  \n",
       "49     5.100000     387.169497     4.100997  \n",
       "50    42.590005    3233.245261     9.479191  "
      ]
     },
     "execution_count": 144,
     "metadata": {},
     "output_type": "execute_result"
    }
   ],
   "source": [
    "df_closed_shares_gr = df_closed_shares.groupby('figi', as_index=False).agg({'price_buy': 'sum',\n",
    "                                                                            'price_sold': 'sum'})\n",
    "df_closed_shares_gr = df_closed_shares_gr.merge(df_shares_info,\n",
    "                                                how='inner',\n",
    "                                                on='figi')\n",
    "df_closed_shares_gr['profit'] = df_closed_shares_gr['price_sold'] - df_closed_shares_gr['price_buy']\n",
    "df_closed_shares_gr['profit_rub'] = np.where(df_closed_shares_gr['currency'] == 'usd', \n",
    "                                             df_closed_shares_gr['profit'] * usd_mean,\n",
    "                                             df_closed_shares_gr['profit'])\n",
    "df_closed_shares_gr['profit_rub'] = np.where(df_closed_shares_gr['currency'] == 'eur', \n",
    "                                             df_closed_shares_gr['profit_rub'] * eur_mean,\n",
    "                                             df_closed_shares_gr['profit_rub'])\n",
    "df_closed_shares_gr['profit_perc'] = (df_closed_shares_gr['price_sold'] / df_closed_shares_gr['price_buy'] - 1) * 100\n",
    "df_closed_shares_gr = df_closed_shares_gr.iloc[:,[3,4,7,8,10,11,12]]\n",
    "df_closed_shares_gr"
   ]
  },
  {
   "cell_type": "code",
   "execution_count": null,
   "metadata": {},
   "outputs": [],
   "source": [
    "top = 10"
   ]
  },
  {
   "cell_type": "code",
   "execution_count": 216,
   "metadata": {},
   "outputs": [
    {
     "data": {
      "application/vnd.plotly.v1+json": {
       "config": {
        "plotlyServerURL": "https://plot.ly"
       },
       "data": [
        {
         "alignmentgroup": "True",
         "hovertemplate": "profit_perc=%{marker.color}<br>ticker=%{y}<extra></extra>",
         "legendgroup": "",
         "marker": {
          "color": [
           -88.32684824902724,
           -87.9851248980595,
           -84.02258292166549,
           -15.838206627680307,
           -6.584169974317067,
           -1.7350258340243507,
           -0.5474452554744547,
           10.09746588693956,
           10.152151101783824,
           10.49694392771723,
           11.22507779186359,
           11.497903697115962,
           11.94196428571428,
           15.666532420459124,
           19.685863874345543,
           24,
           104.8003697671347
          ],
          "coloraxis": "coloraxis"
         },
         "name": "",
         "offsetgroup": "",
         "orientation": "h",
         "showlegend": false,
         "textposition": "auto",
         "type": "bar",
         "x": [
          -88.32684824902724,
          -87.9851248980595,
          -84.02258292166549,
          -15.838206627680307,
          -6.584169974317067,
          -1.7350258340243507,
          -0.5474452554744547,
          10.09746588693956,
          10.152151101783824,
          10.49694392771723,
          11.22507779186359,
          11.497903697115962,
          11.94196428571428,
          15.666532420459124,
          19.685863874345543,
          24,
          104.8003697671347
         ],
         "xaxis": "x",
         "y": [
          "AWH",
          "EAR",
          "CRTX",
          "COUR",
          "BAC",
          "INTC",
          "MFGP",
          "WMB",
          "SAVA",
          "BZUN",
          "ATRA",
          "RRC",
          "BLUE",
          "F",
          "MGNT",
          "OZON",
          "CCXI"
         ],
         "yaxis": "y"
        }
       ],
       "layout": {
        "barmode": "relative",
        "coloraxis": {
         "colorbar": {
          "title": {
           "text": "profit_perc"
          }
         },
         "colorscale": [
          [
           0,
           "#0d0887"
          ],
          [
           0.1111111111111111,
           "#46039f"
          ],
          [
           0.2222222222222222,
           "#7201a8"
          ],
          [
           0.3333333333333333,
           "#9c179e"
          ],
          [
           0.4444444444444444,
           "#bd3786"
          ],
          [
           0.5555555555555556,
           "#d8576b"
          ],
          [
           0.6666666666666666,
           "#ed7953"
          ],
          [
           0.7777777777777778,
           "#fb9f3a"
          ],
          [
           0.8888888888888888,
           "#fdca26"
          ],
          [
           1,
           "#f0f921"
          ]
         ]
        },
        "height": 800,
        "legend": {
         "tracegroupgap": 0
        },
        "margin": {
         "t": 60
        },
        "template": {
         "data": {
          "bar": [
           {
            "error_x": {
             "color": "#2a3f5f"
            },
            "error_y": {
             "color": "#2a3f5f"
            },
            "marker": {
             "line": {
              "color": "#E5ECF6",
              "width": 0.5
             }
            },
            "type": "bar"
           }
          ],
          "barpolar": [
           {
            "marker": {
             "line": {
              "color": "#E5ECF6",
              "width": 0.5
             }
            },
            "type": "barpolar"
           }
          ],
          "carpet": [
           {
            "aaxis": {
             "endlinecolor": "#2a3f5f",
             "gridcolor": "white",
             "linecolor": "white",
             "minorgridcolor": "white",
             "startlinecolor": "#2a3f5f"
            },
            "baxis": {
             "endlinecolor": "#2a3f5f",
             "gridcolor": "white",
             "linecolor": "white",
             "minorgridcolor": "white",
             "startlinecolor": "#2a3f5f"
            },
            "type": "carpet"
           }
          ],
          "choropleth": [
           {
            "colorbar": {
             "outlinewidth": 0,
             "ticks": ""
            },
            "type": "choropleth"
           }
          ],
          "contour": [
           {
            "colorbar": {
             "outlinewidth": 0,
             "ticks": ""
            },
            "colorscale": [
             [
              0,
              "#0d0887"
             ],
             [
              0.1111111111111111,
              "#46039f"
             ],
             [
              0.2222222222222222,
              "#7201a8"
             ],
             [
              0.3333333333333333,
              "#9c179e"
             ],
             [
              0.4444444444444444,
              "#bd3786"
             ],
             [
              0.5555555555555556,
              "#d8576b"
             ],
             [
              0.6666666666666666,
              "#ed7953"
             ],
             [
              0.7777777777777778,
              "#fb9f3a"
             ],
             [
              0.8888888888888888,
              "#fdca26"
             ],
             [
              1,
              "#f0f921"
             ]
            ],
            "type": "contour"
           }
          ],
          "contourcarpet": [
           {
            "colorbar": {
             "outlinewidth": 0,
             "ticks": ""
            },
            "type": "contourcarpet"
           }
          ],
          "heatmap": [
           {
            "colorbar": {
             "outlinewidth": 0,
             "ticks": ""
            },
            "colorscale": [
             [
              0,
              "#0d0887"
             ],
             [
              0.1111111111111111,
              "#46039f"
             ],
             [
              0.2222222222222222,
              "#7201a8"
             ],
             [
              0.3333333333333333,
              "#9c179e"
             ],
             [
              0.4444444444444444,
              "#bd3786"
             ],
             [
              0.5555555555555556,
              "#d8576b"
             ],
             [
              0.6666666666666666,
              "#ed7953"
             ],
             [
              0.7777777777777778,
              "#fb9f3a"
             ],
             [
              0.8888888888888888,
              "#fdca26"
             ],
             [
              1,
              "#f0f921"
             ]
            ],
            "type": "heatmap"
           }
          ],
          "heatmapgl": [
           {
            "colorbar": {
             "outlinewidth": 0,
             "ticks": ""
            },
            "colorscale": [
             [
              0,
              "#0d0887"
             ],
             [
              0.1111111111111111,
              "#46039f"
             ],
             [
              0.2222222222222222,
              "#7201a8"
             ],
             [
              0.3333333333333333,
              "#9c179e"
             ],
             [
              0.4444444444444444,
              "#bd3786"
             ],
             [
              0.5555555555555556,
              "#d8576b"
             ],
             [
              0.6666666666666666,
              "#ed7953"
             ],
             [
              0.7777777777777778,
              "#fb9f3a"
             ],
             [
              0.8888888888888888,
              "#fdca26"
             ],
             [
              1,
              "#f0f921"
             ]
            ],
            "type": "heatmapgl"
           }
          ],
          "histogram": [
           {
            "marker": {
             "colorbar": {
              "outlinewidth": 0,
              "ticks": ""
             }
            },
            "type": "histogram"
           }
          ],
          "histogram2d": [
           {
            "colorbar": {
             "outlinewidth": 0,
             "ticks": ""
            },
            "colorscale": [
             [
              0,
              "#0d0887"
             ],
             [
              0.1111111111111111,
              "#46039f"
             ],
             [
              0.2222222222222222,
              "#7201a8"
             ],
             [
              0.3333333333333333,
              "#9c179e"
             ],
             [
              0.4444444444444444,
              "#bd3786"
             ],
             [
              0.5555555555555556,
              "#d8576b"
             ],
             [
              0.6666666666666666,
              "#ed7953"
             ],
             [
              0.7777777777777778,
              "#fb9f3a"
             ],
             [
              0.8888888888888888,
              "#fdca26"
             ],
             [
              1,
              "#f0f921"
             ]
            ],
            "type": "histogram2d"
           }
          ],
          "histogram2dcontour": [
           {
            "colorbar": {
             "outlinewidth": 0,
             "ticks": ""
            },
            "colorscale": [
             [
              0,
              "#0d0887"
             ],
             [
              0.1111111111111111,
              "#46039f"
             ],
             [
              0.2222222222222222,
              "#7201a8"
             ],
             [
              0.3333333333333333,
              "#9c179e"
             ],
             [
              0.4444444444444444,
              "#bd3786"
             ],
             [
              0.5555555555555556,
              "#d8576b"
             ],
             [
              0.6666666666666666,
              "#ed7953"
             ],
             [
              0.7777777777777778,
              "#fb9f3a"
             ],
             [
              0.8888888888888888,
              "#fdca26"
             ],
             [
              1,
              "#f0f921"
             ]
            ],
            "type": "histogram2dcontour"
           }
          ],
          "mesh3d": [
           {
            "colorbar": {
             "outlinewidth": 0,
             "ticks": ""
            },
            "type": "mesh3d"
           }
          ],
          "parcoords": [
           {
            "line": {
             "colorbar": {
              "outlinewidth": 0,
              "ticks": ""
             }
            },
            "type": "parcoords"
           }
          ],
          "pie": [
           {
            "automargin": true,
            "type": "pie"
           }
          ],
          "scatter": [
           {
            "marker": {
             "colorbar": {
              "outlinewidth": 0,
              "ticks": ""
             }
            },
            "type": "scatter"
           }
          ],
          "scatter3d": [
           {
            "line": {
             "colorbar": {
              "outlinewidth": 0,
              "ticks": ""
             }
            },
            "marker": {
             "colorbar": {
              "outlinewidth": 0,
              "ticks": ""
             }
            },
            "type": "scatter3d"
           }
          ],
          "scattercarpet": [
           {
            "marker": {
             "colorbar": {
              "outlinewidth": 0,
              "ticks": ""
             }
            },
            "type": "scattercarpet"
           }
          ],
          "scattergeo": [
           {
            "marker": {
             "colorbar": {
              "outlinewidth": 0,
              "ticks": ""
             }
            },
            "type": "scattergeo"
           }
          ],
          "scattergl": [
           {
            "marker": {
             "colorbar": {
              "outlinewidth": 0,
              "ticks": ""
             }
            },
            "type": "scattergl"
           }
          ],
          "scattermapbox": [
           {
            "marker": {
             "colorbar": {
              "outlinewidth": 0,
              "ticks": ""
             }
            },
            "type": "scattermapbox"
           }
          ],
          "scatterpolar": [
           {
            "marker": {
             "colorbar": {
              "outlinewidth": 0,
              "ticks": ""
             }
            },
            "type": "scatterpolar"
           }
          ],
          "scatterpolargl": [
           {
            "marker": {
             "colorbar": {
              "outlinewidth": 0,
              "ticks": ""
             }
            },
            "type": "scatterpolargl"
           }
          ],
          "scatterternary": [
           {
            "marker": {
             "colorbar": {
              "outlinewidth": 0,
              "ticks": ""
             }
            },
            "type": "scatterternary"
           }
          ],
          "surface": [
           {
            "colorbar": {
             "outlinewidth": 0,
             "ticks": ""
            },
            "colorscale": [
             [
              0,
              "#0d0887"
             ],
             [
              0.1111111111111111,
              "#46039f"
             ],
             [
              0.2222222222222222,
              "#7201a8"
             ],
             [
              0.3333333333333333,
              "#9c179e"
             ],
             [
              0.4444444444444444,
              "#bd3786"
             ],
             [
              0.5555555555555556,
              "#d8576b"
             ],
             [
              0.6666666666666666,
              "#ed7953"
             ],
             [
              0.7777777777777778,
              "#fb9f3a"
             ],
             [
              0.8888888888888888,
              "#fdca26"
             ],
             [
              1,
              "#f0f921"
             ]
            ],
            "type": "surface"
           }
          ],
          "table": [
           {
            "cells": {
             "fill": {
              "color": "#EBF0F8"
             },
             "line": {
              "color": "white"
             }
            },
            "header": {
             "fill": {
              "color": "#C8D4E3"
             },
             "line": {
              "color": "white"
             }
            },
            "type": "table"
           }
          ]
         },
         "layout": {
          "annotationdefaults": {
           "arrowcolor": "#2a3f5f",
           "arrowhead": 0,
           "arrowwidth": 1
          },
          "autotypenumbers": "strict",
          "coloraxis": {
           "colorbar": {
            "outlinewidth": 0,
            "ticks": ""
           }
          },
          "colorscale": {
           "diverging": [
            [
             0,
             "#8e0152"
            ],
            [
             0.1,
             "#c51b7d"
            ],
            [
             0.2,
             "#de77ae"
            ],
            [
             0.3,
             "#f1b6da"
            ],
            [
             0.4,
             "#fde0ef"
            ],
            [
             0.5,
             "#f7f7f7"
            ],
            [
             0.6,
             "#e6f5d0"
            ],
            [
             0.7,
             "#b8e186"
            ],
            [
             0.8,
             "#7fbc41"
            ],
            [
             0.9,
             "#4d9221"
            ],
            [
             1,
             "#276419"
            ]
           ],
           "sequential": [
            [
             0,
             "#0d0887"
            ],
            [
             0.1111111111111111,
             "#46039f"
            ],
            [
             0.2222222222222222,
             "#7201a8"
            ],
            [
             0.3333333333333333,
             "#9c179e"
            ],
            [
             0.4444444444444444,
             "#bd3786"
            ],
            [
             0.5555555555555556,
             "#d8576b"
            ],
            [
             0.6666666666666666,
             "#ed7953"
            ],
            [
             0.7777777777777778,
             "#fb9f3a"
            ],
            [
             0.8888888888888888,
             "#fdca26"
            ],
            [
             1,
             "#f0f921"
            ]
           ],
           "sequentialminus": [
            [
             0,
             "#0d0887"
            ],
            [
             0.1111111111111111,
             "#46039f"
            ],
            [
             0.2222222222222222,
             "#7201a8"
            ],
            [
             0.3333333333333333,
             "#9c179e"
            ],
            [
             0.4444444444444444,
             "#bd3786"
            ],
            [
             0.5555555555555556,
             "#d8576b"
            ],
            [
             0.6666666666666666,
             "#ed7953"
            ],
            [
             0.7777777777777778,
             "#fb9f3a"
            ],
            [
             0.8888888888888888,
             "#fdca26"
            ],
            [
             1,
             "#f0f921"
            ]
           ]
          },
          "colorway": [
           "#636efa",
           "#EF553B",
           "#00cc96",
           "#ab63fa",
           "#FFA15A",
           "#19d3f3",
           "#FF6692",
           "#B6E880",
           "#FF97FF",
           "#FECB52"
          ],
          "font": {
           "color": "#2a3f5f"
          },
          "geo": {
           "bgcolor": "white",
           "lakecolor": "white",
           "landcolor": "#E5ECF6",
           "showlakes": true,
           "showland": true,
           "subunitcolor": "white"
          },
          "hoverlabel": {
           "align": "left"
          },
          "hovermode": "closest",
          "mapbox": {
           "style": "light"
          },
          "paper_bgcolor": "white",
          "plot_bgcolor": "#E5ECF6",
          "polar": {
           "angularaxis": {
            "gridcolor": "white",
            "linecolor": "white",
            "ticks": ""
           },
           "bgcolor": "#E5ECF6",
           "radialaxis": {
            "gridcolor": "white",
            "linecolor": "white",
            "ticks": ""
           }
          },
          "scene": {
           "xaxis": {
            "backgroundcolor": "#E5ECF6",
            "gridcolor": "white",
            "gridwidth": 2,
            "linecolor": "white",
            "showbackground": true,
            "ticks": "",
            "zerolinecolor": "white"
           },
           "yaxis": {
            "backgroundcolor": "#E5ECF6",
            "gridcolor": "white",
            "gridwidth": 2,
            "linecolor": "white",
            "showbackground": true,
            "ticks": "",
            "zerolinecolor": "white"
           },
           "zaxis": {
            "backgroundcolor": "#E5ECF6",
            "gridcolor": "white",
            "gridwidth": 2,
            "linecolor": "white",
            "showbackground": true,
            "ticks": "",
            "zerolinecolor": "white"
           }
          },
          "shapedefaults": {
           "line": {
            "color": "#2a3f5f"
           }
          },
          "ternary": {
           "aaxis": {
            "gridcolor": "white",
            "linecolor": "white",
            "ticks": ""
           },
           "baxis": {
            "gridcolor": "white",
            "linecolor": "white",
            "ticks": ""
           },
           "bgcolor": "#E5ECF6",
           "caxis": {
            "gridcolor": "white",
            "linecolor": "white",
            "ticks": ""
           }
          },
          "title": {
           "x": 0.05
          },
          "xaxis": {
           "automargin": true,
           "gridcolor": "white",
           "linecolor": "white",
           "ticks": "",
           "title": {
            "standoff": 15
           },
           "zerolinecolor": "white",
           "zerolinewidth": 2
          },
          "yaxis": {
           "automargin": true,
           "gridcolor": "white",
           "linecolor": "white",
           "ticks": "",
           "title": {
            "standoff": 15
           },
           "zerolinecolor": "white",
           "zerolinewidth": 2
          }
         }
        },
        "width": 1000,
        "xaxis": {
         "anchor": "y",
         "domain": [
          0,
          1
         ],
         "title": {
          "text": "profit_perc"
         }
        },
        "yaxis": {
         "anchor": "x",
         "domain": [
          0,
          1
         ],
         "title": {
          "text": "ticker"
         }
        }
       }
      },
      "text/html": [
       "<div>                            <div id=\"db41916a-3e1e-47a6-b4a5-6a56257c4873\" class=\"plotly-graph-div\" style=\"height:800px; width:1000px;\"></div>            <script type=\"text/javascript\">                require([\"plotly\"], function(Plotly) {                    window.PLOTLYENV=window.PLOTLYENV || {};                                    if (document.getElementById(\"db41916a-3e1e-47a6-b4a5-6a56257c4873\")) {                    Plotly.newPlot(                        \"db41916a-3e1e-47a6-b4a5-6a56257c4873\",                        [{\"alignmentgroup\": \"True\", \"hovertemplate\": \"profit_perc=%{marker.color}<br>ticker=%{y}<extra></extra>\", \"legendgroup\": \"\", \"marker\": {\"color\": [-88.32684824902724, -87.9851248980595, -84.02258292166549, -15.838206627680307, -6.584169974317067, -1.7350258340243507, -0.5474452554744547, 10.09746588693956, 10.152151101783824, 10.49694392771723, 11.22507779186359, 11.497903697115962, 11.94196428571428, 15.666532420459124, 19.685863874345543, 24.0, 104.8003697671347], \"coloraxis\": \"coloraxis\"}, \"name\": \"\", \"offsetgroup\": \"\", \"orientation\": \"h\", \"showlegend\": false, \"textposition\": \"auto\", \"type\": \"bar\", \"x\": [-88.32684824902724, -87.9851248980595, -84.02258292166549, -15.838206627680307, -6.584169974317067, -1.7350258340243507, -0.5474452554744547, 10.09746588693956, 10.152151101783824, 10.49694392771723, 11.22507779186359, 11.497903697115962, 11.94196428571428, 15.666532420459124, 19.685863874345543, 24.0, 104.8003697671347], \"xaxis\": \"x\", \"y\": [\"AWH\", \"EAR\", \"CRTX\", \"COUR\", \"BAC\", \"INTC\", \"MFGP\", \"WMB\", \"SAVA\", \"BZUN\", \"ATRA\", \"RRC\", \"BLUE\", \"F\", \"MGNT\", \"OZON\", \"CCXI\"], \"yaxis\": \"y\"}],                        {\"barmode\": \"relative\", \"coloraxis\": {\"colorbar\": {\"title\": {\"text\": \"profit_perc\"}}, \"colorscale\": [[0.0, \"#0d0887\"], [0.1111111111111111, \"#46039f\"], [0.2222222222222222, \"#7201a8\"], [0.3333333333333333, \"#9c179e\"], [0.4444444444444444, \"#bd3786\"], [0.5555555555555556, \"#d8576b\"], [0.6666666666666666, \"#ed7953\"], [0.7777777777777778, \"#fb9f3a\"], [0.8888888888888888, \"#fdca26\"], [1.0, \"#f0f921\"]]}, \"height\": 800, \"legend\": {\"tracegroupgap\": 0}, \"margin\": {\"t\": 60}, \"template\": {\"data\": {\"bar\": [{\"error_x\": {\"color\": \"#2a3f5f\"}, \"error_y\": {\"color\": \"#2a3f5f\"}, \"marker\": {\"line\": {\"color\": \"#E5ECF6\", \"width\": 0.5}}, \"type\": \"bar\"}], \"barpolar\": [{\"marker\": {\"line\": {\"color\": \"#E5ECF6\", \"width\": 0.5}}, \"type\": \"barpolar\"}], \"carpet\": [{\"aaxis\": {\"endlinecolor\": \"#2a3f5f\", \"gridcolor\": \"white\", \"linecolor\": \"white\", \"minorgridcolor\": \"white\", \"startlinecolor\": \"#2a3f5f\"}, \"baxis\": {\"endlinecolor\": \"#2a3f5f\", \"gridcolor\": \"white\", \"linecolor\": \"white\", \"minorgridcolor\": \"white\", \"startlinecolor\": \"#2a3f5f\"}, \"type\": \"carpet\"}], \"choropleth\": [{\"colorbar\": {\"outlinewidth\": 0, \"ticks\": \"\"}, \"type\": \"choropleth\"}], \"contour\": [{\"colorbar\": {\"outlinewidth\": 0, \"ticks\": \"\"}, \"colorscale\": [[0.0, \"#0d0887\"], [0.1111111111111111, \"#46039f\"], [0.2222222222222222, \"#7201a8\"], [0.3333333333333333, \"#9c179e\"], [0.4444444444444444, \"#bd3786\"], [0.5555555555555556, \"#d8576b\"], [0.6666666666666666, \"#ed7953\"], [0.7777777777777778, \"#fb9f3a\"], [0.8888888888888888, \"#fdca26\"], [1.0, \"#f0f921\"]], \"type\": \"contour\"}], \"contourcarpet\": [{\"colorbar\": {\"outlinewidth\": 0, \"ticks\": \"\"}, \"type\": \"contourcarpet\"}], \"heatmap\": [{\"colorbar\": {\"outlinewidth\": 0, \"ticks\": \"\"}, \"colorscale\": [[0.0, \"#0d0887\"], [0.1111111111111111, \"#46039f\"], [0.2222222222222222, \"#7201a8\"], [0.3333333333333333, \"#9c179e\"], [0.4444444444444444, \"#bd3786\"], [0.5555555555555556, \"#d8576b\"], [0.6666666666666666, \"#ed7953\"], [0.7777777777777778, \"#fb9f3a\"], [0.8888888888888888, \"#fdca26\"], [1.0, \"#f0f921\"]], \"type\": \"heatmap\"}], \"heatmapgl\": [{\"colorbar\": {\"outlinewidth\": 0, \"ticks\": \"\"}, \"colorscale\": [[0.0, \"#0d0887\"], [0.1111111111111111, \"#46039f\"], [0.2222222222222222, \"#7201a8\"], [0.3333333333333333, \"#9c179e\"], [0.4444444444444444, \"#bd3786\"], [0.5555555555555556, \"#d8576b\"], [0.6666666666666666, \"#ed7953\"], [0.7777777777777778, \"#fb9f3a\"], [0.8888888888888888, \"#fdca26\"], [1.0, \"#f0f921\"]], \"type\": \"heatmapgl\"}], \"histogram\": [{\"marker\": {\"colorbar\": {\"outlinewidth\": 0, \"ticks\": \"\"}}, \"type\": \"histogram\"}], \"histogram2d\": [{\"colorbar\": {\"outlinewidth\": 0, \"ticks\": \"\"}, \"colorscale\": [[0.0, \"#0d0887\"], [0.1111111111111111, \"#46039f\"], [0.2222222222222222, \"#7201a8\"], [0.3333333333333333, \"#9c179e\"], [0.4444444444444444, \"#bd3786\"], [0.5555555555555556, \"#d8576b\"], [0.6666666666666666, \"#ed7953\"], [0.7777777777777778, \"#fb9f3a\"], [0.8888888888888888, \"#fdca26\"], [1.0, \"#f0f921\"]], \"type\": \"histogram2d\"}], \"histogram2dcontour\": [{\"colorbar\": {\"outlinewidth\": 0, \"ticks\": \"\"}, \"colorscale\": [[0.0, \"#0d0887\"], [0.1111111111111111, \"#46039f\"], [0.2222222222222222, \"#7201a8\"], [0.3333333333333333, \"#9c179e\"], [0.4444444444444444, \"#bd3786\"], [0.5555555555555556, \"#d8576b\"], [0.6666666666666666, \"#ed7953\"], [0.7777777777777778, \"#fb9f3a\"], [0.8888888888888888, \"#fdca26\"], [1.0, \"#f0f921\"]], \"type\": \"histogram2dcontour\"}], \"mesh3d\": [{\"colorbar\": {\"outlinewidth\": 0, \"ticks\": \"\"}, \"type\": \"mesh3d\"}], \"parcoords\": [{\"line\": {\"colorbar\": {\"outlinewidth\": 0, \"ticks\": \"\"}}, \"type\": \"parcoords\"}], \"pie\": [{\"automargin\": true, \"type\": \"pie\"}], \"scatter\": [{\"marker\": {\"colorbar\": {\"outlinewidth\": 0, \"ticks\": \"\"}}, \"type\": \"scatter\"}], \"scatter3d\": [{\"line\": {\"colorbar\": {\"outlinewidth\": 0, \"ticks\": \"\"}}, \"marker\": {\"colorbar\": {\"outlinewidth\": 0, \"ticks\": \"\"}}, \"type\": \"scatter3d\"}], \"scattercarpet\": [{\"marker\": {\"colorbar\": {\"outlinewidth\": 0, \"ticks\": \"\"}}, \"type\": \"scattercarpet\"}], \"scattergeo\": [{\"marker\": {\"colorbar\": {\"outlinewidth\": 0, \"ticks\": \"\"}}, \"type\": \"scattergeo\"}], \"scattergl\": [{\"marker\": {\"colorbar\": {\"outlinewidth\": 0, \"ticks\": \"\"}}, \"type\": \"scattergl\"}], \"scattermapbox\": [{\"marker\": {\"colorbar\": {\"outlinewidth\": 0, \"ticks\": \"\"}}, \"type\": \"scattermapbox\"}], \"scatterpolar\": [{\"marker\": {\"colorbar\": {\"outlinewidth\": 0, \"ticks\": \"\"}}, \"type\": \"scatterpolar\"}], \"scatterpolargl\": [{\"marker\": {\"colorbar\": {\"outlinewidth\": 0, \"ticks\": \"\"}}, \"type\": \"scatterpolargl\"}], \"scatterternary\": [{\"marker\": {\"colorbar\": {\"outlinewidth\": 0, \"ticks\": \"\"}}, \"type\": \"scatterternary\"}], \"surface\": [{\"colorbar\": {\"outlinewidth\": 0, \"ticks\": \"\"}, \"colorscale\": [[0.0, \"#0d0887\"], [0.1111111111111111, \"#46039f\"], [0.2222222222222222, \"#7201a8\"], [0.3333333333333333, \"#9c179e\"], [0.4444444444444444, \"#bd3786\"], [0.5555555555555556, \"#d8576b\"], [0.6666666666666666, \"#ed7953\"], [0.7777777777777778, \"#fb9f3a\"], [0.8888888888888888, \"#fdca26\"], [1.0, \"#f0f921\"]], \"type\": \"surface\"}], \"table\": [{\"cells\": {\"fill\": {\"color\": \"#EBF0F8\"}, \"line\": {\"color\": \"white\"}}, \"header\": {\"fill\": {\"color\": \"#C8D4E3\"}, \"line\": {\"color\": \"white\"}}, \"type\": \"table\"}]}, \"layout\": {\"annotationdefaults\": {\"arrowcolor\": \"#2a3f5f\", \"arrowhead\": 0, \"arrowwidth\": 1}, \"autotypenumbers\": \"strict\", \"coloraxis\": {\"colorbar\": {\"outlinewidth\": 0, \"ticks\": \"\"}}, \"colorscale\": {\"diverging\": [[0, \"#8e0152\"], [0.1, \"#c51b7d\"], [0.2, \"#de77ae\"], [0.3, \"#f1b6da\"], [0.4, \"#fde0ef\"], [0.5, \"#f7f7f7\"], [0.6, \"#e6f5d0\"], [0.7, \"#b8e186\"], [0.8, \"#7fbc41\"], [0.9, \"#4d9221\"], [1, \"#276419\"]], \"sequential\": [[0.0, \"#0d0887\"], [0.1111111111111111, \"#46039f\"], [0.2222222222222222, \"#7201a8\"], [0.3333333333333333, \"#9c179e\"], [0.4444444444444444, \"#bd3786\"], [0.5555555555555556, \"#d8576b\"], [0.6666666666666666, \"#ed7953\"], [0.7777777777777778, \"#fb9f3a\"], [0.8888888888888888, \"#fdca26\"], [1.0, \"#f0f921\"]], \"sequentialminus\": [[0.0, \"#0d0887\"], [0.1111111111111111, \"#46039f\"], [0.2222222222222222, \"#7201a8\"], [0.3333333333333333, \"#9c179e\"], [0.4444444444444444, \"#bd3786\"], [0.5555555555555556, \"#d8576b\"], [0.6666666666666666, \"#ed7953\"], [0.7777777777777778, \"#fb9f3a\"], [0.8888888888888888, \"#fdca26\"], [1.0, \"#f0f921\"]]}, \"colorway\": [\"#636efa\", \"#EF553B\", \"#00cc96\", \"#ab63fa\", \"#FFA15A\", \"#19d3f3\", \"#FF6692\", \"#B6E880\", \"#FF97FF\", \"#FECB52\"], \"font\": {\"color\": \"#2a3f5f\"}, \"geo\": {\"bgcolor\": \"white\", \"lakecolor\": \"white\", \"landcolor\": \"#E5ECF6\", \"showlakes\": true, \"showland\": true, \"subunitcolor\": \"white\"}, \"hoverlabel\": {\"align\": \"left\"}, \"hovermode\": \"closest\", \"mapbox\": {\"style\": \"light\"}, \"paper_bgcolor\": \"white\", \"plot_bgcolor\": \"#E5ECF6\", \"polar\": {\"angularaxis\": {\"gridcolor\": \"white\", \"linecolor\": \"white\", \"ticks\": \"\"}, \"bgcolor\": \"#E5ECF6\", \"radialaxis\": {\"gridcolor\": \"white\", \"linecolor\": \"white\", \"ticks\": \"\"}}, \"scene\": {\"xaxis\": {\"backgroundcolor\": \"#E5ECF6\", \"gridcolor\": \"white\", \"gridwidth\": 2, \"linecolor\": \"white\", \"showbackground\": true, \"ticks\": \"\", \"zerolinecolor\": \"white\"}, \"yaxis\": {\"backgroundcolor\": \"#E5ECF6\", \"gridcolor\": \"white\", \"gridwidth\": 2, \"linecolor\": \"white\", \"showbackground\": true, \"ticks\": \"\", \"zerolinecolor\": \"white\"}, \"zaxis\": {\"backgroundcolor\": \"#E5ECF6\", \"gridcolor\": \"white\", \"gridwidth\": 2, \"linecolor\": \"white\", \"showbackground\": true, \"ticks\": \"\", \"zerolinecolor\": \"white\"}}, \"shapedefaults\": {\"line\": {\"color\": \"#2a3f5f\"}}, \"ternary\": {\"aaxis\": {\"gridcolor\": \"white\", \"linecolor\": \"white\", \"ticks\": \"\"}, \"baxis\": {\"gridcolor\": \"white\", \"linecolor\": \"white\", \"ticks\": \"\"}, \"bgcolor\": \"#E5ECF6\", \"caxis\": {\"gridcolor\": \"white\", \"linecolor\": \"white\", \"ticks\": \"\"}}, \"title\": {\"x\": 0.05}, \"xaxis\": {\"automargin\": true, \"gridcolor\": \"white\", \"linecolor\": \"white\", \"ticks\": \"\", \"title\": {\"standoff\": 15}, \"zerolinecolor\": \"white\", \"zerolinewidth\": 2}, \"yaxis\": {\"automargin\": true, \"gridcolor\": \"white\", \"linecolor\": \"white\", \"ticks\": \"\", \"title\": {\"standoff\": 15}, \"zerolinecolor\": \"white\", \"zerolinewidth\": 2}}}, \"width\": 1000, \"xaxis\": {\"anchor\": \"y\", \"domain\": [0.0, 1.0], \"title\": {\"text\": \"profit_perc\"}}, \"yaxis\": {\"anchor\": \"x\", \"domain\": [0.0, 1.0], \"title\": {\"text\": \"ticker\"}}},                        {\"responsive\": true}                    ).then(function(){\n",
       "                            \n",
       "var gd = document.getElementById('db41916a-3e1e-47a6-b4a5-6a56257c4873');\n",
       "var x = new MutationObserver(function (mutations, observer) {{\n",
       "        var display = window.getComputedStyle(gd).display;\n",
       "        if (!display || display === 'none') {{\n",
       "            console.log([gd, 'removed!']);\n",
       "            Plotly.purge(gd);\n",
       "            observer.disconnect();\n",
       "        }}\n",
       "}});\n",
       "\n",
       "// Listen for the removal of the full notebook cells\n",
       "var notebookContainer = gd.closest('#notebook-container');\n",
       "if (notebookContainer) {{\n",
       "    x.observe(notebookContainer, {childList: true});\n",
       "}}\n",
       "\n",
       "// Listen for the clearing of the current output cell\n",
       "var outputEl = gd.closest('.output');\n",
       "if (outputEl) {{\n",
       "    x.observe(outputEl, {childList: true});\n",
       "}}\n",
       "\n",
       "                        })                };                });            </script>        </div>"
      ]
     },
     "metadata": {},
     "output_type": "display_data"
    }
   ],
   "source": [
    "for_graph_percent = df_closed_shares_gr[df_closed_shares_gr['profit_perc'] > 0].sort_values('profit_perc', ascending=False).head(top)\\\n",
    "                .append(df_closed_shares_gr[df_closed_shares_gr['profit_perc'] < 0].sort_values('profit_perc').head(top)).reset_index(drop=True)\n",
    "for_graph_percent.sort_values('profit_perc',\n",
    "                      inplace=True)\n",
    "\n",
    "fig = px.bar(for_graph_percent[['ticker', 'profit_perc']],\n",
    "             y=for_graph_percent['ticker'], \n",
    "             x=for_graph_percent['profit_perc'], labels={'x':'profit_perc', 'y':'ticker'},\n",
    "             color='profit_perc')\n",
    "fig.update_layout(height=800,\n",
    "                  width=1000)\n",
    "fig.show(figsize=(10, 20))"
   ]
  },
  {
   "cell_type": "code",
   "execution_count": 215,
   "metadata": {},
   "outputs": [
    {
     "data": {
      "application/vnd.plotly.v1+json": {
       "config": {
        "plotlyServerURL": "https://plot.ly"
       },
       "data": [
        {
         "alignmentgroup": "True",
         "hovertemplate": "profit_rub=%{marker.color}<br>ticker=%{y}<extra></extra>",
         "legendgroup": "",
         "marker": {
          "color": [
           -7004.731584088442,
           -6720.806982292422,
           -4519.254937940449,
           -986.9026405715748,
           -214.0819574162955,
           -206.49039864266572,
           -6.832402896264738,
           1641.2949309426867,
           2569.7426448729143,
           2748.1442760531495,
           2910.603785639935,
           3233.2452612659135,
           3697.089122756604,
           4088.05439959841,
           4700.693192630144,
           5289.798305294787,
           144588.82840250933
          ],
          "coloraxis": "coloraxis"
         },
         "name": "",
         "offsetgroup": "",
         "orientation": "h",
         "showlegend": false,
         "textposition": "auto",
         "type": "bar",
         "x": [
          -7004.731584088442,
          -6720.806982292422,
          -4519.254937940449,
          -986.9026405715748,
          -214.0819574162955,
          -206.49039864266572,
          -6.832402896264738,
          1641.2949309426867,
          2569.7426448729143,
          2748.1442760531495,
          2910.603785639935,
          3233.2452612659135,
          3697.089122756604,
          4088.05439959841,
          4700.693192630144,
          5289.798305294787,
          144588.82840250933
         ],
         "xaxis": "x",
         "y": [
          "EAR",
          "AWH",
          "CRTX",
          "COUR",
          "BAC",
          "INTC",
          "MFGP",
          "CSCO",
          "LI",
          "RRC",
          "CNK",
          "FTCI",
          "ATRA",
          "AAPL",
          "SAVA",
          "DAL",
          "CCXI"
         ],
         "yaxis": "y"
        }
       ],
       "layout": {
        "barmode": "relative",
        "coloraxis": {
         "colorbar": {
          "title": {
           "text": "profit_rub"
          }
         },
         "colorscale": [
          [
           0,
           "#0d0887"
          ],
          [
           0.1111111111111111,
           "#46039f"
          ],
          [
           0.2222222222222222,
           "#7201a8"
          ],
          [
           0.3333333333333333,
           "#9c179e"
          ],
          [
           0.4444444444444444,
           "#bd3786"
          ],
          [
           0.5555555555555556,
           "#d8576b"
          ],
          [
           0.6666666666666666,
           "#ed7953"
          ],
          [
           0.7777777777777778,
           "#fb9f3a"
          ],
          [
           0.8888888888888888,
           "#fdca26"
          ],
          [
           1,
           "#f0f921"
          ]
         ]
        },
        "height": 800,
        "legend": {
         "tracegroupgap": 0
        },
        "margin": {
         "t": 60
        },
        "template": {
         "data": {
          "bar": [
           {
            "error_x": {
             "color": "#2a3f5f"
            },
            "error_y": {
             "color": "#2a3f5f"
            },
            "marker": {
             "line": {
              "color": "#E5ECF6",
              "width": 0.5
             }
            },
            "type": "bar"
           }
          ],
          "barpolar": [
           {
            "marker": {
             "line": {
              "color": "#E5ECF6",
              "width": 0.5
             }
            },
            "type": "barpolar"
           }
          ],
          "carpet": [
           {
            "aaxis": {
             "endlinecolor": "#2a3f5f",
             "gridcolor": "white",
             "linecolor": "white",
             "minorgridcolor": "white",
             "startlinecolor": "#2a3f5f"
            },
            "baxis": {
             "endlinecolor": "#2a3f5f",
             "gridcolor": "white",
             "linecolor": "white",
             "minorgridcolor": "white",
             "startlinecolor": "#2a3f5f"
            },
            "type": "carpet"
           }
          ],
          "choropleth": [
           {
            "colorbar": {
             "outlinewidth": 0,
             "ticks": ""
            },
            "type": "choropleth"
           }
          ],
          "contour": [
           {
            "colorbar": {
             "outlinewidth": 0,
             "ticks": ""
            },
            "colorscale": [
             [
              0,
              "#0d0887"
             ],
             [
              0.1111111111111111,
              "#46039f"
             ],
             [
              0.2222222222222222,
              "#7201a8"
             ],
             [
              0.3333333333333333,
              "#9c179e"
             ],
             [
              0.4444444444444444,
              "#bd3786"
             ],
             [
              0.5555555555555556,
              "#d8576b"
             ],
             [
              0.6666666666666666,
              "#ed7953"
             ],
             [
              0.7777777777777778,
              "#fb9f3a"
             ],
             [
              0.8888888888888888,
              "#fdca26"
             ],
             [
              1,
              "#f0f921"
             ]
            ],
            "type": "contour"
           }
          ],
          "contourcarpet": [
           {
            "colorbar": {
             "outlinewidth": 0,
             "ticks": ""
            },
            "type": "contourcarpet"
           }
          ],
          "heatmap": [
           {
            "colorbar": {
             "outlinewidth": 0,
             "ticks": ""
            },
            "colorscale": [
             [
              0,
              "#0d0887"
             ],
             [
              0.1111111111111111,
              "#46039f"
             ],
             [
              0.2222222222222222,
              "#7201a8"
             ],
             [
              0.3333333333333333,
              "#9c179e"
             ],
             [
              0.4444444444444444,
              "#bd3786"
             ],
             [
              0.5555555555555556,
              "#d8576b"
             ],
             [
              0.6666666666666666,
              "#ed7953"
             ],
             [
              0.7777777777777778,
              "#fb9f3a"
             ],
             [
              0.8888888888888888,
              "#fdca26"
             ],
             [
              1,
              "#f0f921"
             ]
            ],
            "type": "heatmap"
           }
          ],
          "heatmapgl": [
           {
            "colorbar": {
             "outlinewidth": 0,
             "ticks": ""
            },
            "colorscale": [
             [
              0,
              "#0d0887"
             ],
             [
              0.1111111111111111,
              "#46039f"
             ],
             [
              0.2222222222222222,
              "#7201a8"
             ],
             [
              0.3333333333333333,
              "#9c179e"
             ],
             [
              0.4444444444444444,
              "#bd3786"
             ],
             [
              0.5555555555555556,
              "#d8576b"
             ],
             [
              0.6666666666666666,
              "#ed7953"
             ],
             [
              0.7777777777777778,
              "#fb9f3a"
             ],
             [
              0.8888888888888888,
              "#fdca26"
             ],
             [
              1,
              "#f0f921"
             ]
            ],
            "type": "heatmapgl"
           }
          ],
          "histogram": [
           {
            "marker": {
             "colorbar": {
              "outlinewidth": 0,
              "ticks": ""
             }
            },
            "type": "histogram"
           }
          ],
          "histogram2d": [
           {
            "colorbar": {
             "outlinewidth": 0,
             "ticks": ""
            },
            "colorscale": [
             [
              0,
              "#0d0887"
             ],
             [
              0.1111111111111111,
              "#46039f"
             ],
             [
              0.2222222222222222,
              "#7201a8"
             ],
             [
              0.3333333333333333,
              "#9c179e"
             ],
             [
              0.4444444444444444,
              "#bd3786"
             ],
             [
              0.5555555555555556,
              "#d8576b"
             ],
             [
              0.6666666666666666,
              "#ed7953"
             ],
             [
              0.7777777777777778,
              "#fb9f3a"
             ],
             [
              0.8888888888888888,
              "#fdca26"
             ],
             [
              1,
              "#f0f921"
             ]
            ],
            "type": "histogram2d"
           }
          ],
          "histogram2dcontour": [
           {
            "colorbar": {
             "outlinewidth": 0,
             "ticks": ""
            },
            "colorscale": [
             [
              0,
              "#0d0887"
             ],
             [
              0.1111111111111111,
              "#46039f"
             ],
             [
              0.2222222222222222,
              "#7201a8"
             ],
             [
              0.3333333333333333,
              "#9c179e"
             ],
             [
              0.4444444444444444,
              "#bd3786"
             ],
             [
              0.5555555555555556,
              "#d8576b"
             ],
             [
              0.6666666666666666,
              "#ed7953"
             ],
             [
              0.7777777777777778,
              "#fb9f3a"
             ],
             [
              0.8888888888888888,
              "#fdca26"
             ],
             [
              1,
              "#f0f921"
             ]
            ],
            "type": "histogram2dcontour"
           }
          ],
          "mesh3d": [
           {
            "colorbar": {
             "outlinewidth": 0,
             "ticks": ""
            },
            "type": "mesh3d"
           }
          ],
          "parcoords": [
           {
            "line": {
             "colorbar": {
              "outlinewidth": 0,
              "ticks": ""
             }
            },
            "type": "parcoords"
           }
          ],
          "pie": [
           {
            "automargin": true,
            "type": "pie"
           }
          ],
          "scatter": [
           {
            "marker": {
             "colorbar": {
              "outlinewidth": 0,
              "ticks": ""
             }
            },
            "type": "scatter"
           }
          ],
          "scatter3d": [
           {
            "line": {
             "colorbar": {
              "outlinewidth": 0,
              "ticks": ""
             }
            },
            "marker": {
             "colorbar": {
              "outlinewidth": 0,
              "ticks": ""
             }
            },
            "type": "scatter3d"
           }
          ],
          "scattercarpet": [
           {
            "marker": {
             "colorbar": {
              "outlinewidth": 0,
              "ticks": ""
             }
            },
            "type": "scattercarpet"
           }
          ],
          "scattergeo": [
           {
            "marker": {
             "colorbar": {
              "outlinewidth": 0,
              "ticks": ""
             }
            },
            "type": "scattergeo"
           }
          ],
          "scattergl": [
           {
            "marker": {
             "colorbar": {
              "outlinewidth": 0,
              "ticks": ""
             }
            },
            "type": "scattergl"
           }
          ],
          "scattermapbox": [
           {
            "marker": {
             "colorbar": {
              "outlinewidth": 0,
              "ticks": ""
             }
            },
            "type": "scattermapbox"
           }
          ],
          "scatterpolar": [
           {
            "marker": {
             "colorbar": {
              "outlinewidth": 0,
              "ticks": ""
             }
            },
            "type": "scatterpolar"
           }
          ],
          "scatterpolargl": [
           {
            "marker": {
             "colorbar": {
              "outlinewidth": 0,
              "ticks": ""
             }
            },
            "type": "scatterpolargl"
           }
          ],
          "scatterternary": [
           {
            "marker": {
             "colorbar": {
              "outlinewidth": 0,
              "ticks": ""
             }
            },
            "type": "scatterternary"
           }
          ],
          "surface": [
           {
            "colorbar": {
             "outlinewidth": 0,
             "ticks": ""
            },
            "colorscale": [
             [
              0,
              "#0d0887"
             ],
             [
              0.1111111111111111,
              "#46039f"
             ],
             [
              0.2222222222222222,
              "#7201a8"
             ],
             [
              0.3333333333333333,
              "#9c179e"
             ],
             [
              0.4444444444444444,
              "#bd3786"
             ],
             [
              0.5555555555555556,
              "#d8576b"
             ],
             [
              0.6666666666666666,
              "#ed7953"
             ],
             [
              0.7777777777777778,
              "#fb9f3a"
             ],
             [
              0.8888888888888888,
              "#fdca26"
             ],
             [
              1,
              "#f0f921"
             ]
            ],
            "type": "surface"
           }
          ],
          "table": [
           {
            "cells": {
             "fill": {
              "color": "#EBF0F8"
             },
             "line": {
              "color": "white"
             }
            },
            "header": {
             "fill": {
              "color": "#C8D4E3"
             },
             "line": {
              "color": "white"
             }
            },
            "type": "table"
           }
          ]
         },
         "layout": {
          "annotationdefaults": {
           "arrowcolor": "#2a3f5f",
           "arrowhead": 0,
           "arrowwidth": 1
          },
          "autotypenumbers": "strict",
          "coloraxis": {
           "colorbar": {
            "outlinewidth": 0,
            "ticks": ""
           }
          },
          "colorscale": {
           "diverging": [
            [
             0,
             "#8e0152"
            ],
            [
             0.1,
             "#c51b7d"
            ],
            [
             0.2,
             "#de77ae"
            ],
            [
             0.3,
             "#f1b6da"
            ],
            [
             0.4,
             "#fde0ef"
            ],
            [
             0.5,
             "#f7f7f7"
            ],
            [
             0.6,
             "#e6f5d0"
            ],
            [
             0.7,
             "#b8e186"
            ],
            [
             0.8,
             "#7fbc41"
            ],
            [
             0.9,
             "#4d9221"
            ],
            [
             1,
             "#276419"
            ]
           ],
           "sequential": [
            [
             0,
             "#0d0887"
            ],
            [
             0.1111111111111111,
             "#46039f"
            ],
            [
             0.2222222222222222,
             "#7201a8"
            ],
            [
             0.3333333333333333,
             "#9c179e"
            ],
            [
             0.4444444444444444,
             "#bd3786"
            ],
            [
             0.5555555555555556,
             "#d8576b"
            ],
            [
             0.6666666666666666,
             "#ed7953"
            ],
            [
             0.7777777777777778,
             "#fb9f3a"
            ],
            [
             0.8888888888888888,
             "#fdca26"
            ],
            [
             1,
             "#f0f921"
            ]
           ],
           "sequentialminus": [
            [
             0,
             "#0d0887"
            ],
            [
             0.1111111111111111,
             "#46039f"
            ],
            [
             0.2222222222222222,
             "#7201a8"
            ],
            [
             0.3333333333333333,
             "#9c179e"
            ],
            [
             0.4444444444444444,
             "#bd3786"
            ],
            [
             0.5555555555555556,
             "#d8576b"
            ],
            [
             0.6666666666666666,
             "#ed7953"
            ],
            [
             0.7777777777777778,
             "#fb9f3a"
            ],
            [
             0.8888888888888888,
             "#fdca26"
            ],
            [
             1,
             "#f0f921"
            ]
           ]
          },
          "colorway": [
           "#636efa",
           "#EF553B",
           "#00cc96",
           "#ab63fa",
           "#FFA15A",
           "#19d3f3",
           "#FF6692",
           "#B6E880",
           "#FF97FF",
           "#FECB52"
          ],
          "font": {
           "color": "#2a3f5f"
          },
          "geo": {
           "bgcolor": "white",
           "lakecolor": "white",
           "landcolor": "#E5ECF6",
           "showlakes": true,
           "showland": true,
           "subunitcolor": "white"
          },
          "hoverlabel": {
           "align": "left"
          },
          "hovermode": "closest",
          "mapbox": {
           "style": "light"
          },
          "paper_bgcolor": "white",
          "plot_bgcolor": "#E5ECF6",
          "polar": {
           "angularaxis": {
            "gridcolor": "white",
            "linecolor": "white",
            "ticks": ""
           },
           "bgcolor": "#E5ECF6",
           "radialaxis": {
            "gridcolor": "white",
            "linecolor": "white",
            "ticks": ""
           }
          },
          "scene": {
           "xaxis": {
            "backgroundcolor": "#E5ECF6",
            "gridcolor": "white",
            "gridwidth": 2,
            "linecolor": "white",
            "showbackground": true,
            "ticks": "",
            "zerolinecolor": "white"
           },
           "yaxis": {
            "backgroundcolor": "#E5ECF6",
            "gridcolor": "white",
            "gridwidth": 2,
            "linecolor": "white",
            "showbackground": true,
            "ticks": "",
            "zerolinecolor": "white"
           },
           "zaxis": {
            "backgroundcolor": "#E5ECF6",
            "gridcolor": "white",
            "gridwidth": 2,
            "linecolor": "white",
            "showbackground": true,
            "ticks": "",
            "zerolinecolor": "white"
           }
          },
          "shapedefaults": {
           "line": {
            "color": "#2a3f5f"
           }
          },
          "ternary": {
           "aaxis": {
            "gridcolor": "white",
            "linecolor": "white",
            "ticks": ""
           },
           "baxis": {
            "gridcolor": "white",
            "linecolor": "white",
            "ticks": ""
           },
           "bgcolor": "#E5ECF6",
           "caxis": {
            "gridcolor": "white",
            "linecolor": "white",
            "ticks": ""
           }
          },
          "title": {
           "x": 0.05
          },
          "xaxis": {
           "automargin": true,
           "gridcolor": "white",
           "linecolor": "white",
           "ticks": "",
           "title": {
            "standoff": 15
           },
           "zerolinecolor": "white",
           "zerolinewidth": 2
          },
          "yaxis": {
           "automargin": true,
           "gridcolor": "white",
           "linecolor": "white",
           "ticks": "",
           "title": {
            "standoff": 15
           },
           "zerolinecolor": "white",
           "zerolinewidth": 2
          }
         }
        },
        "width": 1000,
        "xaxis": {
         "anchor": "y",
         "domain": [
          0,
          1
         ],
         "title": {
          "text": "profit_rub"
         }
        },
        "yaxis": {
         "anchor": "x",
         "domain": [
          0,
          1
         ],
         "title": {
          "text": "ticker"
         }
        }
       }
      },
      "text/html": [
       "<div>                            <div id=\"716dfa34-50ce-4655-afdb-b50b105f8446\" class=\"plotly-graph-div\" style=\"height:800px; width:1000px;\"></div>            <script type=\"text/javascript\">                require([\"plotly\"], function(Plotly) {                    window.PLOTLYENV=window.PLOTLYENV || {};                                    if (document.getElementById(\"716dfa34-50ce-4655-afdb-b50b105f8446\")) {                    Plotly.newPlot(                        \"716dfa34-50ce-4655-afdb-b50b105f8446\",                        [{\"alignmentgroup\": \"True\", \"hovertemplate\": \"profit_rub=%{marker.color}<br>ticker=%{y}<extra></extra>\", \"legendgroup\": \"\", \"marker\": {\"color\": [-7004.731584088442, -6720.806982292422, -4519.254937940449, -986.9026405715748, -214.0819574162955, -206.49039864266572, -6.832402896264738, 1641.2949309426867, 2569.7426448729143, 2748.1442760531495, 2910.603785639935, 3233.2452612659135, 3697.089122756604, 4088.05439959841, 4700.693192630144, 5289.798305294787, 144588.82840250933], \"coloraxis\": \"coloraxis\"}, \"name\": \"\", \"offsetgroup\": \"\", \"orientation\": \"h\", \"showlegend\": false, \"textposition\": \"auto\", \"type\": \"bar\", \"x\": [-7004.731584088442, -6720.806982292422, -4519.254937940449, -986.9026405715748, -214.0819574162955, -206.49039864266572, -6.832402896264738, 1641.2949309426867, 2569.7426448729143, 2748.1442760531495, 2910.603785639935, 3233.2452612659135, 3697.089122756604, 4088.05439959841, 4700.693192630144, 5289.798305294787, 144588.82840250933], \"xaxis\": \"x\", \"y\": [\"EAR\", \"AWH\", \"CRTX\", \"COUR\", \"BAC\", \"INTC\", \"MFGP\", \"CSCO\", \"LI\", \"RRC\", \"CNK\", \"FTCI\", \"ATRA\", \"AAPL\", \"SAVA\", \"DAL\", \"CCXI\"], \"yaxis\": \"y\"}],                        {\"barmode\": \"relative\", \"coloraxis\": {\"colorbar\": {\"title\": {\"text\": \"profit_rub\"}}, \"colorscale\": [[0.0, \"#0d0887\"], [0.1111111111111111, \"#46039f\"], [0.2222222222222222, \"#7201a8\"], [0.3333333333333333, \"#9c179e\"], [0.4444444444444444, \"#bd3786\"], [0.5555555555555556, \"#d8576b\"], [0.6666666666666666, \"#ed7953\"], [0.7777777777777778, \"#fb9f3a\"], [0.8888888888888888, \"#fdca26\"], [1.0, \"#f0f921\"]]}, \"height\": 800, \"legend\": {\"tracegroupgap\": 0}, \"margin\": {\"t\": 60}, \"template\": {\"data\": {\"bar\": [{\"error_x\": {\"color\": \"#2a3f5f\"}, \"error_y\": {\"color\": \"#2a3f5f\"}, \"marker\": {\"line\": {\"color\": \"#E5ECF6\", \"width\": 0.5}}, \"type\": \"bar\"}], \"barpolar\": [{\"marker\": {\"line\": {\"color\": \"#E5ECF6\", \"width\": 0.5}}, \"type\": \"barpolar\"}], \"carpet\": [{\"aaxis\": {\"endlinecolor\": \"#2a3f5f\", \"gridcolor\": \"white\", \"linecolor\": \"white\", \"minorgridcolor\": \"white\", \"startlinecolor\": \"#2a3f5f\"}, \"baxis\": {\"endlinecolor\": \"#2a3f5f\", \"gridcolor\": \"white\", \"linecolor\": \"white\", \"minorgridcolor\": \"white\", \"startlinecolor\": \"#2a3f5f\"}, \"type\": \"carpet\"}], \"choropleth\": [{\"colorbar\": {\"outlinewidth\": 0, \"ticks\": \"\"}, \"type\": \"choropleth\"}], \"contour\": [{\"colorbar\": {\"outlinewidth\": 0, \"ticks\": \"\"}, \"colorscale\": [[0.0, \"#0d0887\"], [0.1111111111111111, \"#46039f\"], [0.2222222222222222, \"#7201a8\"], [0.3333333333333333, \"#9c179e\"], [0.4444444444444444, \"#bd3786\"], [0.5555555555555556, \"#d8576b\"], [0.6666666666666666, \"#ed7953\"], [0.7777777777777778, \"#fb9f3a\"], [0.8888888888888888, \"#fdca26\"], [1.0, \"#f0f921\"]], \"type\": \"contour\"}], \"contourcarpet\": [{\"colorbar\": {\"outlinewidth\": 0, \"ticks\": \"\"}, \"type\": \"contourcarpet\"}], \"heatmap\": [{\"colorbar\": {\"outlinewidth\": 0, \"ticks\": \"\"}, \"colorscale\": [[0.0, \"#0d0887\"], [0.1111111111111111, \"#46039f\"], [0.2222222222222222, \"#7201a8\"], [0.3333333333333333, \"#9c179e\"], [0.4444444444444444, \"#bd3786\"], [0.5555555555555556, \"#d8576b\"], [0.6666666666666666, \"#ed7953\"], [0.7777777777777778, \"#fb9f3a\"], [0.8888888888888888, \"#fdca26\"], [1.0, \"#f0f921\"]], \"type\": \"heatmap\"}], \"heatmapgl\": [{\"colorbar\": {\"outlinewidth\": 0, \"ticks\": \"\"}, \"colorscale\": [[0.0, \"#0d0887\"], [0.1111111111111111, \"#46039f\"], [0.2222222222222222, \"#7201a8\"], [0.3333333333333333, \"#9c179e\"], [0.4444444444444444, \"#bd3786\"], [0.5555555555555556, \"#d8576b\"], [0.6666666666666666, \"#ed7953\"], [0.7777777777777778, \"#fb9f3a\"], [0.8888888888888888, \"#fdca26\"], [1.0, \"#f0f921\"]], \"type\": \"heatmapgl\"}], \"histogram\": [{\"marker\": {\"colorbar\": {\"outlinewidth\": 0, \"ticks\": \"\"}}, \"type\": \"histogram\"}], \"histogram2d\": [{\"colorbar\": {\"outlinewidth\": 0, \"ticks\": \"\"}, \"colorscale\": [[0.0, \"#0d0887\"], [0.1111111111111111, \"#46039f\"], [0.2222222222222222, \"#7201a8\"], [0.3333333333333333, \"#9c179e\"], [0.4444444444444444, \"#bd3786\"], [0.5555555555555556, \"#d8576b\"], [0.6666666666666666, \"#ed7953\"], [0.7777777777777778, \"#fb9f3a\"], [0.8888888888888888, \"#fdca26\"], [1.0, \"#f0f921\"]], \"type\": \"histogram2d\"}], \"histogram2dcontour\": [{\"colorbar\": {\"outlinewidth\": 0, \"ticks\": \"\"}, \"colorscale\": [[0.0, \"#0d0887\"], [0.1111111111111111, \"#46039f\"], [0.2222222222222222, \"#7201a8\"], [0.3333333333333333, \"#9c179e\"], [0.4444444444444444, \"#bd3786\"], [0.5555555555555556, \"#d8576b\"], [0.6666666666666666, \"#ed7953\"], [0.7777777777777778, \"#fb9f3a\"], [0.8888888888888888, \"#fdca26\"], [1.0, \"#f0f921\"]], \"type\": \"histogram2dcontour\"}], \"mesh3d\": [{\"colorbar\": {\"outlinewidth\": 0, \"ticks\": \"\"}, \"type\": \"mesh3d\"}], \"parcoords\": [{\"line\": {\"colorbar\": {\"outlinewidth\": 0, \"ticks\": \"\"}}, \"type\": \"parcoords\"}], \"pie\": [{\"automargin\": true, \"type\": \"pie\"}], \"scatter\": [{\"marker\": {\"colorbar\": {\"outlinewidth\": 0, \"ticks\": \"\"}}, \"type\": \"scatter\"}], \"scatter3d\": [{\"line\": {\"colorbar\": {\"outlinewidth\": 0, \"ticks\": \"\"}}, \"marker\": {\"colorbar\": {\"outlinewidth\": 0, \"ticks\": \"\"}}, \"type\": \"scatter3d\"}], \"scattercarpet\": [{\"marker\": {\"colorbar\": {\"outlinewidth\": 0, \"ticks\": \"\"}}, \"type\": \"scattercarpet\"}], \"scattergeo\": [{\"marker\": {\"colorbar\": {\"outlinewidth\": 0, \"ticks\": \"\"}}, \"type\": \"scattergeo\"}], \"scattergl\": [{\"marker\": {\"colorbar\": {\"outlinewidth\": 0, \"ticks\": \"\"}}, \"type\": \"scattergl\"}], \"scattermapbox\": [{\"marker\": {\"colorbar\": {\"outlinewidth\": 0, \"ticks\": \"\"}}, \"type\": \"scattermapbox\"}], \"scatterpolar\": [{\"marker\": {\"colorbar\": {\"outlinewidth\": 0, \"ticks\": \"\"}}, \"type\": \"scatterpolar\"}], \"scatterpolargl\": [{\"marker\": {\"colorbar\": {\"outlinewidth\": 0, \"ticks\": \"\"}}, \"type\": \"scatterpolargl\"}], \"scatterternary\": [{\"marker\": {\"colorbar\": {\"outlinewidth\": 0, \"ticks\": \"\"}}, \"type\": \"scatterternary\"}], \"surface\": [{\"colorbar\": {\"outlinewidth\": 0, \"ticks\": \"\"}, \"colorscale\": [[0.0, \"#0d0887\"], [0.1111111111111111, \"#46039f\"], [0.2222222222222222, \"#7201a8\"], [0.3333333333333333, \"#9c179e\"], [0.4444444444444444, \"#bd3786\"], [0.5555555555555556, \"#d8576b\"], [0.6666666666666666, \"#ed7953\"], [0.7777777777777778, \"#fb9f3a\"], [0.8888888888888888, \"#fdca26\"], [1.0, \"#f0f921\"]], \"type\": \"surface\"}], \"table\": [{\"cells\": {\"fill\": {\"color\": \"#EBF0F8\"}, \"line\": {\"color\": \"white\"}}, \"header\": {\"fill\": {\"color\": \"#C8D4E3\"}, \"line\": {\"color\": \"white\"}}, \"type\": \"table\"}]}, \"layout\": {\"annotationdefaults\": {\"arrowcolor\": \"#2a3f5f\", \"arrowhead\": 0, \"arrowwidth\": 1}, \"autotypenumbers\": \"strict\", \"coloraxis\": {\"colorbar\": {\"outlinewidth\": 0, \"ticks\": \"\"}}, \"colorscale\": {\"diverging\": [[0, \"#8e0152\"], [0.1, \"#c51b7d\"], [0.2, \"#de77ae\"], [0.3, \"#f1b6da\"], [0.4, \"#fde0ef\"], [0.5, \"#f7f7f7\"], [0.6, \"#e6f5d0\"], [0.7, \"#b8e186\"], [0.8, \"#7fbc41\"], [0.9, \"#4d9221\"], [1, \"#276419\"]], \"sequential\": [[0.0, \"#0d0887\"], [0.1111111111111111, \"#46039f\"], [0.2222222222222222, \"#7201a8\"], [0.3333333333333333, \"#9c179e\"], [0.4444444444444444, \"#bd3786\"], [0.5555555555555556, \"#d8576b\"], [0.6666666666666666, \"#ed7953\"], [0.7777777777777778, \"#fb9f3a\"], [0.8888888888888888, \"#fdca26\"], [1.0, \"#f0f921\"]], \"sequentialminus\": [[0.0, \"#0d0887\"], [0.1111111111111111, \"#46039f\"], [0.2222222222222222, \"#7201a8\"], [0.3333333333333333, \"#9c179e\"], [0.4444444444444444, \"#bd3786\"], [0.5555555555555556, \"#d8576b\"], [0.6666666666666666, \"#ed7953\"], [0.7777777777777778, \"#fb9f3a\"], [0.8888888888888888, \"#fdca26\"], [1.0, \"#f0f921\"]]}, \"colorway\": [\"#636efa\", \"#EF553B\", \"#00cc96\", \"#ab63fa\", \"#FFA15A\", \"#19d3f3\", \"#FF6692\", \"#B6E880\", \"#FF97FF\", \"#FECB52\"], \"font\": {\"color\": \"#2a3f5f\"}, \"geo\": {\"bgcolor\": \"white\", \"lakecolor\": \"white\", \"landcolor\": \"#E5ECF6\", \"showlakes\": true, \"showland\": true, \"subunitcolor\": \"white\"}, \"hoverlabel\": {\"align\": \"left\"}, \"hovermode\": \"closest\", \"mapbox\": {\"style\": \"light\"}, \"paper_bgcolor\": \"white\", \"plot_bgcolor\": \"#E5ECF6\", \"polar\": {\"angularaxis\": {\"gridcolor\": \"white\", \"linecolor\": \"white\", \"ticks\": \"\"}, \"bgcolor\": \"#E5ECF6\", \"radialaxis\": {\"gridcolor\": \"white\", \"linecolor\": \"white\", \"ticks\": \"\"}}, \"scene\": {\"xaxis\": {\"backgroundcolor\": \"#E5ECF6\", \"gridcolor\": \"white\", \"gridwidth\": 2, \"linecolor\": \"white\", \"showbackground\": true, \"ticks\": \"\", \"zerolinecolor\": \"white\"}, \"yaxis\": {\"backgroundcolor\": \"#E5ECF6\", \"gridcolor\": \"white\", \"gridwidth\": 2, \"linecolor\": \"white\", \"showbackground\": true, \"ticks\": \"\", \"zerolinecolor\": \"white\"}, \"zaxis\": {\"backgroundcolor\": \"#E5ECF6\", \"gridcolor\": \"white\", \"gridwidth\": 2, \"linecolor\": \"white\", \"showbackground\": true, \"ticks\": \"\", \"zerolinecolor\": \"white\"}}, \"shapedefaults\": {\"line\": {\"color\": \"#2a3f5f\"}}, \"ternary\": {\"aaxis\": {\"gridcolor\": \"white\", \"linecolor\": \"white\", \"ticks\": \"\"}, \"baxis\": {\"gridcolor\": \"white\", \"linecolor\": \"white\", \"ticks\": \"\"}, \"bgcolor\": \"#E5ECF6\", \"caxis\": {\"gridcolor\": \"white\", \"linecolor\": \"white\", \"ticks\": \"\"}}, \"title\": {\"x\": 0.05}, \"xaxis\": {\"automargin\": true, \"gridcolor\": \"white\", \"linecolor\": \"white\", \"ticks\": \"\", \"title\": {\"standoff\": 15}, \"zerolinecolor\": \"white\", \"zerolinewidth\": 2}, \"yaxis\": {\"automargin\": true, \"gridcolor\": \"white\", \"linecolor\": \"white\", \"ticks\": \"\", \"title\": {\"standoff\": 15}, \"zerolinecolor\": \"white\", \"zerolinewidth\": 2}}}, \"width\": 1000, \"xaxis\": {\"anchor\": \"y\", \"domain\": [0.0, 1.0], \"title\": {\"text\": \"profit_rub\"}}, \"yaxis\": {\"anchor\": \"x\", \"domain\": [0.0, 1.0], \"title\": {\"text\": \"ticker\"}}},                        {\"responsive\": true}                    ).then(function(){\n",
       "                            \n",
       "var gd = document.getElementById('716dfa34-50ce-4655-afdb-b50b105f8446');\n",
       "var x = new MutationObserver(function (mutations, observer) {{\n",
       "        var display = window.getComputedStyle(gd).display;\n",
       "        if (!display || display === 'none') {{\n",
       "            console.log([gd, 'removed!']);\n",
       "            Plotly.purge(gd);\n",
       "            observer.disconnect();\n",
       "        }}\n",
       "}});\n",
       "\n",
       "// Listen for the removal of the full notebook cells\n",
       "var notebookContainer = gd.closest('#notebook-container');\n",
       "if (notebookContainer) {{\n",
       "    x.observe(notebookContainer, {childList: true});\n",
       "}}\n",
       "\n",
       "// Listen for the clearing of the current output cell\n",
       "var outputEl = gd.closest('.output');\n",
       "if (outputEl) {{\n",
       "    x.observe(outputEl, {childList: true});\n",
       "}}\n",
       "\n",
       "                        })                };                });            </script>        </div>"
      ]
     },
     "metadata": {},
     "output_type": "display_data"
    }
   ],
   "source": [
    "for_graph_profit = df_closed_shares_gr[df_closed_shares_gr['profit_rub'] > 0].sort_values('profit_rub', ascending=False).head(top)\\\n",
    "                .append(df_closed_shares_gr[df_closed_shares_gr['profit_rub'] < 0].sort_values('profit_rub').head(top)).reset_index(drop=True)\n",
    "for_graph_profit.sort_values('profit_rub', \n",
    "                      ascending=True, \n",
    "                      inplace=True)\n",
    "\n",
    "fig = px.bar(for_graph_profit[['ticker', 'profit_rub']],\n",
    "             y=for_graph_profit['ticker'], \n",
    "             x=for_graph_profit['profit_rub'], labels={'x':'profit_rub', 'y':'ticker'},\n",
    "             color='profit_rub')\n",
    "fig.update_layout(height=800,\n",
    "                  width=1000)\n",
    "fig.show(figsize=(10, 20))"
   ]
  },
  {
   "cell_type": "code",
   "execution_count": 223,
   "metadata": {},
   "outputs": [
    {
     "data": {
      "application/vnd.plotly.v1+json": {
       "config": {
        "plotlyServerURL": "https://plot.ly"
       },
       "data": [
        {
         "alignmentgroup": "True",
         "hovertemplate": "profit_rub=%{marker.color}<br>sector=%{y}<extra></extra>",
         "legendgroup": "",
         "marker": {
          "color": [
           628.5129310105791,
           1565.3564157047913,
           2910.603785639935,
           3308.886172681306,
           4435.747791430541,
           6062.624695312481,
           6408.034684903396,
           7456.874545503199,
           136268.4796070357
          ],
          "coloraxis": "coloraxis"
         },
         "name": "",
         "offsetgroup": "",
         "orientation": "h",
         "showlegend": false,
         "textposition": "auto",
         "type": "bar",
         "x": [
          628.5129310105791,
          1565.3564157047913,
          2910.603785639935,
          3308.886172681306,
          4435.747791430541,
          6062.624695312481,
          6408.034684903396,
          7456.874545503199,
          136268.4796070357
         ],
         "xaxis": "x",
         "y": [
          "financial",
          "materials",
          "telecom",
          "utilities",
          "energy",
          "industrials",
          "it",
          "consumer",
          "health_care"
         ],
         "yaxis": "y"
        }
       ],
       "layout": {
        "barmode": "relative",
        "coloraxis": {
         "colorbar": {
          "title": {
           "text": "profit_rub"
          }
         },
         "colorscale": [
          [
           0,
           "#0d0887"
          ],
          [
           0.1111111111111111,
           "#46039f"
          ],
          [
           0.2222222222222222,
           "#7201a8"
          ],
          [
           0.3333333333333333,
           "#9c179e"
          ],
          [
           0.4444444444444444,
           "#bd3786"
          ],
          [
           0.5555555555555556,
           "#d8576b"
          ],
          [
           0.6666666666666666,
           "#ed7953"
          ],
          [
           0.7777777777777778,
           "#fb9f3a"
          ],
          [
           0.8888888888888888,
           "#fdca26"
          ],
          [
           1,
           "#f0f921"
          ]
         ]
        },
        "height": 800,
        "legend": {
         "tracegroupgap": 0
        },
        "margin": {
         "t": 60
        },
        "template": {
         "data": {
          "bar": [
           {
            "error_x": {
             "color": "#2a3f5f"
            },
            "error_y": {
             "color": "#2a3f5f"
            },
            "marker": {
             "line": {
              "color": "#E5ECF6",
              "width": 0.5
             }
            },
            "type": "bar"
           }
          ],
          "barpolar": [
           {
            "marker": {
             "line": {
              "color": "#E5ECF6",
              "width": 0.5
             }
            },
            "type": "barpolar"
           }
          ],
          "carpet": [
           {
            "aaxis": {
             "endlinecolor": "#2a3f5f",
             "gridcolor": "white",
             "linecolor": "white",
             "minorgridcolor": "white",
             "startlinecolor": "#2a3f5f"
            },
            "baxis": {
             "endlinecolor": "#2a3f5f",
             "gridcolor": "white",
             "linecolor": "white",
             "minorgridcolor": "white",
             "startlinecolor": "#2a3f5f"
            },
            "type": "carpet"
           }
          ],
          "choropleth": [
           {
            "colorbar": {
             "outlinewidth": 0,
             "ticks": ""
            },
            "type": "choropleth"
           }
          ],
          "contour": [
           {
            "colorbar": {
             "outlinewidth": 0,
             "ticks": ""
            },
            "colorscale": [
             [
              0,
              "#0d0887"
             ],
             [
              0.1111111111111111,
              "#46039f"
             ],
             [
              0.2222222222222222,
              "#7201a8"
             ],
             [
              0.3333333333333333,
              "#9c179e"
             ],
             [
              0.4444444444444444,
              "#bd3786"
             ],
             [
              0.5555555555555556,
              "#d8576b"
             ],
             [
              0.6666666666666666,
              "#ed7953"
             ],
             [
              0.7777777777777778,
              "#fb9f3a"
             ],
             [
              0.8888888888888888,
              "#fdca26"
             ],
             [
              1,
              "#f0f921"
             ]
            ],
            "type": "contour"
           }
          ],
          "contourcarpet": [
           {
            "colorbar": {
             "outlinewidth": 0,
             "ticks": ""
            },
            "type": "contourcarpet"
           }
          ],
          "heatmap": [
           {
            "colorbar": {
             "outlinewidth": 0,
             "ticks": ""
            },
            "colorscale": [
             [
              0,
              "#0d0887"
             ],
             [
              0.1111111111111111,
              "#46039f"
             ],
             [
              0.2222222222222222,
              "#7201a8"
             ],
             [
              0.3333333333333333,
              "#9c179e"
             ],
             [
              0.4444444444444444,
              "#bd3786"
             ],
             [
              0.5555555555555556,
              "#d8576b"
             ],
             [
              0.6666666666666666,
              "#ed7953"
             ],
             [
              0.7777777777777778,
              "#fb9f3a"
             ],
             [
              0.8888888888888888,
              "#fdca26"
             ],
             [
              1,
              "#f0f921"
             ]
            ],
            "type": "heatmap"
           }
          ],
          "heatmapgl": [
           {
            "colorbar": {
             "outlinewidth": 0,
             "ticks": ""
            },
            "colorscale": [
             [
              0,
              "#0d0887"
             ],
             [
              0.1111111111111111,
              "#46039f"
             ],
             [
              0.2222222222222222,
              "#7201a8"
             ],
             [
              0.3333333333333333,
              "#9c179e"
             ],
             [
              0.4444444444444444,
              "#bd3786"
             ],
             [
              0.5555555555555556,
              "#d8576b"
             ],
             [
              0.6666666666666666,
              "#ed7953"
             ],
             [
              0.7777777777777778,
              "#fb9f3a"
             ],
             [
              0.8888888888888888,
              "#fdca26"
             ],
             [
              1,
              "#f0f921"
             ]
            ],
            "type": "heatmapgl"
           }
          ],
          "histogram": [
           {
            "marker": {
             "colorbar": {
              "outlinewidth": 0,
              "ticks": ""
             }
            },
            "type": "histogram"
           }
          ],
          "histogram2d": [
           {
            "colorbar": {
             "outlinewidth": 0,
             "ticks": ""
            },
            "colorscale": [
             [
              0,
              "#0d0887"
             ],
             [
              0.1111111111111111,
              "#46039f"
             ],
             [
              0.2222222222222222,
              "#7201a8"
             ],
             [
              0.3333333333333333,
              "#9c179e"
             ],
             [
              0.4444444444444444,
              "#bd3786"
             ],
             [
              0.5555555555555556,
              "#d8576b"
             ],
             [
              0.6666666666666666,
              "#ed7953"
             ],
             [
              0.7777777777777778,
              "#fb9f3a"
             ],
             [
              0.8888888888888888,
              "#fdca26"
             ],
             [
              1,
              "#f0f921"
             ]
            ],
            "type": "histogram2d"
           }
          ],
          "histogram2dcontour": [
           {
            "colorbar": {
             "outlinewidth": 0,
             "ticks": ""
            },
            "colorscale": [
             [
              0,
              "#0d0887"
             ],
             [
              0.1111111111111111,
              "#46039f"
             ],
             [
              0.2222222222222222,
              "#7201a8"
             ],
             [
              0.3333333333333333,
              "#9c179e"
             ],
             [
              0.4444444444444444,
              "#bd3786"
             ],
             [
              0.5555555555555556,
              "#d8576b"
             ],
             [
              0.6666666666666666,
              "#ed7953"
             ],
             [
              0.7777777777777778,
              "#fb9f3a"
             ],
             [
              0.8888888888888888,
              "#fdca26"
             ],
             [
              1,
              "#f0f921"
             ]
            ],
            "type": "histogram2dcontour"
           }
          ],
          "mesh3d": [
           {
            "colorbar": {
             "outlinewidth": 0,
             "ticks": ""
            },
            "type": "mesh3d"
           }
          ],
          "parcoords": [
           {
            "line": {
             "colorbar": {
              "outlinewidth": 0,
              "ticks": ""
             }
            },
            "type": "parcoords"
           }
          ],
          "pie": [
           {
            "automargin": true,
            "type": "pie"
           }
          ],
          "scatter": [
           {
            "marker": {
             "colorbar": {
              "outlinewidth": 0,
              "ticks": ""
             }
            },
            "type": "scatter"
           }
          ],
          "scatter3d": [
           {
            "line": {
             "colorbar": {
              "outlinewidth": 0,
              "ticks": ""
             }
            },
            "marker": {
             "colorbar": {
              "outlinewidth": 0,
              "ticks": ""
             }
            },
            "type": "scatter3d"
           }
          ],
          "scattercarpet": [
           {
            "marker": {
             "colorbar": {
              "outlinewidth": 0,
              "ticks": ""
             }
            },
            "type": "scattercarpet"
           }
          ],
          "scattergeo": [
           {
            "marker": {
             "colorbar": {
              "outlinewidth": 0,
              "ticks": ""
             }
            },
            "type": "scattergeo"
           }
          ],
          "scattergl": [
           {
            "marker": {
             "colorbar": {
              "outlinewidth": 0,
              "ticks": ""
             }
            },
            "type": "scattergl"
           }
          ],
          "scattermapbox": [
           {
            "marker": {
             "colorbar": {
              "outlinewidth": 0,
              "ticks": ""
             }
            },
            "type": "scattermapbox"
           }
          ],
          "scatterpolar": [
           {
            "marker": {
             "colorbar": {
              "outlinewidth": 0,
              "ticks": ""
             }
            },
            "type": "scatterpolar"
           }
          ],
          "scatterpolargl": [
           {
            "marker": {
             "colorbar": {
              "outlinewidth": 0,
              "ticks": ""
             }
            },
            "type": "scatterpolargl"
           }
          ],
          "scatterternary": [
           {
            "marker": {
             "colorbar": {
              "outlinewidth": 0,
              "ticks": ""
             }
            },
            "type": "scatterternary"
           }
          ],
          "surface": [
           {
            "colorbar": {
             "outlinewidth": 0,
             "ticks": ""
            },
            "colorscale": [
             [
              0,
              "#0d0887"
             ],
             [
              0.1111111111111111,
              "#46039f"
             ],
             [
              0.2222222222222222,
              "#7201a8"
             ],
             [
              0.3333333333333333,
              "#9c179e"
             ],
             [
              0.4444444444444444,
              "#bd3786"
             ],
             [
              0.5555555555555556,
              "#d8576b"
             ],
             [
              0.6666666666666666,
              "#ed7953"
             ],
             [
              0.7777777777777778,
              "#fb9f3a"
             ],
             [
              0.8888888888888888,
              "#fdca26"
             ],
             [
              1,
              "#f0f921"
             ]
            ],
            "type": "surface"
           }
          ],
          "table": [
           {
            "cells": {
             "fill": {
              "color": "#EBF0F8"
             },
             "line": {
              "color": "white"
             }
            },
            "header": {
             "fill": {
              "color": "#C8D4E3"
             },
             "line": {
              "color": "white"
             }
            },
            "type": "table"
           }
          ]
         },
         "layout": {
          "annotationdefaults": {
           "arrowcolor": "#2a3f5f",
           "arrowhead": 0,
           "arrowwidth": 1
          },
          "autotypenumbers": "strict",
          "coloraxis": {
           "colorbar": {
            "outlinewidth": 0,
            "ticks": ""
           }
          },
          "colorscale": {
           "diverging": [
            [
             0,
             "#8e0152"
            ],
            [
             0.1,
             "#c51b7d"
            ],
            [
             0.2,
             "#de77ae"
            ],
            [
             0.3,
             "#f1b6da"
            ],
            [
             0.4,
             "#fde0ef"
            ],
            [
             0.5,
             "#f7f7f7"
            ],
            [
             0.6,
             "#e6f5d0"
            ],
            [
             0.7,
             "#b8e186"
            ],
            [
             0.8,
             "#7fbc41"
            ],
            [
             0.9,
             "#4d9221"
            ],
            [
             1,
             "#276419"
            ]
           ],
           "sequential": [
            [
             0,
             "#0d0887"
            ],
            [
             0.1111111111111111,
             "#46039f"
            ],
            [
             0.2222222222222222,
             "#7201a8"
            ],
            [
             0.3333333333333333,
             "#9c179e"
            ],
            [
             0.4444444444444444,
             "#bd3786"
            ],
            [
             0.5555555555555556,
             "#d8576b"
            ],
            [
             0.6666666666666666,
             "#ed7953"
            ],
            [
             0.7777777777777778,
             "#fb9f3a"
            ],
            [
             0.8888888888888888,
             "#fdca26"
            ],
            [
             1,
             "#f0f921"
            ]
           ],
           "sequentialminus": [
            [
             0,
             "#0d0887"
            ],
            [
             0.1111111111111111,
             "#46039f"
            ],
            [
             0.2222222222222222,
             "#7201a8"
            ],
            [
             0.3333333333333333,
             "#9c179e"
            ],
            [
             0.4444444444444444,
             "#bd3786"
            ],
            [
             0.5555555555555556,
             "#d8576b"
            ],
            [
             0.6666666666666666,
             "#ed7953"
            ],
            [
             0.7777777777777778,
             "#fb9f3a"
            ],
            [
             0.8888888888888888,
             "#fdca26"
            ],
            [
             1,
             "#f0f921"
            ]
           ]
          },
          "colorway": [
           "#636efa",
           "#EF553B",
           "#00cc96",
           "#ab63fa",
           "#FFA15A",
           "#19d3f3",
           "#FF6692",
           "#B6E880",
           "#FF97FF",
           "#FECB52"
          ],
          "font": {
           "color": "#2a3f5f"
          },
          "geo": {
           "bgcolor": "white",
           "lakecolor": "white",
           "landcolor": "#E5ECF6",
           "showlakes": true,
           "showland": true,
           "subunitcolor": "white"
          },
          "hoverlabel": {
           "align": "left"
          },
          "hovermode": "closest",
          "mapbox": {
           "style": "light"
          },
          "paper_bgcolor": "white",
          "plot_bgcolor": "#E5ECF6",
          "polar": {
           "angularaxis": {
            "gridcolor": "white",
            "linecolor": "white",
            "ticks": ""
           },
           "bgcolor": "#E5ECF6",
           "radialaxis": {
            "gridcolor": "white",
            "linecolor": "white",
            "ticks": ""
           }
          },
          "scene": {
           "xaxis": {
            "backgroundcolor": "#E5ECF6",
            "gridcolor": "white",
            "gridwidth": 2,
            "linecolor": "white",
            "showbackground": true,
            "ticks": "",
            "zerolinecolor": "white"
           },
           "yaxis": {
            "backgroundcolor": "#E5ECF6",
            "gridcolor": "white",
            "gridwidth": 2,
            "linecolor": "white",
            "showbackground": true,
            "ticks": "",
            "zerolinecolor": "white"
           },
           "zaxis": {
            "backgroundcolor": "#E5ECF6",
            "gridcolor": "white",
            "gridwidth": 2,
            "linecolor": "white",
            "showbackground": true,
            "ticks": "",
            "zerolinecolor": "white"
           }
          },
          "shapedefaults": {
           "line": {
            "color": "#2a3f5f"
           }
          },
          "ternary": {
           "aaxis": {
            "gridcolor": "white",
            "linecolor": "white",
            "ticks": ""
           },
           "baxis": {
            "gridcolor": "white",
            "linecolor": "white",
            "ticks": ""
           },
           "bgcolor": "#E5ECF6",
           "caxis": {
            "gridcolor": "white",
            "linecolor": "white",
            "ticks": ""
           }
          },
          "title": {
           "x": 0.05
          },
          "xaxis": {
           "automargin": true,
           "gridcolor": "white",
           "linecolor": "white",
           "ticks": "",
           "title": {
            "standoff": 15
           },
           "zerolinecolor": "white",
           "zerolinewidth": 2
          },
          "yaxis": {
           "automargin": true,
           "gridcolor": "white",
           "linecolor": "white",
           "ticks": "",
           "title": {
            "standoff": 15
           },
           "zerolinecolor": "white",
           "zerolinewidth": 2
          }
         }
        },
        "width": 1000,
        "xaxis": {
         "anchor": "y",
         "domain": [
          0,
          1
         ],
         "title": {
          "text": "profit_rub"
         }
        },
        "yaxis": {
         "anchor": "x",
         "domain": [
          0,
          1
         ],
         "title": {
          "text": "sector"
         }
        }
       }
      },
      "text/html": [
       "<div>                            <div id=\"f7a70fa0-d6ac-4e9d-81bb-840402be61f6\" class=\"plotly-graph-div\" style=\"height:800px; width:1000px;\"></div>            <script type=\"text/javascript\">                require([\"plotly\"], function(Plotly) {                    window.PLOTLYENV=window.PLOTLYENV || {};                                    if (document.getElementById(\"f7a70fa0-d6ac-4e9d-81bb-840402be61f6\")) {                    Plotly.newPlot(                        \"f7a70fa0-d6ac-4e9d-81bb-840402be61f6\",                        [{\"alignmentgroup\": \"True\", \"hovertemplate\": \"profit_rub=%{marker.color}<br>sector=%{y}<extra></extra>\", \"legendgroup\": \"\", \"marker\": {\"color\": [628.5129310105791, 1565.3564157047913, 2910.603785639935, 3308.886172681306, 4435.747791430541, 6062.624695312481, 6408.034684903396, 7456.874545503199, 136268.4796070357], \"coloraxis\": \"coloraxis\"}, \"name\": \"\", \"offsetgroup\": \"\", \"orientation\": \"h\", \"showlegend\": false, \"textposition\": \"auto\", \"type\": \"bar\", \"x\": [628.5129310105791, 1565.3564157047913, 2910.603785639935, 3308.886172681306, 4435.747791430541, 6062.624695312481, 6408.034684903396, 7456.874545503199, 136268.4796070357], \"xaxis\": \"x\", \"y\": [\"financial\", \"materials\", \"telecom\", \"utilities\", \"energy\", \"industrials\", \"it\", \"consumer\", \"health_care\"], \"yaxis\": \"y\"}],                        {\"barmode\": \"relative\", \"coloraxis\": {\"colorbar\": {\"title\": {\"text\": \"profit_rub\"}}, \"colorscale\": [[0.0, \"#0d0887\"], [0.1111111111111111, \"#46039f\"], [0.2222222222222222, \"#7201a8\"], [0.3333333333333333, \"#9c179e\"], [0.4444444444444444, \"#bd3786\"], [0.5555555555555556, \"#d8576b\"], [0.6666666666666666, \"#ed7953\"], [0.7777777777777778, \"#fb9f3a\"], [0.8888888888888888, \"#fdca26\"], [1.0, \"#f0f921\"]]}, \"height\": 800, \"legend\": {\"tracegroupgap\": 0}, \"margin\": {\"t\": 60}, \"template\": {\"data\": {\"bar\": [{\"error_x\": {\"color\": \"#2a3f5f\"}, \"error_y\": {\"color\": \"#2a3f5f\"}, \"marker\": {\"line\": {\"color\": \"#E5ECF6\", \"width\": 0.5}}, \"type\": \"bar\"}], \"barpolar\": [{\"marker\": {\"line\": {\"color\": \"#E5ECF6\", \"width\": 0.5}}, \"type\": \"barpolar\"}], \"carpet\": [{\"aaxis\": {\"endlinecolor\": \"#2a3f5f\", \"gridcolor\": \"white\", \"linecolor\": \"white\", \"minorgridcolor\": \"white\", \"startlinecolor\": \"#2a3f5f\"}, \"baxis\": {\"endlinecolor\": \"#2a3f5f\", \"gridcolor\": \"white\", \"linecolor\": \"white\", \"minorgridcolor\": \"white\", \"startlinecolor\": \"#2a3f5f\"}, \"type\": \"carpet\"}], \"choropleth\": [{\"colorbar\": {\"outlinewidth\": 0, \"ticks\": \"\"}, \"type\": \"choropleth\"}], \"contour\": [{\"colorbar\": {\"outlinewidth\": 0, \"ticks\": \"\"}, \"colorscale\": [[0.0, \"#0d0887\"], [0.1111111111111111, \"#46039f\"], [0.2222222222222222, \"#7201a8\"], [0.3333333333333333, \"#9c179e\"], [0.4444444444444444, \"#bd3786\"], [0.5555555555555556, \"#d8576b\"], [0.6666666666666666, \"#ed7953\"], [0.7777777777777778, \"#fb9f3a\"], [0.8888888888888888, \"#fdca26\"], [1.0, \"#f0f921\"]], \"type\": \"contour\"}], \"contourcarpet\": [{\"colorbar\": {\"outlinewidth\": 0, \"ticks\": \"\"}, \"type\": \"contourcarpet\"}], \"heatmap\": [{\"colorbar\": {\"outlinewidth\": 0, \"ticks\": \"\"}, \"colorscale\": [[0.0, \"#0d0887\"], [0.1111111111111111, \"#46039f\"], [0.2222222222222222, \"#7201a8\"], [0.3333333333333333, \"#9c179e\"], [0.4444444444444444, \"#bd3786\"], [0.5555555555555556, \"#d8576b\"], [0.6666666666666666, \"#ed7953\"], [0.7777777777777778, \"#fb9f3a\"], [0.8888888888888888, \"#fdca26\"], [1.0, \"#f0f921\"]], \"type\": \"heatmap\"}], \"heatmapgl\": [{\"colorbar\": {\"outlinewidth\": 0, \"ticks\": \"\"}, \"colorscale\": [[0.0, \"#0d0887\"], [0.1111111111111111, \"#46039f\"], [0.2222222222222222, \"#7201a8\"], [0.3333333333333333, \"#9c179e\"], [0.4444444444444444, \"#bd3786\"], [0.5555555555555556, \"#d8576b\"], [0.6666666666666666, \"#ed7953\"], [0.7777777777777778, \"#fb9f3a\"], [0.8888888888888888, \"#fdca26\"], [1.0, \"#f0f921\"]], \"type\": \"heatmapgl\"}], \"histogram\": [{\"marker\": {\"colorbar\": {\"outlinewidth\": 0, \"ticks\": \"\"}}, \"type\": \"histogram\"}], \"histogram2d\": [{\"colorbar\": {\"outlinewidth\": 0, \"ticks\": \"\"}, \"colorscale\": [[0.0, \"#0d0887\"], [0.1111111111111111, \"#46039f\"], [0.2222222222222222, \"#7201a8\"], [0.3333333333333333, \"#9c179e\"], [0.4444444444444444, \"#bd3786\"], [0.5555555555555556, \"#d8576b\"], [0.6666666666666666, \"#ed7953\"], [0.7777777777777778, \"#fb9f3a\"], [0.8888888888888888, \"#fdca26\"], [1.0, \"#f0f921\"]], \"type\": \"histogram2d\"}], \"histogram2dcontour\": [{\"colorbar\": {\"outlinewidth\": 0, \"ticks\": \"\"}, \"colorscale\": [[0.0, \"#0d0887\"], [0.1111111111111111, \"#46039f\"], [0.2222222222222222, \"#7201a8\"], [0.3333333333333333, \"#9c179e\"], [0.4444444444444444, \"#bd3786\"], [0.5555555555555556, \"#d8576b\"], [0.6666666666666666, \"#ed7953\"], [0.7777777777777778, \"#fb9f3a\"], [0.8888888888888888, \"#fdca26\"], [1.0, \"#f0f921\"]], \"type\": \"histogram2dcontour\"}], \"mesh3d\": [{\"colorbar\": {\"outlinewidth\": 0, \"ticks\": \"\"}, \"type\": \"mesh3d\"}], \"parcoords\": [{\"line\": {\"colorbar\": {\"outlinewidth\": 0, \"ticks\": \"\"}}, \"type\": \"parcoords\"}], \"pie\": [{\"automargin\": true, \"type\": \"pie\"}], \"scatter\": [{\"marker\": {\"colorbar\": {\"outlinewidth\": 0, \"ticks\": \"\"}}, \"type\": \"scatter\"}], \"scatter3d\": [{\"line\": {\"colorbar\": {\"outlinewidth\": 0, \"ticks\": \"\"}}, \"marker\": {\"colorbar\": {\"outlinewidth\": 0, \"ticks\": \"\"}}, \"type\": \"scatter3d\"}], \"scattercarpet\": [{\"marker\": {\"colorbar\": {\"outlinewidth\": 0, \"ticks\": \"\"}}, \"type\": \"scattercarpet\"}], \"scattergeo\": [{\"marker\": {\"colorbar\": {\"outlinewidth\": 0, \"ticks\": \"\"}}, \"type\": \"scattergeo\"}], \"scattergl\": [{\"marker\": {\"colorbar\": {\"outlinewidth\": 0, \"ticks\": \"\"}}, \"type\": \"scattergl\"}], \"scattermapbox\": [{\"marker\": {\"colorbar\": {\"outlinewidth\": 0, \"ticks\": \"\"}}, \"type\": \"scattermapbox\"}], \"scatterpolar\": [{\"marker\": {\"colorbar\": {\"outlinewidth\": 0, \"ticks\": \"\"}}, \"type\": \"scatterpolar\"}], \"scatterpolargl\": [{\"marker\": {\"colorbar\": {\"outlinewidth\": 0, \"ticks\": \"\"}}, \"type\": \"scatterpolargl\"}], \"scatterternary\": [{\"marker\": {\"colorbar\": {\"outlinewidth\": 0, \"ticks\": \"\"}}, \"type\": \"scatterternary\"}], \"surface\": [{\"colorbar\": {\"outlinewidth\": 0, \"ticks\": \"\"}, \"colorscale\": [[0.0, \"#0d0887\"], [0.1111111111111111, \"#46039f\"], [0.2222222222222222, \"#7201a8\"], [0.3333333333333333, \"#9c179e\"], [0.4444444444444444, \"#bd3786\"], [0.5555555555555556, \"#d8576b\"], [0.6666666666666666, \"#ed7953\"], [0.7777777777777778, \"#fb9f3a\"], [0.8888888888888888, \"#fdca26\"], [1.0, \"#f0f921\"]], \"type\": \"surface\"}], \"table\": [{\"cells\": {\"fill\": {\"color\": \"#EBF0F8\"}, \"line\": {\"color\": \"white\"}}, \"header\": {\"fill\": {\"color\": \"#C8D4E3\"}, \"line\": {\"color\": \"white\"}}, \"type\": \"table\"}]}, \"layout\": {\"annotationdefaults\": {\"arrowcolor\": \"#2a3f5f\", \"arrowhead\": 0, \"arrowwidth\": 1}, \"autotypenumbers\": \"strict\", \"coloraxis\": {\"colorbar\": {\"outlinewidth\": 0, \"ticks\": \"\"}}, \"colorscale\": {\"diverging\": [[0, \"#8e0152\"], [0.1, \"#c51b7d\"], [0.2, \"#de77ae\"], [0.3, \"#f1b6da\"], [0.4, \"#fde0ef\"], [0.5, \"#f7f7f7\"], [0.6, \"#e6f5d0\"], [0.7, \"#b8e186\"], [0.8, \"#7fbc41\"], [0.9, \"#4d9221\"], [1, \"#276419\"]], \"sequential\": [[0.0, \"#0d0887\"], [0.1111111111111111, \"#46039f\"], [0.2222222222222222, \"#7201a8\"], [0.3333333333333333, \"#9c179e\"], [0.4444444444444444, \"#bd3786\"], [0.5555555555555556, \"#d8576b\"], [0.6666666666666666, \"#ed7953\"], [0.7777777777777778, \"#fb9f3a\"], [0.8888888888888888, \"#fdca26\"], [1.0, \"#f0f921\"]], \"sequentialminus\": [[0.0, \"#0d0887\"], [0.1111111111111111, \"#46039f\"], [0.2222222222222222, \"#7201a8\"], [0.3333333333333333, \"#9c179e\"], [0.4444444444444444, \"#bd3786\"], [0.5555555555555556, \"#d8576b\"], [0.6666666666666666, \"#ed7953\"], [0.7777777777777778, \"#fb9f3a\"], [0.8888888888888888, \"#fdca26\"], [1.0, \"#f0f921\"]]}, \"colorway\": [\"#636efa\", \"#EF553B\", \"#00cc96\", \"#ab63fa\", \"#FFA15A\", \"#19d3f3\", \"#FF6692\", \"#B6E880\", \"#FF97FF\", \"#FECB52\"], \"font\": {\"color\": \"#2a3f5f\"}, \"geo\": {\"bgcolor\": \"white\", \"lakecolor\": \"white\", \"landcolor\": \"#E5ECF6\", \"showlakes\": true, \"showland\": true, \"subunitcolor\": \"white\"}, \"hoverlabel\": {\"align\": \"left\"}, \"hovermode\": \"closest\", \"mapbox\": {\"style\": \"light\"}, \"paper_bgcolor\": \"white\", \"plot_bgcolor\": \"#E5ECF6\", \"polar\": {\"angularaxis\": {\"gridcolor\": \"white\", \"linecolor\": \"white\", \"ticks\": \"\"}, \"bgcolor\": \"#E5ECF6\", \"radialaxis\": {\"gridcolor\": \"white\", \"linecolor\": \"white\", \"ticks\": \"\"}}, \"scene\": {\"xaxis\": {\"backgroundcolor\": \"#E5ECF6\", \"gridcolor\": \"white\", \"gridwidth\": 2, \"linecolor\": \"white\", \"showbackground\": true, \"ticks\": \"\", \"zerolinecolor\": \"white\"}, \"yaxis\": {\"backgroundcolor\": \"#E5ECF6\", \"gridcolor\": \"white\", \"gridwidth\": 2, \"linecolor\": \"white\", \"showbackground\": true, \"ticks\": \"\", \"zerolinecolor\": \"white\"}, \"zaxis\": {\"backgroundcolor\": \"#E5ECF6\", \"gridcolor\": \"white\", \"gridwidth\": 2, \"linecolor\": \"white\", \"showbackground\": true, \"ticks\": \"\", \"zerolinecolor\": \"white\"}}, \"shapedefaults\": {\"line\": {\"color\": \"#2a3f5f\"}}, \"ternary\": {\"aaxis\": {\"gridcolor\": \"white\", \"linecolor\": \"white\", \"ticks\": \"\"}, \"baxis\": {\"gridcolor\": \"white\", \"linecolor\": \"white\", \"ticks\": \"\"}, \"bgcolor\": \"#E5ECF6\", \"caxis\": {\"gridcolor\": \"white\", \"linecolor\": \"white\", \"ticks\": \"\"}}, \"title\": {\"x\": 0.05}, \"xaxis\": {\"automargin\": true, \"gridcolor\": \"white\", \"linecolor\": \"white\", \"ticks\": \"\", \"title\": {\"standoff\": 15}, \"zerolinecolor\": \"white\", \"zerolinewidth\": 2}, \"yaxis\": {\"automargin\": true, \"gridcolor\": \"white\", \"linecolor\": \"white\", \"ticks\": \"\", \"title\": {\"standoff\": 15}, \"zerolinecolor\": \"white\", \"zerolinewidth\": 2}}}, \"width\": 1000, \"xaxis\": {\"anchor\": \"y\", \"domain\": [0.0, 1.0], \"title\": {\"text\": \"profit_rub\"}}, \"yaxis\": {\"anchor\": \"x\", \"domain\": [0.0, 1.0], \"title\": {\"text\": \"sector\"}}},                        {\"responsive\": true}                    ).then(function(){\n",
       "                            \n",
       "var gd = document.getElementById('f7a70fa0-d6ac-4e9d-81bb-840402be61f6');\n",
       "var x = new MutationObserver(function (mutations, observer) {{\n",
       "        var display = window.getComputedStyle(gd).display;\n",
       "        if (!display || display === 'none') {{\n",
       "            console.log([gd, 'removed!']);\n",
       "            Plotly.purge(gd);\n",
       "            observer.disconnect();\n",
       "        }}\n",
       "}});\n",
       "\n",
       "// Listen for the removal of the full notebook cells\n",
       "var notebookContainer = gd.closest('#notebook-container');\n",
       "if (notebookContainer) {{\n",
       "    x.observe(notebookContainer, {childList: true});\n",
       "}}\n",
       "\n",
       "// Listen for the clearing of the current output cell\n",
       "var outputEl = gd.closest('.output');\n",
       "if (outputEl) {{\n",
       "    x.observe(outputEl, {childList: true});\n",
       "}}\n",
       "\n",
       "                        })                };                });            </script>        </div>"
      ]
     },
     "metadata": {},
     "output_type": "display_data"
    }
   ],
   "source": [
    "df_closed_shares_gr_sector = df_closed_shares_gr.groupby('sector', as_index=False).agg({'profit_rub': 'sum'})\n",
    "df_closed_shares_gr_sector.sort_values('profit_rub',\n",
    "                      inplace=True)\n",
    "fig = px.bar(df_closed_shares_gr_sector,\n",
    "             y=df_closed_shares_gr_sector['sector'], \n",
    "             x=df_closed_shares_gr_sector['profit_rub'], labels={'x':'profit_rub', 'y':'sector'},\n",
    "             color='profit_rub')\n",
    "fig.update_layout(height=800,\n",
    "                  width=1000)\n",
    "fig.show()"
   ]
  },
  {
   "cell_type": "code",
   "execution_count": 125,
   "metadata": {},
   "outputs": [
    {
     "data": {
      "text/html": [
       "<div>\n",
       "<style scoped>\n",
       "    .dataframe tbody tr th:only-of-type {\n",
       "        vertical-align: middle;\n",
       "    }\n",
       "\n",
       "    .dataframe tbody tr th {\n",
       "        vertical-align: top;\n",
       "    }\n",
       "\n",
       "    .dataframe thead tr th {\n",
       "        text-align: left;\n",
       "    }\n",
       "</style>\n",
       "<table border=\"1\" class=\"dataframe\">\n",
       "  <thead>\n",
       "    <tr>\n",
       "      <th></th>\n",
       "      <th>figi</th>\n",
       "      <th colspan=\"2\" halign=\"left\">dividend_net</th>\n",
       "      <th colspan=\"2\" halign=\"left\">percent_dividend</th>\n",
       "    </tr>\n",
       "    <tr>\n",
       "      <th></th>\n",
       "      <th></th>\n",
       "      <th>sum</th>\n",
       "      <th>mean</th>\n",
       "      <th>max</th>\n",
       "      <th>mean</th>\n",
       "    </tr>\n",
       "  </thead>\n",
       "  <tbody>\n",
       "    <tr>\n",
       "      <th>0</th>\n",
       "      <td>BBG000B9XRY4</td>\n",
       "      <td>0.6600</td>\n",
       "      <td>0.2200</td>\n",
       "      <td>0.126801</td>\n",
       "      <td>0.126801</td>\n",
       "    </tr>\n",
       "    <tr>\n",
       "      <th>1</th>\n",
       "      <td>BBG000BN56Q9</td>\n",
       "      <td>121.4000</td>\n",
       "      <td>60.7000</td>\n",
       "      <td>4.064551</td>\n",
       "      <td>4.064551</td>\n",
       "    </tr>\n",
       "    <tr>\n",
       "      <th>2</th>\n",
       "      <td>BBG000BQPC32</td>\n",
       "      <td>0.1000</td>\n",
       "      <td>0.1000</td>\n",
       "      <td>0.566893</td>\n",
       "      <td>0.566893</td>\n",
       "    </tr>\n",
       "    <tr>\n",
       "      <th>3</th>\n",
       "      <td>BBG000BWVCP8</td>\n",
       "      <td>0.4100</td>\n",
       "      <td>0.4100</td>\n",
       "      <td>1.598441</td>\n",
       "      <td>1.598441</td>\n",
       "    </tr>\n",
       "    <tr>\n",
       "      <th>4</th>\n",
       "      <td>BBG000C0G1D1</td>\n",
       "      <td>1.0425</td>\n",
       "      <td>0.3475</td>\n",
       "      <td>0.704225</td>\n",
       "      <td>0.668921</td>\n",
       "    </tr>\n",
       "    <tr>\n",
       "      <th>5</th>\n",
       "      <td>BBG0047315Y7</td>\n",
       "      <td>374.0000</td>\n",
       "      <td>187.0000</td>\n",
       "      <td>6.582189</td>\n",
       "      <td>6.582189</td>\n",
       "    </tr>\n",
       "    <tr>\n",
       "      <th>6</th>\n",
       "      <td>BBG00475K6C3</td>\n",
       "      <td>597.1400</td>\n",
       "      <td>74.6425</td>\n",
       "      <td>5.654778</td>\n",
       "      <td>4.512082</td>\n",
       "    </tr>\n",
       "  </tbody>\n",
       "</table>\n",
       "</div>"
      ],
      "text/plain": [
       "           figi dividend_net           percent_dividend          \n",
       "                         sum      mean              max      mean\n",
       "0  BBG000B9XRY4       0.6600    0.2200         0.126801  0.126801\n",
       "1  BBG000BN56Q9     121.4000   60.7000         4.064551  4.064551\n",
       "2  BBG000BQPC32       0.1000    0.1000         0.566893  0.566893\n",
       "3  BBG000BWVCP8       0.4100    0.4100         1.598441  1.598441\n",
       "4  BBG000C0G1D1       1.0425    0.3475         0.704225  0.668921\n",
       "5  BBG0047315Y7     374.0000  187.0000         6.582189  6.582189\n",
       "6  BBG00475K6C3     597.1400   74.6425         5.654778  4.512082"
      ]
     },
     "execution_count": 125,
     "metadata": {},
     "output_type": "execute_result"
    }
   ],
   "source": [
    "df_closed_shares_dividend = df_closed_shares.merge(df_dividend,\n",
    "                                                       how='left',\n",
    "                                                       on='figi')\n",
    "\n",
    "df_closed_shares_dividend = df_closed_shares_dividend[(df_closed_shares_dividend['last_day_buy'] > \\\n",
    "                                                                   df_closed_shares_dividend['date_buy']) &\n",
    "                                                      (df_closed_shares_dividend['last_day_buy'] < \\\n",
    "                                                                   df_closed_shares_dividend['date_sold'])]\n",
    "df_closed_shares_dividend['percent_dividend'] = df_closed_shares_dividend['dividend_net'] / df_closed_shares_dividend['price_buy'] * 100\n",
    "df_stats_div = df_closed_shares_dividend.iloc[:,[1,8,9]].groupby('figi', as_index=False)\\\n",
    "                                                    .agg({'dividend_net': ['sum', 'mean'],\n",
    "                                                          'percent_dividend': ['max', 'mean']})\n",
    "df_stats_div = df_stats_div.merge()"
   ]
  },
  {
   "cell_type": "code",
   "execution_count": 18,
   "metadata": {},
   "outputs": [
    {
     "data": {
      "text/html": [
       "<div>\n",
       "<style scoped>\n",
       "    .dataframe tbody tr th:only-of-type {\n",
       "        vertical-align: middle;\n",
       "    }\n",
       "\n",
       "    .dataframe tbody tr th {\n",
       "        vertical-align: top;\n",
       "    }\n",
       "\n",
       "    .dataframe thead th {\n",
       "        text-align: right;\n",
       "    }\n",
       "</style>\n",
       "<table border=\"1\" class=\"dataframe\">\n",
       "  <thead>\n",
       "    <tr style=\"text-align: right;\">\n",
       "      <th></th>\n",
       "      <th>name</th>\n",
       "      <th>figi</th>\n",
       "      <th>ticker</th>\n",
       "      <th>lot</th>\n",
       "      <th>currency</th>\n",
       "      <th>country</th>\n",
       "      <th>sector</th>\n",
       "      <th>nominal</th>\n",
       "    </tr>\n",
       "  </thead>\n",
       "  <tbody>\n",
       "    <tr>\n",
       "      <th>0</th>\n",
       "      <td>Турецкая лира</td>\n",
       "      <td>BBG0013J12N1</td>\n",
       "      <td>TRYRUB_TOM</td>\n",
       "      <td>1000</td>\n",
       "      <td>rub</td>\n",
       "      <td></td>\n",
       "      <td>None</td>\n",
       "      <td>1</td>\n",
       "    </tr>\n",
       "    <tr>\n",
       "      <th>1</th>\n",
       "      <td>Золото</td>\n",
       "      <td>BBG000VJ5YR4</td>\n",
       "      <td>GLDRUB_TOM</td>\n",
       "      <td>1</td>\n",
       "      <td>rub</td>\n",
       "      <td>Российская Федерация</td>\n",
       "      <td>None</td>\n",
       "      <td>1</td>\n",
       "    </tr>\n",
       "    <tr>\n",
       "      <th>2</th>\n",
       "      <td>Серебро</td>\n",
       "      <td>BBG000VHQTD1</td>\n",
       "      <td>SLVRUB_TOM</td>\n",
       "      <td>100</td>\n",
       "      <td>rub</td>\n",
       "      <td></td>\n",
       "      <td>None</td>\n",
       "      <td>1</td>\n",
       "    </tr>\n",
       "    <tr>\n",
       "      <th>3</th>\n",
       "      <td>Евро</td>\n",
       "      <td>BBG0013HJJ31</td>\n",
       "      <td>EUR_RUB__TOM</td>\n",
       "      <td>1000</td>\n",
       "      <td>rub</td>\n",
       "      <td></td>\n",
       "      <td>None</td>\n",
       "      <td>1</td>\n",
       "    </tr>\n",
       "    <tr>\n",
       "      <th>4</th>\n",
       "      <td>Тенге</td>\n",
       "      <td>BBG0013HG026</td>\n",
       "      <td>KZTRUB_TOM</td>\n",
       "      <td>10000</td>\n",
       "      <td>rub</td>\n",
       "      <td></td>\n",
       "      <td>None</td>\n",
       "      <td>100</td>\n",
       "    </tr>\n",
       "    <tr>\n",
       "      <th>5</th>\n",
       "      <td>Белорусский рубль</td>\n",
       "      <td>BBG00D87WQY7</td>\n",
       "      <td>BYNRUB_TOM</td>\n",
       "      <td>1000</td>\n",
       "      <td>rub</td>\n",
       "      <td></td>\n",
       "      <td>None</td>\n",
       "      <td>1</td>\n",
       "    </tr>\n",
       "    <tr>\n",
       "      <th>6</th>\n",
       "      <td>Гонконгский доллар</td>\n",
       "      <td>BBG0013HSW87</td>\n",
       "      <td>HKDRUB_TOM</td>\n",
       "      <td>1000</td>\n",
       "      <td>rub</td>\n",
       "      <td></td>\n",
       "      <td>None</td>\n",
       "      <td>1</td>\n",
       "    </tr>\n",
       "    <tr>\n",
       "      <th>7</th>\n",
       "      <td>Юань</td>\n",
       "      <td>BBG0013HRTL0</td>\n",
       "      <td>CNYRUB_TOM</td>\n",
       "      <td>1000</td>\n",
       "      <td>rub</td>\n",
       "      <td></td>\n",
       "      <td>None</td>\n",
       "      <td>1</td>\n",
       "    </tr>\n",
       "    <tr>\n",
       "      <th>8</th>\n",
       "      <td>Доллар США</td>\n",
       "      <td>BBG0013HGFT4</td>\n",
       "      <td>USD000UTSTOM</td>\n",
       "      <td>1000</td>\n",
       "      <td>rub</td>\n",
       "      <td></td>\n",
       "      <td>None</td>\n",
       "      <td>1</td>\n",
       "    </tr>\n",
       "    <tr>\n",
       "      <th>9</th>\n",
       "      <td>Иена</td>\n",
       "      <td>BBG0013HQ524</td>\n",
       "      <td>JPYRUB_TOM</td>\n",
       "      <td>100000</td>\n",
       "      <td>rub</td>\n",
       "      <td></td>\n",
       "      <td>None</td>\n",
       "      <td>100</td>\n",
       "    </tr>\n",
       "    <tr>\n",
       "      <th>10</th>\n",
       "      <td>Швейцарский франк</td>\n",
       "      <td>BBG0013HQ5K4</td>\n",
       "      <td>CHFRUB_TOM</td>\n",
       "      <td>1000</td>\n",
       "      <td>rub</td>\n",
       "      <td></td>\n",
       "      <td>None</td>\n",
       "      <td>1</td>\n",
       "    </tr>\n",
       "    <tr>\n",
       "      <th>11</th>\n",
       "      <td>Фунт стерлингов</td>\n",
       "      <td>BBG0013HQ5F0</td>\n",
       "      <td>GBPRUB_TOM</td>\n",
       "      <td>1000</td>\n",
       "      <td>rub</td>\n",
       "      <td></td>\n",
       "      <td>None</td>\n",
       "      <td>1</td>\n",
       "    </tr>\n",
       "  </tbody>\n",
       "</table>\n",
       "</div>"
      ],
      "text/plain": [
       "                  name          figi        ticker     lot currency  \\\n",
       "0        Турецкая лира  BBG0013J12N1    TRYRUB_TOM    1000      rub   \n",
       "1               Золото  BBG000VJ5YR4    GLDRUB_TOM       1      rub   \n",
       "2              Серебро  BBG000VHQTD1    SLVRUB_TOM     100      rub   \n",
       "3                 Евро  BBG0013HJJ31  EUR_RUB__TOM    1000      rub   \n",
       "4                Тенге  BBG0013HG026    KZTRUB_TOM   10000      rub   \n",
       "5    Белорусский рубль  BBG00D87WQY7    BYNRUB_TOM    1000      rub   \n",
       "6   Гонконгский доллар  BBG0013HSW87    HKDRUB_TOM    1000      rub   \n",
       "7                 Юань  BBG0013HRTL0    CNYRUB_TOM    1000      rub   \n",
       "8           Доллар США  BBG0013HGFT4  USD000UTSTOM    1000      rub   \n",
       "9                 Иена  BBG0013HQ524    JPYRUB_TOM  100000      rub   \n",
       "10   Швейцарский франк  BBG0013HQ5K4    CHFRUB_TOM    1000      rub   \n",
       "11     Фунт стерлингов  BBG0013HQ5F0    GBPRUB_TOM    1000      rub   \n",
       "\n",
       "                 country sector nominal  \n",
       "0                          None       1  \n",
       "1   Российская Федерация   None       1  \n",
       "2                          None       1  \n",
       "3                          None       1  \n",
       "4                          None     100  \n",
       "5                          None       1  \n",
       "6                          None       1  \n",
       "7                          None       1  \n",
       "8                          None       1  \n",
       "9                          None     100  \n",
       "10                         None       1  \n",
       "11                         None       1  "
      ]
     },
     "execution_count": 18,
     "metadata": {},
     "output_type": "execute_result"
    }
   ],
   "source": [
    "df_all_info[df_all_info['sector'].isna()]"
   ]
  },
  {
   "cell_type": "code",
   "execution_count": 21,
   "metadata": {},
   "outputs": [
    {
     "data": {
      "text/html": [
       "<div>\n",
       "<style scoped>\n",
       "    .dataframe tbody tr th:only-of-type {\n",
       "        vertical-align: middle;\n",
       "    }\n",
       "\n",
       "    .dataframe tbody tr th {\n",
       "        vertical-align: top;\n",
       "    }\n",
       "\n",
       "    .dataframe thead th {\n",
       "        text-align: right;\n",
       "    }\n",
       "</style>\n",
       "<table border=\"1\" class=\"dataframe\">\n",
       "  <thead>\n",
       "    <tr style=\"text-align: right;\">\n",
       "      <th></th>\n",
       "      <th>date_buy</th>\n",
       "      <th>figi</th>\n",
       "      <th>price_buy</th>\n",
       "      <th>c</th>\n",
       "      <th>date_sold</th>\n",
       "      <th>price_sold</th>\n",
       "    </tr>\n",
       "  </thead>\n",
       "  <tbody>\n",
       "  </tbody>\n",
       "</table>\n",
       "</div>"
      ],
      "text/plain": [
       "Empty DataFrame\n",
       "Columns: [date_buy, figi, price_buy, c, date_sold, price_sold]\n",
       "Index: []"
      ]
     },
     "execution_count": 21,
     "metadata": {},
     "output_type": "execute_result"
    }
   ],
   "source": [
    "df_buy_sold[df_buy_sold['figi'] == 'BBG0013HQ5K4']\n"
   ]
  },
  {
   "cell_type": "code",
   "execution_count": 211,
   "metadata": {},
   "outputs": [],
   "source": [
    "df_closed = df_buy_sold[~df_buy_sold['price_sold'].isna()]\n",
    "df_closed = df_closed.groupby(['figi'], as_index=False).agg({'price_buy': 'sum',\n",
    "                                                             'price_sold': 'sum'})\n",
    "df_closed = df_closed.merge(df_all_info[['figi', 'name', 'ticker', 'country', 'sector', 'currency']],\n",
    "                            how='left',\n",
    "                            on='figi')\n",
    "df_closed['profit'] = df_closed['price_sold'] - df_closed['price_buy']\n",
    "df_closed['profit_perc'] = (df_closed['price_sold'] / df_closed['price_buy'] - 1) * 100"
   ]
  },
  {
   "cell_type": "code",
   "execution_count": 208,
   "metadata": {},
   "outputs": [
    {
     "data": {
      "text/plain": [
       "<matplotlib.axes._subplots.AxesSubplot at 0x182661662b0>"
      ]
     },
     "execution_count": 208,
     "metadata": {},
     "output_type": "execute_result"
    },
    {
     "data": {
      "image/png": "[encoded data removed]",
      "text/plain": [
       "<Figure size 720x936 with 1 Axes>"
      ]
     },
     "metadata": {
      "needs_background": "light"
     },
     "output_type": "display_data"
    }
   ],
   "source": [
    "top = 10\n",
    "for_graph_percent = df_closed[df_closed['profit_perc'] > 0].sort_values('profit_perc', ascending=False).head(top)\\\n",
    "                .append(df_closed[df_closed['profit_perc'] < 0].sort_values('profit_perc').head(top)).reset_index(drop=True)\n",
    "for_graph_percent.sort_values('profit_perc', \n",
    "                      ascending=False, \n",
    "                      inplace=True)\n",
    "\n",
    "plt.figure(figsize=(10, 13))\n",
    "sns.barplot(y=for_graph_percent['name'], x=for_graph_percent['profit_perc'], palette=\"YlOrRd\")"
   ]
  },
  {
   "cell_type": "code",
   "execution_count": 209,
   "metadata": {},
   "outputs": [
    {
     "data": {
      "text/plain": [
       "<matplotlib.axes._subplots.AxesSubplot at 0x182661f4400>"
      ]
     },
     "execution_count": 209,
     "metadata": {},
     "output_type": "execute_result"
    },
    {
     "data": {
      "image/png": "[encoded data removed]",
      "text/plain": [
       "<Figure size 720x936 with 1 Axes>"
      ]
     },
     "metadata": {
      "needs_background": "light"
     },
     "output_type": "display_data"
    }
   ],
   "source": [
    "top = 10\n",
    "for_graph_profit = df_closed[df_closed['profit'] > 0].sort_values('profit', ascending=False).head(top)\\\n",
    "                .append(df_closed[df_closed['profit'] < 0].sort_values('profit').head(top)).reset_index(drop=True)\n",
    "for_graph_profit.sort_values('profit', \n",
    "                      ascending=False, \n",
    "                      inplace=True)\n",
    "\n",
    "plt.figure(figsize=(10, 13))\n",
    "sns.barplot(y=for_graph_profit['name'], x=for_graph_profit['profit'], palette=\"YlOrRd\")"
   ]
  },
  {
   "cell_type": "code",
   "execution_count": 21,
   "metadata": {},
   "outputs": [
    {
     "data": {
      "text/plain": [
       "['Удержание комиссии за операцию',\n",
       " 'Покупка ценных бумаг',\n",
       " 'Продажа ценных бумаг',\n",
       " 'Удержание комиссии за обслуживание брокерского счёта',\n",
       " 'Выплата дивидендов',\n",
       " 'Удержание налога по дивидендам',\n",
       " 'Выплата купонов',\n",
       " 'Удержание НДФЛ по купонам',\n",
       " 'Списание вариационной маржи',\n",
       " 'Вывод денежных средств',\n",
       " 'Удержание налога',\n",
       " 'Пополнение брокерского счёта',\n",
       " 'Корректировка налога']"
      ]
     },
     "execution_count": 21,
     "metadata": {},
     "output_type": "execute_result"
    }
   ],
   "source": [
    "un_type = []\n",
    "\n",
    "\n",
    "with Client(token) as client:\n",
    "    r = client.operations.get_operations(account_id=account_id,\n",
    "                                         from_=start_date,\n",
    "                                         to=datetime.datetime.now()\n",
    "                                        )\n",
    "    for operation in r.operations:\n",
    "        if operation.type not in un_type:\n",
    "            un_type.append(operation.type)\n",
    "un_type "
   ]
  },
  {
   "cell_type": "code",
   "execution_count": 29,
   "metadata": {},
   "outputs": [
    {
     "name": "stdout",
     "output_type": "stream",
     "text": [
      "Удержание комиссии за операцию\n",
      "Удержание комиссии за операцию | currency | BBG0013HGFT4 | 23566923715 | 2022-06-03 12:53:26+00:00 | MoneyValue(currency='rub', units=-1, nano=-240000000) | MoneyValue(currency='rub', units=0, nano=0) | OperationState.OPERATION_STATE_EXECUTED | 0 | Удержание комиссии за операцию\n",
      "Покупка ценных бумаг | currency | BBG0013HGFT4 |  | 2022-06-03 12:53:25+00:00 | MoneyValue(currency='rub', units=-309, nano=-210000000) | MoneyValue(currency='rub', units=61, nano=842000000) | OperationState.OPERATION_STATE_EXECUTED | 5 | Покупка ценных бумаг\n",
      "Удержание комиссии за операцию\n",
      "Удержание комиссии за операцию | bond | BBG011PCH913 | 31516318286 | 2022-06-03 12:53:01.058152+00:00 | MoneyValue(currency='rub', units=0, nano=-760000000) | MoneyValue(currency='rub', units=0, nano=0) | OperationState.OPERATION_STATE_EXECUTED | 0 | Удержание комиссии за операцию\n",
      "Продажа ценных бумаг | bond | BBG011PCH913 |  | 2022-06-03 12:53:00.058152+00:00 | MoneyValue(currency='rub', units=1920, nano=860000000) | MoneyValue(currency='rub', units=945, nano=600000000) | OperationState.OPERATION_STATE_EXECUTED | 2 | Продажа ценных бумаг\n",
      "Удержание комиссии за обслуживание брокерского счёта |  |  |  | 2022-06-03 12:53:00+00:00 | MoneyValue(currency='rub', units=-290, nano=0) | MoneyValue(currency='rub', units=0, nano=0) | OperationState.OPERATION_STATE_EXECUTED | 0 | Удержание комиссии за обслуживание брокерского счёта\n",
      "Выплата дивидендов | share | BBG00475KKY8 |  | 2022-05-25 09:00:19+00:00 | MoneyValue(currency='rub', units=218, nano=850000000) | MoneyValue(currency='rub', units=0, nano=0) | OperationState.OPERATION_STATE_EXECUTED | 0 | Выплата дивидендов\n",
      "Удержание налога по дивидендам | share | BBG00475KKY8 |  | 2022-05-25 09:00:19+00:00 | MoneyValue(currency='rub', units=-29, nano=0) | MoneyValue(currency='rub', units=0, nano=0) | OperationState.OPERATION_STATE_EXECUTED | 0 | Удержание налога по дивидендам\n",
      "Удержание комиссии за операцию\n",
      "Удержание комиссии за операцию | currency | BBG0013HGFT4 | 23442109944 | 2022-05-25 08:05:23+00:00 | MoneyValue(currency='rub', units=-3, nano=-360000000) | MoneyValue(currency='rub', units=0, nano=0) | OperationState.OPERATION_STATE_EXECUTED | 0 | Удержание комиссии за операцию\n",
      "Покупка ценных бумаг | currency | BBG0013HGFT4 |  | 2022-05-25 08:05:22+00:00 | MoneyValue(currency='rub', units=-840, nano=-340000000) | MoneyValue(currency='rub', units=56, nano=22667000) | OperationState.OPERATION_STATE_EXECUTED | 15 | Покупка ценных бумаг\n",
      "Удержание комиссии за операцию\n",
      "Удержание комиссии за операцию | share | BBG00BTK1DT8 | 416111773190 | 2022-05-24 17:52:49.876000+00:00 | MoneyValue(currency='usd', units=0, nano=-40000000) | MoneyValue(currency='usd', units=0, nano=0) | OperationState.OPERATION_STATE_EXECUTED | 0 | Удержание комиссии за операцию\n",
      "Продажа ценных бумаг | share | BBG00BTK1DT8 |  | 2022-05-24 17:52:48.876000+00:00 | MoneyValue(currency='usd', units=11, nano=320000000) | MoneyValue(currency='usd', units=2, nano=830000000) | OperationState.OPERATION_STATE_EXECUTED | 4 | Продажа ценных бумаг\n",
      "Удержание комиссии за операцию\n",
      "Удержание комиссии за операцию | share | BBG009HSTZ10 | 416110985810 | 2022-05-24 17:52:30.785000+00:00 | MoneyValue(currency='usd', units=0, nano=-120000000) | MoneyValue(currency='usd', units=0, nano=0) | OperationState.OPERATION_STATE_EXECUTED | 0 | Удержание комиссии за операцию\n",
      "Продажа ценных бумаг | share | BBG009HSTZ10 |  | 2022-05-24 17:52:29.785000+00:00 | MoneyValue(currency='usd', units=12, nano=600000000) | MoneyValue(currency='usd', units=1, nano=50000000) | OperationState.OPERATION_STATE_EXECUTED | 12 | Продажа ценных бумаг\n",
      "Выплата купонов | bond | TCS00A102DK3 |  | 2022-05-24 16:42:37+00:00 | MoneyValue(currency='rub', units=972, nano=400000000) | MoneyValue(currency='rub', units=0, nano=0) | OperationState.OPERATION_STATE_EXECUTED | 0 | Выплата купонов\n",
      "Удержание НДФЛ по купонам | bond | TCS00A102DK3 |  | 2022-05-24 16:42:37+00:00 | MoneyValue(currency='rub', units=-126, nano=0) | MoneyValue(currency='rub', units=0, nano=0) | OperationState.OPERATION_STATE_EXECUTED | 0 | Удержание НДФЛ по купонам\n",
      "Удержание комиссии за операцию\n",
      "Удержание комиссии за операцию | share | BBG002B04MT8 | 410445188780 | 2022-05-16 14:24:57.938000+00:00 | MoneyValue(currency='usd', units=0, nano=-30000000) | MoneyValue(currency='usd', units=0, nano=0) | OperationState.OPERATION_STATE_EXECUTED | 0 | Удержание комиссии за операцию\n",
      "Покупка ценных бумаг | share | BBG002B04MT8 |  | 2022-05-16 14:24:56.938000+00:00 | MoneyValue(currency='usd', units=-72, nano=-780000000) | MoneyValue(currency='usd', units=24, nano=260000000) | OperationState.OPERATION_STATE_EXECUTED | 3 | Покупка ценных бумаг\n",
      "Удержание комиссии за операцию\n",
      "Удержание комиссии за операцию | currency | BBG0013HGFT4 | 23345352064 | 2022-05-16 14:19:39+00:00 | MoneyValue(currency='rub', units=-12, nano=-50000000) | MoneyValue(currency='rub', units=0, nano=0) | OperationState.OPERATION_STATE_EXECUTED | 0 | Удержание комиссии за операцию\n",
      "Покупка ценных бумаг | currency | BBG0013HGFT4 |  | 2022-05-16 14:19:38+00:00 | MoneyValue(currency='rub', units=-3012, nano=-700000000) | MoneyValue(currency='rub', units=64, nano=100000000) | OperationState.OPERATION_STATE_EXECUTED | 47 | Покупка ценных бумаг\n",
      "Удержание комиссии за операцию\n",
      "Удержание комиссии за операцию | share | BBG0056JW5G6 | 410423923970 | 2022-05-16 14:17:21.610000+00:00 | MoneyValue(currency='usd', units=0, nano=-50000000) | MoneyValue(currency='usd', units=0, nano=0) | OperationState.OPERATION_STATE_EXECUTED | 0 | Удержание комиссии за операцию\n",
      "Покупка ценных бумаг | share | BBG0056JW5G6 |  | 2022-05-16 14:17:20.610000+00:00 | MoneyValue(currency='usd', units=-118, nano=-170000000) | MoneyValue(currency='usd', units=39, nano=390000000) | OperationState.OPERATION_STATE_EXECUTED | 3 | Покупка ценных бумаг\n",
      "Удержание комиссии за операцию\n",
      "Удержание комиссии за операцию | share | BBG000CL9VN6 | 45595857 | 2022-05-16 14:16:37.278000+00:00 | MoneyValue(currency='usd', units=0, nano=-80000000) | MoneyValue(currency='usd', units=0, nano=0) | OperationState.OPERATION_STATE_EXECUTED | 0 | Удержание комиссии за операцию\n",
      "Покупка ценных бумаг | share | BBG000CL9VN6 |  | 2022-05-16 14:16:36.278000+00:00 | MoneyValue(currency='usd', units=-193, nano=-130000000) | MoneyValue(currency='usd', units=193, nano=130000000) | OperationState.OPERATION_STATE_EXECUTED | 1 | Покупка ценных бумаг\n",
      "Удержание комиссии за операцию\n",
      "Удержание комиссии за операцию | share | BBG008HBD923 | 410415182540 | 2022-05-16 14:14:19.896000+00:00 | MoneyValue(currency='usd', units=0, nano=-150000000) | MoneyValue(currency='usd', units=0, nano=0) | OperationState.OPERATION_STATE_EXECUTED | 0 | Удержание комиссии за операцию\n",
      "Покупка ценных бумаг | share | BBG008HBD923 |  | 2022-05-16 14:14:18.896000+00:00 | MoneyValue(currency='usd', units=-382, nano=-230000000) | MoneyValue(currency='usd', units=382, nano=230000000) | OperationState.OPERATION_STATE_EXECUTED | 1 | Покупка ценных бумаг\n",
      "Удержание комиссии за операцию\n",
      "Удержание комиссии за операцию | share | BBG001MB89V6 | 410379596560 | 2022-05-16 14:01:56.948000+00:00 | MoneyValue(currency='usd', units=0, nano=-40000000) | MoneyValue(currency='usd', units=0, nano=0) | OperationState.OPERATION_STATE_EXECUTED | 0 | Удержание комиссии за операцию\n",
      "Покупка ценных бумаг | share | BBG001MB89V6 |  | 2022-05-16 14:01:55.948000+00:00 | MoneyValue(currency='usd', units=-91, nano=-350000000) | MoneyValue(currency='usd', units=6, nano=90000000) | OperationState.OPERATION_STATE_EXECUTED | 15 | Покупка ценных бумаг\n",
      "Удержание комиссии за операцию\n",
      "Удержание комиссии за операцию | share | BBG0077VNXV6 | 45585296 | 2022-05-16 14:00:45.900000+00:00 | MoneyValue(currency='usd', units=0, nano=-120000000) | MoneyValue(currency='usd', units=0, nano=0) | OperationState.OPERATION_STATE_EXECUTED | 0 | Удержание комиссии за операцию\n",
      "Покупка ценных бумаг | share | BBG0077VNXV6 |  | 2022-05-16 14:00:44.900000+00:00 | MoneyValue(currency='usd', units=-308, nano=-270000000) | MoneyValue(currency='usd', units=77, nano=67500000) | OperationState.OPERATION_STATE_EXECUTED | 4 | Покупка ценных бумаг\n",
      "Удержание комиссии за операцию\n",
      "Удержание комиссии за операцию | share | BBG000BH4R78 | 410296444600 | 2022-05-16 13:36:07.595000+00:00 | MoneyValue(currency='usd', units=0, nano=-90000000) | MoneyValue(currency='usd', units=0, nano=0) | OperationState.OPERATION_STATE_EXECUTED | 0 | Удержание комиссии за операцию\n",
      "Покупка ценных бумаг | share | BBG000BH4R78 |  | 2022-05-16 13:36:06.595000+00:00 | MoneyValue(currency='usd', units=-212, nano=-960000000) | MoneyValue(currency='usd', units=106, nano=480000000) | OperationState.OPERATION_STATE_EXECUTED | 2 | Покупка ценных бумаг\n",
      "Удержание комиссии за операцию\n",
      "Удержание комиссии за операцию | share | BBG000BQPC32 | 409510043170 | 2022-05-12 19:22:51.152000+00:00 | MoneyValue(currency='usd', units=0, nano=-10000000) | MoneyValue(currency='usd', units=0, nano=0) | OperationState.OPERATION_STATE_EXECUTED | 0 | Удержание комиссии за операцию\n",
      "Продажа ценных бумаг | share | BBG000BQPC32 |  | 2022-05-12 19:22:50.152000+00:00 | MoneyValue(currency='usd', units=12, nano=350000000) | MoneyValue(currency='usd', units=12, nano=350000000) | OperationState.OPERATION_STATE_EXECUTED | 1 | Продажа ценных бумаг\n",
      "Удержание комиссии за операцию\n",
      "Удержание комиссии за операцию | share | BBG000BTYP37 | 408575977510 | 2022-05-12 12:16:55.189000+00:00 | MoneyValue(currency='usd', units=0, nano=-150000000) | MoneyValue(currency='usd', units=0, nano=0) | OperationState.OPERATION_STATE_EXECUTED | 0 | Удержание комиссии за операцию\n",
      "Продажа ценных бумаг | share | BBG000BTYP37 |  | 2022-05-12 12:16:54.189000+00:00 | MoneyValue(currency='usd', units=11, nano=700000000) | MoneyValue(currency='usd', units=0, nano=390000000) | OperationState.OPERATION_STATE_EXECUTED | 30 | Продажа ценных бумаг\n",
      "Удержание комиссии за операцию\n",
      "Удержание комиссии за операцию | share | BBG004731032 | 43867805 | 2022-04-29 09:55:12.088000+00:00 | MoneyValue(currency='rub', units=-1, nano=-810000000) | MoneyValue(currency='rub', units=0, nano=0) | OperationState.OPERATION_STATE_EXECUTED | 0 | Удержание комиссии за операцию\n",
      "Покупка ценных бумаг | share | BBG004731032 |  | 2022-04-29 09:55:11.088000+00:00 | MoneyValue(currency='rub', units=-4536, nano=-990000000) | MoneyValue(currency='rub', units=4536, nano=990000000) | OperationState.OPERATION_STATE_EXECUTED | 1 | Покупка ценных бумаг\n",
      "Удержание комиссии за операцию\n",
      "Удержание комиссии за операцию | share | BBG00W0KZD98 | 399351474210 | 2022-04-25 22:02:49.602000+00:00 | MoneyValue(currency='usd', units=0, nano=-20000000) | MoneyValue(currency='usd', units=0, nano=0) | OperationState.OPERATION_STATE_EXECUTED | 0 | Удержание комиссии за операцию\n",
      "Покупка ценных бумаг | share | BBG00W0KZD98 |  | 2022-04-25 22:02:48.602000+00:00 | MoneyValue(currency='usd', units=-44, nano=-840000000) | MoneyValue(currency='usd', units=22, nano=420000000) | OperationState.OPERATION_STATE_EXECUTED | 2 | Покупка ценных бумаг\n",
      "Удержание комиссии за операцию\n",
      "Удержание комиссии за операцию | share | BBG004730N88 | 43068249 | 2022-04-25 14:16:23.531000+00:00 | MoneyValue(currency='rub', units=-1, nano=-810000000) | MoneyValue(currency='rub', units=0, nano=0) | OperationState.OPERATION_STATE_EXECUTED | 0 | Удержание комиссии за операцию\n",
      "Покупка ценных бумаг | share | BBG004730N88 |  | 2022-04-25 14:16:22.531000+00:00 | MoneyValue(currency='rub', units=-4525, nano=-990000000) | MoneyValue(currency='rub', units=113, nano=149750000) | OperationState.OPERATION_STATE_EXECUTED | 40 | Покупка ценных бумаг\n",
      "Удержание комиссии за операцию\n",
      "Удержание комиссии за операцию | share | BBG000R7Z112 | 398823774310 | 2022-04-25 14:07:54.361000+00:00 | MoneyValue(currency='usd', units=0, nano=-30000000) | MoneyValue(currency='usd', units=0, nano=0) | OperationState.OPERATION_STATE_EXECUTED | 0 | Удержание комиссии за операцию\n",
      "Продажа ценных бумаг | share | BBG000R7Z112 |  | 2022-04-25 14:07:53.361000+00:00 | MoneyValue(currency='usd', units=86, nano=0) | MoneyValue(currency='usd', units=43, nano=0) | OperationState.OPERATION_STATE_EXECUTED | 2 | Продажа ценных бумаг\n",
      "Удержание комиссии за операцию\n",
      "Удержание комиссии за операцию | share | BBG004S68B31 | 31145977945 | 2022-04-25 13:37:20.310000+00:00 | MoneyValue(currency='rub', units=-3, nano=-250000000) | MoneyValue(currency='rub', units=0, nano=0) | OperationState.OPERATION_STATE_EXECUTED | 0 | Удержание комиссии за операцию\n",
      "Покупка ценных бумаг | share | BBG004S68B31 |  | 2022-04-25 13:37:19.310000+00:00 | MoneyValue(currency='rub', units=-8118, nano=0) | MoneyValue(currency='rub', units=81, nano=180000000) | OperationState.OPERATION_STATE_EXECUTED | 100 | Покупка ценных бумаг\n",
      "Удержание комиссии за операцию\n",
      "Удержание комиссии за операцию | share | BBG00475KKY8 | 31145947771 | 2022-04-25 13:35:34.227000+00:00 | MoneyValue(currency='rub', units=-1, nano=-940000000) | MoneyValue(currency='rub', units=0, nano=0) | OperationState.OPERATION_STATE_EXECUTED | 0 | Удержание комиссии за операцию\n",
      "Покупка ценных бумаг | share | BBG00475KKY8 |  | 2022-04-25 13:35:33.227000+00:00 | MoneyValue(currency='rub', units=-4850, nano=0) | MoneyValue(currency='rub', units=970, nano=0) | OperationState.OPERATION_STATE_EXECUTED | 5 | Покупка ценных бумаг\n",
      "Удержание комиссии за операцию\n",
      "Удержание комиссии за операцию | currency | BBG0013HJJ31 | 23229673959 | 2022-04-25 13:14:01+00:00 | MoneyValue(currency='rub', units=-1, nano=-550000000) | MoneyValue(currency='rub', units=0, nano=0) | OperationState.OPERATION_STATE_EXECUTED | 0 | Удержание комиссии за операцию\n",
      "Покупка ценных бумаг | currency | BBG0013HJJ31 |  | 2022-04-25 13:14:00+00:00 | MoneyValue(currency='rub', units=-3875, nano=-130000000) | MoneyValue(currency='rub', units=77, nano=502600000) | OperationState.OPERATION_STATE_EXECUTED | 50 | Покупка ценных бумаг\n",
      "Удержание комиссии за операцию\n",
      "Удержание комиссии за операцию | currency | BBG0013HSW87 | 23229668606 | 2022-04-25 13:13:27+00:00 | MoneyValue(currency='rub', units=-2, nano=-340000000) | MoneyValue(currency='rub', units=0, nano=0) | OperationState.OPERATION_STATE_EXECUTED | 0 | Удержание комиссии за операцию\n",
      "Покупка ценных бумаг | currency | BBG0013HSW87 |  | 2022-04-25 13:13:26+00:00 | MoneyValue(currency='rub', units=-5839, nano=-700000000) | MoneyValue(currency='rub', units=11, nano=679400000) | OperationState.OPERATION_STATE_EXECUTED | 500 | Покупка ценных бумаг\n",
      "Удержание комиссии за операцию\n",
      "Удержание комиссии за операцию | bond | TCS00A103935 | 31143507611 | 2022-04-25 11:29:08.751000+00:00 | MoneyValue(currency='rub', units=-1, nano=-690000000) | MoneyValue(currency='rub', units=0, nano=0) | OperationState.OPERATION_STATE_EXECUTED | 0 | Удержание комиссии за операцию\n",
      "Покупка ценных бумаг | bond | TCS00A103935 |  | 2022-04-25 11:29:07.751000+00:00 | MoneyValue(currency='rub', units=-4274, nano=-400000000) | MoneyValue(currency='rub', units=846, nano=0) | OperationState.OPERATION_STATE_EXECUTED | 5 | Покупка ценных бумаг\n",
      "Удержание комиссии за операцию\n",
      "Удержание комиссии за операцию | bond | BBG012F7Y8K5 | 31143464656 | 2022-04-25 11:27:09.035000+00:00 | MoneyValue(currency='rub', units=-1, nano=-850000000) | MoneyValue(currency='rub', units=0, nano=0) | OperationState.OPERATION_STATE_EXECUTED | 0 | Удержание комиссии за операцию\n",
      "Покупка ценных бумаг | bond | BBG012F7Y8K5 |  | 2022-04-25 11:27:08.035000+00:00 | MoneyValue(currency='rub', units=-4689, nano=-750000000) | MoneyValue(currency='rub', units=927, nano=960000000) | OperationState.OPERATION_STATE_EXECUTED | 5 | Покупка ценных бумаг\n",
      "Удержание комиссии за операцию\n",
      "Удержание комиссии за операцию | bond | TCS00A102DK3 | 31124475619 | 2022-04-22 09:01:14.596000+00:00 | MoneyValue(currency='rub', units=-2, nano=-480000000) | MoneyValue(currency='rub', units=0, nano=0) | OperationState.OPERATION_STATE_EXECUTED | 0 | Удержание комиссии за операцию\n",
      "Покупка ценных бумаг | bond | TCS00A102DK3 |  | 2022-04-22 09:01:13.596000+00:00 | MoneyValue(currency='rub', units=-6602, nano=-700000000) | MoneyValue(currency='rub', units=619, nano=400000000) | OperationState.OPERATION_STATE_EXECUTED | 10 | Покупка ценных бумаг\n",
      "Удержание комиссии за операцию\n",
      "Удержание комиссии за операцию | share | BBG00475K6C3 | 31122501483 | 2022-04-22 08:03:44.016000+00:00 | MoneyValue(currency='rub', units=-2, nano=-110000000) | MoneyValue(currency='rub', units=0, nano=0) | OperationState.OPERATION_STATE_EXECUTED | 0 | Удержание комиссии за операцию\n",
      "Покупка ценных бумаг | share | BBG00475K6C3 |  | 2022-04-22 08:03:43.016000+00:00 | MoneyValue(currency='rub', units=-5267, nano=0) | MoneyValue(currency='rub', units=1053, nano=400000000) | OperationState.OPERATION_STATE_EXECUTED | 5 | Покупка ценных бумаг\n",
      "Удержание комиссии за операцию\n",
      "Удержание комиссии за операцию | share | BBG000R7Z112 | 397722146020 | 2022-04-21 13:48:08.875000+00:00 | MoneyValue(currency='usd', units=0, nano=-40000000) | MoneyValue(currency='usd', units=0, nano=0) | OperationState.OPERATION_STATE_EXECUTED | 0 | Удержание комиссии за операцию\n",
      "Продажа ценных бумаг | share | BBG000R7Z112 |  | 2022-04-21 13:48:07.875000+00:00 | MoneyValue(currency='usd', units=90, nano=800000000) | MoneyValue(currency='usd', units=45, nano=400000000) | OperationState.OPERATION_STATE_EXECUTED | 2 | Продажа ценных бумаг\n",
      "Удержание комиссии за операцию\n",
      "Удержание комиссии за операцию | share | BBG000R7Z112 | 397308049230 | 2022-04-20 13:39:43.918000+00:00 | MoneyValue(currency='usd', units=0, nano=-40000000) | MoneyValue(currency='usd', units=0, nano=0) | OperationState.OPERATION_STATE_EXECUTED | 0 | Удержание комиссии за операцию\n",
      "Продажа ценных бумаг | share | BBG000R7Z112 |  | 2022-04-20 13:39:42.918000+00:00 | MoneyValue(currency='usd', units=88, nano=280000000) | MoneyValue(currency='usd', units=44, nano=140000000) | OperationState.OPERATION_STATE_EXECUTED | 2 | Продажа ценных бумаг\n",
      "Удержание комиссии за операцию\n",
      "Удержание комиссии за операцию | bond | BBG003TTSBB1 | 31086186558 | 2022-04-20 07:49:48.358000+00:00 | MoneyValue(currency='rub', units=-7, nano=-790000000) | MoneyValue(currency='rub', units=0, nano=0) | OperationState.OPERATION_STATE_EXECUTED | 0 | Удержание комиссии за операцию\n",
      "Продажа ценных бумаг | bond | BBG003TTSBB1 |  | 2022-04-20 07:49:47.358000+00:00 | MoneyValue(currency='rub', units=19806, nano=0) | MoneyValue(currency='rub', units=974, nano=0) | OperationState.OPERATION_STATE_EXECUTED | 20 | Продажа ценных бумаг\n",
      "Покупка ценных бумаг | share | BBG000BBJQV0 |  | 2022-04-12 12:44:48.839000+00:00 | MoneyValue(currency='usd', units=-227, nano=-210000000) | MoneyValue(currency='usd', units=227, nano=210000000) | OperationState.OPERATION_STATE_EXECUTED | 1 | Покупка ценных бумаг\n",
      "Удержание комиссии за операцию\n",
      "Удержание комиссии за операцию | share | BBG000BBJQV0 | 41861657 | 2022-04-12 12:44:49.839000+00:00 | MoneyValue(currency='usd', units=0, nano=-90000000) | MoneyValue(currency='usd', units=0, nano=0) | OperationState.OPERATION_STATE_EXECUTED | 0 | Удержание комиссии за операцию\n",
      "Покупка ценных бумаг | share | BBG000BBQCY0 |  | 2022-04-12 12:44:01.718000+00:00 | MoneyValue(currency='usd', units=-99, nano=-370000000) | MoneyValue(currency='usd', units=99, nano=370000000) | OperationState.OPERATION_STATE_EXECUTED | 1 | Покупка ценных бумаг\n",
      "Удержание комиссии за операцию\n",
      "Удержание комиссии за операцию | share | BBG000BBQCY0 | 41861333 | 2022-04-12 12:44:02.718000+00:00 | MoneyValue(currency='usd', units=0, nano=-40000000) | MoneyValue(currency='usd', units=0, nano=0) | OperationState.OPERATION_STATE_EXECUTED | 0 | Удержание комиссии за операцию\n",
      "Покупка ценных бумаг | share | BBG0320C1036 |  | 2022-04-08 14:14:03.523000+00:00 | MoneyValue(currency='usd', units=-38, nano=-700000000) | MoneyValue(currency='usd', units=3, nano=870000000) | OperationState.OPERATION_STATE_EXECUTED | 10 | Покупка ценных бумаг\n",
      "Удержание комиссии за операцию\n",
      "Удержание комиссии за операцию | share | BBG0320C1036 | 394774533180 | 2022-04-08 14:14:04.523000+00:00 | MoneyValue(currency='usd', units=0, nano=-20000000) | MoneyValue(currency='usd', units=0, nano=0) | OperationState.OPERATION_STATE_EXECUTED | 0 | Удержание комиссии за операцию\n",
      "Списание вариационной маржи |  |  |  | 2022-04-07 16:00:00+00:00 | MoneyValue(currency='rub', units=-212, nano=0) | MoneyValue(currency='rub', units=0, nano=0) | OperationState.OPERATION_STATE_EXECUTED | 0 | Списание вариационной маржи\n",
      "Продажа ценных бумаг | futures | BBG00VHGV1J0 |  | 2022-04-07 11:21:07.236000+00:00 | MoneyValue(currency='rub', units=78994, nano=0) | MoneyValue(currency='rub', units=78994, nano=0) | OperationState.OPERATION_STATE_EXECUTED | 1 | Продажа ценных бумаг\n",
      "Удержание комиссии за операцию\n",
      "Удержание комиссии за операцию | futures | BBG00VHGV1J0 | 1892947221571996864 | 2022-04-07 11:21:08.236000+00:00 | MoneyValue(currency='rub', units=-5, nano=0) | MoneyValue(currency='rub', units=0, nano=0) | OperationState.OPERATION_STATE_EXECUTED | 0 | Удержание комиссии за операцию\n",
      "Списание вариационной маржи |  |  |  | 2022-04-07 11:05:00+00:00 | MoneyValue(currency='rub', units=-5, nano=0) | MoneyValue(currency='rub', units=0, nano=0) | OperationState.OPERATION_STATE_EXECUTED | 0 | Списание вариационной маржи\n",
      "Покупка ценных бумаг | futures | BBG00VHGV1J0 |  | 2022-04-07 08:33:39.829000+00:00 | MoneyValue(currency='rub', units=-79211, nano=0) | MoneyValue(currency='rub', units=79211, nano=0) | OperationState.OPERATION_STATE_EXECUTED | 1 | Покупка ценных бумаг\n",
      "Удержание комиссии за операцию\n",
      "Удержание комиссии за операцию | futures | BBG00VHGV1J0 | 1892947221568961561 | 2022-04-07 08:33:40.829000+00:00 | MoneyValue(currency='rub', units=-5, nano=0) | MoneyValue(currency='rub', units=0, nano=0) | OperationState.OPERATION_STATE_EXECUTED | 0 | Удержание комиссии за операцию\n",
      "Покупка ценных бумаг | currency | BBG0013HRTL0 |  | 2022-04-07 08:21:27+00:00 | MoneyValue(currency='rub', units=-2443, nano=-820000000) | MoneyValue(currency='rub', units=12, nano=219100000) | OperationState.OPERATION_STATE_EXECUTED | 200 | Покупка ценных бумаг\n",
      "Удержание комиссии за операцию\n",
      "Удержание комиссии за операцию | currency | BBG0013HRTL0 | 23135693881 | 2022-04-07 08:21:28+00:00 | MoneyValue(currency='rub', units=0, nano=-980000000) | MoneyValue(currency='rub', units=0, nano=0) | OperationState.OPERATION_STATE_EXECUTED | 0 | Удержание комиссии за операцию\n",
      "Выплата купонов | bond | BBG011PCH913 |  | 2022-04-06 07:56:59+00:00 | MoneyValue(currency='rub', units=81, nano=760000000) | MoneyValue(currency='rub', units=0, nano=0) | OperationState.OPERATION_STATE_EXECUTED | 0 | Выплата купонов\n",
      "Удержание НДФЛ по купонам | bond | BBG011PCH913 |  | 2022-04-06 07:56:59+00:00 | MoneyValue(currency='rub', units=-11, nano=0) | MoneyValue(currency='rub', units=0, nano=0) | OperationState.OPERATION_STATE_EXECUTED | 0 | Удержание НДФЛ по купонам\n",
      "Продажа ценных бумаг | share | BBG004RVFCY3 |  | 2022-04-05 10:59:29.561000+00:00 | MoneyValue(currency='rub', units=4000, nano=500000000) | MoneyValue(currency='rub', units=4000, nano=500000000) | OperationState.OPERATION_STATE_EXECUTED | 1 | Продажа ценных бумаг\n",
      "Удержание комиссии за операцию\n",
      "Удержание комиссии за операцию | share | BBG004RVFCY3 | 30871657963 | 2022-04-05 10:59:30.561000+00:00 | MoneyValue(currency='rub', units=-1, nano=-600000000) | MoneyValue(currency='rub', units=0, nano=0) | OperationState.OPERATION_STATE_EXECUTED | 0 | Удержание комиссии за операцию\n",
      "Удержание комиссии за обслуживание брокерского счёта |  |  |  | 2022-04-05 10:59:29+00:00 | MoneyValue(currency='rub', units=-290, nano=0) | MoneyValue(currency='rub', units=0, nano=0) | OperationState.OPERATION_STATE_EXECUTED | 0 | Удержание комиссии за обслуживание брокерского счёта\n",
      "Покупка ценных бумаг | share | BBG0320C1036 |  | 2022-04-01 15:02:47.786000+00:00 | MoneyValue(currency='usd', units=-52, nano=-590000000) | MoneyValue(currency='usd', units=5, nano=259000000) | OperationState.OPERATION_STATE_EXECUTED | 10 | Покупка ценных бумаг\n",
      "Удержание комиссии за операцию\n",
      "Удержание комиссии за операцию | share | BBG0320C1036 | 41326154 | 2022-04-01 15:02:48.786000+00:00 | MoneyValue(currency='usd', units=0, nano=-20000000) | MoneyValue(currency='usd', units=0, nano=0) | OperationState.OPERATION_STATE_EXECUTED | 0 | Удержание комиссии за операцию\n",
      "Покупка ценных бумаг | bond | BBG012F7Y8K5 |  | 2022-04-01 07:41:58.810000+00:00 | MoneyValue(currency='rub', units=-4227, nano=-50000000) | MoneyValue(currency='rub', units=840, nano=0) | OperationState.OPERATION_STATE_EXECUTED | 5 | Покупка ценных бумаг\n",
      "Удержание комиссии за операцию\n",
      "Удержание комиссии за операцию | bond | BBG012F7Y8K5 | 30812859077 | 2022-04-01 07:41:59.810000+00:00 | MoneyValue(currency='rub', units=-1, nano=-680000000) | MoneyValue(currency='rub', units=0, nano=0) | OperationState.OPERATION_STATE_EXECUTED | 0 | Удержание комиссии за операцию\n",
      "Покупка ценных бумаг | share | BBG00QPYJ5H0 |  | 2022-04-01 07:41:15.414000+00:00 | MoneyValue(currency='rub', units=-7178, nano=0) | MoneyValue(currency='rub', units=3589, nano=0) | OperationState.OPERATION_STATE_EXECUTED | 2 | Покупка ценных бумаг\n",
      "Покупка ценных бумаг | bond | BBG012F7Y8K5 |  | 2022-03-31 08:04:59.395000+00:00 | MoneyValue(currency='rub', units=0, nano=0) | MoneyValue(currency='rub', units=800, nano=0) | OperationState.OPERATION_STATE_CANCELED | 20 | Покупка ценных бумаг\n",
      "Продажа ценных бумаг | bond | BBG00NQBGZX5 |  | 2022-03-31 08:03:50.033000+00:00 | MoneyValue(currency='rub', units=45786, nano=960000000) | MoneyValue(currency='rub', units=901, nano=139200000) | OperationState.OPERATION_STATE_EXECUTED | 50 | Продажа ценных бумаг\n",
      "Удержание комиссии за операцию\n",
      "Удержание комиссии за операцию | bond | BBG00NQBGZX5 | 30789455150 | 2022-03-31 08:03:51.033000+00:00 | MoneyValue(currency='rub', units=-18, nano=-20000000) | MoneyValue(currency='rub', units=0, nano=0) | OperationState.OPERATION_STATE_EXECUTED | 0 | Удержание комиссии за операцию\n",
      "Покупка ценных бумаг | share | BBG00QPYJ5H0 |  | 2022-03-31 07:59:34.300000+00:00 | MoneyValue(currency='rub', units=-6135, nano=0) | MoneyValue(currency='rub', units=3067, nano=500000000) | OperationState.OPERATION_STATE_EXECUTED | 2 | Покупка ценных бумаг\n",
      "Продажа ценных бумаг | share | BBG00Y91R9T3 |  | 2022-03-31 07:58:56.631000+00:00 | MoneyValue(currency='rub', units=6355, nano=0) | MoneyValue(currency='rub', units=1271, nano=0) | OperationState.OPERATION_STATE_EXECUTED | 5 | Продажа ценных бумаг\n",
      "Удержание комиссии за операцию\n",
      "Удержание комиссии за операцию | share | BBG00Y91R9T3 | 30789179854 | 2022-03-31 07:58:57.631000+00:00 | MoneyValue(currency='rub', units=-2, nano=-540000000) | MoneyValue(currency='rub', units=0, nano=0) | OperationState.OPERATION_STATE_EXECUTED | 0 | Удержание комиссии за операцию\n",
      "Покупка ценных бумаг | bond | BBG012F7Y8K5 |  | 2022-03-30 07:44:26.365000+00:00 | MoneyValue(currency='rub', units=-4222, nano=-900000000) | MoneyValue(currency='rub', units=840, nano=0) | OperationState.OPERATION_STATE_EXECUTED | 5 | Покупка ценных бумаг\n",
      "Удержание комиссии за операцию\n",
      "Удержание комиссии за операцию | bond | BBG012F7Y8K5 | 30776868136 | 2022-03-30 07:44:27.365000+00:00 | MoneyValue(currency='rub', units=-1, nano=-680000000) | MoneyValue(currency='rub', units=0, nano=0) | OperationState.OPERATION_STATE_EXECUTED | 0 | Удержание комиссии за операцию\n",
      "Покупка ценных бумаг | bond | BBG011PCH913 |  | 2022-03-30 07:43:46.978000+00:00 | MoneyValue(currency='rub', units=-3528, nano=-880000000) | MoneyValue(currency='rub', units=862, nano=0) | OperationState.OPERATION_STATE_EXECUTED | 4 | Покупка ценных бумаг\n",
      "Удержание комиссии за операцию\n",
      "Удержание комиссии за операцию | bond | BBG011PCH913 | 30776839248 | 2022-03-30 07:43:47.978000+00:00 | MoneyValue(currency='rub', units=-1, nano=-380000000) | MoneyValue(currency='rub', units=0, nano=0) | OperationState.OPERATION_STATE_EXECUTED | 0 | Удержание комиссии за операцию\n",
      "Покупка ценных бумаг | bond | TCS00A103935 |  | 2022-03-30 07:43:14.150000+00:00 | MoneyValue(currency='rub', units=-4033, nano=-50000000) | MoneyValue(currency='rub', units=803, nano=500000000) | OperationState.OPERATION_STATE_EXECUTED | 5 | Покупка ценных бумаг\n",
      "Удержание комиссии за операцию\n",
      "Удержание комиссии за операцию | bond | TCS00A103935 | 30776808308 | 2022-03-30 07:43:15.150000+00:00 | MoneyValue(currency='rub', units=-1, nano=-610000000) | MoneyValue(currency='rub', units=0, nano=0) | OperationState.OPERATION_STATE_EXECUTED | 0 | Удержание комиссии за операцию\n",
      "Покупка ценных бумаг | bond | TCS00A102DK3 |  | 2022-03-30 07:41:43.114000+00:00 | MoneyValue(currency='rub', units=-6293, nano=-900000000) | MoneyValue(currency='rub', units=595, nano=200000000) | OperationState.OPERATION_STATE_EXECUTED | 10 | Покупка ценных бумаг\n",
      "Удержание комиссии за операцию\n",
      "Удержание комиссии за операцию | bond | TCS00A102DK3 | 30776729241 | 2022-03-30 07:41:44.114000+00:00 | MoneyValue(currency='rub', units=-2, nano=-370000000) | MoneyValue(currency='rub', units=0, nano=0) | OperationState.OPERATION_STATE_EXECUTED | 0 | Удержание комиссии за операцию\n",
      "Покупка ценных бумаг | share | BBG00Y91R9T3 |  | 2022-03-30 07:38:09.966000+00:00 | MoneyValue(currency='rub', units=-5125, nano=0) | MoneyValue(currency='rub', units=1025, nano=0) | OperationState.OPERATION_STATE_EXECUTED | 5 | Покупка ценных бумаг\n",
      "Удержание комиссии за операцию\n",
      "Удержание комиссии за операцию | share | BBG00Y91R9T3 | 30776540161 | 2022-03-30 07:38:10.966000+00:00 | MoneyValue(currency='rub', units=-2, nano=-50000000) | MoneyValue(currency='rub', units=0, nano=0) | OperationState.OPERATION_STATE_EXECUTED | 0 | Удержание комиссии за операцию\n",
      "Продажа ценных бумаг | share | BBG000B9XRY4 |  | 2022-03-29 19:38:28.942000+00:00 | MoneyValue(currency='usd', units=893, nano=900000000) | MoneyValue(currency='usd', units=178, nano=780000000) | OperationState.OPERATION_STATE_EXECUTED | 5 | Продажа ценных бумаг\n",
      "Удержание комиссии за операцию\n",
      "Удержание комиссии за операцию | share | BBG000B9XRY4 | 391414502280 | 2022-03-29 19:38:29.942000+00:00 | MoneyValue(currency='usd', units=0, nano=-360000000) | MoneyValue(currency='usd', units=0, nano=0) | OperationState.OPERATION_STATE_EXECUTED | 0 | Удержание комиссии за операцию\n",
      "Покупка ценных бумаг | share | BBG004RVFCY3 |  | 2022-03-28 10:33:12.801000+00:00 | MoneyValue(currency='rub', units=-3342, nano=-500000000) | MoneyValue(currency='rub', units=3342, nano=500000000) | OperationState.OPERATION_STATE_EXECUTED | 1 | Покупка ценных бумаг\n",
      "Удержание комиссии за операцию\n",
      "Удержание комиссии за операцию | share | BBG004RVFCY3 | 30758313958 | 2022-03-28 10:33:13.801000+00:00 | MoneyValue(currency='rub', units=-1, nano=-340000000) | MoneyValue(currency='rub', units=0, nano=0) | OperationState.OPERATION_STATE_EXECUTED | 0 | Удержание комиссии за операцию\n"
     ]
    },
    {
     "name": "stdout",
     "output_type": "stream",
     "text": [
      "Вывод денежных средств |  |  |  | 2022-03-24 16:06:45+00:00 | MoneyValue(currency='rub', units=-11279, nano=-230000000) | MoneyValue(currency='rub', units=0, nano=0) | OperationState.OPERATION_STATE_EXECUTED | 0 | Вывод денежных средств\n",
      "Покупка ценных бумаг | currency | BBG0013HQ5K4 |  | 2022-03-24 15:51:59+00:00 | MoneyValue(currency='rub', units=-53007, nano=-500000000) | MoneyValue(currency='rub', units=106, nano=15000000) | OperationState.OPERATION_STATE_EXECUTED | 500 | Покупка ценных бумаг\n",
      "Удержание комиссии за операцию\n",
      "Удержание комиссии за операцию | currency | BBG0013HQ5K4 | 23112529660 | 2022-03-24 15:52:00+00:00 | MoneyValue(currency='rub', units=-21, nano=-200000000) | MoneyValue(currency='rub', units=0, nano=0) | OperationState.OPERATION_STATE_EXECUTED | 0 | Удержание комиссии за операцию\n",
      "Удержание налога |  |  |  | 2022-03-24 15:43:54+00:00 | MoneyValue(currency='rub', units=-1694, nano=0) | MoneyValue(currency='rub', units=0, nano=0) | OperationState.OPERATION_STATE_EXECUTED | 0 | Удержание налога\n",
      "Вывод денежных средств |  |  |  | 2022-03-24 15:43:54+00:00 | MoneyValue(currency='rub', units=-200000, nano=0) | MoneyValue(currency='rub', units=0, nano=0) | OperationState.OPERATION_STATE_EXECUTED | 0 | Вывод денежных средств\n",
      "Покупка ценных бумаг | currency | BBG0013HRTL0 |  | 2022-03-24 12:50:36+00:00 | MoneyValue(currency='rub', units=-1517, nano=-990000000) | MoneyValue(currency='rub', units=15, nano=179900000) | OperationState.OPERATION_STATE_EXECUTED | 100 | Покупка ценных бумаг\n",
      "Удержание комиссии за операцию\n",
      "Удержание комиссии за операцию | currency | BBG0013HRTL0 | 23112038105 | 2022-03-24 12:50:37+00:00 | MoneyValue(currency='rub', units=0, nano=-610000000) | MoneyValue(currency='rub', units=0, nano=0) | OperationState.OPERATION_STATE_EXECUTED | 0 | Удержание комиссии за операцию\n",
      "Продажа ценных бумаг | bond | BBG00386NQK6 |  | 2022-03-24 08:10:37.157000+00:00 | MoneyValue(currency='rub', units=59180, nano=400000000) | MoneyValue(currency='rub', units=972, nano=800000000) | OperationState.OPERATION_STATE_EXECUTED | 60 | Продажа ценных бумаг\n",
      "Удержание комиссии за операцию\n",
      "Удержание комиссии за операцию | bond | BBG00386NQK6 | 30721501314 | 2022-03-24 08:10:38.157000+00:00 | MoneyValue(currency='rub', units=-23, nano=-350000000) | MoneyValue(currency='rub', units=0, nano=0) | OperationState.OPERATION_STATE_EXECUTED | 0 | Удержание комиссии за операцию\n",
      "Продажа ценных бумаг | bond | BBG00386NQK6 |  | 2022-03-24 08:07:42.785000+00:00 | MoneyValue(currency='rub', units=0, nano=0) | MoneyValue(currency='rub', units=978, nano=800000000) | OperationState.OPERATION_STATE_CANCELED | 60 | Продажа ценных бумаг\n",
      "Продажа ценных бумаг | bond | BBG00386NQK6 |  | 2022-03-24 08:04:58.239000+00:00 | MoneyValue(currency='rub', units=0, nano=0) | MoneyValue(currency='rub', units=972, nano=870000000) | OperationState.OPERATION_STATE_CANCELED | 60 | Продажа ценных бумаг\n",
      "Продажа ценных бумаг | share | BBG000BN56Q9 |  | 2022-03-24 07:27:20.152000+00:00 | MoneyValue(currency='rub', units=873, nano=0) | MoneyValue(currency='rub', units=87, nano=300000000) | OperationState.OPERATION_STATE_EXECUTED | 10 | Продажа ценных бумаг\n",
      "Удержание комиссии за операцию\n",
      "Удержание комиссии за операцию | share | BBG000BN56Q9 | 30716202087 | 2022-03-24 07:27:21.152000+00:00 | MoneyValue(currency='rub', units=0, nano=-350000000) | MoneyValue(currency='rub', units=0, nano=0) | OperationState.OPERATION_STATE_EXECUTED | 0 | Удержание комиссии за операцию\n",
      "Покупка ценных бумаг | share | BBG004S681M2 |  | 2022-03-24 07:00:06.916000+00:00 | MoneyValue(currency='rub', units=0, nano=0) | MoneyValue(currency='rub', units=26, nano=975000000) | OperationState.OPERATION_STATE_CANCELED | 100 | Покупка ценных бумаг\n",
      "Покупка ценных бумаг | share | BBG000BN56Q9 |  | 2022-03-24 06:57:11.824000+00:00 | MoneyValue(currency='rub', units=-760, nano=-400000000) | MoneyValue(currency='rub', units=76, nano=40000000) | OperationState.OPERATION_STATE_EXECUTED | 10 | Покупка ценных бумаг\n",
      "Удержание комиссии за операцию\n",
      "Удержание комиссии за операцию | share | BBG000BN56Q9 | 30713040546 | 2022-03-24 06:57:12.824000+00:00 | MoneyValue(currency='rub', units=0, nano=-300000000) | MoneyValue(currency='rub', units=0, nano=0) | OperationState.OPERATION_STATE_EXECUTED | 0 | Удержание комиссии за операцию\n",
      "Продажа ценных бумаг | bond | BBG00NQBGZX5 |  | 2022-03-22 09:33:30.010000+00:00 | MoneyValue(currency='rub', units=78909, nano=300000000) | MoneyValue(currency='rub', units=864, nano=0) | OperationState.OPERATION_STATE_EXECUTED | 90 | Продажа ценных бумаг\n",
      "Удержание комиссии за операцию\n",
      "Удержание комиссии за операцию | bond | BBG00NQBGZX5 | 30710957067 | 2022-03-22 09:33:31.010000+00:00 | MoneyValue(currency='rub', units=-31, nano=-100000000) | MoneyValue(currency='rub', units=0, nano=0) | OperationState.OPERATION_STATE_EXECUTED | 0 | Удержание комиссии за операцию\n",
      "Продажа ценных бумаг | share | BBG000BBQCY0 |  | 2022-03-21 13:46:28.080000+00:00 | MoneyValue(currency='usd', units=232, nano=380000000) | MoneyValue(currency='usd', units=116, nano=190000000) | OperationState.OPERATION_STATE_EXECUTED | 2 | Продажа ценных бумаг\n",
      "Удержание комиссии за операцию\n",
      "Удержание комиссии за операцию | share | BBG000BBQCY0 | 388642496540 | 2022-03-21 13:46:29.080000+00:00 | MoneyValue(currency='usd', units=0, nano=-90000000) | MoneyValue(currency='usd', units=0, nano=0) | OperationState.OPERATION_STATE_EXECUTED | 0 | Удержание комиссии за операцию\n",
      "Продажа ценных бумаг | share | BBG0320C1036 |  | 2022-03-21 13:39:46.001000+00:00 | MoneyValue(currency='usd', units=129, nano=0) | MoneyValue(currency='usd', units=6, nano=450000000) | OperationState.OPERATION_STATE_EXECUTED | 20 | Продажа ценных бумаг\n",
      "Удержание комиссии за операцию\n",
      "Удержание комиссии за операцию | share | BBG0320C1036 | 388628305800 | 2022-03-21 13:39:47.001000+00:00 | MoneyValue(currency='usd', units=0, nano=-50000000) | MoneyValue(currency='usd', units=0, nano=0) | OperationState.OPERATION_STATE_EXECUTED | 0 | Удержание комиссии за операцию\n",
      "Продажа ценных бумаг | share | BBG0320C1036 |  | 2022-03-21 13:35:39.637000+00:00 | MoneyValue(currency='usd', units=0, nano=0) | MoneyValue(currency='usd', units=6, nano=600000000) | OperationState.OPERATION_STATE_CANCELED | 20 | Продажа ценных бумаг\n",
      "Продажа ценных бумаг | bond | BBG011FJ4HS6 |  | 2022-03-21 11:14:42.851000+00:00 | MoneyValue(currency='rub', units=41739, nano=290000000) | MoneyValue(currency='rub', units=576, nano=45571000) | OperationState.OPERATION_STATE_EXECUTED | 70 | Продажа ценных бумаг\n",
      "Удержание комиссии за операцию\n",
      "Удержание комиссии за операцию | bond | BBG011FJ4HS6 | 30710065101 | 2022-03-21 11:14:43.851000+00:00 | MoneyValue(currency='rub', units=-16, nano=-130000000) | MoneyValue(currency='rub', units=0, nano=0) | OperationState.OPERATION_STATE_EXECUTED | 0 | Удержание комиссии за операцию\n",
      "Продажа ценных бумаг | bond | BBG011FJ4HS6 |  | 2022-03-21 11:12:26.570000+00:00 | MoneyValue(currency='rub', units=0, nano=0) | MoneyValue(currency='rub', units=576, nano=900000000) | OperationState.OPERATION_STATE_CANCELED | 70 | Продажа ценных бумаг\n",
      "Продажа ценных бумаг | currency | BBG0013HGFT4 |  | 2022-03-21 10:55:12+00:00 | MoneyValue(currency='rub', units=26074, nano=380000000) | MoneyValue(currency='rub', units=104, nano=297520000) | OperationState.OPERATION_STATE_EXECUTED | 250 | Продажа ценных бумаг\n",
      "Удержание комиссии за операцию\n",
      "Удержание комиссии за операцию | currency | BBG0013HGFT4 | 23104873891 | 2022-03-21 10:55:13+00:00 | MoneyValue(currency='rub', units=-10, nano=-430000000) | MoneyValue(currency='rub', units=0, nano=0) | OperationState.OPERATION_STATE_EXECUTED | 0 | Удержание комиссии за операцию\n",
      "Покупка ценных бумаг | bond | BBG00386NQK6 |  | 2022-03-21 10:22:01.246000+00:00 | MoneyValue(currency='rub', units=-58974, nano=-600000000) | MoneyValue(currency='rub', units=970, nano=0) | OperationState.OPERATION_STATE_EXECUTED | 60 | Покупка ценных бумаг\n",
      "Удержание комиссии за операцию\n",
      "Удержание комиссии за операцию | bond | BBG00386NQK6 | 30709921316 | 2022-03-21 10:22:02.246000+00:00 | MoneyValue(currency='rub', units=-23, nano=-280000000) | MoneyValue(currency='rub', units=0, nano=0) | OperationState.OPERATION_STATE_EXECUTED | 0 | Удержание комиссии за операцию\n",
      "Покупка ценных бумаг | bond | BBG00NQBGZX5 |  | 2022-03-21 10:14:36.982000+00:00 | MoneyValue(currency='rub', units=-78531, nano=-300000000) | MoneyValue(currency='rub', units=860, nano=0) | OperationState.OPERATION_STATE_EXECUTED | 90 | Покупка ценных бумаг\n",
      "Удержание комиссии за операцию\n",
      "Удержание комиссии за операцию | bond | BBG00NQBGZX5 | 30709887493 | 2022-03-21 10:14:37.982000+00:00 | MoneyValue(currency='rub', units=-30, nano=-960000000) | MoneyValue(currency='rub', units=0, nano=0) | OperationState.OPERATION_STATE_EXECUTED | 0 | Удержание комиссии за операцию\n",
      "Покупка ценных бумаг | bond | BBG003TTSBB1 |  | 2022-03-21 10:12:35.368000+00:00 | MoneyValue(currency='rub', units=0, nano=0) | MoneyValue(currency='rub', units=930, nano=0) | OperationState.OPERATION_STATE_CANCELED | 60 | Покупка ценных бумаг\n",
      "Покупка ценных бумаг | bond | BBG011FJ4HS6 |  | 2022-03-21 10:11:05.949000+00:00 | MoneyValue(currency='rub', units=-40616, nano=-100000000) | MoneyValue(currency='rub', units=560, nano=0) | OperationState.OPERATION_STATE_EXECUTED | 70 | Покупка ценных бумаг\n",
      "Удержание комиссии за операцию\n",
      "Удержание комиссии за операцию | bond | BBG011FJ4HS6 | 30709869263 | 2022-03-21 10:11:06.949000+00:00 | MoneyValue(currency='rub', units=-15, nano=-680000000) | MoneyValue(currency='rub', units=0, nano=0) | OperationState.OPERATION_STATE_EXECUTED | 0 | Удержание комиссии за операцию\n",
      "Покупка ценных бумаг | bond | BBG00NQBGZX5 |  | 2022-03-21 10:07:52.488000+00:00 | MoneyValue(currency='rub', units=-43628, nano=-500000000) | MoneyValue(currency='rub', units=860, nano=0) | OperationState.OPERATION_STATE_EXECUTED | 50 | Покупка ценных бумаг\n",
      "Удержание комиссии за операцию\n",
      "Удержание комиссии за операцию | bond | BBG00NQBGZX5 | 30709850016 | 2022-03-21 10:07:53.488000+00:00 | MoneyValue(currency='rub', units=-17, nano=-200000000) | MoneyValue(currency='rub', units=0, nano=0) | OperationState.OPERATION_STATE_EXECUTED | 0 | Удержание комиссии за операцию\n",
      "Покупка ценных бумаг | bond | BBG003TTSBB1 |  | 2022-03-21 10:02:54.287000+00:00 | MoneyValue(currency='rub', units=-47027, nano=-500000000) | MoneyValue(currency='rub', units=930, nano=0) | OperationState.OPERATION_STATE_EXECUTED | 50 | Покупка ценных бумаг\n",
      "Удержание комиссии за операцию\n",
      "Удержание комиссии за операцию | bond | BBG003TTSBB1 | 30709811056 | 2022-03-21 10:02:55.287000+00:00 | MoneyValue(currency='rub', units=-18, nano=-600000000) | MoneyValue(currency='rub', units=0, nano=0) | OperationState.OPERATION_STATE_EXECUTED | 0 | Удержание комиссии за операцию\n",
      "Пополнение брокерского счёта |  |  |  | 2022-03-21 08:08:32+00:00 | MoneyValue(currency='rub', units=300000, nano=0) | MoneyValue(currency='rub', units=0, nano=0) | OperationState.OPERATION_STATE_EXECUTED | 0 | Пополнение брокерского счёта\n",
      "Покупка ценных бумаг | bond | BBG003TTSBB1 |  | 2022-03-21 07:56:31.378000+00:00 | MoneyValue(currency='rub', units=-18811, nano=0) | MoneyValue(currency='rub', units=930, nano=0) | OperationState.OPERATION_STATE_EXECUTED | 20 | Покупка ценных бумаг\n",
      "Удержание комиссии за операцию\n",
      "Удержание комиссии за операцию | bond | BBG003TTSBB1 | 30709594083 | 2022-03-21 07:56:32.378000+00:00 | MoneyValue(currency='rub', units=-7, nano=-440000000) | MoneyValue(currency='rub', units=0, nano=0) | OperationState.OPERATION_STATE_EXECUTED | 0 | Удержание комиссии за операцию\n",
      "Покупка ценных бумаг | bond | BBG00386NQK6 |  | 2022-03-21 07:55:05.321000+00:00 | MoneyValue(currency='rub', units=0, nano=0) | MoneyValue(currency='rub', units=950, nano=0) | OperationState.OPERATION_STATE_CANCELED | 55 | Покупка ценных бумаг\n",
      "Продажа ценных бумаг | currency | BBG0013HGFT4 |  | 2022-03-21 07:52:06+00:00 | MoneyValue(currency='rub', units=76020, nano=0) | MoneyValue(currency='rub', units=105, nano=0) | OperationState.OPERATION_STATE_EXECUTED | 724 | Продажа ценных бумаг\n",
      "Удержание комиссии за операцию\n",
      "Удержание комиссии за операцию | currency | BBG0013HGFT4 | 23104187592 | 2022-03-21 07:52:07+00:00 | MoneyValue(currency='rub', units=-30, nano=-410000000) | MoneyValue(currency='rub', units=0, nano=0) | OperationState.OPERATION_STATE_EXECUTED | 0 | Удержание комиссии за операцию\n",
      "Продажа ценных бумаг | share | BBG000P7S7L7 |  | 2022-03-17 14:37:01.611000+00:00 | MoneyValue(currency='usd', units=50, nano=400000000) | MoneyValue(currency='usd', units=4, nano=200000000) | OperationState.OPERATION_STATE_EXECUTED | 12 | Продажа ценных бумаг\n",
      "Удержание комиссии за операцию\n",
      "Удержание комиссии за операцию | share | BBG000P7S7L7 | 387969496150 | 2022-03-17 14:37:02.611000+00:00 | MoneyValue(currency='usd', units=0, nano=-20000000) | MoneyValue(currency='usd', units=0, nano=0) | OperationState.OPERATION_STATE_EXECUTED | 0 | Удержание комиссии за операцию\n",
      "Продажа ценных бумаг | share | BBG0320C1036 |  | 2022-03-17 14:13:27.292000+00:00 | MoneyValue(currency='usd', units=33, nano=50000000) | MoneyValue(currency='usd', units=6, nano=610000000) | OperationState.OPERATION_STATE_EXECUTED | 5 | Продажа ценных бумаг\n",
      "Удержание комиссии за операцию\n",
      "Удержание комиссии за операцию | share | BBG0320C1036 | 387934988350 | 2022-03-17 14:13:28.292000+00:00 | MoneyValue(currency='usd', units=0, nano=-20000000) | MoneyValue(currency='usd', units=0, nano=0) | OperationState.OPERATION_STATE_EXECUTED | 0 | Удержание комиссии за операцию\n",
      "Продажа ценных бумаг | share | BBG0320C1036 |  | 2022-03-17 14:13:22.615000+00:00 | MoneyValue(currency='usd', units=0, nano=0) | MoneyValue(currency='usd', units=6, nano=620000000) | OperationState.OPERATION_STATE_CANCELED | 5 | Продажа ценных бумаг\n",
      "Продажа ценных бумаг | share | BBG000LF8708 |  | 2022-03-17 13:15:26.007000+00:00 | MoneyValue(currency='usd', units=30, nano=100000000) | MoneyValue(currency='usd', units=15, nano=50000000) | OperationState.OPERATION_STATE_EXECUTED | 2 | Продажа ценных бумаг\n",
      "Удержание комиссии за операцию\n",
      "Удержание комиссии за операцию | share | BBG000LF8708 | 387848816860 | 2022-03-17 13:15:27.007000+00:00 | MoneyValue(currency='usd', units=0, nano=-10000000) | MoneyValue(currency='usd', units=0, nano=0) | OperationState.OPERATION_STATE_EXECUTED | 0 | Удержание комиссии за операцию\n",
      "Продажа ценных бумаг | share | BBG000LF8708 |  | 2022-03-03 16:17:42.942000+00:00 | MoneyValue(currency='usd', units=0, nano=0) | MoneyValue(currency='usd', units=15, nano=220000000) | OperationState.OPERATION_STATE_CANCELED | 2 | Продажа ценных бумаг\n",
      "Вывод денежных средств |  |  |  | 2022-03-02 07:51:45+00:00 | MoneyValue(currency='rub', units=-2179, nano=0) | MoneyValue(currency='rub', units=0, nano=0) | OperationState.OPERATION_STATE_EXECUTED | 0 | Вывод денежных средств\n",
      "Покупка ценных бумаг | share | BBG000BBQCY0 |  | 2022-03-01 21:23:41.624000+00:00 | MoneyValue(currency='usd', units=-114, nano=-20000000) | MoneyValue(currency='usd', units=114, nano=20000000) | OperationState.OPERATION_STATE_EXECUTED | 1 | Покупка ценных бумаг\n",
      "Удержание комиссии за операцию\n",
      "Удержание комиссии за операцию | share | BBG000BBQCY0 | 386176977470 | 2022-03-01 21:23:42.624000+00:00 | MoneyValue(currency='usd', units=0, nano=-50000000) | MoneyValue(currency='usd', units=0, nano=0) | OperationState.OPERATION_STATE_EXECUTED | 0 | Удержание комиссии за операцию\n",
      "Корректировка налога |  |  |  | 2022-03-01 21:00:01+00:00 | MoneyValue(currency='rub', units=2179, nano=0) | MoneyValue(currency='rub', units=0, nano=0) | OperationState.OPERATION_STATE_EXECUTED | 0 | Корректировка налога\n",
      "Покупка ценных бумаг | share | BBG000R7Z112 |  | 2022-03-01 17:54:14.387000+00:00 | MoneyValue(currency='usd', units=-75, nano=-680000000) | MoneyValue(currency='usd', units=37, nano=840000000) | OperationState.OPERATION_STATE_EXECUTED | 2 | Покупка ценных бумаг\n",
      "Удержание комиссии за операцию\n",
      "Удержание комиссии за операцию | share | BBG000R7Z112 | 386068917220 | 2022-03-01 17:54:15.387000+00:00 | MoneyValue(currency='usd', units=0, nano=-40000000) | MoneyValue(currency='usd', units=0, nano=0) | OperationState.OPERATION_STATE_EXECUTED | 0 | Удержание комиссии за операцию\n",
      "Удержание налога |  |  |  | 2022-02-28 12:41:21+00:00 | MoneyValue(currency='rub', units=-2179, nano=0) | MoneyValue(currency='rub', units=0, nano=0) | OperationState.OPERATION_STATE_EXECUTED | 0 | Удержание налога\n",
      "Вывод денежных средств |  |  |  | 2022-02-28 12:41:21+00:00 | MoneyValue(currency='rub', units=-48165, nano=-780000000) | MoneyValue(currency='rub', units=0, nano=0) | OperationState.OPERATION_STATE_EXECUTED | 0 | Вывод денежных средств\n",
      "Продажа ценных бумаг | currency | BBG0013HGFT4 |  | 2022-02-28 12:39:12+00:00 | MoneyValue(currency='rub', units=23888, nano=750000000) | MoneyValue(currency='rub', units=95, nano=555000000) | OperationState.OPERATION_STATE_EXECUTED | 250 | Продажа ценных бумаг\n",
      "Удержание комиссии за операцию\n",
      "Удержание комиссии за операцию | currency | BBG0013HGFT4 | 23049954312 | 2022-02-28 12:39:13+00:00 | MoneyValue(currency='rub', units=-9, nano=-560000000) | MoneyValue(currency='rub', units=0, nano=0) | OperationState.OPERATION_STATE_EXECUTED | 0 | Удержание комиссии за операцию\n",
      "Покупка ценных бумаг | currency | BBG0013HGFT4 |  | 2022-02-28 12:27:18+00:00 | MoneyValue(currency='rub', units=-23525, nano=0) | MoneyValue(currency='rub', units=94, nano=100000000) | OperationState.OPERATION_STATE_EXECUTED | 250 | Покупка ценных бумаг\n",
      "Удержание комиссии за операцию\n",
      "Удержание комиссии за операцию | currency | BBG0013HGFT4 | 23049200679 | 2022-02-28 12:27:19+00:00 | MoneyValue(currency='rub', units=-9, nano=-410000000) | MoneyValue(currency='rub', units=0, nano=0) | OperationState.OPERATION_STATE_EXECUTED | 0 | Удержание комиссии за операцию\n",
      "Пополнение брокерского счёта |  |  |  | 2022-02-28 12:26:39+00:00 | MoneyValue(currency='rub', units=50000, nano=0) | MoneyValue(currency='rub', units=0, nano=0) | OperationState.OPERATION_STATE_EXECUTED | 0 | Пополнение брокерского счёта\n",
      "Удержание налога |  |  |  | 2022-02-28 08:25:18+00:00 | MoneyValue(currency='rub', units=-2179, nano=0) | MoneyValue(currency='rub', units=0, nano=0) | OperationState.OPERATION_STATE_EXECUTED | 0 | Удержание налога\n",
      "Вывод денежных средств |  |  |  | 2022-02-28 08:25:18+00:00 | MoneyValue(currency='rub', units=-12983, nano=-280000000) | MoneyValue(currency='rub', units=0, nano=0) | OperationState.OPERATION_STATE_EXECUTED | 0 | Вывод денежных средств\n",
      "Продажа ценных бумаг | currency | BBG0013HGFT4 |  | 2022-02-28 08:23:02+00:00 | MoneyValue(currency='rub', units=15043, nano=410000000) | MoneyValue(currency='rub', units=100, nano=962483000) | OperationState.OPERATION_STATE_EXECUTED | 149 | Продажа ценных бумаг\n",
      "Удержание комиссии за операцию\n",
      "Удержание комиссии за операцию | currency | BBG0013HGFT4 | 23040358421 | 2022-02-28 08:23:03+00:00 | MoneyValue(currency='rub', units=-6, nano=-20000000) | MoneyValue(currency='rub', units=0, nano=0) | OperationState.OPERATION_STATE_EXECUTED | 0 | Удержание комиссии за операцию\n",
      "Покупка ценных бумаг | share | BBG00KHGQ0H4 |  | 2022-02-25 19:35:09.654000+00:00 | MoneyValue(currency='usd', units=-59, nano=-600000000) | MoneyValue(currency='usd', units=14, nano=900000000) | OperationState.OPERATION_STATE_EXECUTED | 4 | Покупка ценных бумаг\n",
      "Удержание комиссии за операцию\n",
      "Удержание комиссии за операцию | share | BBG00KHGQ0H4 | 385022754650 | 2022-02-25 19:35:10.654000+00:00 | MoneyValue(currency='usd', units=0, nano=-20000000) | MoneyValue(currency='usd', units=0, nano=0) | OperationState.OPERATION_STATE_EXECUTED | 0 | Удержание комиссии за операцию\n",
      "Покупка ценных бумаг | share | BBG000B9XRY4 |  | 2022-02-25 19:31:30.286000+00:00 | MoneyValue(currency='usd', units=-164, nano=-810000000) | MoneyValue(currency='usd', units=164, nano=810000000) | OperationState.OPERATION_STATE_EXECUTED | 1 | Покупка ценных бумаг\n",
      "Удержание комиссии за операцию\n",
      "Удержание комиссии за операцию | share | BBG000B9XRY4 | 385013743750 | 2022-02-25 19:31:31.286000+00:00 | MoneyValue(currency='usd', units=0, nano=-70000000) | MoneyValue(currency='usd', units=0, nano=0) | OperationState.OPERATION_STATE_EXECUTED | 0 | Удержание комиссии за операцию\n",
      "Покупка ценных бумаг | share | BBG000R7Z112 |  | 2022-02-25 15:48:44.117000+00:00 | MoneyValue(currency='usd', units=-82, nano=-700000000) | MoneyValue(currency='usd', units=41, nano=350000000) | OperationState.OPERATION_STATE_EXECUTED | 2 | Покупка ценных бумаг\n",
      "Удержание комиссии за операцию\n",
      "Удержание комиссии за операцию | share | BBG000R7Z112 | 384513509840 | 2022-02-25 15:48:45.117000+00:00 | MoneyValue(currency='usd', units=0, nano=-30000000) | MoneyValue(currency='usd', units=0, nano=0) | OperationState.OPERATION_STATE_EXECUTED | 0 | Удержание комиссии за операцию\n",
      "Покупка ценных бумаг | share | BBG005DXJS36 |  | 2022-02-25 15:10:45.405000+00:00 | MoneyValue(currency='usd', units=-155, nano=-560000000) | MoneyValue(currency='usd', units=38, nano=890000000) | OperationState.OPERATION_STATE_EXECUTED | 4 | Покупка ценных бумаг\n",
      "Покупка ценных бумаг | share | BBG00KHGQ0H4 |  | 2022-02-25 14:49:59.347000+00:00 | MoneyValue(currency='usd', units=-32, nano=-960000000) | MoneyValue(currency='usd', units=16, nano=480000000) | OperationState.OPERATION_STATE_EXECUTED | 2 | Покупка ценных бумаг\n",
      "Удержание комиссии за операцию\n",
      "Удержание комиссии за операцию | share | BBG00KHGQ0H4 | 384327482420 | 2022-02-25 14:50:00.347000+00:00 | MoneyValue(currency='usd', units=0, nano=-10000000) | MoneyValue(currency='usd', units=0, nano=0) | OperationState.OPERATION_STATE_EXECUTED | 0 | Удержание комиссии за операцию\n",
      "Покупка ценных бумаг | share | BBG00KHGQ0H4 |  | 2022-02-24 15:24:32.667000+00:00 | MoneyValue(currency='usd', units=-38, nano=-420000000) | MoneyValue(currency='usd', units=19, nano=210000000) | OperationState.OPERATION_STATE_EXECUTED | 2 | Покупка ценных бумаг\n",
      "Удержание комиссии за операцию\n",
      "Удержание комиссии за операцию | share | BBG00KHGQ0H4 | 383495196090 | 2022-02-24 15:24:33.667000+00:00 | MoneyValue(currency='usd', units=0, nano=-20000000) | MoneyValue(currency='usd', units=0, nano=0) | OperationState.OPERATION_STATE_EXECUTED | 0 | Удержание комиссии за операцию\n",
      "Продажа ценных бумаг | share | BBG000FVXD63 |  | 2022-02-24 14:50:42.216000+00:00 | MoneyValue(currency='usd', units=336, nano=900000000) | MoneyValue(currency='usd', units=22, nano=460000000) | OperationState.OPERATION_STATE_EXECUTED | 15 | Продажа ценных бумаг\n",
      "Удержание комиссии за операцию\n",
      "Удержание комиссии за операцию | share | BBG000FVXD63 | 383373308820 | 2022-02-24 14:50:43.216000+00:00 | MoneyValue(currency='usd', units=0, nano=-130000000) | MoneyValue(currency='usd', units=0, nano=0) | OperationState.OPERATION_STATE_EXECUTED | 0 | Удержание комиссии за операцию\n",
      "Покупка ценных бумаг | share | BBG000B9XRY4 |  | 2022-02-24 14:38:35.009000+00:00 | MoneyValue(currency='usd', units=-154, nano=-740000000) | MoneyValue(currency='usd', units=154, nano=740000000) | OperationState.OPERATION_STATE_EXECUTED | 1 | Покупка ценных бумаг\n",
      "Удержание комиссии за операцию\n",
      "Удержание комиссии за операцию | share | BBG000B9XRY4 | 383328992500 | 2022-02-24 14:38:36.009000+00:00 | MoneyValue(currency='usd', units=0, nano=-60000000) | MoneyValue(currency='usd', units=0, nano=0) | OperationState.OPERATION_STATE_EXECUTED | 0 | Удержание комиссии за операцию\n",
      "Выплата дивидендов | share | BBG000B9XRY4 |  | 2022-02-24 10:56:34+00:00 | MoneyValue(currency='usd', units=0, nano=460000000) | MoneyValue(currency='usd', units=0, nano=0) | OperationState.OPERATION_STATE_EXECUTED | 0 | Выплата дивидендов\n",
      "Покупка ценных бумаг | share | BBG005DXJS36 |  | 2022-02-23 07:52:19.662000+00:00 | MoneyValue(currency='usd', units=-59, nano=-410000000) | MoneyValue(currency='usd', units=59, nano=410000000) | OperationState.OPERATION_STATE_EXECUTED | 1 | Покупка ценных бумаг\n",
      "Продажа ценных бумаг | share | BBG000C3J3C9 |  | 2022-02-22 08:54:14.439000+00:00 | MoneyValue(currency='usd', units=113, nano=80000000) | MoneyValue(currency='usd', units=56, nano=540000000) | OperationState.OPERATION_STATE_EXECUTED | 2 | Продажа ценных бумаг\n",
      "Удержание комиссии за операцию\n",
      "Удержание комиссии за операцию | share | BBG000C3J3C9 | 380576663240 | 2022-02-22 08:54:15.439000+00:00 | MoneyValue(currency='usd', units=0, nano=-50000000) | MoneyValue(currency='usd', units=0, nano=0) | OperationState.OPERATION_STATE_EXECUTED | 0 | Удержание комиссии за операцию\n",
      "Пополнение брокерского счёта |  |  |  | 2022-02-21 12:15:43+00:00 | MoneyValue(currency='rub', units=54, nano=290000000) | MoneyValue(currency='rub', units=0, nano=0) | OperationState.OPERATION_STATE_EXECUTED | 0 | Пополнение брокерского счёта\n",
      "Покупка ценных бумаг | share | BBG000BQPC32 |  | 2022-02-18 14:41:51.705000+00:00 | MoneyValue(currency='usd', units=-17, nano=-640000000) | MoneyValue(currency='usd', units=17, nano=640000000) | OperationState.OPERATION_STATE_EXECUTED | 1 | Покупка ценных бумаг\n",
      "Удержание комиссии за операцию\n",
      "Удержание комиссии за операцию | share | BBG000BQPC32 | 379370581130 | 2022-02-18 14:41:52.705000+00:00 | MoneyValue(currency='usd', units=0, nano=-10000000) | MoneyValue(currency='usd', units=0, nano=0) | OperationState.OPERATION_STATE_EXECUTED | 0 | Удержание комиссии за операцию\n",
      "Пополнение брокерского счёта |  |  |  | 2022-02-18 14:41:51+00:00 | MoneyValue(currency='usd', units=17, nano=850000000) | MoneyValue(currency='usd', units=0, nano=0) | OperationState.OPERATION_STATE_EXECUTED | 0 | Пополнение брокерского счёта\n",
      "Продажа ценных бумаг | share | BBG000QDVR53 |  | 2022-02-17 09:46:27.731000+00:00 | MoneyValue(currency='usd', units=271, nano=350000000) | MoneyValue(currency='usd', units=18, nano=90000000) | OperationState.OPERATION_STATE_EXECUTED | 15 | Продажа ценных бумаг\n",
      "Удержание комиссии за операцию\n",
      "Удержание комиссии за операцию | share | BBG000QDVR53 | 377926099040 | 2022-02-17 09:46:28.731000+00:00 | MoneyValue(currency='usd', units=0, nano=-110000000) | MoneyValue(currency='usd', units=0, nano=0) | OperationState.OPERATION_STATE_EXECUTED | 0 | Удержание комиссии за операцию\n",
      "Покупка ценных бумаг | share | BBG000BBQCY0 |  | 2022-02-16 14:46:40.546000+00:00 | MoneyValue(currency='usd', units=-117, nano=-850000000) | MoneyValue(currency='usd', units=117, nano=850000000) | OperationState.OPERATION_STATE_EXECUTED | 1 | Покупка ценных бумаг\n",
      "Удержание комиссии за операцию\n",
      "Удержание комиссии за операцию | share | BBG000BBQCY0 | 376939325390 | 2022-02-16 14:46:41.546000+00:00 | MoneyValue(currency='usd', units=0, nano=-50000000) | MoneyValue(currency='usd', units=0, nano=0) | OperationState.OPERATION_STATE_EXECUTED | 0 | Удержание комиссии за операцию\n"
     ]
    },
    {
     "name": "stdout",
     "output_type": "stream",
     "text": [
      "Продажа ценных бумаг | share | BBG00KHGQ0H4 |  | 2022-02-16 14:04:47.837000+00:00 | MoneyValue(currency='usd', units=46, nano=150000000) | MoneyValue(currency='usd', units=46, nano=150000000) | OperationState.OPERATION_STATE_EXECUTED | 1 | Продажа ценных бумаг\n",
      "Удержание комиссии за операцию\n",
      "Удержание комиссии за операцию | share | BBG00KHGQ0H4 | 39548102 | 2022-02-16 14:04:48.837000+00:00 | MoneyValue(currency='usd', units=0, nano=-20000000) | MoneyValue(currency='usd', units=0, nano=0) | OperationState.OPERATION_STATE_EXECUTED | 0 | Удержание комиссии за операцию\n",
      "Покупка ценных бумаг | share | BBG005DXJS36 |  | 2022-02-16 10:49:34.898000+00:00 | MoneyValue(currency='usd', units=-144, nano=-360000000) | MoneyValue(currency='usd', units=72, nano=180000000) | OperationState.OPERATION_STATE_EXECUTED | 2 | Покупка ценных бумаг\n",
      "Продажа ценных бумаг | share | BBG000BBQCY0 |  | 2022-02-16 10:46:45.153000+00:00 | MoneyValue(currency='usd', units=120, nano=330000000) | MoneyValue(currency='usd', units=120, nano=330000000) | OperationState.OPERATION_STATE_EXECUTED | 1 | Продажа ценных бумаг\n",
      "Удержание комиссии за операцию\n",
      "Удержание комиссии за операцию | share | BBG000BBQCY0 | 376697634890 | 2022-02-16 10:46:46.153000+00:00 | MoneyValue(currency='usd', units=0, nano=-50000000) | MoneyValue(currency='usd', units=0, nano=0) | OperationState.OPERATION_STATE_EXECUTED | 0 | Удержание комиссии за операцию\n",
      "Покупка ценных бумаг | share | BBG000BBQCY0 |  | 2022-02-14 21:53:13.920000+00:00 | MoneyValue(currency='usd', units=-114, nano=-190000000) | MoneyValue(currency='usd', units=114, nano=190000000) | OperationState.OPERATION_STATE_EXECUTED | 1 | Покупка ценных бумаг\n",
      "Удержание комиссии за операцию\n",
      "Удержание комиссии за операцию | share | BBG000BBQCY0 | 375402213180 | 2022-02-14 21:53:14.920000+00:00 | MoneyValue(currency='usd', units=0, nano=-50000000) | MoneyValue(currency='usd', units=0, nano=0) | OperationState.OPERATION_STATE_EXECUTED | 0 | Удержание комиссии за операцию\n",
      "Покупка ценных бумаг | share | BBG000C3J3C9 |  | 2022-02-14 21:52:43.856000+00:00 | MoneyValue(currency='usd', units=-107, nano=-60000000) | MoneyValue(currency='usd', units=53, nano=530000000) | OperationState.OPERATION_STATE_EXECUTED | 2 | Покупка ценных бумаг\n",
      "Удержание комиссии за операцию\n",
      "Удержание комиссии за операцию | share | BBG000C3J3C9 | 375402185560 | 2022-02-14 21:52:44.856000+00:00 | MoneyValue(currency='usd', units=0, nano=-40000000) | MoneyValue(currency='usd', units=0, nano=0) | OperationState.OPERATION_STATE_EXECUTED | 0 | Удержание комиссии за операцию\n",
      "Покупка ценных бумаг | share | BBG00KHGQ0H4 |  | 2022-02-14 21:50:15.400000+00:00 | MoneyValue(currency='usd', units=-42, nano=-870000000) | MoneyValue(currency='usd', units=42, nano=870000000) | OperationState.OPERATION_STATE_EXECUTED | 3 | Покупка ценных бумаг\n",
      "Удержание комиссии за операцию\n",
      "Удержание комиссии за операцию | share | BBG00KHGQ0H4 | 375402042560 | 2022-02-14 21:50:16.400000+00:00 | MoneyValue(currency='usd', units=0, nano=-20000000) | MoneyValue(currency='usd', units=0, nano=0) | OperationState.OPERATION_STATE_EXECUTED | 0 | Удержание комиссии за операцию\n",
      "Покупка ценных бумаг | share | BBG000R7Z112 |  | 2022-02-11 19:18:14.625000+00:00 | MoneyValue(currency='usd', units=-85, nano=-220000000) | MoneyValue(currency='usd', units=42, nano=610000000) | OperationState.OPERATION_STATE_EXECUTED | 2 | Покупка ценных бумаг\n",
      "Удержание комиссии за операцию\n",
      "Удержание комиссии за операцию | share | BBG000R7Z112 | 373864220950 | 2022-02-11 19:18:15.625000+00:00 | MoneyValue(currency='usd', units=0, nano=-40000000) | MoneyValue(currency='usd', units=0, nano=0) | OperationState.OPERATION_STATE_EXECUTED | 0 | Удержание комиссии за операцию\n",
      "Продажа ценных бумаг | share | BBG000BK9YW3 |  | 2022-02-10 15:51:27.347000+00:00 | MoneyValue(currency='usd', units=109, nano=40000000) | MoneyValue(currency='usd', units=54, nano=520000000) | OperationState.OPERATION_STATE_EXECUTED | 2 | Продажа ценных бумаг\n",
      "Удержание комиссии за операцию\n",
      "Удержание комиссии за операцию | share | BBG000BK9YW3 | 372244771450 | 2022-02-10 15:51:28.347000+00:00 | MoneyValue(currency='usd', units=0, nano=-40000000) | MoneyValue(currency='usd', units=0, nano=0) | OperationState.OPERATION_STATE_EXECUTED | 0 | Удержание комиссии за операцию\n",
      "Продажа ценных бумаг | share | BBG000R7Z112 |  | 2022-02-10 05:14:38.565000+00:00 | MoneyValue(currency='usd', units=174, nano=0) | MoneyValue(currency='usd', units=43, nano=500000000) | OperationState.OPERATION_STATE_EXECUTED | 4 | Продажа ценных бумаг\n",
      "Удержание комиссии за операцию\n",
      "Удержание комиссии за операцию | share | BBG000R7Z112 | 371747865150 | 2022-02-10 05:14:39.565000+00:00 | MoneyValue(currency='usd', units=0, nano=-70000000) | MoneyValue(currency='usd', units=0, nano=0) | OperationState.OPERATION_STATE_EXECUTED | 0 | Удержание комиссии за операцию\n",
      "Продажа ценных бумаг | share | BBG000R7Z112 |  | 2022-02-09 20:19:44.094000+00:00 | MoneyValue(currency='usd', units=0, nano=0) | MoneyValue(currency='usd', units=44, nano=30000000) | OperationState.OPERATION_STATE_CANCELED | 4 | Продажа ценных бумаг\n",
      "Продажа ценных бумаг | share | BBG00HMJ9H54 |  | 2022-02-09 17:27:42.172000+00:00 | MoneyValue(currency='usd', units=47, nano=500000000) | MoneyValue(currency='usd', units=9, nano=500000000) | OperationState.OPERATION_STATE_EXECUTED | 5 | Продажа ценных бумаг\n",
      "Удержание комиссии за операцию\n",
      "Удержание комиссии за операцию | share | BBG00HMJ9H54 | 371547157790 | 2022-02-09 17:27:43.172000+00:00 | MoneyValue(currency='usd', units=0, nano=-20000000) | MoneyValue(currency='usd', units=0, nano=0) | OperationState.OPERATION_STATE_EXECUTED | 0 | Удержание комиссии за операцию\n",
      "Покупка ценных бумаг | currency | BBG0013HGFT4 |  | 2022-02-09 13:44:49+00:00 | MoneyValue(currency='rub', units=-8370, nano=-600000000) | MoneyValue(currency='rub', units=74, nano=737500000) | OperationState.OPERATION_STATE_EXECUTED | 112 | Покупка ценных бумаг\n",
      "Удержание комиссии за операцию\n",
      "Удержание комиссии за операцию | currency | BBG0013HGFT4 | 22922657825 | 2022-02-09 13:44:50+00:00 | MoneyValue(currency='rub', units=-3, nano=-350000000) | MoneyValue(currency='rub', units=0, nano=0) | OperationState.OPERATION_STATE_EXECUTED | 0 | Удержание комиссии за операцию\n",
      "Продажа ценных бумаг | share | BBG00475K6C3 |  | 2022-02-09 13:37:13.232000+00:00 | MoneyValue(currency='rub', units=8447, nano=0) | MoneyValue(currency='rub', units=1689, nano=400000000) | OperationState.OPERATION_STATE_EXECUTED | 5 | Продажа ценных бумаг\n",
      "Удержание комиссии за операцию\n",
      "Удержание комиссии за операцию | share | BBG00475K6C3 | 29974677793 | 2022-02-09 13:37:14.232000+00:00 | MoneyValue(currency='rub', units=-3, nano=-380000000) | MoneyValue(currency='rub', units=0, nano=0) | OperationState.OPERATION_STATE_EXECUTED | 0 | Удержание комиссии за операцию\n",
      "Покупка ценных бумаг | share | BBG00W0KZD98 |  | 2022-02-09 08:38:17.601000+00:00 | MoneyValue(currency='usd', units=-58, nano=-320000000) | MoneyValue(currency='usd', units=29, nano=160000000) | OperationState.OPERATION_STATE_EXECUTED | 2 | Покупка ценных бумаг\n",
      "Удержание комиссии за операцию\n",
      "Удержание комиссии за операцию | share | BBG00W0KZD98 | 371136011850 | 2022-02-09 08:38:18.601000+00:00 | MoneyValue(currency='usd', units=0, nano=-20000000) | MoneyValue(currency='usd', units=0, nano=0) | OperationState.OPERATION_STATE_EXECUTED | 0 | Удержание комиссии за операцию\n",
      "Удержание комиссии за обслуживание брокерского счёта |  |  |  | 2022-02-09 08:38:17+00:00 | MoneyValue(currency='usd', units=-3, nano=-850000000) | MoneyValue(currency='usd', units=0, nano=0) | OperationState.OPERATION_STATE_EXECUTED | 0 | Удержание комиссии за обслуживание брокерского счёта\n",
      "Покупка ценных бумаг | share | BBG000QDVR53 |  | 2022-02-01 19:43:10.845000+00:00 | MoneyValue(currency='usd', units=-62, nano=-760000000) | MoneyValue(currency='usd', units=15, nano=690000000) | OperationState.OPERATION_STATE_EXECUTED | 4 | Покупка ценных бумаг\n",
      "Удержание комиссии за операцию\n",
      "Удержание комиссии за операцию | share | BBG000QDVR53 | 367170913680 | 2022-02-01 19:43:11.845000+00:00 | MoneyValue(currency='usd', units=0, nano=-30000000) | MoneyValue(currency='usd', units=0, nano=0) | OperationState.OPERATION_STATE_EXECUTED | 0 | Удержание комиссии за операцию\n",
      "Продажа ценных бумаг | share | BBG00Z5KBW72 |  | 2022-02-01 09:06:38.435000+00:00 | MoneyValue(currency='usd', units=129, nano=460000000) | MoneyValue(currency='usd', units=8, nano=91250000) | OperationState.OPERATION_STATE_EXECUTED | 16 | Продажа ценных бумаг\n",
      "Удержание комиссии за операцию\n",
      "Удержание комиссии за операцию | share | BBG00Z5KBW72 | 36584338 | 2022-02-01 09:06:39.435000+00:00 | MoneyValue(currency='usd', units=0, nano=-50000000) | MoneyValue(currency='usd', units=0, nano=0) | OperationState.OPERATION_STATE_EXECUTED | 0 | Удержание комиссии за операцию\n",
      "Покупка ценных бумаг | share | BBG000R7Z112 |  | 2022-01-25 10:58:10.747000+00:00 | MoneyValue(currency='usd', units=-75, nano=-680000000) | MoneyValue(currency='usd', units=37, nano=840000000) | OperationState.OPERATION_STATE_EXECUTED | 2 | Покупка ценных бумаг\n",
      "Удержание комиссии за операцию\n",
      "Удержание комиссии за операцию | share | BBG000R7Z112 | 361753593350 | 2022-01-25 10:58:11.747000+00:00 | MoneyValue(currency='usd', units=0, nano=-30000000) | MoneyValue(currency='usd', units=0, nano=0) | OperationState.OPERATION_STATE_EXECUTED | 0 | Удержание комиссии за операцию\n",
      "Покупка ценных бумаг | share | BBG000P7S7L7 |  | 2022-01-24 07:53:39.153000+00:00 | MoneyValue(currency='usd', units=-19, nano=-800000000) | MoneyValue(currency='usd', units=3, nano=300000000) | OperationState.OPERATION_STATE_EXECUTED | 6 | Покупка ценных бумаг\n",
      "Удержание комиссии за операцию\n",
      "Удержание комиссии за операцию | share | BBG000P7S7L7 | 360391738780 | 2022-01-24 07:53:40.153000+00:00 | MoneyValue(currency='usd', units=0, nano=-30000000) | MoneyValue(currency='usd', units=0, nano=0) | OperationState.OPERATION_STATE_EXECUTED | 0 | Удержание комиссии за операцию\n",
      "Покупка ценных бумаг | share | BBG00Z5KBW72 |  | 2022-01-24 07:53:07.392000+00:00 | MoneyValue(currency='usd', units=-56, nano=0) | MoneyValue(currency='usd', units=7, nano=0) | OperationState.OPERATION_STATE_EXECUTED | 8 | Покупка ценных бумаг\n",
      "Удержание комиссии за операцию\n",
      "Удержание комиссии за операцию | share | BBG00Z5KBW72 | 360391544230 | 2022-01-24 07:53:08.392000+00:00 | MoneyValue(currency='usd', units=0, nano=-30000000) | MoneyValue(currency='usd', units=0, nano=0) | OperationState.OPERATION_STATE_EXECUTED | 0 | Удержание комиссии за операцию\n",
      "Покупка ценных бумаг | share | BBG000FVXD63 |  | 2022-01-24 07:52:28.916000+00:00 | MoneyValue(currency='usd', units=-88, nano=-350000000) | MoneyValue(currency='usd', units=17, nano=670000000) | OperationState.OPERATION_STATE_EXECUTED | 5 | Покупка ценных бумаг\n",
      "Удержание комиссии за операцию\n",
      "Удержание комиссии за операцию | share | BBG000FVXD63 | 360391245930 | 2022-01-24 07:52:29.916000+00:00 | MoneyValue(currency='usd', units=0, nano=-40000000) | MoneyValue(currency='usd', units=0, nano=0) | OperationState.OPERATION_STATE_EXECUTED | 0 | Удержание комиссии за операцию\n",
      "Покупка ценных бумаг | share | BBG000R7Z112 |  | 2022-01-19 13:33:29.738000+00:00 | MoneyValue(currency='usd', units=-79, nano=-750000000) | MoneyValue(currency='usd', units=39, nano=875000000) | OperationState.OPERATION_STATE_EXECUTED | 2 | Покупка ценных бумаг\n",
      "Удержание комиссии за операцию\n",
      "Удержание комиссии за операцию | share | BBG000R7Z112 | 34393220 | 2022-01-19 13:33:30.738000+00:00 | MoneyValue(currency='usd', units=0, nano=-30000000) | MoneyValue(currency='usd', units=0, nano=0) | OperationState.OPERATION_STATE_EXECUTED | 0 | Удержание комиссии за операцию\n",
      "Покупка ценных бумаг | share | BBG000PTSB12 |  | 2022-01-19 13:32:57.252000+00:00 | MoneyValue(currency='usd', units=-65, nano=-200000000) | MoneyValue(currency='usd', units=32, nano=600000000) | OperationState.OPERATION_STATE_EXECUTED | 2 | Покупка ценных бумаг\n",
      "Удержание комиссии за операцию\n",
      "Удержание комиссии за операцию | share | BBG000PTSB12 | 358067397510 | 2022-01-19 13:32:58.252000+00:00 | MoneyValue(currency='usd', units=0, nano=-20000000) | MoneyValue(currency='usd', units=0, nano=0) | OperationState.OPERATION_STATE_EXECUTED | 0 | Удержание комиссии за операцию\n",
      "Покупка ценных бумаг | share | BBG0320C1036 |  | 2022-01-18 12:08:59.606000+00:00 | MoneyValue(currency='usd', units=-77, nano=-540000000) | MoneyValue(currency='usd', units=5, nano=169333000) | OperationState.OPERATION_STATE_EXECUTED | 15 | Покупка ценных бумаг\n",
      "Удержание комиссии за операцию\n",
      "Удержание комиссии за операцию | share | BBG0320C1036 | 34104672 | 2022-01-18 12:09:00.606000+00:00 | MoneyValue(currency='usd', units=0, nano=-30000000) | MoneyValue(currency='usd', units=0, nano=0) | OperationState.OPERATION_STATE_EXECUTED | 0 | Удержание комиссии за операцию\n",
      "Продажа ценных бумаг | share | BBG00W0KZD98 |  | 2022-01-14 13:57:25.490000+00:00 | MoneyValue(currency='usd', units=151, nano=850000000) | MoneyValue(currency='usd', units=30, nano=370000000) | OperationState.OPERATION_STATE_EXECUTED | 5 | Продажа ценных бумаг\n",
      "Удержание комиссии за операцию\n",
      "Удержание комиссии за операцию | share | BBG00W0KZD98 | 356445886150 | 2022-01-14 13:57:26.490000+00:00 | MoneyValue(currency='usd', units=0, nano=-60000000) | MoneyValue(currency='usd', units=0, nano=0) | OperationState.OPERATION_STATE_EXECUTED | 0 | Удержание комиссии за операцию\n",
      "Продажа ценных бумаг | share | BBG00LV3NRG0 |  | 2022-01-13 17:48:20.909000+00:00 | MoneyValue(currency='usd', units=124, nano=510000000) | MoneyValue(currency='usd', units=24, nano=902000000) | OperationState.OPERATION_STATE_EXECUTED | 5 | Продажа ценных бумаг\n",
      "Удержание комиссии за операцию\n",
      "Удержание комиссии за операцию | share | BBG00LV3NRG0 | 33766331 | 2022-01-13 17:48:21.909000+00:00 | MoneyValue(currency='usd', units=0, nano=-50000000) | MoneyValue(currency='usd', units=0, nano=0) | OperationState.OPERATION_STATE_EXECUTED | 0 | Удержание комиссии за операцию\n",
      "Покупка ценных бумаг | share | BBG000QGWY50 |  | 2022-01-12 12:32:28.144000+00:00 | MoneyValue(currency='usd', units=-48, nano=-50000000) | MoneyValue(currency='usd', units=9, nano=610000000) | OperationState.OPERATION_STATE_EXECUTED | 5 | Покупка ценных бумаг\n",
      "Удержание комиссии за операцию\n",
      "Удержание комиссии за операцию | share | BBG000QGWY50 | 354440883960 | 2022-01-12 12:32:29.144000+00:00 | MoneyValue(currency='usd', units=0, nano=-20000000) | MoneyValue(currency='usd', units=0, nano=0) | OperationState.OPERATION_STATE_EXECUTED | 0 | Удержание комиссии за операцию\n",
      "Покупка ценных бумаг | share | BBG000QDVR53 |  | 2022-01-12 12:31:00.218000+00:00 | MoneyValue(currency='usd', units=-85, nano=-600000000) | MoneyValue(currency='usd', units=17, nano=120000000) | OperationState.OPERATION_STATE_EXECUTED | 5 | Покупка ценных бумаг\n",
      "Удержание комиссии за операцию\n",
      "Удержание комиссии за операцию | share | BBG000QDVR53 | 354439929060 | 2022-01-12 12:31:01.218000+00:00 | MoneyValue(currency='usd', units=0, nano=-30000000) | MoneyValue(currency='usd', units=0, nano=0) | OperationState.OPERATION_STATE_EXECUTED | 0 | Удержание комиссии за операцию\n",
      "Покупка ценных бумаг | share | BBG00HMJ9H54 |  | 2022-01-12 12:30:04.486000+00:00 | MoneyValue(currency='usd', units=-45, nano=-600000000) | MoneyValue(currency='usd', units=9, nano=120000000) | OperationState.OPERATION_STATE_EXECUTED | 5 | Покупка ценных бумаг\n",
      "Удержание комиссии за операцию\n",
      "Удержание комиссии за операцию | share | BBG00HMJ9H54 | 354439093760 | 2022-01-12 12:30:05.486000+00:00 | MoneyValue(currency='usd', units=0, nano=-20000000) | MoneyValue(currency='usd', units=0, nano=0) | OperationState.OPERATION_STATE_EXECUTED | 0 | Удержание комиссии за операцию\n",
      "Продажа ценных бумаг | share | BBG000BM2FL9 |  | 2022-01-11 16:43:24.284000+00:00 | MoneyValue(currency='usd', units=74, nano=0) | MoneyValue(currency='usd', units=9, nano=250000000) | OperationState.OPERATION_STATE_EXECUTED | 8 | Продажа ценных бумаг\n",
      "Удержание комиссии за операцию\n",
      "Удержание комиссии за операцию | share | BBG000BM2FL9 | 354069724320 | 2022-01-11 16:43:25.284000+00:00 | MoneyValue(currency='usd', units=0, nano=-20000000) | MoneyValue(currency='usd', units=0, nano=0) | OperationState.OPERATION_STATE_EXECUTED | 0 | Удержание комиссии за операцию\n",
      "Продажа ценных бумаг | share | BBG005DXJS36 |  | 2022-01-11 12:35:34.657000+00:00 | MoneyValue(currency='usd', units=400, nano=0) | MoneyValue(currency='usd', units=80, nano=0) | OperationState.OPERATION_STATE_EXECUTED | 5 | Продажа ценных бумаг\n",
      "Покупка ценных бумаг | share | BBG005F1DK91 |  | 2022-01-11 12:31:16.956000+00:00 | MoneyValue(currency='usd', units=-193, nano=-800000000) | MoneyValue(currency='usd', units=9, nano=690000000) | OperationState.OPERATION_STATE_EXECUTED | 20 | Покупка ценных бумаг\n",
      "Удержание комиссии за операцию\n",
      "Удержание комиссии за операцию | share | BBG005F1DK91 | 353798863890 | 2022-01-11 12:31:17.956000+00:00 | MoneyValue(currency='usd', units=0, nano=-100000000) | MoneyValue(currency='usd', units=0, nano=0) | OperationState.OPERATION_STATE_EXECUTED | 0 | Удержание комиссии за операцию\n",
      "Покупка ценных бумаг | share | BBG00LV3NRG0 |  | 2022-01-11 12:26:36.691000+00:00 | MoneyValue(currency='usd', units=-118, nano=-940000000) | MoneyValue(currency='usd', units=23, nano=788000000) | OperationState.OPERATION_STATE_EXECUTED | 5 | Покупка ценных бумаг\n",
      "Удержание комиссии за операцию\n",
      "Удержание комиссии за операцию | share | BBG00LV3NRG0 | 33149627 | 2022-01-11 12:26:37.691000+00:00 | MoneyValue(currency='usd', units=0, nano=-50000000) | MoneyValue(currency='usd', units=0, nano=0) | OperationState.OPERATION_STATE_EXECUTED | 0 | Удержание комиссии за операцию\n",
      "Продажа ценных бумаг | share | BBG000BN5LG7 |  | 2022-01-11 12:09:55.318000+00:00 | MoneyValue(currency='usd', units=29, nano=440000000) | MoneyValue(currency='usd', units=14, nano=720000000) | OperationState.OPERATION_STATE_EXECUTED | 2 | Продажа ценных бумаг\n",
      "Удержание комиссии за операцию\n",
      "Удержание комиссии за операцию | share | BBG000BN5LG7 | 353789607790 | 2022-01-11 12:09:56.318000+00:00 | MoneyValue(currency='usd', units=0, nano=-10000000) | MoneyValue(currency='usd', units=0, nano=0) | OperationState.OPERATION_STATE_EXECUTED | 0 | Удержание комиссии за операцию\n",
      "Покупка ценных бумаг | share | BBG000P7S7L7 |  | 2022-01-11 12:07:33.567000+00:00 | MoneyValue(currency='usd', units=-16, nano=-760000000) | MoneyValue(currency='usd', units=4, nano=190000000) | OperationState.OPERATION_STATE_EXECUTED | 4 | Покупка ценных бумаг\n",
      "Удержание комиссии за операцию\n",
      "Удержание комиссии за операцию | share | BBG000P7S7L7 | 353788480940 | 2022-01-11 12:07:34.567000+00:00 | MoneyValue(currency='usd', units=0, nano=-40000000) | MoneyValue(currency='usd', units=0, nano=0) | OperationState.OPERATION_STATE_EXECUTED | 0 | Удержание комиссии за операцию\n",
      "Покупка ценных бумаг | share | BBG000B9XRY4 |  | 2022-01-11 12:05:56.713000+00:00 | MoneyValue(currency='usd', units=-520, nano=-500000000) | MoneyValue(currency='usd', units=173, nano=500000000) | OperationState.OPERATION_STATE_EXECUTED | 3 | Покупка ценных бумаг\n",
      "Удержание комиссии за операцию\n",
      "Удержание комиссии за операцию | share | BBG000B9XRY4 | 353787841340 | 2022-01-11 12:05:57.713000+00:00 | MoneyValue(currency='usd', units=0, nano=-210000000) | MoneyValue(currency='usd', units=0, nano=0) | OperationState.OPERATION_STATE_EXECUTED | 0 | Удержание комиссии за операцию\n",
      "Покупка ценных бумаг | share | BBG005DXJS36 |  | 2022-01-11 12:03:58.171000+00:00 | MoneyValue(currency='usd', units=-394, nano=-600000000) | MoneyValue(currency='usd', units=78, nano=920000000) | OperationState.OPERATION_STATE_EXECUTED | 5 | Покупка ценных бумаг\n",
      "Покупка ценных бумаг | share | BBG00W0KZD98 |  | 2022-01-11 12:00:45.379000+00:00 | MoneyValue(currency='usd', units=-140, nano=-150000000) | MoneyValue(currency='usd', units=28, nano=30000000) | OperationState.OPERATION_STATE_EXECUTED | 5 | Покупка ценных бумаг\n",
      "Удержание комиссии за операцию\n",
      "Удержание комиссии за операцию | share | BBG00W0KZD98 | 353785484910 | 2022-01-11 12:00:46.379000+00:00 | MoneyValue(currency='usd', units=0, nano=-50000000) | MoneyValue(currency='usd', units=0, nano=0) | OperationState.OPERATION_STATE_EXECUTED | 0 | Удержание комиссии за операцию\n",
      "Покупка ценных бумаг | share | BBG0320C1036 |  | 2022-01-11 12:00:02.744000+00:00 | MoneyValue(currency='usd', units=-33, nano=-140000000) | MoneyValue(currency='usd', units=6, nano=628000000) | OperationState.OPERATION_STATE_EXECUTED | 5 | Покупка ценных бумаг\n",
      "Удержание комиссии за операцию\n",
      "Удержание комиссии за операцию | share | BBG0320C1036 | 33144886 | 2022-01-11 12:00:03.744000+00:00 | MoneyValue(currency='usd', units=0, nano=-10000000) | MoneyValue(currency='usd', units=0, nano=0) | OperationState.OPERATION_STATE_EXECUTED | 0 | Удержание комиссии за операцию\n",
      "Пополнение брокерского счёта |  |  |  | 2022-01-11 09:19:45+00:00 | MoneyValue(currency='rub', units=2000, nano=0) | MoneyValue(currency='rub', units=0, nano=0) | OperationState.OPERATION_STATE_EXECUTED | 0 | Пополнение брокерского счёта\n",
      "Удержание налога |  |  |  | 2022-01-11 09:19:45+00:00 | MoneyValue(currency='rub', units=-2000, nano=0) | MoneyValue(currency='rub', units=0, nano=0) | OperationState.OPERATION_STATE_EXECUTED | 0 | Удержание налога\n",
      "Продажа ценных бумаг | share | BBG000CMRVH1 |  | 2022-01-11 08:01:19.796000+00:00 | MoneyValue(currency='usd', units=75, nano=450000000) | MoneyValue(currency='usd', units=15, nano=90000000) | OperationState.OPERATION_STATE_EXECUTED | 5 | Продажа ценных бумаг\n",
      "Удержание комиссии за операцию\n",
      "Удержание комиссии за операцию | share | BBG000CMRVH1 | 353650011410 | 2022-01-11 08:01:20.796000+00:00 | MoneyValue(currency='usd', units=0, nano=-30000000) | MoneyValue(currency='usd', units=0, nano=0) | OperationState.OPERATION_STATE_EXECUTED | 0 | Удержание комиссии за операцию\n",
      "Продажа ценных бумаг | share | BBG000BM2FL9 |  | 2022-01-10 08:19:46.551000+00:00 | MoneyValue(currency='usd', units=73, nano=760000000) | MoneyValue(currency='usd', units=9, nano=220000000) | OperationState.OPERATION_STATE_EXECUTED | 8 | Продажа ценных бумаг\n",
      "Удержание комиссии за операцию\n",
      "Удержание комиссии за операцию | share | BBG000BM2FL9 | 352911949070 | 2022-01-10 08:19:47.551000+00:00 | MoneyValue(currency='usd', units=0, nano=-40000000) | MoneyValue(currency='usd', units=0, nano=0) | OperationState.OPERATION_STATE_EXECUTED | 0 | Удержание комиссии за операцию\n",
      "Продажа ценных бумаг | share | BBG000BN5LG7 |  | 2022-01-10 07:55:34.836000+00:00 | MoneyValue(currency='usd', units=29, nano=630000000) | MoneyValue(currency='usd', units=14, nano=815000000) | OperationState.OPERATION_STATE_EXECUTED | 2 | Продажа ценных бумаг\n",
      "Удержание комиссии за операцию\n",
      "Удержание комиссии за операцию | share | BBG000BN5LG7 | 32863169 | 2022-01-10 07:55:35.836000+00:00 | MoneyValue(currency='usd', units=0, nano=-10000000) | MoneyValue(currency='usd', units=0, nano=0) | OperationState.OPERATION_STATE_EXECUTED | 0 | Удержание комиссии за операцию\n",
      "Продажа ценных бумаг | share | BBG000R7Z112 |  | 2022-01-07 15:38:27.262000+00:00 | MoneyValue(currency='usd', units=207, nano=60000000) | MoneyValue(currency='usd', units=41, nano=412000000) | OperationState.OPERATION_STATE_EXECUTED | 5 | Продажа ценных бумаг\n",
      "Удержание комиссии за операцию\n",
      "Удержание комиссии за операцию | share | BBG000R7Z112 | 32748311 | 2022-01-07 15:38:28.262000+00:00 | MoneyValue(currency='usd', units=0, nano=-80000000) | MoneyValue(currency='usd', units=0, nano=0) | OperationState.OPERATION_STATE_EXECUTED | 0 | Удержание комиссии за операцию\n",
      "Продажа ценных бумаг | share | BBG000BN5LG7 |  | 2022-01-07 15:15:08.022000+00:00 | MoneyValue(currency='usd', units=57, nano=890000000) | MoneyValue(currency='usd', units=14, nano=472500000) | OperationState.OPERATION_STATE_EXECUTED | 4 | Продажа ценных бумаг\n",
      "Удержание комиссии за операцию\n",
      "Удержание комиссии за операцию | share | BBG000BN5LG7 | 32729896 | 2022-01-07 15:15:09.022000+00:00 | MoneyValue(currency='usd', units=0, nano=-20000000) | MoneyValue(currency='usd', units=0, nano=0) | OperationState.OPERATION_STATE_EXECUTED | 0 | Удержание комиссии за операцию\n",
      "Продажа ценных бумаг | share | BBG000BK9YW3 |  | 2022-01-05 17:28:44.545000+00:00 | MoneyValue(currency='usd', units=0, nano=0) | MoneyValue(currency='usd', units=55, nano=0) | OperationState.OPERATION_STATE_CANCELED | 1 | Продажа ценных бумаг\n",
      "Продажа ценных бумаг | share | BBG000BK9YW3 |  | 2022-01-05 17:28:32.270000+00:00 | MoneyValue(currency='usd', units=54, nano=0) | MoneyValue(currency='usd', units=54, nano=0) | OperationState.OPERATION_STATE_EXECUTED | 1 | Продажа ценных бумаг\n",
      "Удержание комиссии за операцию\n",
      "Удержание комиссии за операцию | share | BBG000BK9YW3 | 351126850820 | 2022-01-05 17:28:33.270000+00:00 | MoneyValue(currency='usd', units=0, nano=-20000000) | MoneyValue(currency='usd', units=0, nano=0) | OperationState.OPERATION_STATE_EXECUTED | 0 | Удержание комиссии за операцию\n",
      "Покупка ценных бумаг | share | BBG000QDVR53 |  | 2022-01-04 19:13:05.971000+00:00 | MoneyValue(currency='usd', units=-103, nano=-130000000) | MoneyValue(currency='usd', units=17, nano=188333000) | OperationState.OPERATION_STATE_EXECUTED | 6 | Покупка ценных бумаг\n",
      "Удержание комиссии за операцию\n",
      "Удержание комиссии за операцию | share | BBG000QDVR53 | 32135216 | 2022-01-04 19:13:06.971000+00:00 | MoneyValue(currency='usd', units=0, nano=-40000000) | MoneyValue(currency='usd', units=0, nano=0) | OperationState.OPERATION_STATE_EXECUTED | 0 | Удержание комиссии за операцию\n",
      "Покупка ценных бумаг | share | BBG0320C1036 |  | 2022-01-04 19:07:21.838000+00:00 | MoneyValue(currency='usd', units=-35, nano=-100000000) | MoneyValue(currency='usd', units=7, nano=20000000) | OperationState.OPERATION_STATE_EXECUTED | 5 | Покупка ценных бумаг\n",
      "Удержание комиссии за операцию\n",
      "Удержание комиссии за операцию | share | BBG0320C1036 | 350572354490 | 2022-01-04 19:07:22.838000+00:00 | MoneyValue(currency='usd', units=0, nano=-10000000) | MoneyValue(currency='usd', units=0, nano=0) | OperationState.OPERATION_STATE_EXECUTED | 0 | Удержание комиссии за операцию\n",
      "Удержание комиссии за обслуживание брокерского счёта |  |  |  | 2022-01-03 15:00:32+00:00 | MoneyValue(currency='usd', units=-3, nano=-900000000) | MoneyValue(currency='usd', units=0, nano=0) | OperationState.OPERATION_STATE_EXECUTED | 0 | Удержание комиссии за обслуживание брокерского счёта\n",
      "Продажа ценных бумаг | share | BBG00HMJ9H54 |  | 2022-01-03 15:00:31.450000+00:00 | MoneyValue(currency='usd', units=42, nano=0) | MoneyValue(currency='usd', units=10, nano=500000000) | OperationState.OPERATION_STATE_EXECUTED | 4 | Продажа ценных бумаг\n",
      "Удержание комиссии за операцию\n",
      "Удержание комиссии за операцию | share | BBG00HMJ9H54 | 349718515280 | 2022-01-03 15:00:32.450000+00:00 | MoneyValue(currency='usd', units=0, nano=-20000000) | MoneyValue(currency='usd', units=0, nano=0) | OperationState.OPERATION_STATE_EXECUTED | 0 | Удержание комиссии за операцию\n",
      "Удержание налога |  |  |  | 2022-01-01 11:19:41+00:00 | MoneyValue(currency='rub', units=-2626, nano=0) | MoneyValue(currency='rub', units=0, nano=0) | OperationState.OPERATION_STATE_EXECUTED | 0 | Удержание налога\n",
      "Продажа ценных бумаг | share | BBG00HMJ9H54 |  | 2021-12-28 16:16:53.350000+00:00 | MoneyValue(currency='usd', units=0, nano=0) | MoneyValue(currency='usd', units=11, nano=100000000) | OperationState.OPERATION_STATE_CANCELED | 4 | Продажа ценных бумаг\n",
      "Продажа ценных бумаг | share | BBG00HMJ9H54 |  | 2021-12-27 12:36:39.576000+00:00 | MoneyValue(currency='usd', units=33, nano=0) | MoneyValue(currency='usd', units=11, nano=0) | OperationState.OPERATION_STATE_EXECUTED | 3 | Продажа ценных бумаг\n",
      "Удержание комиссии за операцию\n",
      "Удержание комиссии за операцию | share | BBG00HMJ9H54 | 347545344620 | 2021-12-27 12:36:40.576000+00:00 | MoneyValue(currency='usd', units=0, nano=-10000000) | MoneyValue(currency='usd', units=0, nano=0) | OperationState.OPERATION_STATE_EXECUTED | 0 | Удержание комиссии за операцию\n",
      "Продажа ценных бумаг | share | BBG00HMJ9H54 |  | 2021-12-23 14:43:28.271000+00:00 | MoneyValue(currency='usd', units=31, nano=540000000) | MoneyValue(currency='usd', units=10, nano=513333000) | OperationState.OPERATION_STATE_EXECUTED | 3 | Продажа ценных бумаг\n",
      "Удержание комиссии за операцию\n",
      "Удержание комиссии за операцию | share | BBG00HMJ9H54 | 30674556 | 2021-12-23 14:43:29.271000+00:00 | MoneyValue(currency='usd', units=0, nano=-10000000) | MoneyValue(currency='usd', units=0, nano=0) | OperationState.OPERATION_STATE_EXECUTED | 0 | Удержание комиссии за операцию\n",
      "Продажа ценных бумаг | share | BBG000BF6LY3 |  | 2021-12-23 14:21:21.940000+00:00 | MoneyValue(currency='usd', units=215, nano=210000000) | MoneyValue(currency='usd', units=21, nano=521000000) | OperationState.OPERATION_STATE_EXECUTED | 10 | Продажа ценных бумаг\n",
      "Удержание комиссии за операцию\n"
     ]
    },
    {
     "name": "stdout",
     "output_type": "stream",
     "text": [
      "Удержание комиссии за операцию | share | BBG000BF6LY3 | 30657925 | 2021-12-23 14:21:22.940000+00:00 | MoneyValue(currency='usd', units=0, nano=-90000000) | MoneyValue(currency='usd', units=0, nano=0) | OperationState.OPERATION_STATE_EXECUTED | 0 | Удержание комиссии за операцию\n",
      "Выплата дивидендов | share | BBG00475K6C3 |  | 2021-12-23 03:00:00+00:00 | MoneyValue(currency='rub', units=429, nano=650000000) | MoneyValue(currency='rub', units=0, nano=0) | OperationState.OPERATION_STATE_EXECUTED | 0 | Выплата дивидендов\n",
      "Удержание налога по дивидендам | share | BBG00475K6C3 |  | 2021-12-23 03:00:00+00:00 | MoneyValue(currency='rub', units=-56, nano=0) | MoneyValue(currency='rub', units=0, nano=0) | OperationState.OPERATION_STATE_EXECUTED | 0 | Удержание налога по дивидендам\n",
      "Покупка ценных бумаг | share | BBG000BM2FL9 |  | 2021-12-22 07:20:30.812000+00:00 | MoneyValue(currency='usd', units=-41, nano=-300000000) | MoneyValue(currency='usd', units=8, nano=260000000) | OperationState.OPERATION_STATE_EXECUTED | 5 | Покупка ценных бумаг\n",
      "Удержание комиссии за операцию\n",
      "Удержание комиссии за операцию | share | BBG000BM2FL9 | 346335654510 | 2021-12-22 07:20:31.812000+00:00 | MoneyValue(currency='usd', units=0, nano=-40000000) | MoneyValue(currency='usd', units=0, nano=0) | OperationState.OPERATION_STATE_EXECUTED | 0 | Удержание комиссии за операцию\n",
      "Покупка ценных бумаг | share | BBG000BK9YW3 |  | 2021-12-20 14:40:07.953000+00:00 | MoneyValue(currency='usd', units=-40, nano=0) | MoneyValue(currency='usd', units=40, nano=0) | OperationState.OPERATION_STATE_EXECUTED | 1 | Покупка ценных бумаг\n",
      "Удержание комиссии за операцию\n",
      "Удержание комиссии за операцию | share | BBG000BK9YW3 | 345239282790 | 2021-12-20 14:40:08.953000+00:00 | MoneyValue(currency='usd', units=0, nano=-20000000) | MoneyValue(currency='usd', units=0, nano=0) | OperationState.OPERATION_STATE_EXECUTED | 0 | Удержание комиссии за операцию\n",
      "Покупка ценных бумаг | share | BBG000FVXD63 |  | 2021-12-08 10:41:52.975000+00:00 | MoneyValue(currency='usd', units=-94, nano=-960000000) | MoneyValue(currency='usd', units=18, nano=992000000) | OperationState.OPERATION_STATE_EXECUTED | 5 | Покупка ценных бумаг\n",
      "Удержание комиссии за операцию\n",
      "Удержание комиссии за операцию | share | BBG000FVXD63 | 340150068410 | 2021-12-08 10:41:53.975000+00:00 | MoneyValue(currency='usd', units=0, nano=-40000000) | MoneyValue(currency='usd', units=0, nano=0) | OperationState.OPERATION_STATE_EXECUTED | 0 | Удержание комиссии за операцию\n",
      "Продажа ценных бумаг | currency | BBG0013HJJ31 |  | 2021-12-08 10:39:13+00:00 | MoneyValue(currency='rub', units=1082, nano=800000000) | MoneyValue(currency='rub', units=83, nano=292308000) | OperationState.OPERATION_STATE_EXECUTED | 13 | Продажа ценных бумаг\n",
      "Удержание комиссии за операцию\n",
      "Удержание комиссии за операцию | currency | BBG0013HJJ31 | 22663184186 | 2021-12-08 10:39:14+00:00 | MoneyValue(currency='rub', units=0, nano=-430000000) | MoneyValue(currency='rub', units=0, nano=0) | OperationState.OPERATION_STATE_EXECUTED | 0 | Удержание комиссии за операцию\n",
      "Продажа ценных бумаг | share | BBG000BC6M41 |  | 2021-12-08 10:38:17.872000+00:00 | MoneyValue(currency='eur', units=5, nano=980000000) | MoneyValue(currency='eur', units=5, nano=980000000) | OperationState.OPERATION_STATE_EXECUTED | 1 | Продажа ценных бумаг\n",
      "Удержание комиссии за операцию\n",
      "Удержание комиссии за операцию | share | BBG000BC6M41 | 340148050140 | 2021-12-08 10:38:18.872000+00:00 | MoneyValue(currency='eur', units=0, nano=-10000000) | MoneyValue(currency='eur', units=0, nano=0) | OperationState.OPERATION_STATE_EXECUTED | 0 | Удержание комиссии за операцию\n",
      "Выплата дивидендов | share | BBG000C0G1D1 |  | 2021-12-08 03:00:00+00:00 | MoneyValue(currency='usd', units=0, nano=480000000) | MoneyValue(currency='usd', units=0, nano=0) | OperationState.OPERATION_STATE_EXECUTED | 0 | Выплата дивидендов\n",
      "Покупка ценных бумаг | share | BBG000P7S7L7 |  | 2021-12-07 20:49:37.101000+00:00 | MoneyValue(currency='usd', units=-11, nano=0) | MoneyValue(currency='usd', units=5, nano=500000000) | OperationState.OPERATION_STATE_EXECUTED | 2 | Покупка ценных бумаг\n",
      "Удержание комиссии за операцию\n",
      "Удержание комиссии за операцию | share | BBG000P7S7L7 | 340005075440 | 2021-12-07 20:49:38.101000+00:00 | MoneyValue(currency='usd', units=0, nano=-20000000) | MoneyValue(currency='usd', units=0, nano=0) | OperationState.OPERATION_STATE_EXECUTED | 0 | Удержание комиссии за операцию\n",
      "Продажа ценных бумаг | share | BBG000P7S7L7 |  | 2021-12-07 14:20:39.964000+00:00 | MoneyValue(currency='usd', units=52, nano=410000000) | MoneyValue(currency='usd', units=6, nano=551250000) | OperationState.OPERATION_STATE_EXECUTED | 8 | Продажа ценных бумаг\n",
      "Удержание комиссии за операцию\n",
      "Удержание комиссии за операцию | share | BBG000P7S7L7 | 28203251 | 2021-12-07 14:20:40.964000+00:00 | MoneyValue(currency='usd', units=0, nano=-20000000) | MoneyValue(currency='usd', units=0, nano=0) | OperationState.OPERATION_STATE_EXECUTED | 0 | Удержание комиссии за операцию\n",
      "Продажа ценных бумаг | share | BBG000P7S7L7 |  | 2021-12-07 14:20:28.192000+00:00 | MoneyValue(currency='usd', units=0, nano=0) | MoneyValue(currency='usd', units=6, nano=530000000) | OperationState.OPERATION_STATE_CANCELED | 8 | Продажа ценных бумаг\n",
      "Продажа ценных бумаг | share | BBG000P7S7L7 |  | 2021-12-07 14:20:24.268000+00:00 | MoneyValue(currency='usd', units=0, nano=0) | MoneyValue(currency='usd', units=6, nano=530000000) | OperationState.OPERATION_STATE_CANCELED | 8 | Продажа ценных бумаг\n",
      "Покупка ценных бумаг | share | BBG000BF6LY3 |  | 2021-12-06 14:58:18.801000+00:00 | MoneyValue(currency='usd', units=-54, nano=-350000000) | MoneyValue(currency='usd', units=18, nano=116667000) | OperationState.OPERATION_STATE_EXECUTED | 3 | Покупка ценных бумаг\n",
      "Удержание комиссии за операцию\n",
      "Удержание комиссии за операцию | share | BBG000BF6LY3 | 28018588 | 2021-12-06 14:58:19.801000+00:00 | MoneyValue(currency='usd', units=0, nano=-20000000) | MoneyValue(currency='usd', units=0, nano=0) | OperationState.OPERATION_STATE_EXECUTED | 0 | Удержание комиссии за операцию\n",
      "Покупка ценных бумаг | share | BBG004KB3S72 |  | 2021-12-06 09:35:00.363000+00:00 | MoneyValue(currency='usd', units=-64, nano=-320000000) | MoneyValue(currency='usd', units=5, nano=360000000) | OperationState.OPERATION_STATE_EXECUTED | 12 | Покупка ценных бумаг\n",
      "Удержание комиссии за операцию\n",
      "Удержание комиссии за операцию | share | BBG004KB3S72 | 338867300770 | 2021-12-06 09:35:01.363000+00:00 | MoneyValue(currency='usd', units=0, nano=-50000000) | MoneyValue(currency='usd', units=0, nano=0) | OperationState.OPERATION_STATE_EXECUTED | 0 | Удержание комиссии за операцию\n",
      "Пополнение брокерского счёта |  |  |  | 2021-12-06 09:32:05+00:00 | MoneyValue(currency='rub', units=23, nano=940000000) | MoneyValue(currency='rub', units=0, nano=0) | OperationState.OPERATION_STATE_EXECUTED | 0 | Пополнение брокерского счёта\n",
      "Продажа ценных бумаг | share | BBG000C3J3C9 |  | 2021-12-06 04:00:22.828000+00:00 | MoneyValue(currency='usd', units=57, nano=0) | MoneyValue(currency='usd', units=57, nano=0) | OperationState.OPERATION_STATE_EXECUTED | 1 | Продажа ценных бумаг\n",
      "Удержание комиссии за операцию\n",
      "Удержание комиссии за операцию | share | BBG000C3J3C9 | 338771941210 | 2021-12-06 04:00:23.828000+00:00 | MoneyValue(currency='usd', units=0, nano=-20000000) | MoneyValue(currency='usd', units=0, nano=0) | OperationState.OPERATION_STATE_EXECUTED | 0 | Удержание комиссии за операцию\n",
      "Пополнение брокерского счёта |  |  |  | 2021-12-02 20:02:31+00:00 | MoneyValue(currency='rub', units=18, nano=250000000) | MoneyValue(currency='rub', units=0, nano=0) | OperationState.OPERATION_STATE_EXECUTED | 0 | Пополнение брокерского счёта\n",
      "Продажа ценных бумаг | share | BBG000C3J3C9 |  | 2021-12-02 14:55:49.355000+00:00 | MoneyValue(currency='usd', units=56, nano=300000000) | MoneyValue(currency='usd', units=56, nano=300000000) | OperationState.OPERATION_STATE_EXECUTED | 1 | Продажа ценных бумаг\n",
      "Удержание комиссии за операцию\n",
      "Удержание комиссии за операцию | share | BBG000C3J3C9 | 337533209500 | 2021-12-02 14:55:50.355000+00:00 | MoneyValue(currency='usd', units=0, nano=-20000000) | MoneyValue(currency='usd', units=0, nano=0) | OperationState.OPERATION_STATE_EXECUTED | 0 | Удержание комиссии за операцию\n",
      "Покупка ценных бумаг | share | BBG000R7Z112 |  | 2021-12-02 13:29:25.647000+00:00 | MoneyValue(currency='usd', units=-34, nano=0) | MoneyValue(currency='usd', units=34, nano=0) | OperationState.OPERATION_STATE_EXECUTED | 1 | Покупка ценных бумаг\n",
      "Удержание комиссии за операцию\n",
      "Удержание комиссии за операцию | share | BBG000R7Z112 | 337446490820 | 2021-12-02 13:29:26.647000+00:00 | MoneyValue(currency='usd', units=0, nano=-10000000) | MoneyValue(currency='usd', units=0, nano=0) | OperationState.OPERATION_STATE_EXECUTED | 0 | Удержание комиссии за операцию\n",
      "Покупка ценных бумаг | share | BBG00Z5KBW72 |  | 2021-12-02 13:27:36.713000+00:00 | MoneyValue(currency='usd', units=-21, nano=-660000000) | MoneyValue(currency='usd', units=7, nano=220000000) | OperationState.OPERATION_STATE_EXECUTED | 3 | Покупка ценных бумаг\n",
      "Удержание комиссии за операцию\n",
      "Удержание комиссии за операцию | share | BBG00Z5KBW72 | 337445653190 | 2021-12-02 13:27:37.713000+00:00 | MoneyValue(currency='usd', units=0, nano=-20000000) | MoneyValue(currency='usd', units=0, nano=0) | OperationState.OPERATION_STATE_EXECUTED | 0 | Удержание комиссии за операцию\n",
      "Покупка ценных бумаг | share | BBG000P7S7L7 |  | 2021-12-02 13:26:04.471000+00:00 | MoneyValue(currency='usd', units=-10, nano=-620000000) | MoneyValue(currency='usd', units=5, nano=310000000) | OperationState.OPERATION_STATE_EXECUTED | 2 | Покупка ценных бумаг\n",
      "Удержание комиссии за операцию\n",
      "Удержание комиссии за операцию | share | BBG000P7S7L7 | 337445026230 | 2021-12-02 13:26:05.471000+00:00 | MoneyValue(currency='usd', units=0, nano=-10000000) | MoneyValue(currency='usd', units=0, nano=0) | OperationState.OPERATION_STATE_EXECUTED | 0 | Удержание комиссии за операцию\n",
      "Покупка ценных бумаг | share | BBG000BC6M41 |  | 2021-12-02 10:40:49.279000+00:00 | MoneyValue(currency='eur', units=-5, nano=-710000000) | MoneyValue(currency='eur', units=5, nano=710000000) | OperationState.OPERATION_STATE_EXECUTED | 1 | Покупка ценных бумаг\n",
      "Удержание комиссии за операцию\n",
      "Удержание комиссии за операцию | share | BBG000BC6M41 | 337362269120 | 2021-12-02 10:40:50.279000+00:00 | MoneyValue(currency='eur', units=0, nano=-10000000) | MoneyValue(currency='eur', units=0, nano=0) | OperationState.OPERATION_STATE_EXECUTED | 0 | Удержание комиссии за операцию\n",
      "Продажа ценных бумаг | share | BBG000C3J3C9 |  | 2021-12-01 16:33:54.064000+00:00 | MoneyValue(currency='usd', units=56, nano=300000000) | MoneyValue(currency='usd', units=56, nano=300000000) | OperationState.OPERATION_STATE_EXECUTED | 1 | Продажа ценных бумаг\n",
      "Удержание комиссии за операцию\n",
      "Удержание комиссии за операцию | share | BBG000C3J3C9 | 336880518600 | 2021-12-01 16:33:55.064000+00:00 | MoneyValue(currency='usd', units=0, nano=-20000000) | MoneyValue(currency='usd', units=0, nano=0) | OperationState.OPERATION_STATE_EXECUTED | 0 | Удержание комиссии за операцию\n",
      "Удержание комиссии за обслуживание брокерского счёта |  |  |  | 2021-12-01 16:19:40+00:00 | MoneyValue(currency='usd', units=-3, nano=-870000000) | MoneyValue(currency='usd', units=0, nano=0) | OperationState.OPERATION_STATE_EXECUTED | 0 | Удержание комиссии за обслуживание брокерского счёта\n",
      "Продажа ценных бумаг | share | BBG005Q3MQY4 |  | 2021-12-01 16:19:34.642000+00:00 | MoneyValue(currency='usd', units=37, nano=0) | MoneyValue(currency='usd', units=18, nano=500000000) | OperationState.OPERATION_STATE_EXECUTED | 2 | Продажа ценных бумаг\n",
      "Удержание комиссии за операцию\n",
      "Удержание комиссии за операцию | share | BBG005Q3MQY4 | 336864832490 | 2021-12-01 16:19:35.642000+00:00 | MoneyValue(currency='usd', units=0, nano=-10000000) | MoneyValue(currency='usd', units=0, nano=0) | OperationState.OPERATION_STATE_EXECUTED | 0 | Удержание комиссии за операцию\n",
      "Покупка ценных бумаг | share | BBG000P7S7L7 |  | 2021-12-01 10:54:42.035000+00:00 | MoneyValue(currency='usd', units=-5, nano=-950000000) | MoneyValue(currency='usd', units=5, nano=950000000) | OperationState.OPERATION_STATE_EXECUTED | 5 | Покупка ценных бумаг\n",
      "Удержание комиссии за операцию\n",
      "Удержание комиссии за операцию | share | BBG000P7S7L7 | 336629431060 | 2021-12-01 10:54:43.035000+00:00 | MoneyValue(currency='usd', units=0, nano=-10000000) | MoneyValue(currency='usd', units=0, nano=0) | OperationState.OPERATION_STATE_EXECUTED | 0 | Удержание комиссии за операцию\n",
      "Покупка ценных бумаг | currency | BBG0013HJJ31 |  | 2021-12-01 09:15:57+00:00 | MoneyValue(currency='rub', units=-1086, nano=-20000000) | MoneyValue(currency='rub', units=83, nano=540000000) | OperationState.OPERATION_STATE_EXECUTED | 13 | Покупка ценных бумаг\n",
      "Удержание комиссии за операцию\n",
      "Удержание комиссии за операцию | currency | BBG0013HJJ31 | 22626526059 | 2021-12-01 09:15:58+00:00 | MoneyValue(currency='rub', units=0, nano=-430000000) | MoneyValue(currency='rub', units=0, nano=0) | OperationState.OPERATION_STATE_EXECUTED | 0 | Удержание комиссии за операцию\n",
      "Покупка ценных бумаг | share | BBG000R7Z112 |  | 2021-11-30 13:21:31.749000+00:00 | MoneyValue(currency='usd', units=-35, nano=-530000000) | MoneyValue(currency='usd', units=35, nano=530000000) | OperationState.OPERATION_STATE_EXECUTED | 1 | Покупка ценных бумаг\n",
      "Удержание комиссии за операцию\n",
      "Удержание комиссии за операцию | share | BBG000R7Z112 | 27033105 | 2021-11-30 13:21:32.749000+00:00 | MoneyValue(currency='usd', units=0, nano=-10000000) | MoneyValue(currency='usd', units=0, nano=0) | OperationState.OPERATION_STATE_EXECUTED | 0 | Удержание комиссии за операцию\n",
      "Покупка ценных бумаг | share | BBG000P7S7L7 |  | 2021-11-18 14:30:46.309000+00:00 | MoneyValue(currency='usd', units=-32, nano=-540000000) | MoneyValue(currency='usd', units=6, nano=508000000) | OperationState.OPERATION_STATE_EXECUTED | 5 | Покупка ценных бумаг\n",
      "Удержание комиссии за операцию\n",
      "Удержание комиссии за операцию | share | BBG000P7S7L7 | 25212482 | 2021-11-18 14:30:47.309000+00:00 | MoneyValue(currency='usd', units=0, nano=-10000000) | MoneyValue(currency='usd', units=0, nano=0) | OperationState.OPERATION_STATE_EXECUTED | 0 | Удержание комиссии за операцию\n",
      "Покупка ценных бумаг | share | BBG000C3J3C9 |  | 2021-11-18 09:46:48.571000+00:00 | MoneyValue(currency='usd', units=-159, nano=-920000000) | MoneyValue(currency='usd', units=53, nano=306667000) | OperationState.OPERATION_STATE_EXECUTED | 3 | Покупка ценных бумаг\n",
      "Удержание комиссии за операцию\n",
      "Удержание комиссии за операцию | share | BBG000C3J3C9 | 331171673650 | 2021-11-18 09:46:49.571000+00:00 | MoneyValue(currency='usd', units=0, nano=-60000000) | MoneyValue(currency='usd', units=0, nano=0) | OperationState.OPERATION_STATE_EXECUTED | 0 | Удержание комиссии за операцию\n",
      "Покупка ценных бумаг | share | BBG000BF6LY3 |  | 2021-11-18 09:09:53.326000+00:00 | MoneyValue(currency='usd', units=-150, nano=-770000000) | MoneyValue(currency='usd', units=21, nano=538571000) | OperationState.OPERATION_STATE_EXECUTED | 7 | Покупка ценных бумаг\n",
      "Удержание комиссии за операцию\n",
      "Удержание комиссии за операцию | share | BBG000BF6LY3 | 25079730 | 2021-11-18 09:09:54.326000+00:00 | MoneyValue(currency='usd', units=0, nano=-60000000) | MoneyValue(currency='usd', units=0, nano=0) | OperationState.OPERATION_STATE_EXECUTED | 0 | Удержание комиссии за операцию\n",
      "Покупка ценных бумаг | share | BBG000BK9YW3 |  | 2021-11-17 14:49:07.374000+00:00 | MoneyValue(currency='usd', units=-49, nano=-990000000) | MoneyValue(currency='usd', units=49, nano=990000000) | OperationState.OPERATION_STATE_EXECUTED | 1 | Покупка ценных бумаг\n",
      "Удержание комиссии за операцию\n",
      "Удержание комиссии за операцию | share | BBG000BK9YW3 | 330749841210 | 2021-11-17 14:49:08.374000+00:00 | MoneyValue(currency='usd', units=0, nano=-20000000) | MoneyValue(currency='usd', units=0, nano=0) | OperationState.OPERATION_STATE_EXECUTED | 0 | Удержание комиссии за операцию\n",
      "Покупка ценных бумаг | share | BBG00K20GVD2 |  | 2021-11-16 07:35:32.648000+00:00 | MoneyValue(currency='usd', units=-54, nano=-780000000) | MoneyValue(currency='usd', units=27, nano=390000000) | OperationState.OPERATION_STATE_EXECUTED | 2 | Покупка ценных бумаг\n",
      "Удержание комиссии за операцию\n",
      "Удержание комиссии за операцию | share | BBG00K20GVD2 | 24369815 | 2021-11-16 07:35:33.648000+00:00 | MoneyValue(currency='usd', units=0, nano=-20000000) | MoneyValue(currency='usd', units=0, nano=0) | OperationState.OPERATION_STATE_EXECUTED | 0 | Удержание комиссии за операцию\n",
      "Покупка ценных бумаг | share | BBG000R7Z112 |  | 2021-11-15 09:59:11.779000+00:00 | MoneyValue(currency='usd', units=-127, nano=-490000000) | MoneyValue(currency='usd', units=42, nano=496667000) | OperationState.OPERATION_STATE_EXECUTED | 3 | Покупка ценных бумаг\n",
      "Удержание комиссии за операцию\n",
      "Удержание комиссии за операцию | share | BBG000R7Z112 | 24060061 | 2021-11-15 09:59:12.779000+00:00 | MoneyValue(currency='usd', units=0, nano=-50000000) | MoneyValue(currency='usd', units=0, nano=0) | OperationState.OPERATION_STATE_EXECUTED | 0 | Удержание комиссии за операцию\n",
      "Продажа ценных бумаг | share | BBG000C0G1D1 |  | 2021-11-15 05:57:46.193000+00:00 | MoneyValue(currency='usd', units=100, nano=410000000) | MoneyValue(currency='usd', units=50, nano=205000000) | OperationState.OPERATION_STATE_EXECUTED | 2 | Продажа ценных бумаг\n",
      "Удержание комиссии за операцию\n",
      "Удержание комиссии за операцию | share | BBG000C0G1D1 | 23977676 | 2021-11-15 05:57:47.193000+00:00 | MoneyValue(currency='usd', units=0, nano=-40000000) | MoneyValue(currency='usd', units=0, nano=0) | OperationState.OPERATION_STATE_EXECUTED | 0 | Удержание комиссии за операцию\n",
      "Покупка ценных бумаг | share | BBG000BTYP37 |  | 2021-11-11 09:25:58.689000+00:00 | MoneyValue(currency='usd', units=-55, nano=-990000000) | MoneyValue(currency='usd', units=2, nano=799500000) | OperationState.OPERATION_STATE_EXECUTED | 20 | Покупка ценных бумаг\n",
      "Удержание комиссии за операцию\n",
      "Удержание комиссии за операцию | share | BBG000BTYP37 | 23315307 | 2021-11-11 09:25:59.689000+00:00 | MoneyValue(currency='usd', units=0, nano=-20000000) | MoneyValue(currency='usd', units=0, nano=0) | OperationState.OPERATION_STATE_EXECUTED | 0 | Удержание комиссии за операцию\n",
      "Покупка ценных бумаг | share | BBG000BK9YW3 |  | 2021-11-11 07:18:20.026000+00:00 | MoneyValue(currency='usd', units=-71, nano=-480000000) | MoneyValue(currency='usd', units=71, nano=480000000) | OperationState.OPERATION_STATE_EXECUTED | 1 | Покупка ценных бумаг\n",
      "Удержание комиссии за операцию\n",
      "Удержание комиссии за операцию | share | BBG000BK9YW3 | 23266524 | 2021-11-11 07:18:21.026000+00:00 | MoneyValue(currency='usd', units=0, nano=-30000000) | MoneyValue(currency='usd', units=0, nano=0) | OperationState.OPERATION_STATE_EXECUTED | 0 | Удержание комиссии за операцию\n",
      "Покупка ценных бумаг | share | BBG005Q3MQY4 |  | 2021-11-11 07:17:44.358000+00:00 | MoneyValue(currency='usd', units=-34, nano=-810000000) | MoneyValue(currency='usd', units=17, nano=405000000) | OperationState.OPERATION_STATE_EXECUTED | 2 | Покупка ценных бумаг\n",
      "Удержание комиссии за операцию\n",
      "Удержание комиссии за операцию | share | BBG005Q3MQY4 | 23266209 | 2021-11-11 07:17:45.358000+00:00 | MoneyValue(currency='usd', units=0, nano=-10000000) | MoneyValue(currency='usd', units=0, nano=0) | OperationState.OPERATION_STATE_EXECUTED | 0 | Удержание комиссии за операцию\n",
      "Продажа ценных бумаг | share | BBG000C3J3C9 |  | 2021-11-10 15:12:21.710000+00:00 | MoneyValue(currency='usd', units=116, nano=400000000) | MoneyValue(currency='usd', units=58, nano=200000000) | OperationState.OPERATION_STATE_EXECUTED | 2 | Продажа ценных бумаг\n",
      "Удержание комиссии за операцию\n",
      "Удержание комиссии за операцию | share | BBG000C3J3C9 | 328043439600 | 2021-11-10 15:12:22.710000+00:00 | MoneyValue(currency='usd', units=0, nano=-40000000) | MoneyValue(currency='usd', units=0, nano=0) | OperationState.OPERATION_STATE_EXECUTED | 0 | Удержание комиссии за операцию\n",
      "Продажа ценных бумаг | share | BBG000R7Z112 |  | 2021-11-10 11:49:09.590000+00:00 | MoneyValue(currency='usd', units=307, nano=100000000) | MoneyValue(currency='usd', units=43, nano=871429000) | OperationState.OPERATION_STATE_EXECUTED | 7 | Продажа ценных бумаг\n",
      "Удержание комиссии за операцию\n",
      "Удержание комиссии за операцию | share | BBG000R7Z112 | 23019920 | 2021-11-10 11:49:10.590000+00:00 | MoneyValue(currency='usd', units=0, nano=-120000000) | MoneyValue(currency='usd', units=0, nano=0) | OperationState.OPERATION_STATE_EXECUTED | 0 | Удержание комиссии за операцию\n",
      "Покупка ценных бумаг | share | BBG00HMJ9H54 |  | 2021-11-08 07:10:06.541000+00:00 | MoneyValue(currency='usd', units=-99, nano=-490000000) | MoneyValue(currency='usd', units=9, nano=949000000) | OperationState.OPERATION_STATE_EXECUTED | 10 | Покупка ценных бумаг\n",
      "Удержание комиссии за операцию\n",
      "Удержание комиссии за операцию | share | BBG00HMJ9H54 | 22086804 | 2021-11-08 07:10:07.541000+00:00 | MoneyValue(currency='usd', units=0, nano=-40000000) | MoneyValue(currency='usd', units=0, nano=0) | OperationState.OPERATION_STATE_EXECUTED | 0 | Удержание комиссии за операцию\n",
      "Покупка ценных бумаг | share | BBG00K20GVD2 |  | 2021-11-08 07:09:13.115000+00:00 | MoneyValue(currency='usd', units=-68, nano=-110000000) | MoneyValue(currency='usd', units=34, nano=55000000) | OperationState.OPERATION_STATE_EXECUTED | 2 | Покупка ценных бумаг\n",
      "Удержание комиссии за операцию\n",
      "Удержание комиссии за операцию | share | BBG00K20GVD2 | 22085806 | 2021-11-08 07:09:14.115000+00:00 | MoneyValue(currency='usd', units=0, nano=-30000000) | MoneyValue(currency='usd', units=0, nano=0) | OperationState.OPERATION_STATE_EXECUTED | 0 | Удержание комиссии за операцию\n",
      "Покупка ценных бумаг | share | BBG008HNS333 |  | 2021-11-08 06:08:22.551000+00:00 | MoneyValue(currency='usd', units=-85, nano=-940000000) | MoneyValue(currency='usd', units=17, nano=188000000) | OperationState.OPERATION_STATE_EXECUTED | 5 | Покупка ценных бумаг\n",
      "Удержание комиссии за операцию\n",
      "Удержание комиссии за операцию | share | BBG008HNS333 | 22067209 | 2021-11-08 06:08:23.551000+00:00 | MoneyValue(currency='usd', units=0, nano=-30000000) | MoneyValue(currency='usd', units=0, nano=0) | OperationState.OPERATION_STATE_EXECUTED | 0 | Удержание комиссии за операцию\n",
      "Покупка ценных бумаг | share | BBG000BM2FL9 |  | 2021-11-08 05:59:38.715000+00:00 | MoneyValue(currency='usd', units=-103, nano=-290000000) | MoneyValue(currency='usd', units=9, nano=390000000) | OperationState.OPERATION_STATE_EXECUTED | 11 | Покупка ценных бумаг\n",
      "Удержание комиссии за операцию\n",
      "Удержание комиссии за операцию | share | BBG000BM2FL9 | 326552676850 | 2021-11-08 05:59:39.715000+00:00 | MoneyValue(currency='usd', units=0, nano=-40000000) | MoneyValue(currency='usd', units=0, nano=0) | OperationState.OPERATION_STATE_EXECUTED | 0 | Удержание комиссии за операцию\n",
      "Продажа ценных бумаг | share | BBG005Q3MQY4 |  | 2021-11-05 20:43:19.893000+00:00 | MoneyValue(currency='usd', units=36, nano=60000000) | MoneyValue(currency='usd', units=18, nano=30000000) | OperationState.OPERATION_STATE_EXECUTED | 2 | Продажа ценных бумаг\n",
      "Удержание комиссии за операцию\n",
      "Удержание комиссии за операцию | share | BBG005Q3MQY4 | 326543671590 | 2021-11-05 20:43:20.893000+00:00 | MoneyValue(currency='usd', units=0, nano=-20000000) | MoneyValue(currency='usd', units=0, nano=0) | OperationState.OPERATION_STATE_EXECUTED | 0 | Удержание комиссии за операцию\n",
      "Продажа ценных бумаг | share | BBG000BF6LY3 |  | 2021-11-04 14:52:20.827000+00:00 | MoneyValue(currency='usd', units=115, nano=100000000) | MoneyValue(currency='usd', units=23, nano=20000000) | OperationState.OPERATION_STATE_EXECUTED | 5 | Продажа ценных бумаг\n",
      "Удержание комиссии за операцию\n",
      "Удержание комиссии за операцию | share | BBG000BF6LY3 | 325631030650 | 2021-11-04 14:52:21.827000+00:00 | MoneyValue(currency='usd', units=0, nano=-50000000) | MoneyValue(currency='usd', units=0, nano=0) | OperationState.OPERATION_STATE_EXECUTED | 0 | Удержание комиссии за операцию\n",
      "Продажа ценных бумаг | share | BBG000BK9YW3 |  | 2021-11-04 13:32:01.650000+00:00 | MoneyValue(currency='usd', units=64, nano=0) | MoneyValue(currency='usd', units=64, nano=0) | OperationState.OPERATION_STATE_EXECUTED | 1 | Продажа ценных бумаг\n",
      "Удержание комиссии за операцию\n",
      "Удержание комиссии за операцию | share | BBG000BK9YW3 | 325519652640 | 2021-11-04 13:32:02.650000+00:00 | MoneyValue(currency='usd', units=0, nano=-30000000) | MoneyValue(currency='usd', units=0, nano=0) | OperationState.OPERATION_STATE_EXECUTED | 0 | Удержание комиссии за операцию\n",
      "Покупка ценных бумаг | share | BBG000BK9YW3 |  | 2021-11-03 13:24:06.092000+00:00 | MoneyValue(currency='usd', units=-51, nano=-690000000) | MoneyValue(currency='usd', units=51, nano=690000000) | OperationState.OPERATION_STATE_EXECUTED | 1 | Покупка ценных бумаг\n",
      "Удержание комиссии за операцию\n",
      "Удержание комиссии за операцию | share | BBG000BK9YW3 | 20782969 | 2021-11-03 13:24:07.092000+00:00 | MoneyValue(currency='usd', units=0, nano=-20000000) | MoneyValue(currency='usd', units=0, nano=0) | OperationState.OPERATION_STATE_EXECUTED | 0 | Удержание комиссии за операцию\n",
      "Покупка ценных бумаг | share | BBG00BTK1DT8 |  | 2021-11-03 10:49:57.213000+00:00 | MoneyValue(currency='usd', units=-70, nano=-850000000) | MoneyValue(currency='usd', units=17, nano=712500000) | OperationState.OPERATION_STATE_EXECUTED | 4 | Покупка ценных бумаг\n",
      "Удержание комиссии за операцию\n",
      "Удержание комиссии за операцию | share | BBG00BTK1DT8 | 20731392 | 2021-11-03 10:49:58.213000+00:00 | MoneyValue(currency='usd', units=0, nano=-30000000) | MoneyValue(currency='usd', units=0, nano=0) | OperationState.OPERATION_STATE_EXECUTED | 0 | Удержание комиссии за операцию\n",
      "Покупка ценных бумаг | share | BBG000BK9YW3 |  | 2021-11-03 08:30:17.025000+00:00 | MoneyValue(currency='usd', units=0, nano=0) | MoneyValue(currency='usd', units=55, nano=0) | OperationState.OPERATION_STATE_CANCELED | 2 | Покупка ценных бумаг\n",
      "Покупка ценных бумаг | share | BBG000BK9YW3 |  | 2021-11-02 22:17:07.354000+00:00 | MoneyValue(currency='usd', units=0, nano=0) | MoneyValue(currency='usd', units=55, nano=0) | OperationState.OPERATION_STATE_CANCELED | 4 | Покупка ценных бумаг\n",
      "Продажа ценных бумаг | share | BBG000BK9YW3 |  | 2021-11-02 18:29:19.806000+00:00 | MoneyValue(currency='usd', units=204, nano=0) | MoneyValue(currency='usd', units=68, nano=0) | OperationState.OPERATION_STATE_EXECUTED | 3 | Продажа ценных бумаг\n",
      "Удержание комиссии за операцию\n",
      "Удержание комиссии за операцию | share | BBG000BK9YW3 | 324743401560 | 2021-11-02 18:29:20.806000+00:00 | MoneyValue(currency='usd', units=0, nano=-80000000) | MoneyValue(currency='usd', units=0, nano=0) | OperationState.OPERATION_STATE_EXECUTED | 0 | Удержание комиссии за операцию\n",
      "Покупка ценных бумаг | share | BBG000PTSB12 |  | 2021-11-02 13:32:50.098000+00:00 | MoneyValue(currency='usd', units=0, nano=0) | MoneyValue(currency='usd', units=35, nano=500000000) | OperationState.OPERATION_STATE_CANCELED | 3 | Покупка ценных бумаг\n",
      "Покупка ценных бумаг | share | BBG000PTSB12 |  | 2021-11-02 09:44:31.758000+00:00 | MoneyValue(currency='usd', units=0, nano=0) | MoneyValue(currency='usd', units=35, nano=500000000) | OperationState.OPERATION_STATE_CANCELED | 2 | Покупка ценных бумаг\n",
      "Продажа ценных бумаг | share | BBG000PTSB12 |  | 2021-11-02 09:38:32.314000+00:00 | MoneyValue(currency='usd', units=74, nano=20000000) | MoneyValue(currency='usd', units=37, nano=10000000) | OperationState.OPERATION_STATE_EXECUTED | 2 | Продажа ценных бумаг\n",
      "Удержание комиссии за операцию\n",
      "Удержание комиссии за операцию | share | BBG000PTSB12 | 324336085880 | 2021-11-02 09:38:33.314000+00:00 | MoneyValue(currency='usd', units=0, nano=-20000000) | MoneyValue(currency='usd', units=0, nano=0) | OperationState.OPERATION_STATE_EXECUTED | 0 | Удержание комиссии за операцию\n",
      "Продажа ценных бумаг | share | BBG000CMRVH1 |  | 2021-11-02 07:06:16.127000+00:00 | MoneyValue(currency='usd', units=0, nano=0) | MoneyValue(currency='usd', units=14, nano=900000000) | OperationState.OPERATION_STATE_CANCELED | 5 | Продажа ценных бумаг\n",
      "Покупка ценных бумаг | share | BBG000CMRVH1 |  | 2021-11-02 06:55:18.242000+00:00 | MoneyValue(currency='usd', units=-71, nano=-900000000) | MoneyValue(currency='usd', units=14, nano=380000000) | OperationState.OPERATION_STATE_EXECUTED | 5 | Покупка ценных бумаг\n",
      "Удержание комиссии за операцию\n",
      "Удержание комиссии за операцию | share | BBG000CMRVH1 | 324260701140 | 2021-11-02 06:55:19.242000+00:00 | MoneyValue(currency='usd', units=0, nano=-30000000) | MoneyValue(currency='usd', units=0, nano=0) | OperationState.OPERATION_STATE_EXECUTED | 0 | Удержание комиссии за операцию\n",
      "Покупка ценных бумаг | share | BBG000FVXD63 |  | 2021-11-01 13:57:11.678000+00:00 | MoneyValue(currency='usd', units=-119, nano=-240000000) | MoneyValue(currency='usd', units=23, nano=848000000) | OperationState.OPERATION_STATE_EXECUTED | 5 | Покупка ценных бумаг\n",
      "Удержание комиссии за операцию\n",
      "Удержание комиссии за операцию | share | BBG000FVXD63 | 20037126 | 2021-11-01 13:57:12.678000+00:00 | MoneyValue(currency='usd', units=0, nano=-50000000) | MoneyValue(currency='usd', units=0, nano=0) | OperationState.OPERATION_STATE_EXECUTED | 0 | Удержание комиссии за операцию\n",
      "Продажа ценных бумаг | share | BBG0016XJ8S0 |  | 2021-11-01 13:52:53.574000+00:00 | MoneyValue(currency='usd', units=106, nano=750000000) | MoneyValue(currency='usd', units=4, nano=270000000) | OperationState.OPERATION_STATE_EXECUTED | 25 | Продажа ценных бумаг\n",
      "Удержание комиссии за операцию\n"
     ]
    },
    {
     "name": "stdout",
     "output_type": "stream",
     "text": [
      "Удержание комиссии за операцию | share | BBG0016XJ8S0 | 323887733960 | 2021-11-01 13:52:54.574000+00:00 | MoneyValue(currency='usd', units=0, nano=-40000000) | MoneyValue(currency='usd', units=0, nano=0) | OperationState.OPERATION_STATE_EXECUTED | 0 | Удержание комиссии за операцию\n",
      "Продажа ценных бумаг | share | BBG000PTSB12 |  | 2021-11-01 11:40:06.219000+00:00 | MoneyValue(currency='usd', units=0, nano=0) | MoneyValue(currency='usd', units=37, nano=0) | OperationState.OPERATION_STATE_CANCELED | 2 | Продажа ценных бумаг\n",
      "Удержание комиссии за обслуживание брокерского счёта |  |  |  | 2021-11-01 11:37:54+00:00 | MoneyValue(currency='usd', units=-4, nano=-110000000) | MoneyValue(currency='usd', units=0, nano=0) | OperationState.OPERATION_STATE_EXECUTED | 0 | Удержание комиссии за обслуживание брокерского счёта\n",
      "Продажа ценных бумаг | share | BBG000P7S7L7 |  | 2021-11-01 11:12:41.844000+00:00 | MoneyValue(currency='usd', units=14, nano=800000000) | MoneyValue(currency='usd', units=7, nano=400000000) | OperationState.OPERATION_STATE_EXECUTED | 2 | Продажа ценных бумаг\n",
      "Удержание комиссии за операцию\n",
      "Удержание комиссии за операцию | share | BBG000P7S7L7 | 323795372620 | 2021-11-01 11:12:42.844000+00:00 | MoneyValue(currency='usd', units=0, nano=-10000000) | MoneyValue(currency='usd', units=0, nano=0) | OperationState.OPERATION_STATE_EXECUTED | 0 | Удержание комиссии за операцию\n",
      "Покупка ценных бумаг | share | BBG000PTSB12 |  | 2021-11-01 11:08:52.541000+00:00 | MoneyValue(currency='usd', units=0, nano=0) | MoneyValue(currency='usd', units=35, nano=0) | OperationState.OPERATION_STATE_CANCELED | 2 | Покупка ценных бумаг\n",
      "Покупка ценных бумаг | share | BBG000PTSB12 |  | 2021-11-01 09:48:35.809000+00:00 | MoneyValue(currency='usd', units=0, nano=0) | MoneyValue(currency='usd', units=35, nano=0) | OperationState.OPERATION_STATE_CANCELED | 2 | Покупка ценных бумаг\n",
      "Продажа ценных бумаг | share | BBG000PTSB12 |  | 2021-11-01 08:26:07.431000+00:00 | MoneyValue(currency='usd', units=71, nano=600000000) | MoneyValue(currency='usd', units=35, nano=800000000) | OperationState.OPERATION_STATE_EXECUTED | 2 | Продажа ценных бумаг\n",
      "Удержание комиссии за операцию\n",
      "Удержание комиссии за операцию | share | BBG000PTSB12 | 323719932100 | 2021-11-01 08:26:08.431000+00:00 | MoneyValue(currency='usd', units=0, nano=-220000000) | MoneyValue(currency='usd', units=0, nano=0) | OperationState.OPERATION_STATE_EXECUTED | 0 | Удержание комиссии за операцию\n",
      "Покупка ценных бумаг | share | BBG000C0G1D1 |  | 2021-11-01 08:23:30.410000+00:00 | MoneyValue(currency='usd', units=-98, nano=-690000000) | MoneyValue(currency='usd', units=49, nano=345000000) | OperationState.OPERATION_STATE_EXECUTED | 2 | Покупка ценных бумаг\n",
      "Удержание комиссии за операцию\n",
      "Удержание комиссии за операцию | share | BBG000C0G1D1 | 19913244 | 2021-11-01 08:23:31.410000+00:00 | MoneyValue(currency='usd', units=0, nano=-300000000) | MoneyValue(currency='usd', units=0, nano=0) | OperationState.OPERATION_STATE_EXECUTED | 0 | Удержание комиссии за операцию\n",
      "Покупка ценных бумаг | share | BBG0016XJ8S0 |  | 2021-10-29 19:51:45.297000+00:00 | MoneyValue(currency='usd', units=-102, nano=-250000000) | MoneyValue(currency='usd', units=4, nano=90000000) | OperationState.OPERATION_STATE_EXECUTED | 25 | Покупка ценных бумаг\n",
      "Удержание комиссии за операцию\n",
      "Удержание комиссии за операцию | share | BBG0016XJ8S0 | 323648623410 | 2021-10-29 19:51:46.297000+00:00 | MoneyValue(currency='usd', units=0, nano=-310000000) | MoneyValue(currency='usd', units=0, nano=0) | OperationState.OPERATION_STATE_EXECUTED | 0 | Удержание комиссии за операцию\n",
      "Продажа ценных бумаг | share | BBG000P7S7L7 |  | 2021-10-29 19:36:21.052000+00:00 | MoneyValue(currency='usd', units=0, nano=0) | MoneyValue(currency='usd', units=7, nano=340000000) | OperationState.OPERATION_STATE_CANCELED | 2 | Продажа ценных бумаг\n",
      "Продажа ценных бумаг | share | BBG0320C1036 |  | 2021-10-28 19:36:57.018000+00:00 | MoneyValue(currency='usd', units=91, nano=0) | MoneyValue(currency='usd', units=9, nano=100000000) | OperationState.OPERATION_STATE_EXECUTED | 10 | Продажа ценных бумаг\n",
      "Удержание комиссии за операцию\n",
      "Удержание комиссии за операцию | share | BBG0320C1036 | 323034742790 | 2021-10-28 19:36:58.018000+00:00 | MoneyValue(currency='usd', units=0, nano=-270000000) | MoneyValue(currency='usd', units=0, nano=0) | OperationState.OPERATION_STATE_EXECUTED | 0 | Удержание комиссии за операцию\n",
      "Покупка ценных бумаг | share | BBG009HSTZ10 |  | 2021-10-28 16:37:01.733000+00:00 | MoneyValue(currency='usd', units=-104, nano=-870000000) | MoneyValue(currency='usd', units=8, nano=739167000) | OperationState.OPERATION_STATE_EXECUTED | 12 | Покупка ценных бумаг\n",
      "Удержание комиссии за операцию\n",
      "Удержание комиссии за операцию | share | BBG009HSTZ10 | 19586325 | 2021-10-28 16:37:02.733000+00:00 | MoneyValue(currency='usd', units=0, nano=-310000000) | MoneyValue(currency='usd', units=0, nano=0) | OperationState.OPERATION_STATE_EXECUTED | 0 | Удержание комиссии за операцию\n",
      "Покупка ценных бумаг | share | BBG000R7Z112 |  | 2021-10-28 13:33:30.056000+00:00 | MoneyValue(currency='usd', units=-77, nano=-960000000) | MoneyValue(currency='usd', units=38, nano=980000000) | OperationState.OPERATION_STATE_EXECUTED | 2 | Покупка ценных бумаг\n",
      "Удержание комиссии за операцию\n",
      "Удержание комиссии за операцию | share | BBG000R7Z112 | 322629441750 | 2021-10-28 13:33:31.056000+00:00 | MoneyValue(currency='usd', units=0, nano=-230000000) | MoneyValue(currency='usd', units=0, nano=0) | OperationState.OPERATION_STATE_EXECUTED | 0 | Удержание комиссии за операцию\n",
      "Покупка ценных бумаг | share | BBG000BN5LG7 |  | 2021-10-26 22:00:19.443000+00:00 | MoneyValue(currency='usd', units=-110, nano=-400000000) | MoneyValue(currency='usd', units=13, nano=800000000) | OperationState.OPERATION_STATE_EXECUTED | 8 | Покупка ценных бумаг\n",
      "Удержание комиссии за операцию\n",
      "Удержание комиссии за операцию | share | BBG000BN5LG7 | 321759325120 | 2021-10-26 22:00:20.443000+00:00 | MoneyValue(currency='usd', units=0, nano=-330000000) | MoneyValue(currency='usd', units=0, nano=0) | OperationState.OPERATION_STATE_EXECUTED | 0 | Удержание комиссии за операцию\n",
      "Покупка ценных бумаг | share | BBG008HNS333 |  | 2021-10-26 13:54:46.903000+00:00 | MoneyValue(currency='usd', units=-37, nano=-300000000) | MoneyValue(currency='usd', units=18, nano=650000000) | OperationState.OPERATION_STATE_EXECUTED | 2 | Покупка ценных бумаг\n",
      "Удержание комиссии за операцию\n",
      "Удержание комиссии за операцию | share | BBG008HNS333 | 321341517830 | 2021-10-26 13:54:47.903000+00:00 | MoneyValue(currency='usd', units=0, nano=-110000000) | MoneyValue(currency='usd', units=0, nano=0) | OperationState.OPERATION_STATE_EXECUTED | 0 | Удержание комиссии за операцию\n",
      "Покупка ценных бумаг | share | BBG000PTSB12 |  | 2021-10-26 13:50:20.495000+00:00 | MoneyValue(currency='usd', units=-67, nano=-470000000) | MoneyValue(currency='usd', units=33, nano=735000000) | OperationState.OPERATION_STATE_EXECUTED | 2 | Покупка ценных бумаг\n",
      "Удержание комиссии за операцию\n",
      "Удержание комиссии за операцию | share | BBG000PTSB12 | 18976770 | 2021-10-26 13:50:21.495000+00:00 | MoneyValue(currency='usd', units=0, nano=-200000000) | MoneyValue(currency='usd', units=0, nano=0) | OperationState.OPERATION_STATE_EXECUTED | 0 | Удержание комиссии за операцию\n",
      "Покупка ценных бумаг | share | BBG000C3J3C9 |  | 2021-10-26 07:50:16.720000+00:00 | MoneyValue(currency='usd', units=-110, nano=-480000000) | MoneyValue(currency='usd', units=55, nano=240000000) | OperationState.OPERATION_STATE_EXECUTED | 2 | Покупка ценных бумаг\n",
      "Удержание комиссии за операцию\n",
      "Удержание комиссии за операцию | share | BBG000C3J3C9 | 321103319930 | 2021-10-26 07:50:17.720000+00:00 | MoneyValue(currency='usd', units=0, nano=-330000000) | MoneyValue(currency='usd', units=0, nano=0) | OperationState.OPERATION_STATE_EXECUTED | 0 | Удержание комиссии за операцию\n",
      "Продажа ценных бумаг | share | BBG00VJ17DS2 |  | 2021-10-25 18:30:08.010000+00:00 | MoneyValue(currency='usd', units=125, nano=0) | MoneyValue(currency='usd', units=25, nano=0) | OperationState.OPERATION_STATE_EXECUTED | 5 | Продажа ценных бумаг\n",
      "Удержание комиссии за операцию\n",
      "Удержание комиссии за операцию | share | BBG00VJ17DS2 | 320987427290 | 2021-10-25 18:30:09.010000+00:00 | MoneyValue(currency='usd', units=0, nano=-380000000) | MoneyValue(currency='usd', units=0, nano=0) | OperationState.OPERATION_STATE_EXECUTED | 0 | Удержание комиссии за операцию\n",
      "Покупка ценных бумаг | share | BBG00VJ17DS2 |  | 2021-10-22 17:14:28.587000+00:00 | MoneyValue(currency='usd', units=-115, nano=-100000000) | MoneyValue(currency='usd', units=23, nano=20000000) | OperationState.OPERATION_STATE_EXECUTED | 5 | Покупка ценных бумаг\n",
      "Удержание комиссии за операцию\n",
      "Удержание комиссии за операцию | share | BBG00VJ17DS2 | 320365013330 | 2021-10-22 17:14:29.587000+00:00 | MoneyValue(currency='usd', units=0, nano=-350000000) | MoneyValue(currency='usd', units=0, nano=0) | OperationState.OPERATION_STATE_EXECUTED | 0 | Удержание комиссии за операцию\n",
      "Покупка ценных бумаг | share | BBG000BF6LY3 |  | 2021-10-22 17:04:42.593000+00:00 | MoneyValue(currency='usd', units=-110, nano=-140000000) | MoneyValue(currency='usd', units=22, nano=28000000) | OperationState.OPERATION_STATE_EXECUTED | 5 | Покупка ценных бумаг\n",
      "Удержание комиссии за операцию\n",
      "Удержание комиссии за операцию | share | BBG000BF6LY3 | 18567126 | 2021-10-22 17:04:43.593000+00:00 | MoneyValue(currency='usd', units=0, nano=-330000000) | MoneyValue(currency='usd', units=0, nano=0) | OperationState.OPERATION_STATE_EXECUTED | 0 | Удержание комиссии за операцию\n",
      "Покупка ценных бумаг | share | BBG000PTSB12 |  | 2021-10-22 16:03:32.212000+00:00 | MoneyValue(currency='usd', units=-67, nano=-980000000) | MoneyValue(currency='usd', units=33, nano=990000000) | OperationState.OPERATION_STATE_EXECUTED | 2 | Покупка ценных бумаг\n",
      "Удержание комиссии за операцию\n",
      "Удержание комиссии за операцию | share | BBG000PTSB12 | 320302892420 | 2021-10-22 16:03:33.212000+00:00 | MoneyValue(currency='usd', units=0, nano=-200000000) | MoneyValue(currency='usd', units=0, nano=0) | OperationState.OPERATION_STATE_EXECUTED | 0 | Удержание комиссии за операцию\n",
      "Покупка ценных бумаг | share | BBG000R7Z112 |  | 2021-10-22 13:30:47.311000+00:00 | MoneyValue(currency='usd', units=-39, nano=-990000000) | MoneyValue(currency='usd', units=39, nano=990000000) | OperationState.OPERATION_STATE_EXECUTED | 1 | Покупка ценных бумаг\n",
      "Удержание комиссии за операцию\n",
      "Удержание комиссии за операцию | share | BBG000R7Z112 | 320086525880 | 2021-10-22 13:30:48.311000+00:00 | MoneyValue(currency='usd', units=0, nano=-120000000) | MoneyValue(currency='usd', units=0, nano=0) | OperationState.OPERATION_STATE_EXECUTED | 0 | Удержание комиссии за операцию\n",
      "Покупка ценных бумаг | share | BBG000R7Z112 |  | 2021-10-21 15:16:08.207000+00:00 | MoneyValue(currency='usd', units=0, nano=0) | MoneyValue(currency='usd', units=39, nano=0) | OperationState.OPERATION_STATE_CANCELED | 2 | Покупка ценных бумаг\n",
      "Покупка ценных бумаг | share | BBG000PTSB12 |  | 2021-10-21 14:14:23.021000+00:00 | MoneyValue(currency='usd', units=0, nano=0) | MoneyValue(currency='usd', units=34, nano=0) | OperationState.OPERATION_STATE_CANCELED | 2 | Покупка ценных бумаг\n",
      "Продажа ценных бумаг | share | BBG000PTSB12 |  | 2021-10-21 14:13:16.553000+00:00 | MoneyValue(currency='usd', units=178, nano=200000000) | MoneyValue(currency='usd', units=35, nano=640000000) | OperationState.OPERATION_STATE_EXECUTED | 5 | Продажа ценных бумаг\n",
      "Удержание комиссии за операцию\n",
      "Удержание комиссии за операцию | share | BBG000PTSB12 | 319606679640 | 2021-10-21 14:13:17.553000+00:00 | MoneyValue(currency='usd', units=0, nano=-530000000) | MoneyValue(currency='usd', units=0, nano=0) | OperationState.OPERATION_STATE_EXECUTED | 0 | Удержание комиссии за операцию\n",
      "Продажа ценных бумаг | share | BBG008HNS333 |  | 2021-10-21 04:07:29.820000+00:00 | MoneyValue(currency='usd', units=21, nano=0) | MoneyValue(currency='usd', units=21, nano=0) | OperationState.OPERATION_STATE_EXECUTED | 2 | Продажа ценных бумаг\n",
      "Удержание комиссии за операцию\n",
      "Удержание комиссии за операцию | share | BBG008HNS333 | 319385893570 | 2021-10-21 04:07:30.820000+00:00 | MoneyValue(currency='usd', units=0, nano=-60000000) | MoneyValue(currency='usd', units=0, nano=0) | OperationState.OPERATION_STATE_EXECUTED | 0 | Удержание комиссии за операцию\n",
      "Покупка ценных бумаг | share | BBG0320C1036 |  | 2021-10-20 22:24:22.663000+00:00 | MoneyValue(currency='usd', units=-37, nano=-350000000) | MoneyValue(currency='usd', units=7, nano=470000000) | OperationState.OPERATION_STATE_EXECUTED | 5 | Покупка ценных бумаг\n",
      "Удержание комиссии за операцию\n",
      "Удержание комиссии за операцию | share | BBG0320C1036 | 319384979820 | 2021-10-20 22:24:23.663000+00:00 | MoneyValue(currency='usd', units=0, nano=-100000000) | MoneyValue(currency='usd', units=0, nano=0) | OperationState.OPERATION_STATE_EXECUTED | 0 | Удержание комиссии за операцию\n",
      "Продажа ценных бумаг | share | BBG008HNS333 |  | 2021-10-20 19:18:19.928000+00:00 | MoneyValue(currency='usd', units=41, nano=160000000) | MoneyValue(currency='usd', units=20, nano=580000000) | OperationState.OPERATION_STATE_EXECUTED | 2 | Продажа ценных бумаг\n",
      "Удержание комиссии за операцию\n",
      "Удержание комиссии за операцию | share | BBG008HNS333 | 319346893970 | 2021-10-20 19:18:20.928000+00:00 | MoneyValue(currency='usd', units=0, nano=-120000000) | MoneyValue(currency='usd', units=0, nano=0) | OperationState.OPERATION_STATE_EXECUTED | 0 | Удержание комиссии за операцию\n",
      "Продажа ценных бумаг | share | BBG002NLDLV8 |  | 2021-10-20 13:31:02.162000+00:00 | MoneyValue(currency='usd', units=51, nano=600000000) | MoneyValue(currency='usd', units=12, nano=900000000) | OperationState.OPERATION_STATE_EXECUTED | 4 | Продажа ценных бумаг\n",
      "Удержание комиссии за операцию\n",
      "Удержание комиссии за операцию | share | BBG002NLDLV8 | 318996885270 | 2021-10-20 13:31:03.162000+00:00 | MoneyValue(currency='usd', units=0, nano=-150000000) | MoneyValue(currency='usd', units=0, nano=0) | OperationState.OPERATION_STATE_EXECUTED | 0 | Удержание комиссии за операцию\n",
      "Продажа ценных бумаг | share | BBG0016XJ8S0 |  | 2021-10-19 15:31:40.977000+00:00 | MoneyValue(currency='usd', units=24, nano=400000000) | MoneyValue(currency='usd', units=4, nano=880000000) | OperationState.OPERATION_STATE_EXECUTED | 5 | Продажа ценных бумаг\n",
      "Удержание комиссии за операцию\n",
      "Удержание комиссии за операцию | share | BBG0016XJ8S0 | 318643140900 | 2021-10-19 15:31:41.977000+00:00 | MoneyValue(currency='usd', units=0, nano=-70000000) | MoneyValue(currency='usd', units=0, nano=0) | OperationState.OPERATION_STATE_EXECUTED | 0 | Удержание комиссии за операцию\n",
      "Покупка ценных бумаг | share | BBG0016XJ8S0 |  | 2021-10-18 13:50:32.552000+00:00 | MoneyValue(currency='usd', units=-23, nano=-450000000) | MoneyValue(currency='usd', units=4, nano=690000000) | OperationState.OPERATION_STATE_EXECUTED | 5 | Покупка ценных бумаг\n",
      "Удержание комиссии за операцию\n",
      "Удержание комиссии за операцию | share | BBG0016XJ8S0 | 317971888920 | 2021-10-18 13:50:33.552000+00:00 | MoneyValue(currency='usd', units=0, nano=-70000000) | MoneyValue(currency='usd', units=0, nano=0) | OperationState.OPERATION_STATE_EXECUTED | 0 | Удержание комиссии за операцию\n",
      "Продажа ценных бумаг | share | BBG000PTSB12 |  | 2021-10-18 12:44:26.337000+00:00 | MoneyValue(currency='usd', units=175, nano=0) | MoneyValue(currency='usd', units=35, nano=0) | OperationState.OPERATION_STATE_EXECUTED | 5 | Продажа ценных бумаг\n",
      "Удержание комиссии за операцию\n",
      "Удержание комиссии за операцию | share | BBG000PTSB12 | 317907488350 | 2021-10-18 12:44:27.337000+00:00 | MoneyValue(currency='usd', units=0, nano=-530000000) | MoneyValue(currency='usd', units=0, nano=0) | OperationState.OPERATION_STATE_EXECUTED | 0 | Удержание комиссии за операцию\n",
      "Покупка ценных бумаг | share | BBG000R7Z112 |  | 2021-10-18 11:13:51.953000+00:00 | MoneyValue(currency='usd', units=-81, nano=-760000000) | MoneyValue(currency='usd', units=40, nano=880000000) | OperationState.OPERATION_STATE_EXECUTED | 2 | Покупка ценных бумаг\n",
      "Удержание комиссии за операцию\n",
      "Удержание комиссии за операцию | share | BBG000R7Z112 | 317850667310 | 2021-10-18 11:13:52.953000+00:00 | MoneyValue(currency='usd', units=0, nano=-250000000) | MoneyValue(currency='usd', units=0, nano=0) | OperationState.OPERATION_STATE_EXECUTED | 0 | Удержание комиссии за операцию\n",
      "Покупка ценных бумаг | share | BBG0320C1036 |  | 2021-10-18 11:11:17.791000+00:00 | MoneyValue(currency='usd', units=0, nano=0) | MoneyValue(currency='usd', units=6, nano=500000000) | OperationState.OPERATION_STATE_CANCELED | 10 | Покупка ценных бумаг\n",
      "Продажа ценных бумаг | share | BBG000QGWY50 |  | 2021-10-15 16:12:57.174000+00:00 | MoneyValue(currency='usd', units=42, nano=0) | MoneyValue(currency='usd', units=21, nano=0) | OperationState.OPERATION_STATE_EXECUTED | 2 | Продажа ценных бумаг\n",
      "Удержание комиссии за операцию\n",
      "Удержание комиссии за операцию | share | BBG000QGWY50 | 317560202690 | 2021-10-15 16:12:58.174000+00:00 | MoneyValue(currency='usd', units=0, nano=-130000000) | MoneyValue(currency='usd', units=0, nano=0) | OperationState.OPERATION_STATE_EXECUTED | 0 | Удержание комиссии за операцию\n",
      "Продажа ценных бумаг | share | BBG00SHY90J5 |  | 2021-10-14 13:59:11.972000+00:00 | MoneyValue(currency='usd', units=24, nano=960000000) | MoneyValue(currency='usd', units=8, nano=320000000) | OperationState.OPERATION_STATE_EXECUTED | 3 | Продажа ценных бумаг\n",
      "Удержание комиссии за операцию\n",
      "Удержание комиссии за операцию | share | BBG00SHY90J5 | 316868088830 | 2021-10-14 13:59:12.972000+00:00 | MoneyValue(currency='usd', units=0, nano=-60000000) | MoneyValue(currency='usd', units=0, nano=0) | OperationState.OPERATION_STATE_EXECUTED | 0 | Удержание комиссии за операцию\n",
      "Покупка ценных бумаг | share | BBG005Q3MQY4 |  | 2021-10-13 21:41:11.234000+00:00 | MoneyValue(currency='usd', units=-31, nano=-340000000) | MoneyValue(currency='usd', units=15, nano=670000000) | OperationState.OPERATION_STATE_EXECUTED | 2 | Покупка ценных бумаг\n",
      "Удержание комиссии за операцию\n",
      "Удержание комиссии за операцию | share | BBG005Q3MQY4 | 316651155570 | 2021-10-13 21:41:12.234000+00:00 | MoneyValue(currency='usd', units=0, nano=-100000000) | MoneyValue(currency='usd', units=0, nano=0) | OperationState.OPERATION_STATE_EXECUTED | 0 | Удержание комиссии за операцию\n",
      "Покупка ценных бумаг | share | BBG004MN1R41 |  | 2021-10-13 13:17:13.117000+00:00 | MoneyValue(currency='usd', units=0, nano=0) | MoneyValue(currency='usd', units=19, nano=800000000) | OperationState.OPERATION_STATE_CANCELED | 5 | Покупка ценных бумаг\n",
      "Продажа ценных бумаг | share | BBG00W0KZD98 |  | 2021-10-11 19:46:11.224000+00:00 | MoneyValue(currency='usd', units=84, nano=780000000) | MoneyValue(currency='usd', units=28, nano=260000000) | OperationState.OPERATION_STATE_EXECUTED | 3 | Продажа ценных бумаг\n",
      "Удержание комиссии за операцию\n",
      "Удержание комиссии за операцию | share | BBG00W0KZD98 | 315367684380 | 2021-10-11 19:46:12.224000+00:00 | MoneyValue(currency='usd', units=0, nano=-250000000) | MoneyValue(currency='usd', units=0, nano=0) | OperationState.OPERATION_STATE_EXECUTED | 0 | Удержание комиссии за операцию\n",
      "Покупка ценных бумаг | share | BBG005MX5GZ2 |  | 2021-10-11 09:49:15.844000+00:00 | MoneyValue(currency='usd', units=-35, nano=-600000000) | MoneyValue(currency='usd', units=35, nano=600000000) | OperationState.OPERATION_STATE_EXECUTED | 1 | Покупка ценных бумаг\n",
      "Удержание комиссии за операцию\n",
      "Удержание комиссии за операцию | share | BBG005MX5GZ2 | 314901627630 | 2021-10-11 09:49:16.844000+00:00 | MoneyValue(currency='usd', units=0, nano=-110000000) | MoneyValue(currency='usd', units=0, nano=0) | OperationState.OPERATION_STATE_EXECUTED | 0 | Удержание комиссии за операцию\n",
      "Продажа ценных бумаг | share | BBG000PTSB12 |  | 2021-10-08 18:36:23.718000+00:00 | MoneyValue(currency='usd', units=200, nano=0) | MoneyValue(currency='usd', units=40, nano=0) | OperationState.OPERATION_STATE_EXECUTED | 5 | Продажа ценных бумаг\n",
      "Удержание комиссии за операцию\n",
      "Удержание комиссии за операцию | share | BBG000PTSB12 | 314770839410 | 2021-10-08 18:36:24.718000+00:00 | MoneyValue(currency='usd', units=0, nano=-600000000) | MoneyValue(currency='usd', units=0, nano=0) | OperationState.OPERATION_STATE_EXECUTED | 0 | Удержание комиссии за операцию\n",
      "Продажа ценных бумаг | share | BBG000PTSB12 |  | 2021-10-08 14:37:46.306000+00:00 | MoneyValue(currency='usd', units=149, nano=400000000) | MoneyValue(currency='usd', units=29, nano=880000000) | OperationState.OPERATION_STATE_EXECUTED | 5 | Продажа ценных бумаг\n",
      "Удержание комиссии за операцию\n",
      "Удержание комиссии за операцию | share | BBG000PTSB12 | 314539319370 | 2021-10-08 14:37:47.306000+00:00 | MoneyValue(currency='usd', units=0, nano=-450000000) | MoneyValue(currency='usd', units=0, nano=0) | OperationState.OPERATION_STATE_EXECUTED | 0 | Удержание комиссии за операцию\n",
      "Продажа ценных бумаг | share | BBG000PTSB12 |  | 2021-10-08 12:26:36.264000+00:00 | MoneyValue(currency='usd', units=700, nano=0) | MoneyValue(currency='usd', units=35, nano=0) | OperationState.OPERATION_STATE_EXECUTED | 20 | Продажа ценных бумаг\n",
      "Удержание комиссии за операцию\n",
      "Удержание комиссии за операцию | share | BBG000PTSB12 | 314366382820 | 2021-10-08 12:26:37.264000+00:00 | MoneyValue(currency='usd', units=-2, nano=-120000000) | MoneyValue(currency='usd', units=0, nano=0) | OperationState.OPERATION_STATE_EXECUTED | 0 | Удержание комиссии за операцию\n",
      "Продажа ценных бумаг | share | BBG000PTSB12 |  | 2021-10-08 12:19:23.484000+00:00 | MoneyValue(currency='usd', units=175, nano=760000000) | MoneyValue(currency='usd', units=35, nano=152000000) | OperationState.OPERATION_STATE_EXECUTED | 5 | Продажа ценных бумаг\n",
      "Удержание комиссии за операцию\n",
      "Удержание комиссии за операцию | share | BBG000PTSB12 | 16145178 | 2021-10-08 12:19:24.484000+00:00 | MoneyValue(currency='usd', units=0, nano=-530000000) | MoneyValue(currency='usd', units=0, nano=0) | OperationState.OPERATION_STATE_EXECUTED | 0 | Удержание комиссии за операцию\n",
      "Продажа ценных бумаг | share | BBG000PTSB12 |  | 2021-10-08 12:04:01.439000+00:00 | MoneyValue(currency='usd', units=175, nano=0) | MoneyValue(currency='usd', units=35, nano=0) | OperationState.OPERATION_STATE_EXECUTED | 5 | Продажа ценных бумаг\n",
      "Удержание комиссии за операцию\n",
      "Удержание комиссии за операцию | share | BBG000PTSB12 | 314360380590 | 2021-10-08 12:04:02.439000+00:00 | MoneyValue(currency='usd', units=0, nano=-530000000) | MoneyValue(currency='usd', units=0, nano=0) | OperationState.OPERATION_STATE_EXECUTED | 0 | Удержание комиссии за операцию\n",
      "Продажа ценных бумаг | share | BBG000PTSB12 |  | 2021-10-08 11:42:34.154000+00:00 | MoneyValue(currency='usd', units=0, nano=0) | MoneyValue(currency='usd', units=32, nano=0) | OperationState.OPERATION_STATE_CANCELED | 10 | Продажа ценных бумаг\n",
      "Продажа ценных бумаг | share | BBG000PTSB12 |  | 2021-10-08 11:35:10.713000+00:00 | MoneyValue(currency='usd', units=309, nano=810000000) | MoneyValue(currency='usd', units=30, nano=981000000) | OperationState.OPERATION_STATE_EXECUTED | 10 | Продажа ценных бумаг\n",
      "Удержание комиссии за операцию\n",
      "Удержание комиссии за операцию | share | BBG000PTSB12 | 16133898 | 2021-10-08 11:35:11.713000+00:00 | MoneyValue(currency='usd', units=0, nano=-930000000) | MoneyValue(currency='usd', units=0, nano=0) | OperationState.OPERATION_STATE_EXECUTED | 0 | Удержание комиссии за операцию\n",
      "Продажа ценных бумаг | share | BBG000PTSB12 |  | 2021-10-08 11:30:43.862000+00:00 | MoneyValue(currency='usd', units=1050, nano=0) | MoneyValue(currency='usd', units=35, nano=0) | OperationState.OPERATION_STATE_EXECUTED | 30 | Продажа ценных бумаг\n",
      "Удержание комиссии за операцию\n",
      "Удержание комиссии за операцию | share | BBG000PTSB12 | 314352216060 | 2021-10-08 11:30:44.862000+00:00 | MoneyValue(currency='usd', units=-3, nano=-150000000) | MoneyValue(currency='usd', units=0, nano=0) | OperationState.OPERATION_STATE_EXECUTED | 0 | Удержание комиссии за операцию\n",
      "Продажа ценных бумаг | share | BBG000PTSB12 |  | 2021-10-07 22:00:31.366000+00:00 | MoneyValue(currency='usd', units=180, nano=0) | MoneyValue(currency='usd', units=18, nano=0) | OperationState.OPERATION_STATE_EXECUTED | 10 | Продажа ценных бумаг\n",
      "Удержание комиссии за операцию\n",
      "Удержание комиссии за операцию | share | BBG000PTSB12 | 314228554390 | 2021-10-07 22:00:32.366000+00:00 | MoneyValue(currency='usd', units=0, nano=-540000000) | MoneyValue(currency='usd', units=0, nano=0) | OperationState.OPERATION_STATE_EXECUTED | 0 | Удержание комиссии за операцию\n",
      "Продажа ценных бумаг | share | BBG000PTSB12 |  | 2021-10-07 21:35:31.766000+00:00 | MoneyValue(currency='usd', units=0, nano=0) | MoneyValue(currency='usd', units=0, nano=0) | OperationState.OPERATION_STATE_CANCELED | 50 | Продажа ценных бумаг\n",
      "Продажа ценных бумаг | share | BBG000PTSB12 |  | 2021-10-07 20:05:49.790000+00:00 | MoneyValue(currency='usd', units=0, nano=0) | MoneyValue(currency='usd', units=21, nano=0) | OperationState.OPERATION_STATE_CANCELED | 10 | Продажа ценных бумаг\n",
      "Продажа ценных бумаг | share | BBG000PTSB12 |  | 2021-10-07 16:14:17.054000+00:00 | MoneyValue(currency='usd', units=97, nano=500000000) | MoneyValue(currency='usd', units=19, nano=500000000) | OperationState.OPERATION_STATE_EXECUTED | 5 | Продажа ценных бумаг\n",
      "Удержание комиссии за операцию\n",
      "Удержание комиссии за операцию | share | BBG000PTSB12 | 314042049420 | 2021-10-07 16:14:18.054000+00:00 | MoneyValue(currency='usd', units=0, nano=-290000000) | MoneyValue(currency='usd', units=0, nano=0) | OperationState.OPERATION_STATE_EXECUTED | 0 | Удержание комиссии за операцию\n",
      "Продажа ценных бумаг | share | BBG000QGWY50 |  | 2021-10-07 15:30:34.848000+00:00 | MoneyValue(currency='usd', units=38, nano=240000000) | MoneyValue(currency='usd', units=19, nano=120000000) | OperationState.OPERATION_STATE_EXECUTED | 2 | Продажа ценных бумаг\n",
      "Удержание комиссии за операцию\n",
      "Удержание комиссии за операцию | share | BBG000QGWY50 | 314002404050 | 2021-10-07 15:30:35.848000+00:00 | MoneyValue(currency='usd', units=0, nano=-110000000) | MoneyValue(currency='usd', units=0, nano=0) | OperationState.OPERATION_STATE_EXECUTED | 0 | Удержание комиссии за операцию\n",
      "Продажа ценных бумаг | share | BBG00W0KZD98 |  | 2021-10-07 14:11:45.191000+00:00 | MoneyValue(currency='usd', units=86, nano=730000000) | MoneyValue(currency='usd', units=28, nano=910000000) | OperationState.OPERATION_STATE_EXECUTED | 3 | Продажа ценных бумаг\n",
      "Удержание комиссии за операцию\n",
      "Удержание комиссии за операцию | share | BBG00W0KZD98 | 313895415880 | 2021-10-07 14:11:46.191000+00:00 | MoneyValue(currency='usd', units=0, nano=-260000000) | MoneyValue(currency='usd', units=0, nano=0) | OperationState.OPERATION_STATE_EXECUTED | 0 | Удержание комиссии за операцию\n",
      "Покупка ценных бумаг | share | BBG000LF8708 |  | 2021-10-07 13:24:25.650000+00:00 | MoneyValue(currency='usd', units=-29, nano=-220000000) | MoneyValue(currency='usd', units=14, nano=610000000) | OperationState.OPERATION_STATE_EXECUTED | 2 | Покупка ценных бумаг\n",
      "Удержание комиссии за операцию\n",
      "Удержание комиссии за операцию | share | BBG000LF8708 | 313796605300 | 2021-10-07 13:24:26.650000+00:00 | MoneyValue(currency='usd', units=0, nano=-90000000) | MoneyValue(currency='usd', units=0, nano=0) | OperationState.OPERATION_STATE_EXECUTED | 0 | Удержание комиссии за операцию\n",
      "Продажа ценных бумаг | share | BBG000PTSB12 |  | 2021-10-07 11:36:24.537000+00:00 | MoneyValue(currency='usd', units=96, nano=0) | MoneyValue(currency='usd', units=19, nano=200000000) | OperationState.OPERATION_STATE_EXECUTED | 5 | Продажа ценных бумаг\n",
      "Удержание комиссии за операцию\n",
      "Удержание комиссии за операцию | share | BBG000PTSB12 | 313762528650 | 2021-10-07 11:36:25.537000+00:00 | MoneyValue(currency='usd', units=0, nano=-290000000) | MoneyValue(currency='usd', units=0, nano=0) | OperationState.OPERATION_STATE_EXECUTED | 0 | Удержание комиссии за операцию\n",
      "Продажа ценных бумаг | share | BBG000BM2FL9 |  | 2021-10-05 14:58:34.968000+00:00 | MoneyValue(currency='usd', units=49, nano=650000000) | MoneyValue(currency='usd', units=9, nano=930000000) | OperationState.OPERATION_STATE_EXECUTED | 5 | Продажа ценных бумаг\n",
      "Удержание комиссии за операцию\n",
      "Удержание комиссии за операцию | share | BBG000BM2FL9 | 312478536450 | 2021-10-05 14:58:35.968000+00:00 | MoneyValue(currency='usd', units=0, nano=-150000000) | MoneyValue(currency='usd', units=0, nano=0) | OperationState.OPERATION_STATE_EXECUTED | 0 | Удержание комиссии за операцию\n",
      "Покупка ценных бумаг | share | BBG000BK9YW3 |  | 2021-10-01 13:45:02.220000+00:00 | MoneyValue(currency='usd', units=-59, nano=-240000000) | MoneyValue(currency='usd', units=59, nano=240000000) | OperationState.OPERATION_STATE_EXECUTED | 1 | Покупка ценных бумаг\n",
      "Удержание комиссии за операцию\n",
      "Удержание комиссии за операцию | share | BBG000BK9YW3 | 15116884 | 2021-10-01 13:45:03.220000+00:00 | MoneyValue(currency='usd', units=0, nano=-180000000) | MoneyValue(currency='usd', units=0, nano=0) | OperationState.OPERATION_STATE_EXECUTED | 0 | Удержание комиссии за операцию\n",
      "Покупка ценных бумаг | share | BBG005F1DK91 |  | 2021-09-30 14:42:49.637000+00:00 | MoneyValue(currency='usd', units=-136, nano=-400000000) | MoneyValue(currency='usd', units=13, nano=640000000) | OperationState.OPERATION_STATE_EXECUTED | 10 | Покупка ценных бумаг\n",
      "Удержание комиссии за операцию\n",
      "Удержание комиссии за операцию | share | BBG005F1DK91 | 309976450430 | 2021-09-30 14:42:50.637000+00:00 | MoneyValue(currency='usd', units=0, nano=-410000000) | MoneyValue(currency='usd', units=0, nano=0) | OperationState.OPERATION_STATE_EXECUTED | 0 | Удержание комиссии за операцию\n",
      "Покупка ценных бумаг | share | BBG005MX5GZ2 |  | 2021-09-29 14:18:10.298000+00:00 | MoneyValue(currency='usd', units=-45, nano=-660000000) | MoneyValue(currency='usd', units=45, nano=660000000) | OperationState.OPERATION_STATE_EXECUTED | 1 | Покупка ценных бумаг\n",
      "Удержание комиссии за операцию\n",
      "Удержание комиссии за операцию | share | BBG005MX5GZ2 | 309113265680 | 2021-09-29 14:18:11.298000+00:00 | MoneyValue(currency='usd', units=0, nano=-140000000) | MoneyValue(currency='usd', units=0, nano=0) | OperationState.OPERATION_STATE_EXECUTED | 0 | Удержание комиссии за операцию\n",
      "Продажа ценных бумаг | share | BBG005Q3MQY4 |  | 2021-09-28 14:34:48.706000+00:00 | MoneyValue(currency='usd', units=105, nano=840000000) | MoneyValue(currency='usd', units=17, nano=640000000) | OperationState.OPERATION_STATE_EXECUTED | 6 | Продажа ценных бумаг\n",
      "Удержание комиссии за операцию\n",
      "Удержание комиссии за операцию | share | BBG005Q3MQY4 | 308353347670 | 2021-09-28 14:34:49.706000+00:00 | MoneyValue(currency='usd', units=0, nano=-320000000) | MoneyValue(currency='usd', units=0, nano=0) | OperationState.OPERATION_STATE_EXECUTED | 0 | Удержание комиссии за операцию\n",
      "Покупка ценных бумаг | share | BBG000P7S7L7 |  | 2021-09-28 13:52:36.415000+00:00 | MoneyValue(currency='usd', units=-13, nano=-940000000) | MoneyValue(currency='usd', units=6, nano=970000000) | OperationState.OPERATION_STATE_EXECUTED | 2 | Покупка ценных бумаг\n",
      "Удержание комиссии за операцию\n",
      "Удержание комиссии за операцию | share | BBG000P7S7L7 | 308244667220 | 2021-09-28 13:52:37.415000+00:00 | MoneyValue(currency='usd', units=0, nano=-40000000) | MoneyValue(currency='usd', units=0, nano=0) | OperationState.OPERATION_STATE_EXECUTED | 0 | Удержание комиссии за операцию\n",
      "Продажа ценных бумаг | share | BBG000BH5LT6 |  | 2021-09-28 13:47:05.585000+00:00 | MoneyValue(currency='usd', units=40, nano=500000000) | MoneyValue(currency='usd', units=4, nano=50000000) | OperationState.OPERATION_STATE_EXECUTED | 10 | Продажа ценных бумаг\n",
      "Удержание комиссии за операцию\n",
      "Удержание комиссии за операцию | share | BBG000BH5LT6 | 308230108050 | 2021-09-28 13:47:06.585000+00:00 | MoneyValue(currency='usd', units=0, nano=-130000000) | MoneyValue(currency='usd', units=0, nano=0) | OperationState.OPERATION_STATE_EXECUTED | 0 | Удержание комиссии за операцию\n"
     ]
    },
    {
     "name": "stdout",
     "output_type": "stream",
     "text": [
      "Продажа ценных бумаг | share | BBG000BH5LT6 |  | 2021-09-28 13:42:19.834000+00:00 | MoneyValue(currency='usd', units=0, nano=0) | MoneyValue(currency='usd', units=4, nano=160000000) | OperationState.OPERATION_STATE_CANCELED | 10 | Продажа ценных бумаг\n",
      "Продажа ценных бумаг | share | BBG000BH5LT6 |  | 2021-09-28 04:02:56.467000+00:00 | MoneyValue(currency='usd', units=0, nano=0) | MoneyValue(currency='usd', units=4, nano=170000000) | OperationState.OPERATION_STATE_CANCELED | 10 | Продажа ценных бумаг\n",
      "Покупка ценных бумаг | share | BBG004KB3S72 |  | 2021-09-27 20:36:23.774000+00:00 | MoneyValue(currency='usd', units=-37, nano=-140000000) | MoneyValue(currency='usd', units=12, nano=380000000) | OperationState.OPERATION_STATE_EXECUTED | 3 | Покупка ценных бумаг\n",
      "Удержание комиссии за операцию\n",
      "Удержание комиссии за операцию | share | BBG004KB3S72 | 307975474680 | 2021-09-27 20:36:24.774000+00:00 | MoneyValue(currency='usd', units=0, nano=-110000000) | MoneyValue(currency='usd', units=0, nano=0) | OperationState.OPERATION_STATE_EXECUTED | 0 | Удержание комиссии за операцию\n",
      "Покупка ценных бумаг | share | BBG000BK9YW3 |  | 2021-09-27 20:13:16.941000+00:00 | MoneyValue(currency='usd', units=0, nano=0) | MoneyValue(currency='usd', units=68, nano=430000000) | OperationState.OPERATION_STATE_CANCELED | 2 | Покупка ценных бумаг\n",
      "Покупка ценных бумаг | share | BBG005Q3MQY4 |  | 2021-09-27 18:07:17.989000+00:00 | MoneyValue(currency='usd', units=-52, nano=-20000000) | MoneyValue(currency='usd', units=17, nano=340000000) | OperationState.OPERATION_STATE_EXECUTED | 3 | Покупка ценных бумаг\n",
      "Удержание комиссии за операцию\n",
      "Удержание комиссии за операцию | share | BBG005Q3MQY4 | 307881616800 | 2021-09-27 18:07:18.989000+00:00 | MoneyValue(currency='usd', units=0, nano=-150000000) | MoneyValue(currency='usd', units=0, nano=0) | OperationState.OPERATION_STATE_EXECUTED | 0 | Удержание комиссии за операцию\n",
      "Продажа ценных бумаг | share | BBG000P7S7L7 |  | 2021-09-27 16:45:27.342000+00:00 | MoneyValue(currency='usd', units=73, nano=600000000) | MoneyValue(currency='usd', units=7, nano=360000000) | OperationState.OPERATION_STATE_EXECUTED | 10 | Продажа ценных бумаг\n",
      "Удержание комиссии за операцию\n",
      "Удержание комиссии за операцию | share | BBG000P7S7L7 | 307808140200 | 2021-09-27 16:45:28.342000+00:00 | MoneyValue(currency='usd', units=0, nano=-220000000) | MoneyValue(currency='usd', units=0, nano=0) | OperationState.OPERATION_STATE_EXECUTED | 0 | Удержание комиссии за операцию\n",
      "Покупка ценных бумаг | share | BBG000BK9YW3 |  | 2021-09-27 16:31:46.387000+00:00 | MoneyValue(currency='usd', units=0, nano=0) | MoneyValue(currency='usd', units=67, nano=500000000) | OperationState.OPERATION_STATE_CANCELED | 1 | Покупка ценных бумаг\n",
      "Продажа ценных бумаг | share | BBG000PTSB12 |  | 2021-09-24 15:02:02.488000+00:00 | MoneyValue(currency='usd', units=0, nano=0) | MoneyValue(currency='usd', units=80, nano=0) | OperationState.OPERATION_STATE_CANCELED | 110 | Продажа ценных бумаг\n",
      "Покупка ценных бумаг | share | BBG002NLDLV8 |  | 2021-09-24 14:44:44.729000+00:00 | MoneyValue(currency='usd', units=-23, nano=-620000000) | MoneyValue(currency='usd', units=11, nano=810000000) | OperationState.OPERATION_STATE_EXECUTED | 2 | Покупка ценных бумаг\n",
      "Удержание комиссии за операцию\n",
      "Удержание комиссии за операцию | share | BBG002NLDLV8 | 307008138180 | 2021-09-24 14:44:45.729000+00:00 | MoneyValue(currency='usd', units=0, nano=-70000000) | MoneyValue(currency='usd', units=0, nano=0) | OperationState.OPERATION_STATE_EXECUTED | 0 | Удержание комиссии за операцию\n",
      "Покупка ценных бумаг | share | BBG00W0KZD98 |  | 2021-09-24 14:42:45.865000+00:00 | MoneyValue(currency='usd', units=-79, nano=-560000000) | MoneyValue(currency='usd', units=26, nano=520000000) | OperationState.OPERATION_STATE_EXECUTED | 3 | Покупка ценных бумаг\n",
      "Удержание комиссии за операцию\n",
      "Удержание комиссии за операцию | share | BBG00W0KZD98 | 307005129610 | 2021-09-24 14:42:46.865000+00:00 | MoneyValue(currency='usd', units=0, nano=-240000000) | MoneyValue(currency='usd', units=0, nano=0) | OperationState.OPERATION_STATE_EXECUTED | 0 | Удержание комиссии за операцию\n",
      "Покупка ценных бумаг | share | BBG008HNS333 |  | 2021-09-24 13:56:49.857000+00:00 | MoneyValue(currency='usd', units=-35, nano=-880000000) | MoneyValue(currency='usd', units=17, nano=940000000) | OperationState.OPERATION_STATE_EXECUTED | 2 | Покупка ценных бумаг\n",
      "Удержание комиссии за операцию\n",
      "Удержание комиссии за операцию | share | BBG008HNS333 | 306921159700 | 2021-09-24 13:56:50.857000+00:00 | MoneyValue(currency='usd', units=0, nano=-110000000) | MoneyValue(currency='usd', units=0, nano=0) | OperationState.OPERATION_STATE_EXECUTED | 0 | Удержание комиссии за операцию\n",
      "Покупка ценных бумаг | share | BBG000BK9YW3 |  | 2021-09-24 13:39:24.264000+00:00 | MoneyValue(currency='usd', units=0, nano=0) | MoneyValue(currency='usd', units=59, nano=0) | OperationState.OPERATION_STATE_CANCELED | 2 | Покупка ценных бумаг\n",
      "Покупка ценных бумаг | share | BBG00475K6C3 |  | 2021-09-24 09:06:48.540000+00:00 | MoneyValue(currency='rub', units=-1569, nano=-800000000) | MoneyValue(currency='rub', units=1569, nano=800000000) | OperationState.OPERATION_STATE_EXECUTED | 1 | Покупка ценных бумаг\n",
      "Удержание комиссии за операцию\n",
      "Удержание комиссии за операцию | share | BBG00475K6C3 | 26103746845 | 2021-09-24 09:06:49.540000+00:00 | MoneyValue(currency='rub', units=-4, nano=-710000000) | MoneyValue(currency='rub', units=0, nano=0) | OperationState.OPERATION_STATE_EXECUTED | 0 | Удержание комиссии за операцию\n",
      "Пополнение брокерского счёта |  |  |  | 2021-09-23 20:23:26+00:00 | MoneyValue(currency='rub', units=2380, nano=0) | MoneyValue(currency='rub', units=0, nano=0) | OperationState.OPERATION_STATE_EXECUTED | 0 | Пополнение брокерского счёта\n",
      "Продажа ценных бумаг | share | BBG000BK9YW3 |  | 2021-09-23 18:28:46.191000+00:00 | MoneyValue(currency='usd', units=240, nano=800000000) | MoneyValue(currency='usd', units=60, nano=200000000) | OperationState.OPERATION_STATE_EXECUTED | 4 | Продажа ценных бумаг\n",
      "Удержание комиссии за операцию\n",
      "Удержание комиссии за операцию | share | BBG000BK9YW3 | 306591658940 | 2021-09-23 18:28:47.191000+00:00 | MoneyValue(currency='usd', units=0, nano=-720000000) | MoneyValue(currency='usd', units=0, nano=0) | OperationState.OPERATION_STATE_EXECUTED | 0 | Удержание комиссии за операцию\n",
      "Продажа ценных бумаг | share | BBG00W0KZD98 |  | 2021-09-23 16:13:37.426000+00:00 | MoneyValue(currency='usd', units=0, nano=0) | MoneyValue(currency='usd', units=29, nano=0) | OperationState.OPERATION_STATE_CANCELED | 3 | Продажа ценных бумаг\n",
      "Покупка ценных бумаг | share | BBG000P7S7L7 |  | 2021-09-23 13:38:00.408000+00:00 | MoneyValue(currency='usd', units=-33, nano=-50000000) | MoneyValue(currency='usd', units=6, nano=610000000) | OperationState.OPERATION_STATE_EXECUTED | 5 | Покупка ценных бумаг\n",
      "Удержание комиссии за операцию\n",
      "Удержание комиссии за операцию | share | BBG000P7S7L7 | 306239533330 | 2021-09-23 13:38:01.408000+00:00 | MoneyValue(currency='usd', units=0, nano=-100000000) | MoneyValue(currency='usd', units=0, nano=0) | OperationState.OPERATION_STATE_EXECUTED | 0 | Удержание комиссии за операцию\n",
      "Продажа ценных бумаг | share | BBG002NLDLV8 |  | 2021-09-23 13:34:12.547000+00:00 | MoneyValue(currency='usd', units=0, nano=0) | MoneyValue(currency='usd', units=12, nano=340000000) | OperationState.OPERATION_STATE_CANCELED | 2 | Продажа ценных бумаг\n",
      "Покупка ценных бумаг | share | BBG002NLDLV8 |  | 2021-09-23 13:32:09.674000+00:00 | MoneyValue(currency='usd', units=-24, nano=0) | MoneyValue(currency='usd', units=12, nano=0) | OperationState.OPERATION_STATE_EXECUTED | 2 | Покупка ценных бумаг\n",
      "Удержание комиссии за операцию\n",
      "Удержание комиссии за операцию | share | BBG002NLDLV8 | 306223348930 | 2021-09-23 13:32:10.674000+00:00 | MoneyValue(currency='usd', units=0, nano=-70000000) | MoneyValue(currency='usd', units=0, nano=0) | OperationState.OPERATION_STATE_EXECUTED | 0 | Удержание комиссии за операцию\n",
      "Продажа ценных бумаг | share | BBG00W0KZD98 |  | 2021-09-23 12:55:48.251000+00:00 | MoneyValue(currency='usd', units=0, nano=0) | MoneyValue(currency='usd', units=28, nano=300000000) | OperationState.OPERATION_STATE_CANCELED | 3 | Продажа ценных бумаг\n",
      "Покупка ценных бумаг | share | BBG00W0KZD98 |  | 2021-09-23 12:44:15.950000+00:00 | MoneyValue(currency='usd', units=-82, nano=-800000000) | MoneyValue(currency='usd', units=27, nano=600000000) | OperationState.OPERATION_STATE_EXECUTED | 3 | Покупка ценных бумаг\n",
      "Удержание комиссии за операцию\n",
      "Удержание комиссии за операцию | share | BBG00W0KZD98 | 306199840290 | 2021-09-23 12:44:16.950000+00:00 | MoneyValue(currency='usd', units=0, nano=-250000000) | MoneyValue(currency='usd', units=0, nano=0) | OperationState.OPERATION_STATE_EXECUTED | 0 | Удержание комиссии за операцию\n",
      "Продажа ценных бумаг | share | BBG008HNS333 |  | 2021-09-23 08:40:13.343000+00:00 | MoneyValue(currency='usd', units=0, nano=0) | MoneyValue(currency='usd', units=20, nano=600000000) | OperationState.OPERATION_STATE_CANCELED | 2 | Продажа ценных бумаг\n",
      "Покупка ценных бумаг | share | BBG008HNS333 |  | 2021-09-22 22:33:21.285000+00:00 | MoneyValue(currency='usd', units=-39, nano=-380000000) | MoneyValue(currency='usd', units=19, nano=690000000) | OperationState.OPERATION_STATE_EXECUTED | 2 | Покупка ценных бумаг\n",
      "Удержание комиссии за операцию\n",
      "Удержание комиссии за операцию | share | BBG008HNS333 | 305969982590 | 2021-09-22 22:33:22.285000+00:00 | MoneyValue(currency='usd', units=0, nano=-120000000) | MoneyValue(currency='usd', units=0, nano=0) | OperationState.OPERATION_STATE_EXECUTED | 0 | Удержание комиссии за операцию\n",
      "Покупка ценных бумаг | share | BBG00Z5KBW72 |  | 2021-09-22 10:16:10.734000+00:00 | MoneyValue(currency='usd', units=-46, nano=-700000000) | MoneyValue(currency='usd', units=9, nano=340000000) | OperationState.OPERATION_STATE_EXECUTED | 5 | Покупка ценных бумаг\n",
      "Удержание комиссии за операцию\n",
      "Удержание комиссии за операцию | share | BBG00Z5KBW72 | 305308166270 | 2021-09-22 10:16:11.734000+00:00 | MoneyValue(currency='usd', units=0, nano=-140000000) | MoneyValue(currency='usd', units=0, nano=0) | OperationState.OPERATION_STATE_EXECUTED | 0 | Удержание комиссии за операцию\n",
      "Покупка ценных бумаг | share | BBG00Z5KBW72 |  | 2021-09-22 07:57:32.792000+00:00 | MoneyValue(currency='usd', units=0, nano=0) | MoneyValue(currency='usd', units=9, nano=20000000) | OperationState.OPERATION_STATE_CANCELED | 10 | Покупка ценных бумаг\n",
      "Продажа ценных бумаг | share | BBG002NLDLV8 |  | 2021-09-22 07:29:41.668000+00:00 | MoneyValue(currency='usd', units=12, nano=450000000) | MoneyValue(currency='usd', units=12, nano=450000000) | OperationState.OPERATION_STATE_EXECUTED | 1 | Продажа ценных бумаг\n",
      "Удержание комиссии за операцию\n",
      "Удержание комиссии за операцию | share | BBG002NLDLV8 | 305189282270 | 2021-09-22 07:29:42.668000+00:00 | MoneyValue(currency='usd', units=0, nano=-40000000) | MoneyValue(currency='usd', units=0, nano=0) | OperationState.OPERATION_STATE_EXECUTED | 0 | Удержание комиссии за операцию\n",
      "Продажа ценных бумаг | share | BBG002NLDLV8 |  | 2021-09-22 07:29:34.827000+00:00 | MoneyValue(currency='usd', units=24, nano=880000000) | MoneyValue(currency='usd', units=12, nano=440000000) | OperationState.OPERATION_STATE_EXECUTED | 2 | Продажа ценных бумаг\n",
      "Удержание комиссии за операцию\n",
      "Удержание комиссии за операцию | share | BBG002NLDLV8 | 305189229220 | 2021-09-22 07:29:35.827000+00:00 | MoneyValue(currency='usd', units=0, nano=-70000000) | MoneyValue(currency='usd', units=0, nano=0) | OperationState.OPERATION_STATE_EXECUTED | 0 | Удержание комиссии за операцию\n",
      "Продажа ценных бумаг | share | BBG002NLDLV8 |  | 2021-09-22 07:15:40.955000+00:00 | MoneyValue(currency='usd', units=24, nano=860000000) | MoneyValue(currency='usd', units=12, nano=430000000) | OperationState.OPERATION_STATE_EXECUTED | 2 | Продажа ценных бумаг\n",
      "Удержание комиссии за операцию\n",
      "Удержание комиссии за операцию | share | BBG002NLDLV8 | 305175131800 | 2021-09-22 07:15:41.955000+00:00 | MoneyValue(currency='usd', units=0, nano=-80000000) | MoneyValue(currency='usd', units=0, nano=0) | OperationState.OPERATION_STATE_EXECUTED | 0 | Удержание комиссии за операцию\n",
      "Продажа ценных бумаг | share | BBG002NLDLV8 |  | 2021-09-21 13:39:59.402000+00:00 | MoneyValue(currency='usd', units=0, nano=0) | MoneyValue(currency='usd', units=12, nano=460000000) | OperationState.OPERATION_STATE_CANCELED | 1 | Продажа ценных бумаг\n",
      "Продажа ценных бумаг | share | BBG002NLDLV8 |  | 2021-09-21 13:39:48.217000+00:00 | MoneyValue(currency='usd', units=0, nano=0) | MoneyValue(currency='usd', units=12, nano=450000000) | OperationState.OPERATION_STATE_CANCELED | 2 | Продажа ценных бумаг\n",
      "Продажа ценных бумаг | share | BBG002NLDLV8 |  | 2021-09-21 13:39:02.531000+00:00 | MoneyValue(currency='usd', units=0, nano=0) | MoneyValue(currency='usd', units=12, nano=440000000) | OperationState.OPERATION_STATE_CANCELED | 2 | Продажа ценных бумаг\n",
      "Продажа ценных бумаг | share | BBG005F1DK91 |  | 2021-09-21 13:37:58.076000+00:00 | MoneyValue(currency='usd', units=0, nano=0) | MoneyValue(currency='usd', units=35, nano=0) | OperationState.OPERATION_STATE_CANCELED | 2 | Продажа ценных бумаг\n",
      "Продажа ценных бумаг | share | BBG002NLDLV8 |  | 2021-09-21 13:31:45.621000+00:00 | MoneyValue(currency='usd', units=0, nano=0) | MoneyValue(currency='usd', units=12, nano=450000000) | OperationState.OPERATION_STATE_CANCELED | 5 | Продажа ценных бумаг\n",
      "Покупка ценных бумаг | share | BBG002NLDLV8 |  | 2021-09-21 13:23:46.957000+00:00 | MoneyValue(currency='usd', units=-61, nano=-650000000) | MoneyValue(currency='usd', units=12, nano=330000000) | OperationState.OPERATION_STATE_EXECUTED | 5 | Покупка ценных бумаг\n",
      "Удержание комиссии за операцию\n",
      "Удержание комиссии за операцию | share | BBG002NLDLV8 | 304538270420 | 2021-09-21 13:23:47.957000+00:00 | MoneyValue(currency='usd', units=0, nano=-180000000) | MoneyValue(currency='usd', units=0, nano=0) | OperationState.OPERATION_STATE_EXECUTED | 0 | Удержание комиссии за операцию\n",
      "Продажа ценных бумаг | share | BBG00SHY90J5 |  | 2021-09-21 10:00:56.855000+00:00 | MoneyValue(currency='usd', units=0, nano=0) | MoneyValue(currency='usd', units=8, nano=490000000) | OperationState.OPERATION_STATE_CANCELED | 3 | Продажа ценных бумаг\n",
      "Продажа ценных бумаг | share | BBG000PTSB12 |  | 2021-09-20 13:41:58.428000+00:00 | MoneyValue(currency='usd', units=0, nano=0) | MoneyValue(currency='usd', units=30, nano=0) | OperationState.OPERATION_STATE_CANCELED | 15 | Продажа ценных бумаг\n",
      "Покупка ценных бумаг | share | BBG00475K6C3 |  | 2021-09-20 11:17:57.893000+00:00 | MoneyValue(currency='rub', units=-1519, nano=-600000000) | MoneyValue(currency='rub', units=1519, nano=600000000) | OperationState.OPERATION_STATE_EXECUTED | 1 | Покупка ценных бумаг\n",
      "Удержание комиссии за операцию\n",
      "Удержание комиссии за операцию | share | BBG00475K6C3 | 25986272074 | 2021-09-20 11:17:58.893000+00:00 | MoneyValue(currency='rub', units=-4, nano=-560000000) | MoneyValue(currency='rub', units=0, nano=0) | OperationState.OPERATION_STATE_EXECUTED | 0 | Удержание комиссии за операцию\n",
      "Покупка ценных бумаг | share | BBG00475K6C3 |  | 2021-09-17 16:23:14.671000+00:00 | MoneyValue(currency='rub', units=-1574, nano=-200000000) | MoneyValue(currency='rub', units=1574, nano=200000000) | OperationState.OPERATION_STATE_EXECUTED | 1 | Покупка ценных бумаг\n",
      "Удержание комиссии за операцию\n",
      "Удержание комиссии за операцию | share | BBG00475K6C3 | 25967161117 | 2021-09-17 16:23:15.671000+00:00 | MoneyValue(currency='rub', units=-4, nano=-720000000) | MoneyValue(currency='rub', units=0, nano=0) | OperationState.OPERATION_STATE_EXECUTED | 0 | Удержание комиссии за операцию\n",
      "Продажа ценных бумаг | share | BBG00SHY90J5 |  | 2021-09-16 22:43:59.942000+00:00 | MoneyValue(currency='usd', units=0, nano=0) | MoneyValue(currency='usd', units=8, nano=180000000) | OperationState.OPERATION_STATE_CANCELED | 3 | Продажа ценных бумаг\n",
      "Покупка ценных бумаг | share | BBG00SHY90J5 |  | 2021-09-16 11:57:07.113000+00:00 | MoneyValue(currency='usd', units=-24, nano=-390000000) | MoneyValue(currency='usd', units=8, nano=130000000) | OperationState.OPERATION_STATE_EXECUTED | 3 | Покупка ценных бумаг\n",
      "Удержание комиссии за операцию\n",
      "Удержание комиссии за операцию | share | BBG00SHY90J5 | 301843681880 | 2021-09-16 11:57:08.113000+00:00 | MoneyValue(currency='usd', units=0, nano=-70000000) | MoneyValue(currency='usd', units=0, nano=0) | OperationState.OPERATION_STATE_EXECUTED | 0 | Удержание комиссии за операцию\n",
      "Выплата дивидендов | share | BBG00475K6C3 |  | 2021-09-16 03:00:00+00:00 | MoneyValue(currency='rub', units=84, nano=450000000) | MoneyValue(currency='rub', units=0, nano=0) | OperationState.OPERATION_STATE_EXECUTED | 0 | Выплата дивидендов\n",
      "Удержание налога по дивидендам | share | BBG00475K6C3 |  | 2021-09-16 03:00:00+00:00 | MoneyValue(currency='rub', units=-11, nano=0) | MoneyValue(currency='rub', units=0, nano=0) | OperationState.OPERATION_STATE_EXECUTED | 0 | Удержание налога по дивидендам\n",
      "Покупка ценных бумаг | share | BBG0320C1036 |  | 2021-09-15 16:13:27.644000+00:00 | MoneyValue(currency='usd', units=-45, nano=-400000000) | MoneyValue(currency='usd', units=9, nano=80000000) | OperationState.OPERATION_STATE_EXECUTED | 5 | Покупка ценных бумаг\n",
      "Удержание комиссии за операцию\n",
      "Удержание комиссии за операцию | share | BBG0320C1036 | 301461360390 | 2021-09-15 16:13:28.644000+00:00 | MoneyValue(currency='usd', units=0, nano=-140000000) | MoneyValue(currency='usd', units=0, nano=0) | OperationState.OPERATION_STATE_EXECUTED | 0 | Удержание комиссии за операцию\n",
      "Покупка ценных бумаг | share | BBG004KB3S72 |  | 2021-09-13 19:36:38.769000+00:00 | MoneyValue(currency='usd', units=-34, nano=-650000000) | MoneyValue(currency='usd', units=11, nano=550000000) | OperationState.OPERATION_STATE_EXECUTED | 3 | Покупка ценных бумаг\n",
      "Удержание комиссии за операцию\n",
      "Удержание комиссии за операцию | share | BBG004KB3S72 | 300241731360 | 2021-09-13 19:36:39.769000+00:00 | MoneyValue(currency='usd', units=0, nano=-90000000) | MoneyValue(currency='usd', units=0, nano=0) | OperationState.OPERATION_STATE_EXECUTED | 0 | Удержание комиссии за операцию\n",
      "Покупка ценных бумаг | share | BBG005Q3MQY4 |  | 2021-09-10 13:51:48.293000+00:00 | MoneyValue(currency='usd', units=-44, nano=-880000000) | MoneyValue(currency='usd', units=14, nano=960000000) | OperationState.OPERATION_STATE_EXECUTED | 3 | Покупка ценных бумаг\n",
      "Удержание комиссии за операцию\n",
      "Удержание комиссии за операцию | share | BBG005Q3MQY4 | 299033353920 | 2021-09-10 13:51:49.293000+00:00 | MoneyValue(currency='usd', units=0, nano=-130000000) | MoneyValue(currency='usd', units=0, nano=0) | OperationState.OPERATION_STATE_EXECUTED | 0 | Удержание комиссии за операцию\n",
      "Покупка ценных бумаг | share | BBG000P7S7L7 |  | 2021-09-10 13:33:42.127000+00:00 | MoneyValue(currency='usd', units=-37, nano=-500000000) | MoneyValue(currency='usd', units=7, nano=500000000) | OperationState.OPERATION_STATE_EXECUTED | 5 | Покупка ценных бумаг\n",
      "Удержание комиссии за операцию\n",
      "Удержание комиссии за операцию | share | BBG000P7S7L7 | 298988967690 | 2021-09-10 13:33:43.127000+00:00 | MoneyValue(currency='usd', units=0, nano=-110000000) | MoneyValue(currency='usd', units=0, nano=0) | OperationState.OPERATION_STATE_EXECUTED | 0 | Удержание комиссии за операцию\n",
      "Покупка ценных бумаг | share | BBG000BK9YW3 |  | 2021-09-10 11:37:45.828000+00:00 | MoneyValue(currency='usd', units=-101, nano=0) | MoneyValue(currency='usd', units=50, nano=500000000) | OperationState.OPERATION_STATE_EXECUTED | 2 | Покупка ценных бумаг\n",
      "Удержание комиссии за операцию\n",
      "Удержание комиссии за операцию | share | BBG000BK9YW3 | 298932325390 | 2021-09-10 11:37:46.828000+00:00 | MoneyValue(currency='usd', units=0, nano=-300000000) | MoneyValue(currency='usd', units=0, nano=0) | OperationState.OPERATION_STATE_EXECUTED | 0 | Удержание комиссии за операцию\n",
      "Продажа ценных бумаг | share | BBG000P7S7L7 |  | 2021-09-09 15:52:46.826000+00:00 | MoneyValue(currency='usd', units=171, nano=600000000) | MoneyValue(currency='usd', units=7, nano=800000000) | OperationState.OPERATION_STATE_EXECUTED | 22 | Продажа ценных бумаг\n",
      "Удержание комиссии за операцию\n",
      "Удержание комиссии за операцию | share | BBG000P7S7L7 | 298515943150 | 2021-09-09 15:52:47.826000+00:00 | MoneyValue(currency='usd', units=0, nano=-510000000) | MoneyValue(currency='usd', units=0, nano=0) | OperationState.OPERATION_STATE_EXECUTED | 0 | Удержание комиссии за операцию\n",
      "Продажа ценных бумаг | share | BBG000P7S7L7 |  | 2021-09-09 15:49:31.180000+00:00 | MoneyValue(currency='usd', units=0, nano=0) | MoneyValue(currency='usd', units=7, nano=850000000) | OperationState.OPERATION_STATE_CANCELED | 18 | Продажа ценных бумаг\n",
      "Покупка ценных бумаг | share | BBG000BTYP37 |  | 2021-09-08 14:30:15.258000+00:00 | MoneyValue(currency='usd', units=-13, nano=-800000000) | MoneyValue(currency='usd', units=3, nano=450000000) | OperationState.OPERATION_STATE_EXECUTED | 4 | Покупка ценных бумаг\n",
      "Удержание комиссии за операцию\n",
      "Удержание комиссии за операцию | share | BBG000BTYP37 | 297704519330 | 2021-09-08 14:30:16.258000+00:00 | MoneyValue(currency='usd', units=0, nano=-40000000) | MoneyValue(currency='usd', units=0, nano=0) | OperationState.OPERATION_STATE_EXECUTED | 0 | Удержание комиссии за операцию\n",
      "Продажа ценных бумаг | share | BBG005Q3MQY4 |  | 2021-09-08 08:12:24.470000+00:00 | MoneyValue(currency='usd', units=75, nano=50000000) | MoneyValue(currency='usd', units=15, nano=10000000) | OperationState.OPERATION_STATE_EXECUTED | 5 | Продажа ценных бумаг\n",
      "Удержание комиссии за операцию\n",
      "Удержание комиссии за операцию | share | BBG005Q3MQY4 | 297436191560 | 2021-09-08 08:12:25.470000+00:00 | MoneyValue(currency='usd', units=0, nano=-230000000) | MoneyValue(currency='usd', units=0, nano=0) | OperationState.OPERATION_STATE_EXECUTED | 0 | Удержание комиссии за операцию\n",
      "Продажа ценных бумаг | share | BBG005Q3MQY4 |  | 2021-09-07 13:01:41.817000+00:00 | MoneyValue(currency='usd', units=154, nano=0) | MoneyValue(currency='usd', units=15, nano=400000000) | OperationState.OPERATION_STATE_EXECUTED | 10 | Продажа ценных бумаг\n",
      "Удержание комиссии за операцию\n",
      "Удержание комиссии за операцию | share | BBG005Q3MQY4 | 296906727500 | 2021-09-07 13:01:42.817000+00:00 | MoneyValue(currency='usd', units=0, nano=-460000000) | MoneyValue(currency='usd', units=0, nano=0) | OperationState.OPERATION_STATE_EXECUTED | 0 | Удержание комиссии за операцию\n",
      "Покупка ценных бумаг | share | BBG00475K6C3 |  | 2021-09-01 12:05:58.639000+00:00 | MoneyValue(currency='rub', units=-1627, nano=-400000000) | MoneyValue(currency='rub', units=1627, nano=400000000) | OperationState.OPERATION_STATE_EXECUTED | 1 | Покупка ценных бумаг\n",
      "Удержание комиссии за операцию\n",
      "Удержание комиссии за операцию | share | BBG00475K6C3 | 25646614139 | 2021-09-01 12:05:59.639000+00:00 | MoneyValue(currency='rub', units=-4, nano=-880000000) | MoneyValue(currency='rub', units=0, nano=0) | OperationState.OPERATION_STATE_EXECUTED | 0 | Удержание комиссии за операцию\n",
      "Покупка ценных бумаг | share | BBG000QGWY50 |  | 2021-08-30 17:14:28.922000+00:00 | MoneyValue(currency='usd', units=-71, nano=-680000000) | MoneyValue(currency='usd', units=17, nano=920000000) | OperationState.OPERATION_STATE_EXECUTED | 4 | Покупка ценных бумаг\n",
      "Удержание комиссии за операцию\n",
      "Удержание комиссии за операцию | share | BBG000QGWY50 | 294058677670 | 2021-08-30 17:14:29.922000+00:00 | MoneyValue(currency='usd', units=0, nano=-210000000) | MoneyValue(currency='usd', units=0, nano=0) | OperationState.OPERATION_STATE_EXECUTED | 0 | Удержание комиссии за операцию\n",
      "Продажа ценных бумаг | share | BBG0320C1036 |  | 2021-08-30 16:39:13.557000+00:00 | MoneyValue(currency='usd', units=56, nano=700000000) | MoneyValue(currency='usd', units=11, nano=340000000) | OperationState.OPERATION_STATE_EXECUTED | 5 | Продажа ценных бумаг\n",
      "Удержание комиссии за операцию\n",
      "Удержание комиссии за операцию | share | BBG0320C1036 | 294033823390 | 2021-08-30 16:39:14.557000+00:00 | MoneyValue(currency='usd', units=0, nano=-170000000) | MoneyValue(currency='usd', units=0, nano=0) | OperationState.OPERATION_STATE_EXECUTED | 0 | Удержание комиссии за операцию\n",
      "Продажа ценных бумаг | share | BBG000BK9YW3 |  | 2021-08-30 13:40:44.046000+00:00 | MoneyValue(currency='usd', units=0, nano=0) | MoneyValue(currency='usd', units=69, nano=900000000) | OperationState.OPERATION_STATE_CANCELED | 1 | Продажа ценных бумаг\n",
      "Продажа ценных бумаг | share | BBG005Q3MQY4 |  | 2021-08-30 13:32:08.635000+00:00 | MoneyValue(currency='usd', units=74, nano=600000000) | MoneyValue(currency='usd', units=14, nano=920000000) | OperationState.OPERATION_STATE_EXECUTED | 5 | Продажа ценных бумаг\n",
      "Удержание комиссии за операцию\n",
      "Удержание комиссии за операцию | share | BBG005Q3MQY4 | 293780824800 | 2021-08-30 13:32:09.635000+00:00 | MoneyValue(currency='usd', units=0, nano=-220000000) | MoneyValue(currency='usd', units=0, nano=0) | OperationState.OPERATION_STATE_EXECUTED | 0 | Удержание комиссии за операцию\n",
      "Покупка ценных бумаг | share | BBG000BK9YW3 |  | 2021-08-30 07:28:48.870000+00:00 | MoneyValue(currency='usd', units=-236, nano=-520000000) | MoneyValue(currency='usd', units=59, nano=130000000) | OperationState.OPERATION_STATE_EXECUTED | 4 | Покупка ценных бумаг\n",
      "Удержание комиссии за операцию\n",
      "Удержание комиссии за операцию | share | BBG000BK9YW3 | 293664348600 | 2021-08-30 07:28:49.870000+00:00 | MoneyValue(currency='usd', units=0, nano=-700000000) | MoneyValue(currency='usd', units=0, nano=0) | OperationState.OPERATION_STATE_EXECUTED | 0 | Удержание комиссии за операцию\n",
      "Продажа ценных бумаг | share | BBG000PTSB12 |  | 2021-08-27 12:42:22.795000+00:00 | MoneyValue(currency='usd', units=0, nano=0) | MoneyValue(currency='usd', units=75, nano=0) | OperationState.OPERATION_STATE_CANCELED | 110 | Продажа ценных бумаг\n",
      "Продажа ценных бумаг | share | BBG0320C1036 |  | 2021-08-26 16:21:32.309000+00:00 | MoneyValue(currency='usd', units=54, nano=0) | MoneyValue(currency='usd', units=10, nano=800000000) | OperationState.OPERATION_STATE_EXECUTED | 5 | Продажа ценных бумаг\n",
      "Удержание комиссии за операцию\n",
      "Удержание комиссии за операцию | share | BBG0320C1036 | 292922081690 | 2021-08-26 16:21:33.309000+00:00 | MoneyValue(currency='usd', units=0, nano=-160000000) | MoneyValue(currency='usd', units=0, nano=0) | OperationState.OPERATION_STATE_EXECUTED | 0 | Удержание комиссии за операцию\n",
      "Продажа ценных бумаг | share | BBG000PTSB12 |  | 2021-08-26 13:19:24.266000+00:00 | MoneyValue(currency='usd', units=0, nano=0) | MoneyValue(currency='usd', units=75, nano=0) | OperationState.OPERATION_STATE_CANCELED | 110 | Продажа ценных бумаг\n",
      "Продажа ценных бумаг | share | BBG000QDVR53 |  | 2021-08-25 20:10:20.440000+00:00 | MoneyValue(currency='usd', units=85, nano=200000000) | MoneyValue(currency='usd', units=17, nano=40000000) | OperationState.OPERATION_STATE_EXECUTED | 5 | Продажа ценных бумаг\n",
      "Удержание комиссии за операцию\n",
      "Удержание комиссии за операцию | share | BBG000QDVR53 | 292441523370 | 2021-08-25 20:10:21.440000+00:00 | MoneyValue(currency='usd', units=0, nano=-260000000) | MoneyValue(currency='usd', units=0, nano=0) | OperationState.OPERATION_STATE_EXECUTED | 0 | Удержание комиссии за операцию\n",
      "Продажа ценных бумаг | share | BBG000QDVR53 |  | 2021-08-25 13:28:44.613000+00:00 | MoneyValue(currency='usd', units=83, nano=500000000) | MoneyValue(currency='usd', units=16, nano=700000000) | OperationState.OPERATION_STATE_EXECUTED | 5 | Продажа ценных бумаг\n",
      "Удержание комиссии за операцию\n",
      "Удержание комиссии за операцию | share | BBG000QDVR53 | 292035816740 | 2021-08-25 13:28:45.613000+00:00 | MoneyValue(currency='usd', units=0, nano=-250000000) | MoneyValue(currency='usd', units=0, nano=0) | OperationState.OPERATION_STATE_EXECUTED | 0 | Удержание комиссии за операцию\n",
      "Покупка ценных бумаг | share | BBG0320C1036 |  | 2021-08-16 15:42:46.842000+00:00 | MoneyValue(currency='usd', units=-46, nano=-450000000) | MoneyValue(currency='usd', units=9, nano=290000000) | OperationState.OPERATION_STATE_EXECUTED | 5 | Покупка ценных бумаг\n",
      "Удержание комиссии за операцию\n",
      "Удержание комиссии за операцию | share | BBG0320C1036 | 287608095650 | 2021-08-16 15:42:47.842000+00:00 | MoneyValue(currency='usd', units=0, nano=-150000000) | MoneyValue(currency='usd', units=0, nano=0) | OperationState.OPERATION_STATE_EXECUTED | 0 | Удержание комиссии за операцию\n",
      "Покупка ценных бумаг | share | BBG0320C1036 |  | 2021-08-12 08:23:19.427000+00:00 | MoneyValue(currency='usd', units=-52, nano=-400000000) | MoneyValue(currency='usd', units=10, nano=480000000) | OperationState.OPERATION_STATE_EXECUTED | 5 | Покупка ценных бумаг\n",
      "Удержание комиссии за операцию\n",
      "Удержание комиссии за операцию | share | BBG0320C1036 | 286209669920 | 2021-08-12 08:23:20.427000+00:00 | MoneyValue(currency='usd', units=0, nano=-150000000) | MoneyValue(currency='usd', units=0, nano=0) | OperationState.OPERATION_STATE_EXECUTED | 0 | Удержание комиссии за операцию\n",
      "Покупка ценных бумаг | share | BBG000BM2FL9 |  | 2021-08-12 07:16:02.793000+00:00 | MoneyValue(currency='usd', units=-47, nano=-620000000) | MoneyValue(currency='usd', units=9, nano=524000000) | OperationState.OPERATION_STATE_EXECUTED | 5 | Покупка ценных бумаг\n",
      "Удержание комиссии за операцию\n",
      "Удержание комиссии за операцию | share | BBG000BM2FL9 | 286179533410 | 2021-08-12 07:16:03.793000+00:00 | MoneyValue(currency='usd', units=0, nano=-150000000) | MoneyValue(currency='usd', units=0, nano=0) | OperationState.OPERATION_STATE_EXECUTED | 0 | Удержание комиссии за операцию\n",
      "Выплата дивидендов |  |  |  | 2021-08-11 03:00:00+00:00 | MoneyValue(currency='usd', units=0, nano=20000000) | MoneyValue(currency='usd', units=0, nano=0) | OperationState.OPERATION_STATE_EXECUTED | 0 | Выплата дивидендов\n"
     ]
    },
    {
     "name": "stdout",
     "output_type": "stream",
     "text": [
      "Продажа ценных бумаг | share | BBG0047315Y7 |  | 2021-08-10 08:19:13.150000+00:00 | MoneyValue(currency='rub', units=6086, nano=200000000) | MoneyValue(currency='rub', units=304, nano=310000000) | OperationState.OPERATION_STATE_EXECUTED | 20 | Продажа ценных бумаг\n",
      "Удержание комиссии за операцию\n",
      "Удержание комиссии за операцию | share | BBG0047315Y7 | 25257311138 | 2021-08-10 08:19:14.150000+00:00 | MoneyValue(currency='rub', units=-18, nano=-260000000) | MoneyValue(currency='rub', units=0, nano=0) | OperationState.OPERATION_STATE_EXECUTED | 0 | Удержание комиссии за операцию\n",
      "Продажа ценных бумаг | share | BBG0320C1036 |  | 2021-08-09 15:55:16.182000+00:00 | MoneyValue(currency='usd', units=106, nano=300000000) | MoneyValue(currency='usd', units=10, nano=630000000) | OperationState.OPERATION_STATE_EXECUTED | 10 | Продажа ценных бумаг\n",
      "Удержание комиссии за операцию\n",
      "Удержание комиссии за операцию | share | BBG0320C1036 | 284790915100 | 2021-08-09 15:55:17.182000+00:00 | MoneyValue(currency='usd', units=0, nano=-320000000) | MoneyValue(currency='usd', units=0, nano=0) | OperationState.OPERATION_STATE_EXECUTED | 0 | Удержание комиссии за операцию\n",
      "Покупка ценных бумаг | share | BBG000QDVR53 |  | 2021-08-04 18:05:21.480000+00:00 | MoneyValue(currency='usd', units=-72, nano=-400000000) | MoneyValue(currency='usd', units=14, nano=480000000) | OperationState.OPERATION_STATE_EXECUTED | 5 | Покупка ценных бумаг\n",
      "Удержание комиссии за операцию\n",
      "Удержание комиссии за операцию | share | BBG000QDVR53 | 283102412110 | 2021-08-04 18:05:22.480000+00:00 | MoneyValue(currency='usd', units=0, nano=-220000000) | MoneyValue(currency='usd', units=0, nano=0) | OperationState.OPERATION_STATE_EXECUTED | 0 | Удержание комиссии за операцию\n",
      "Продажа ценных бумаг | share | BBG000PLF6N0 |  | 2021-07-30 13:39:24.710000+00:00 | MoneyValue(currency='usd', units=37, nano=600000000) | MoneyValue(currency='usd', units=9, nano=400000000) | OperationState.OPERATION_STATE_EXECUTED | 4 | Продажа ценных бумаг\n",
      "Удержание комиссии за операцию\n",
      "Удержание комиссии за операцию | share | BBG000PLF6N0 | 280830599420 | 2021-07-30 13:39:25.710000+00:00 | MoneyValue(currency='usd', units=0, nano=-120000000) | MoneyValue(currency='usd', units=0, nano=0) | OperationState.OPERATION_STATE_EXECUTED | 0 | Удержание комиссии за операцию\n",
      "Продажа ценных бумаг | share | BBG00W0KZD98 |  | 2021-07-28 08:03:43.800000+00:00 | MoneyValue(currency='usd', units=27, nano=800000000) | MoneyValue(currency='usd', units=27, nano=800000000) | OperationState.OPERATION_STATE_EXECUTED | 1 | Продажа ценных бумаг\n",
      "Удержание комиссии за операцию\n",
      "Удержание комиссии за операцию | share | BBG00W0KZD98 | 279424611680 | 2021-07-28 08:03:44.800000+00:00 | MoneyValue(currency='usd', units=0, nano=-80000000) | MoneyValue(currency='usd', units=0, nano=0) | OperationState.OPERATION_STATE_EXECUTED | 0 | Удержание комиссии за операцию\n",
      "Покупка ценных бумаг | share | BBG00W0KZD98 |  | 2021-07-27 20:08:35.653000+00:00 | MoneyValue(currency='usd', units=-26, nano=-560000000) | MoneyValue(currency='usd', units=26, nano=560000000) | OperationState.OPERATION_STATE_EXECUTED | 1 | Покупка ценных бумаг\n",
      "Удержание комиссии за операцию\n",
      "Удержание комиссии за операцию | share | BBG00W0KZD98 | 279359669650 | 2021-07-27 20:08:36.653000+00:00 | MoneyValue(currency='usd', units=0, nano=-80000000) | MoneyValue(currency='usd', units=0, nano=0) | OperationState.OPERATION_STATE_EXECUTED | 0 | Удержание комиссии за операцию\n",
      "Покупка ценных бумаг | share | BBG00W0KZD98 |  | 2021-07-27 20:08:21.498000+00:00 | MoneyValue(currency='usd', units=0, nano=0) | MoneyValue(currency='usd', units=26, nano=570000000) | OperationState.OPERATION_STATE_CANCELED | 1 | Покупка ценных бумаг\n",
      "Покупка ценных бумаг | share | BBG00W0KZD98 |  | 2021-07-27 20:08:16.489000+00:00 | MoneyValue(currency='usd', units=0, nano=0) | MoneyValue(currency='usd', units=26, nano=570000000) | OperationState.OPERATION_STATE_CANCELED | 1 | Покупка ценных бумаг\n",
      "Покупка ценных бумаг | share | BBG000BH5LT6 |  | 2021-07-27 10:35:41.867000+00:00 | MoneyValue(currency='usd', units=-37, nano=-900000000) | MoneyValue(currency='usd', units=3, nano=790000000) | OperationState.OPERATION_STATE_EXECUTED | 10 | Покупка ценных бумаг\n",
      "Удержание комиссии за операцию\n",
      "Удержание комиссии за операцию | share | BBG000BH5LT6 | 278775892560 | 2021-07-27 10:35:42.867000+00:00 | MoneyValue(currency='usd', units=0, nano=-110000000) | MoneyValue(currency='usd', units=0, nano=0) | OperationState.OPERATION_STATE_EXECUTED | 0 | Удержание комиссии за операцию\n",
      "Покупка ценных бумаг | share | BBG000QDVR53 |  | 2021-07-26 12:19:08.746000+00:00 | MoneyValue(currency='usd', units=-79, nano=-250000000) | MoneyValue(currency='usd', units=15, nano=850000000) | OperationState.OPERATION_STATE_EXECUTED | 5 | Покупка ценных бумаг\n",
      "Удержание комиссии за операцию\n",
      "Удержание комиссии за операцию | share | BBG000QDVR53 | 278193149460 | 2021-07-26 12:19:09.746000+00:00 | MoneyValue(currency='usd', units=0, nano=-250000000) | MoneyValue(currency='usd', units=0, nano=0) | OperationState.OPERATION_STATE_EXECUTED | 0 | Удержание комиссии за операцию\n",
      "Покупка ценных бумаг | share | BBG000PTSB12 |  | 2021-07-26 07:55:02.262000+00:00 | MoneyValue(currency='usd', units=0, nano=0) | MoneyValue(currency='usd', units=13, nano=500000000) | OperationState.OPERATION_STATE_CANCELED | 10 | Покупка ценных бумаг\n",
      "Продажа ценных бумаг | share | BBG0320C1036 |  | 2021-07-23 13:37:43.857000+00:00 | MoneyValue(currency='usd', units=0, nano=0) | MoneyValue(currency='usd', units=10, nano=670000000) | OperationState.OPERATION_STATE_CANCELED | 10 | Продажа ценных бумаг\n",
      "Покупка ценных бумаг | currency | BBG0013HGFT4 |  | 2021-07-23 10:30:37+00:00 | MoneyValue(currency='rub', units=-10006, nano=-540000000) | MoneyValue(currency='rub', units=73, nano=577500000) | OperationState.OPERATION_STATE_EXECUTED | 136 | Покупка ценных бумаг\n",
      "Удержание комиссии за операцию\n",
      "Удержание комиссии за операцию | currency | BBG0013HGFT4 | 22047628726 | 2021-07-23 10:30:38+00:00 | MoneyValue(currency='rub', units=-30, nano=-20000000) | MoneyValue(currency='rub', units=0, nano=0) | OperationState.OPERATION_STATE_EXECUTED | 0 | Удержание комиссии за операцию\n",
      "Пополнение брокерского счёта |  |  |  | 2021-07-23 10:30:14+00:00 | MoneyValue(currency='rub', units=10000, nano=0) | MoneyValue(currency='rub', units=0, nano=0) | OperationState.OPERATION_STATE_EXECUTED | 0 | Пополнение брокерского счёта\n",
      "Покупка ценных бумаг | share | BBG0016XJ8S0 |  | 2021-07-23 10:13:59.878000+00:00 | MoneyValue(currency='usd', units=-22, nano=-200000000) | MoneyValue(currency='usd', units=11, nano=100000000) | OperationState.OPERATION_STATE_EXECUTED | 2 | Покупка ценных бумаг\n",
      "Удержание комиссии за операцию\n",
      "Удержание комиссии за операцию | share | BBG0016XJ8S0 | 277479465980 | 2021-07-23 10:14:00.878000+00:00 | MoneyValue(currency='usd', units=0, nano=-60000000) | MoneyValue(currency='usd', units=0, nano=0) | OperationState.OPERATION_STATE_EXECUTED | 0 | Удержание комиссии за операцию\n",
      "Покупка ценных бумаг | share | BBG000PTSB12 |  | 2021-07-23 10:06:33.982000+00:00 | MoneyValue(currency='usd', units=0, nano=0) | MoneyValue(currency='usd', units=14, nano=0) | OperationState.OPERATION_STATE_CANCELED | 20 | Покупка ценных бумаг\n",
      "Продажа ценных бумаг | share | BBG0016XJ8S0 |  | 2021-07-23 09:59:50.329000+00:00 | MoneyValue(currency='usd', units=21, nano=600000000) | MoneyValue(currency='usd', units=10, nano=800000000) | OperationState.OPERATION_STATE_EXECUTED | 2 | Продажа ценных бумаг\n",
      "Удержание комиссии за операцию\n",
      "Удержание комиссии за операцию | share | BBG0016XJ8S0 | 277474929160 | 2021-07-23 09:59:51.329000+00:00 | MoneyValue(currency='usd', units=0, nano=-60000000) | MoneyValue(currency='usd', units=0, nano=0) | OperationState.OPERATION_STATE_EXECUTED | 0 | Удержание комиссии за операцию\n",
      "Продажа ценных бумаг | share | BBG0016XJ8S0 |  | 2021-07-23 09:59:25.378000+00:00 | MoneyValue(currency='usd', units=0, nano=0) | MoneyValue(currency='usd', units=10, nano=770000000) | OperationState.OPERATION_STATE_CANCELED | 2 | Продажа ценных бумаг\n",
      "Продажа ценных бумаг | share | BBG0016XJ8S0 |  | 2021-07-23 09:59:05.961000+00:00 | MoneyValue(currency='usd', units=0, nano=0) | MoneyValue(currency='usd', units=10, nano=800000000) | OperationState.OPERATION_STATE_CANCELED | 2 | Продажа ценных бумаг\n",
      "Покупка ценных бумаг | share | BBG000PTSB12 |  | 2021-07-23 09:50:16.461000+00:00 | MoneyValue(currency='usd', units=-145, nano=0) | MoneyValue(currency='usd', units=14, nano=500000000) | OperationState.OPERATION_STATE_EXECUTED | 10 | Покупка ценных бумаг\n",
      "Удержание комиссии за операцию\n",
      "Удержание комиссии за операцию | share | BBG000PTSB12 | 277471409890 | 2021-07-23 09:50:17.461000+00:00 | MoneyValue(currency='usd', units=0, nano=-440000000) | MoneyValue(currency='usd', units=0, nano=0) | OperationState.OPERATION_STATE_EXECUTED | 0 | Удержание комиссии за операцию\n",
      "Покупка ценных бумаг | share | BBG0320C1036 |  | 2021-07-21 15:49:32.377000+00:00 | MoneyValue(currency='usd', units=-104, nano=-100000000) | MoneyValue(currency='usd', units=10, nano=410000000) | OperationState.OPERATION_STATE_EXECUTED | 10 | Покупка ценных бумаг\n",
      "Удержание комиссии за операцию\n",
      "Удержание комиссии за операцию | share | BBG0320C1036 | 276519670290 | 2021-07-21 15:49:33.377000+00:00 | MoneyValue(currency='usd', units=0, nano=-320000000) | MoneyValue(currency='usd', units=0, nano=0) | OperationState.OPERATION_STATE_EXECUTED | 0 | Удержание комиссии за операцию\n",
      "Покупка ценных бумаг | share | BBG005F1DK91 |  | 2021-07-21 15:46:21.845000+00:00 | MoneyValue(currency='usd', units=-73, nano=-240000000) | MoneyValue(currency='usd', units=18, nano=310000000) | OperationState.OPERATION_STATE_EXECUTED | 4 | Покупка ценных бумаг\n",
      "Удержание комиссии за операцию\n",
      "Удержание комиссии за операцию | share | BBG005F1DK91 | 276516509650 | 2021-07-21 15:46:22.845000+00:00 | MoneyValue(currency='usd', units=0, nano=-210000000) | MoneyValue(currency='usd', units=0, nano=0) | OperationState.OPERATION_STATE_EXECUTED | 0 | Удержание комиссии за операцию\n",
      "Продажа ценных бумаг | share | BBG002NLDLV8 |  | 2021-07-21 14:22:42.607000+00:00 | MoneyValue(currency='usd', units=126, nano=0) | MoneyValue(currency='usd', units=18, nano=0) | OperationState.OPERATION_STATE_EXECUTED | 7 | Продажа ценных бумаг\n",
      "Удержание комиссии за операцию\n",
      "Удержание комиссии за операцию | share | BBG002NLDLV8 | 276411900630 | 2021-07-21 14:22:43.607000+00:00 | MoneyValue(currency='usd', units=0, nano=-380000000) | MoneyValue(currency='usd', units=0, nano=0) | OperationState.OPERATION_STATE_EXECUTED | 0 | Удержание комиссии за операцию\n",
      "Покупка ценных бумаг | share | BBG000PLF6N0 |  | 2021-07-21 14:02:18.425000+00:00 | MoneyValue(currency='usd', units=-18, nano=-600000000) | MoneyValue(currency='usd', units=9, nano=300000000) | OperationState.OPERATION_STATE_EXECUTED | 2 | Покупка ценных бумаг\n",
      "Удержание комиссии за операцию\n",
      "Удержание комиссии за операцию | share | BBG000PLF6N0 | 276378103330 | 2021-07-21 14:02:19.425000+00:00 | MoneyValue(currency='usd', units=0, nano=-60000000) | MoneyValue(currency='usd', units=0, nano=0) | OperationState.OPERATION_STATE_EXECUTED | 0 | Удержание комиссии за операцию\n",
      "Покупка ценных бумаг | share | BBG005Q3MQY4 |  | 2021-07-21 13:46:43.098000+00:00 | MoneyValue(currency='usd', units=-66, nano=-250000000) | MoneyValue(currency='usd', units=13, nano=250000000) | OperationState.OPERATION_STATE_EXECUTED | 5 | Покупка ценных бумаг\n",
      "Удержание комиссии за операцию\n",
      "Удержание комиссии за операцию | share | BBG005Q3MQY4 | 276346756420 | 2021-07-21 13:46:44.098000+00:00 | MoneyValue(currency='usd', units=0, nano=-200000000) | MoneyValue(currency='usd', units=0, nano=0) | OperationState.OPERATION_STATE_EXECUTED | 0 | Удержание комиссии за операцию\n",
      "Покупка ценных бумаг | share | BBG005F1DK91 |  | 2021-07-21 13:42:35.122000+00:00 | MoneyValue(currency='usd', units=-37, nano=-180000000) | MoneyValue(currency='usd', units=18, nano=590000000) | OperationState.OPERATION_STATE_EXECUTED | 2 | Покупка ценных бумаг\n",
      "Удержание комиссии за операцию\n",
      "Удержание комиссии за операцию | share | BBG005F1DK91 | 276337009230 | 2021-07-21 13:42:36.122000+00:00 | MoneyValue(currency='usd', units=0, nano=-110000000) | MoneyValue(currency='usd', units=0, nano=0) | OperationState.OPERATION_STATE_EXECUTED | 0 | Удержание комиссии за операцию\n",
      "Покупка ценных бумаг | share | BBG002NLDLV8 |  | 2021-07-21 13:37:24.522000+00:00 | MoneyValue(currency='usd', units=-87, nano=-950000000) | MoneyValue(currency='usd', units=17, nano=590000000) | OperationState.OPERATION_STATE_EXECUTED | 5 | Покупка ценных бумаг\n",
      "Удержание комиссии за операцию\n",
      "Удержание комиссии за операцию | share | BBG002NLDLV8 | 276324029050 | 2021-07-21 13:37:25.522000+00:00 | MoneyValue(currency='usd', units=0, nano=-260000000) | MoneyValue(currency='usd', units=0, nano=0) | OperationState.OPERATION_STATE_EXECUTED | 0 | Удержание комиссии за операцию\n",
      "Покупка ценных бумаг | share | BBG002NLDLV8 |  | 2021-07-21 13:33:00.029000+00:00 | MoneyValue(currency='usd', units=0, nano=0) | MoneyValue(currency='usd', units=17, nano=570000000) | OperationState.OPERATION_STATE_CANCELED | 10 | Покупка ценных бумаг\n",
      "Покупка ценных бумаг | share | BBG005Q3MQY4 |  | 2021-07-21 09:48:49.806000+00:00 | MoneyValue(currency='usd', units=-66, nano=-600000000) | MoneyValue(currency='usd', units=13, nano=320000000) | OperationState.OPERATION_STATE_EXECUTED | 5 | Покупка ценных бумаг\n",
      "Удержание комиссии за операцию\n",
      "Удержание комиссии за операцию | share | BBG005Q3MQY4 | 276226576850 | 2021-07-21 09:48:50.806000+00:00 | MoneyValue(currency='usd', units=0, nano=-200000000) | MoneyValue(currency='usd', units=0, nano=0) | OperationState.OPERATION_STATE_EXECUTED | 0 | Удержание комиссии за операцию\n",
      "Покупка ценных бумаг | share | BBG00HFWVGN0 |  | 2021-07-21 08:51:54.143000+00:00 | MoneyValue(currency='usd', units=-16, nano=-440000000) | MoneyValue(currency='usd', units=5, nano=480000000) | OperationState.OPERATION_STATE_EXECUTED | 3 | Покупка ценных бумаг\n",
      "Удержание комиссии за операцию\n",
      "Удержание комиссии за операцию | share | BBG00HFWVGN0 | 276201700570 | 2021-07-21 08:51:55.143000+00:00 | MoneyValue(currency='usd', units=0, nano=-60000000) | MoneyValue(currency='usd', units=0, nano=0) | OperationState.OPERATION_STATE_EXECUTED | 0 | Удержание комиссии за операцию\n",
      "Продажа ценных бумаг | share | BBG00HFWVGN0 |  | 2021-07-21 08:40:41.657000+00:00 | MoneyValue(currency='usd', units=16, nano=350000000) | MoneyValue(currency='usd', units=5, nano=450000000) | OperationState.OPERATION_STATE_EXECUTED | 3 | Продажа ценных бумаг\n",
      "Удержание комиссии за операцию\n",
      "Удержание комиссии за операцию | share | BBG00HFWVGN0 | 276196318510 | 2021-07-21 08:40:42.657000+00:00 | MoneyValue(currency='usd', units=0, nano=-50000000) | MoneyValue(currency='usd', units=0, nano=0) | OperationState.OPERATION_STATE_EXECUTED | 0 | Удержание комиссии за операцию\n",
      "Продажа ценных бумаг | share | BBG000QDVR53 |  | 2021-07-21 08:30:13.152000+00:00 | MoneyValue(currency='usd', units=32, nano=260000000) | MoneyValue(currency='usd', units=16, nano=130000000) | OperationState.OPERATION_STATE_EXECUTED | 2 | Продажа ценных бумаг\n",
      "Удержание комиссии за операцию\n",
      "Удержание комиссии за операцию | share | BBG000QDVR53 | 276190551570 | 2021-07-21 08:30:14.152000+00:00 | MoneyValue(currency='usd', units=0, nano=-100000000) | MoneyValue(currency='usd', units=0, nano=0) | OperationState.OPERATION_STATE_EXECUTED | 0 | Удержание комиссии за операцию\n",
      "Продажа ценных бумаг | share | BBG000PLF6N0 |  | 2021-07-20 16:07:37.616000+00:00 | MoneyValue(currency='usd', units=9, nano=520000000) | MoneyValue(currency='usd', units=9, nano=520000000) | OperationState.OPERATION_STATE_EXECUTED | 1 | Продажа ценных бумаг\n",
      "Удержание комиссии за операцию\n",
      "Удержание комиссии за операцию | share | BBG000PLF6N0 | 275868113570 | 2021-07-20 16:07:38.616000+00:00 | MoneyValue(currency='usd', units=0, nano=-30000000) | MoneyValue(currency='usd', units=0, nano=0) | OperationState.OPERATION_STATE_EXECUTED | 0 | Удержание комиссии за операцию\n",
      "Покупка ценных бумаг | share | BBG002NLDLV8 |  | 2021-07-20 15:31:57.697000+00:00 | MoneyValue(currency='usd', units=-35, nano=-600000000) | MoneyValue(currency='usd', units=17, nano=800000000) | OperationState.OPERATION_STATE_EXECUTED | 2 | Покупка ценных бумаг\n",
      "Удержание комиссии за операцию\n",
      "Удержание комиссии за операцию | share | BBG002NLDLV8 | 275828254510 | 2021-07-20 15:31:58.697000+00:00 | MoneyValue(currency='usd', units=0, nano=-100000000) | MoneyValue(currency='usd', units=0, nano=0) | OperationState.OPERATION_STATE_EXECUTED | 0 | Удержание комиссии за операцию\n",
      "Продажа ценных бумаг | share | BBG000PLF6N0 |  | 2021-07-19 14:46:32.938000+00:00 | MoneyValue(currency='usd', units=9, nano=500000000) | MoneyValue(currency='usd', units=9, nano=500000000) | OperationState.OPERATION_STATE_EXECUTED | 1 | Продажа ценных бумаг\n",
      "Удержание комиссии за операцию\n",
      "Удержание комиссии за операцию | share | BBG000PLF6N0 | 274946032710 | 2021-07-19 14:46:33.938000+00:00 | MoneyValue(currency='usd', units=0, nano=-30000000) | MoneyValue(currency='usd', units=0, nano=0) | OperationState.OPERATION_STATE_EXECUTED | 0 | Удержание комиссии за операцию\n",
      "Покупка ценных бумаг | share | BBG005F1DK91 |  | 2021-07-19 14:25:30.939000+00:00 | MoneyValue(currency='usd', units=-36, nano=-540000000) | MoneyValue(currency='usd', units=18, nano=270000000) | OperationState.OPERATION_STATE_EXECUTED | 2 | Покупка ценных бумаг\n",
      "Удержание комиссии за операцию\n",
      "Удержание комиссии за операцию | share | BBG005F1DK91 | 274895907890 | 2021-07-19 14:25:31.939000+00:00 | MoneyValue(currency='usd', units=0, nano=-110000000) | MoneyValue(currency='usd', units=0, nano=0) | OperationState.OPERATION_STATE_EXECUTED | 0 | Удержание комиссии за операцию\n",
      "Покупка ценных бумаг | share | BBG000QDVR53 |  | 2021-07-19 07:01:48.315000+00:00 | MoneyValue(currency='usd', units=-31, nano=0) | MoneyValue(currency='usd', units=15, nano=500000000) | OperationState.OPERATION_STATE_EXECUTED | 2 | Покупка ценных бумаг\n",
      "Удержание комиссии за операцию\n",
      "Удержание комиссии за операцию | share | BBG000QDVR53 | 274523368870 | 2021-07-19 07:01:49.315000+00:00 | MoneyValue(currency='usd', units=0, nano=-100000000) | MoneyValue(currency='usd', units=0, nano=0) | OperationState.OPERATION_STATE_EXECUTED | 0 | Удержание комиссии за операцию\n",
      "Покупка ценных бумаг | share | BBG005F1DK91 |  | 2021-07-19 07:01:33.986000+00:00 | MoneyValue(currency='usd', units=-37, nano=-280000000) | MoneyValue(currency='usd', units=18, nano=640000000) | OperationState.OPERATION_STATE_EXECUTED | 2 | Покупка ценных бумаг\n",
      "Удержание комиссии за операцию\n",
      "Удержание комиссии за операцию | share | BBG005F1DK91 | 274523119290 | 2021-07-19 07:01:34.986000+00:00 | MoneyValue(currency='usd', units=0, nano=-110000000) | MoneyValue(currency='usd', units=0, nano=0) | OperationState.OPERATION_STATE_EXECUTED | 0 | Удержание комиссии за операцию\n",
      "Покупка ценных бумаг | share | BBG005Q3MQY4 |  | 2021-07-16 19:44:10.415000+00:00 | MoneyValue(currency='usd', units=-53, nano=-200000000) | MoneyValue(currency='usd', units=13, nano=300000000) | OperationState.OPERATION_STATE_EXECUTED | 4 | Покупка ценных бумаг\n",
      "Удержание комиссии за операцию\n",
      "Удержание комиссии за операцию | share | BBG005Q3MQY4 | 274489397660 | 2021-07-16 19:44:11.415000+00:00 | MoneyValue(currency='usd', units=0, nano=-160000000) | MoneyValue(currency='usd', units=0, nano=0) | OperationState.OPERATION_STATE_EXECUTED | 0 | Удержание комиссии за операцию\n",
      "Покупка ценных бумаг | share | BBG000R7Z112 |  | 2021-07-16 18:49:06.901000+00:00 | MoneyValue(currency='usd', units=-40, nano=-200000000) | MoneyValue(currency='usd', units=40, nano=200000000) | OperationState.OPERATION_STATE_EXECUTED | 1 | Покупка ценных бумаг\n",
      "Удержание комиссии за операцию\n",
      "Удержание комиссии за операцию | share | BBG000R7Z112 | 274448272970 | 2021-07-16 18:49:07.901000+00:00 | MoneyValue(currency='usd', units=0, nano=-120000000) | MoneyValue(currency='usd', units=0, nano=0) | OperationState.OPERATION_STATE_EXECUTED | 0 | Удержание комиссии за операцию\n",
      "Покупка ценных бумаг | share | BBG000PTSB12 |  | 2021-07-16 10:41:34.467000+00:00 | MoneyValue(currency='usd', units=0, nano=0) | MoneyValue(currency='usd', units=14, nano=500000000) | OperationState.OPERATION_STATE_CANCELED | 30 | Покупка ценных бумаг\n",
      "Покупка ценных бумаг | currency | BBG0013HGFT4 |  | 2021-07-16 10:39:41+00:00 | MoneyValue(currency='rub', units=-49812, nano=0) | MoneyValue(currency='rub', units=74, nano=125000000) | OperationState.OPERATION_STATE_EXECUTED | 672 | Покупка ценных бумаг\n",
      "Удержание комиссии за операцию\n",
      "Удержание комиссии за операцию | currency | BBG0013HGFT4 | 22016414836 | 2021-07-16 10:39:42+00:00 | MoneyValue(currency='rub', units=-149, nano=-440000000) | MoneyValue(currency='rub', units=0, nano=0) | OperationState.OPERATION_STATE_EXECUTED | 0 | Удержание комиссии за операцию\n",
      "Пополнение брокерского счёта |  |  |  | 2021-07-16 10:39:20+00:00 | MoneyValue(currency='rub', units=50000, nano=0) | MoneyValue(currency='rub', units=0, nano=0) | OperationState.OPERATION_STATE_EXECUTED | 0 | Пополнение брокерского счёта\n",
      "Покупка ценных бумаг | currency | BBG0013HGFT4 |  | 2021-07-16 08:26:14+00:00 | MoneyValue(currency='rub', units=-74, nano=-100000000) | MoneyValue(currency='rub', units=74, nano=100000000) | OperationState.OPERATION_STATE_EXECUTED | 1 | Покупка ценных бумаг\n",
      "Удержание комиссии за операцию\n",
      "Удержание комиссии за операцию | currency | BBG0013HGFT4 | 22015413931 | 2021-07-16 08:26:15+00:00 | MoneyValue(currency='rub', units=0, nano=-220000000) | MoneyValue(currency='rub', units=0, nano=0) | OperationState.OPERATION_STATE_EXECUTED | 0 | Удержание комиссии за операцию\n",
      "Покупка ценных бумаг | share | BBG000PTSB12 |  | 2021-07-15 21:44:55.327000+00:00 | MoneyValue(currency='usd', units=0, nano=0) | MoneyValue(currency='usd', units=15, nano=0) | OperationState.OPERATION_STATE_CANCELED | 10 | Покупка ценных бумаг\n",
      "Покупка ценных бумаг | share | BBG000BTYP37 |  | 2021-07-15 13:31:11.167000+00:00 | MoneyValue(currency='usd', units=-18, nano=-600000000) | MoneyValue(currency='usd', units=4, nano=650000000) | OperationState.OPERATION_STATE_EXECUTED | 4 | Покупка ценных бумаг\n",
      "Удержание комиссии за операцию\n",
      "Удержание комиссии за операцию | share | BBG000BTYP37 | 273428753530 | 2021-07-15 13:31:12.167000+00:00 | MoneyValue(currency='usd', units=0, nano=-60000000) | MoneyValue(currency='usd', units=0, nano=0) | OperationState.OPERATION_STATE_EXECUTED | 0 | Удержание комиссии за операцию\n",
      "Покупка ценных бумаг | share | BBG000PLF6N0 |  | 2021-07-15 13:30:28.362000+00:00 | MoneyValue(currency='usd', units=-17, nano=-740000000) | MoneyValue(currency='usd', units=8, nano=870000000) | OperationState.OPERATION_STATE_EXECUTED | 2 | Покупка ценных бумаг\n",
      "Удержание комиссии за операцию\n",
      "Удержание комиссии за операцию | share | BBG000PLF6N0 | 273426852050 | 2021-07-15 13:30:29.362000+00:00 | MoneyValue(currency='usd', units=0, nano=-50000000) | MoneyValue(currency='usd', units=0, nano=0) | OperationState.OPERATION_STATE_EXECUTED | 0 | Удержание комиссии за операцию\n",
      "Покупка ценных бумаг | share | BBG005Q3MQY4 |  | 2021-07-14 18:05:28.636000+00:00 | MoneyValue(currency='usd', units=-40, nano=-500000000) | MoneyValue(currency='usd', units=13, nano=500000000) | OperationState.OPERATION_STATE_EXECUTED | 3 | Покупка ценных бумаг\n",
      "Удержание комиссии за операцию\n",
      "Удержание комиссии за операцию | share | BBG005Q3MQY4 | 273143338080 | 2021-07-14 18:05:29.636000+00:00 | MoneyValue(currency='usd', units=0, nano=-120000000) | MoneyValue(currency='usd', units=0, nano=0) | OperationState.OPERATION_STATE_EXECUTED | 0 | Удержание комиссии за операцию\n",
      "Покупка ценных бумаг | share | BBG000PTSB12 |  | 2021-07-14 14:33:11.472000+00:00 | MoneyValue(currency='usd', units=-155, nano=0) | MoneyValue(currency='usd', units=15, nano=500000000) | OperationState.OPERATION_STATE_EXECUTED | 10 | Покупка ценных бумаг\n",
      "Удержание комиссии за операцию\n",
      "Удержание комиссии за операцию | share | BBG000PTSB12 | 272907577250 | 2021-07-14 14:33:12.472000+00:00 | MoneyValue(currency='usd', units=0, nano=-470000000) | MoneyValue(currency='usd', units=0, nano=0) | OperationState.OPERATION_STATE_EXECUTED | 0 | Удержание комиссии за операцию\n",
      "Покупка ценных бумаг | share | BBG000PTSB12 |  | 2021-07-14 07:58:12.336000+00:00 | MoneyValue(currency='usd', units=-155, nano=0) | MoneyValue(currency='usd', units=15, nano=500000000) | OperationState.OPERATION_STATE_EXECUTED | 10 | Покупка ценных бумаг\n",
      "Удержание комиссии за операцию\n",
      "Удержание комиссии за операцию | share | BBG000PTSB12 | 272672570900 | 2021-07-14 07:58:13.336000+00:00 | MoneyValue(currency='usd', units=0, nano=-470000000) | MoneyValue(currency='usd', units=0, nano=0) | OperationState.OPERATION_STATE_EXECUTED | 0 | Удержание комиссии за операцию\n",
      "Покупка ценных бумаг | share | BBG000PLF6N0 |  | 2021-07-14 07:49:02.493000+00:00 | MoneyValue(currency='usd', units=-9, nano=0) | MoneyValue(currency='usd', units=9, nano=0) | OperationState.OPERATION_STATE_EXECUTED | 1 | Покупка ценных бумаг\n",
      "Удержание комиссии за операцию\n",
      "Удержание комиссии за операцию | share | BBG000PLF6N0 | 272667035120 | 2021-07-14 07:49:03.493000+00:00 | MoneyValue(currency='usd', units=0, nano=-30000000) | MoneyValue(currency='usd', units=0, nano=0) | OperationState.OPERATION_STATE_EXECUTED | 0 | Удержание комиссии за операцию\n",
      "Покупка ценных бумаг | share | BBG000PTSB12 |  | 2021-07-13 20:49:35.819000+00:00 | MoneyValue(currency='usd', units=0, nano=0) | MoneyValue(currency='usd', units=16, nano=0) | OperationState.OPERATION_STATE_CANCELED | 10 | Покупка ценных бумаг\n",
      "Покупка ценных бумаг | share | BBG000PLF6N0 |  | 2021-07-13 13:40:32.789000+00:00 | MoneyValue(currency='usd', units=0, nano=0) | MoneyValue(currency='usd', units=9, nano=0) | OperationState.OPERATION_STATE_CANCELED | 2 | Покупка ценных бумаг\n",
      "Покупка ценных бумаг | share | BBG000PTSB12 |  | 2021-07-13 13:36:55.261000+00:00 | MoneyValue(currency='usd', units=-165, nano=0) | MoneyValue(currency='usd', units=16, nano=500000000) | OperationState.OPERATION_STATE_EXECUTED | 10 | Покупка ценных бумаг\n",
      "Удержание комиссии за операцию\n",
      "Удержание комиссии за операцию | share | BBG000PTSB12 | 272215272060 | 2021-07-13 13:36:56.261000+00:00 | MoneyValue(currency='usd', units=0, nano=-500000000) | MoneyValue(currency='usd', units=0, nano=0) | OperationState.OPERATION_STATE_EXECUTED | 0 | Удержание комиссии за операцию\n",
      "Покупка ценных бумаг | share | BBG000PTSB12 |  | 2021-07-13 13:33:58.660000+00:00 | MoneyValue(currency='usd', units=-254, nano=-250000000) | MoneyValue(currency='usd', units=16, nano=950000000) | OperationState.OPERATION_STATE_EXECUTED | 15 | Покупка ценных бумаг\n",
      "Удержание комиссии за операцию\n",
      "Удержание комиссии за операцию | share | BBG000PTSB12 | 272207452760 | 2021-07-13 13:33:59.660000+00:00 | MoneyValue(currency='usd', units=0, nano=-760000000) | MoneyValue(currency='usd', units=0, nano=0) | OperationState.OPERATION_STATE_EXECUTED | 0 | Удержание комиссии за операцию\n"
     ]
    },
    {
     "name": "stdout",
     "output_type": "stream",
     "text": [
      "Покупка ценных бумаг | share | BBG000PTSB12 |  | 2021-07-13 13:16:28.789000+00:00 | MoneyValue(currency='usd', units=0, nano=0) | MoneyValue(currency='usd', units=16, nano=500000000) | OperationState.OPERATION_STATE_CANCELED | 5 | Покупка ценных бумаг\n",
      "Покупка ценных бумаг | share | BBG000P7S7L7 |  | 2021-07-13 09:24:30.624000+00:00 | MoneyValue(currency='usd', units=-73, nano=-150000000) | MoneyValue(currency='usd', units=6, nano=650000000) | OperationState.OPERATION_STATE_EXECUTED | 11 | Покупка ценных бумаг\n",
      "Удержание комиссии за операцию\n",
      "Удержание комиссии за операцию | share | BBG000P7S7L7 | 272097053550 | 2021-07-13 09:24:31.624000+00:00 | MoneyValue(currency='usd', units=0, nano=-220000000) | MoneyValue(currency='usd', units=0, nano=0) | OperationState.OPERATION_STATE_EXECUTED | 0 | Удержание комиссии за операцию\n",
      "Покупка ценных бумаг | share | BBG000PTSB12 |  | 2021-07-12 14:13:08.119000+00:00 | MoneyValue(currency='usd', units=0, nano=0) | MoneyValue(currency='usd', units=16, nano=950000000) | OperationState.OPERATION_STATE_CANCELED | 2 | Покупка ценных бумаг\n",
      "Покупка ценных бумаг | currency | BBG0013HGFT4 |  | 2021-07-12 14:11:50+00:00 | MoneyValue(currency='rub', units=-2757, nano=-700000000) | MoneyValue(currency='rub', units=74, nano=532432000) | OperationState.OPERATION_STATE_EXECUTED | 37 | Покупка ценных бумаг\n",
      "Удержание комиссии за операцию\n",
      "Удержание комиссии за операцию | currency | BBG0013HGFT4 | 21995600270 | 2021-07-12 14:11:51+00:00 | MoneyValue(currency='rub', units=-8, nano=-270000000) | MoneyValue(currency='rub', units=0, nano=0) | OperationState.OPERATION_STATE_EXECUTED | 0 | Удержание комиссии за операцию\n",
      "Продажа ценных бумаг | share | BBG0047315Y7 |  | 2021-07-12 14:09:10.062000+00:00 | MoneyValue(currency='rub', units=2840, nano=0) | MoneyValue(currency='rub', units=284, nano=0) | OperationState.OPERATION_STATE_EXECUTED | 10 | Продажа ценных бумаг\n",
      "Удержание комиссии за операцию\n",
      "Удержание комиссии за операцию | share | BBG0047315Y7 | 24784053711 | 2021-07-12 14:09:11.062000+00:00 | MoneyValue(currency='rub', units=-8, nano=-520000000) | MoneyValue(currency='rub', units=0, nano=0) | OperationState.OPERATION_STATE_EXECUTED | 0 | Удержание комиссии за операцию\n",
      "Покупка ценных бумаг | share | BBG005Q3MQY4 |  | 2021-07-09 19:02:46.766000+00:00 | MoneyValue(currency='usd', units=-28, nano=-420000000) | MoneyValue(currency='usd', units=14, nano=210000000) | OperationState.OPERATION_STATE_EXECUTED | 2 | Покупка ценных бумаг\n",
      "Удержание комиссии за операцию\n",
      "Удержание комиссии за операцию | share | BBG005Q3MQY4 | 271409387950 | 2021-07-09 19:02:47.766000+00:00 | MoneyValue(currency='usd', units=0, nano=-80000000) | MoneyValue(currency='usd', units=0, nano=0) | OperationState.OPERATION_STATE_EXECUTED | 0 | Удержание комиссии за операцию\n",
      "Покупка ценных бумаг | currency | BBG0013HGFT4 |  | 2021-07-08 18:10:34+00:00 | MoneyValue(currency='rub', units=-42191, nano=-430000000) | MoneyValue(currency='rub', units=74, nano=807500000) | OperationState.OPERATION_STATE_EXECUTED | 564 | Покупка ценных бумаг\n",
      "Удержание комиссии за операцию\n",
      "Удержание комиссии за операцию | currency | BBG0013HGFT4 | 21985170337 | 2021-07-08 18:10:35+00:00 | MoneyValue(currency='rub', units=-126, nano=-570000000) | MoneyValue(currency='rub', units=0, nano=0) | OperationState.OPERATION_STATE_EXECUTED | 0 | Удержание комиссии за операцию\n",
      "Покупка ценных бумаг | share | BBG000PTSB12 |  | 2021-07-08 13:14:43.477000+00:00 | MoneyValue(currency='usd', units=-205, nano=-950000000) | MoneyValue(currency='usd', units=13, nano=730000000) | OperationState.OPERATION_STATE_EXECUTED | 15 | Покупка ценных бумаг\n",
      "Удержание комиссии за операцию\n",
      "Удержание комиссии за операцию | share | BBG000PTSB12 | 270379405970 | 2021-07-08 13:14:44.477000+00:00 | MoneyValue(currency='usd', units=0, nano=-620000000) | MoneyValue(currency='usd', units=0, nano=0) | OperationState.OPERATION_STATE_EXECUTED | 0 | Удержание комиссии за операцию\n",
      "Покупка ценных бумаг | share | BBG000PTSB12 |  | 2021-07-08 13:12:41.883000+00:00 | MoneyValue(currency='usd', units=-138, nano=-500000000) | MoneyValue(currency='usd', units=13, nano=850000000) | OperationState.OPERATION_STATE_EXECUTED | 10 | Покупка ценных бумаг\n",
      "Удержание комиссии за операцию\n",
      "Удержание комиссии за операцию | share | BBG000PTSB12 | 270378752310 | 2021-07-08 13:12:42.883000+00:00 | MoneyValue(currency='usd', units=0, nano=-420000000) | MoneyValue(currency='usd', units=0, nano=0) | OperationState.OPERATION_STATE_EXECUTED | 0 | Удержание комиссии за операцию\n",
      "Покупка ценных бумаг | currency | BBG0013HGFT4 |  | 2021-07-08 12:59:34+00:00 | MoneyValue(currency='rub', units=-29988, nano=0) | MoneyValue(currency='rub', units=74, nano=970000000) | OperationState.OPERATION_STATE_EXECUTED | 400 | Покупка ценных бумаг\n",
      "Удержание комиссии за операцию\n",
      "Удержание комиссии за операцию | currency | BBG0013HGFT4 | 21982703924 | 2021-07-08 12:59:35+00:00 | MoneyValue(currency='rub', units=-89, nano=-960000000) | MoneyValue(currency='rub', units=0, nano=0) | OperationState.OPERATION_STATE_EXECUTED | 0 | Удержание комиссии за операцию\n",
      "Покупка ценных бумаг | share | BBG000PTSB12 |  | 2021-07-08 12:47:09.255000+00:00 | MoneyValue(currency='usd', units=-69, nano=-950000000) | MoneyValue(currency='usd', units=13, nano=990000000) | OperationState.OPERATION_STATE_EXECUTED | 5 | Покупка ценных бумаг\n",
      "Удержание комиссии за операцию\n",
      "Удержание комиссии за операцию | share | BBG000PTSB12 | 270367334310 | 2021-07-08 12:47:10.255000+00:00 | MoneyValue(currency='usd', units=0, nano=-210000000) | MoneyValue(currency='usd', units=0, nano=0) | OperationState.OPERATION_STATE_EXECUTED | 0 | Удержание комиссии за операцию\n",
      "Покупка ценных бумаг | currency | BBG0013HGFT4 |  | 2021-07-08 12:46:11+00:00 | MoneyValue(currency='rub', units=-37503, nano=-750000000) | MoneyValue(currency='rub', units=75, nano=7500000) | OperationState.OPERATION_STATE_EXECUTED | 500 | Покупка ценных бумаг\n",
      "Удержание комиссии за операцию\n",
      "Удержание комиссии за операцию | currency | BBG0013HGFT4 | 21982534878 | 2021-07-08 12:46:12+00:00 | MoneyValue(currency='rub', units=-112, nano=-510000000) | MoneyValue(currency='rub', units=0, nano=0) | OperationState.OPERATION_STATE_EXECUTED | 0 | Удержание комиссии за операцию\n",
      "Пополнение брокерского счёта |  |  |  | 2021-07-08 12:45:28+00:00 | MoneyValue(currency='rub', units=110000, nano=0) | MoneyValue(currency='rub', units=0, nano=0) | OperationState.OPERATION_STATE_EXECUTED | 0 | Пополнение брокерского счёта\n",
      "Покупка ценных бумаг | share | BBG000PTSB12 |  | 2021-07-08 09:08:53.580000+00:00 | MoneyValue(currency='usd', units=-55, nano=-280000000) | MoneyValue(currency='usd', units=13, nano=820000000) | OperationState.OPERATION_STATE_EXECUTED | 4 | Покупка ценных бумаг\n",
      "Удержание комиссии за операцию\n",
      "Удержание комиссии за операцию | share | BBG000PTSB12 | 270265466540 | 2021-07-08 09:08:54.580000+00:00 | MoneyValue(currency='usd', units=0, nano=-170000000) | MoneyValue(currency='usd', units=0, nano=0) | OperationState.OPERATION_STATE_EXECUTED | 0 | Удержание комиссии за операцию\n",
      "Продажа ценных бумаг |  |  |  | 2021-07-08 09:07:38.305000+00:00 | MoneyValue(currency='usd', units=101, nano=760000000) | MoneyValue(currency='usd', units=12, nano=720000000) | OperationState.OPERATION_STATE_EXECUTED | 8 | Продажа ценных бумаг\n",
      "Удержание комиссии за операцию\n",
      "Удержание комиссии за операцию |  |  | 270264791880 | 2021-07-08 09:07:39.305000+00:00 | MoneyValue(currency='usd', units=0, nano=-310000000) | MoneyValue(currency='usd', units=0, nano=0) | OperationState.OPERATION_STATE_EXECUTED | 0 | Удержание комиссии за операцию\n",
      "Покупка ценных бумаг | share | BBG000PTSB12 |  | 2021-07-07 14:23:58.501000+00:00 | MoneyValue(currency='usd', units=-82, nano=-920000000) | MoneyValue(currency='usd', units=13, nano=820000000) | OperationState.OPERATION_STATE_EXECUTED | 6 | Покупка ценных бумаг\n",
      "Удержание комиссии за операцию\n",
      "Удержание комиссии за операцию | share | BBG000PTSB12 | 269810776540 | 2021-07-07 14:23:59.501000+00:00 | MoneyValue(currency='usd', units=0, nano=-240000000) | MoneyValue(currency='usd', units=0, nano=0) | OperationState.OPERATION_STATE_EXECUTED | 0 | Удержание комиссии за операцию\n",
      "Покупка ценных бумаг | currency | BBG0013HGFT4 |  | 2021-07-07 12:11:52+00:00 | MoneyValue(currency='rub', units=-2965, nano=-400000000) | MoneyValue(currency='rub', units=74, nano=135000000) | OperationState.OPERATION_STATE_EXECUTED | 40 | Покупка ценных бумаг\n",
      "Удержание комиссии за операцию\n",
      "Удержание комиссии за операцию | currency | BBG0013HGFT4 | 21973875187 | 2021-07-07 12:11:53+00:00 | MoneyValue(currency='rub', units=-8, nano=-900000000) | MoneyValue(currency='rub', units=0, nano=0) | OperationState.OPERATION_STATE_EXECUTED | 0 | Удержание комиссии за операцию\n",
      "Покупка ценных бумаг | share | BBG000PTSB12 |  | 2021-07-07 12:03:17.077000+00:00 | MoneyValue(currency='usd', units=-14, nano=-430000000) | MoneyValue(currency='usd', units=14, nano=430000000) | OperationState.OPERATION_STATE_EXECUTED | 1 | Покупка ценных бумаг\n",
      "Удержание комиссии за операцию\n",
      "Удержание комиссии за операцию | share | BBG000PTSB12 | 269676755470 | 2021-07-07 12:03:18.077000+00:00 | MoneyValue(currency='usd', units=0, nano=-40000000) | MoneyValue(currency='usd', units=0, nano=0) | OperationState.OPERATION_STATE_EXECUTED | 0 | Удержание комиссии за операцию\n",
      "Продажа ценных бумаг | share | BBG000BCTLF6 |  | 2021-07-07 11:58:48.890000+00:00 | MoneyValue(currency='usd', units=40, nano=10000000) | MoneyValue(currency='usd', units=40, nano=10000000) | OperationState.OPERATION_STATE_EXECUTED | 1 | Продажа ценных бумаг\n",
      "Удержание комиссии за операцию\n",
      "Удержание комиссии за операцию | share | BBG000BCTLF6 | 269675466640 | 2021-07-07 11:58:49.890000+00:00 | MoneyValue(currency='usd', units=0, nano=-120000000) | MoneyValue(currency='usd', units=0, nano=0) | OperationState.OPERATION_STATE_EXECUTED | 0 | Удержание комиссии за операцию\n",
      "Продажа ценных бумаг | share | BBG000BN56Q9 |  | 2021-07-07 07:23:33.120000+00:00 | MoneyValue(currency='rub', units=3006, nano=0) | MoneyValue(currency='rub', units=150, nano=300000000) | OperationState.OPERATION_STATE_EXECUTED | 20 | Продажа ценных бумаг\n",
      "Удержание комиссии за операцию\n",
      "Удержание комиссии за операцию | share | BBG000BN56Q9 | 24706317398 | 2021-07-07 07:23:34.120000+00:00 | MoneyValue(currency='rub', units=-9, nano=-20000000) | MoneyValue(currency='rub', units=0, nano=0) | OperationState.OPERATION_STATE_EXECUTED | 0 | Удержание комиссии за операцию\n",
      "Покупка ценных бумаг |  |  |  | 2021-07-06 20:26:20.261000+00:00 | MoneyValue(currency='usd', units=-12, nano=-950000000) | MoneyValue(currency='usd', units=12, nano=950000000) | OperationState.OPERATION_STATE_EXECUTED | 1 | Покупка ценных бумаг\n",
      "Удержание комиссии за операцию\n",
      "Удержание комиссии за операцию |  |  | 269528806670 | 2021-07-06 20:26:21.261000+00:00 | MoneyValue(currency='usd', units=0, nano=-40000000) | MoneyValue(currency='usd', units=0, nano=0) | OperationState.OPERATION_STATE_EXECUTED | 0 | Удержание комиссии за операцию\n",
      "Покупка ценных бумаг | share | BBG005Q3MQY4 |  | 2021-07-06 13:19:57.225000+00:00 | MoneyValue(currency='usd', units=-15, nano=-830000000) | MoneyValue(currency='usd', units=15, nano=830000000) | OperationState.OPERATION_STATE_EXECUTED | 1 | Покупка ценных бумаг\n",
      "Удержание комиссии за операцию\n",
      "Удержание комиссии за операцию | share | BBG005Q3MQY4 | 269117580120 | 2021-07-06 13:19:58.225000+00:00 | MoneyValue(currency='usd', units=0, nano=-50000000) | MoneyValue(currency='usd', units=0, nano=0) | OperationState.OPERATION_STATE_EXECUTED | 0 | Удержание комиссии за операцию\n",
      "Продажа ценных бумаг | share | BBG000PTSB12 |  | 2021-07-06 13:18:35.606000+00:00 | MoneyValue(currency='usd', units=42, nano=900000000) | MoneyValue(currency='usd', units=14, nano=300000000) | OperationState.OPERATION_STATE_EXECUTED | 3 | Продажа ценных бумаг\n",
      "Удержание комиссии за операцию\n",
      "Удержание комиссии за операцию | share | BBG000PTSB12 | 269117387890 | 2021-07-06 13:18:36.606000+00:00 | MoneyValue(currency='usd', units=0, nano=-130000000) | MoneyValue(currency='usd', units=0, nano=0) | OperationState.OPERATION_STATE_EXECUTED | 0 | Удержание комиссии за операцию\n",
      "Продажа ценных бумаг | share | BBG000PTSB12 |  | 2021-07-06 12:33:30.116000+00:00 | MoneyValue(currency='usd', units=16, nano=670000000) | MoneyValue(currency='usd', units=16, nano=670000000) | OperationState.OPERATION_STATE_EXECUTED | 1 | Продажа ценных бумаг\n",
      "Удержание комиссии за операцию\n",
      "Удержание комиссии за операцию | share | BBG000PTSB12 | 269104761250 | 2021-07-06 12:33:31.116000+00:00 | MoneyValue(currency='usd', units=0, nano=-50000000) | MoneyValue(currency='usd', units=0, nano=0) | OperationState.OPERATION_STATE_EXECUTED | 0 | Удержание комиссии за операцию\n",
      "Продажа ценных бумаг | share | BBG000BN56Q9 |  | 2021-07-06 09:19:14.029000+00:00 | MoneyValue(currency='rub', units=0, nano=0) | MoneyValue(currency='rub', units=151, nano=440000000) | OperationState.OPERATION_STATE_CANCELED | 20 | Продажа ценных бумаг\n",
      "Покупка ценных бумаг | share | BBG000P7S7L7 |  | 2021-06-28 20:16:44.084000+00:00 | MoneyValue(currency='usd', units=-7, nano=-890000000) | MoneyValue(currency='usd', units=7, nano=890000000) | OperationState.OPERATION_STATE_EXECUTED | 1 | Покупка ценных бумаг\n",
      "Удержание комиссии за операцию\n",
      "Удержание комиссии за операцию | share | BBG000P7S7L7 | 266802752380 | 2021-06-28 20:16:44.084000+00:00 | MoneyValue(currency='usd', units=0, nano=-20000000) | MoneyValue(currency='usd', units=0, nano=0) | OperationState.OPERATION_STATE_EXECUTED | 0 | Удержание комиссии за операцию\n",
      "Покупка ценных бумаг |  |  |  | 2021-06-28 20:13:01.184000+00:00 | MoneyValue(currency='usd', units=-12, nano=-910000000) | MoneyValue(currency='usd', units=12, nano=910000000) | OperationState.OPERATION_STATE_EXECUTED | 1 | Покупка ценных бумаг\n",
      "Удержание комиссии за операцию\n",
      "Удержание комиссии за операцию |  |  | 266802501770 | 2021-06-28 20:13:01.184000+00:00 | MoneyValue(currency='usd', units=0, nano=-40000000) | MoneyValue(currency='usd', units=0, nano=0) | OperationState.OPERATION_STATE_EXECUTED | 0 | Удержание комиссии за операцию\n",
      "Покупка ценных бумаг |  |  |  | 2021-06-28 11:50:17.385000+00:00 | MoneyValue(currency='usd', units=-26, nano=-240000000) | MoneyValue(currency='usd', units=13, nano=120000000) | OperationState.OPERATION_STATE_EXECUTED | 2 | Покупка ценных бумаг\n",
      "Удержание комиссии за операцию\n",
      "Удержание комиссии за операцию |  |  | 266402547970 | 2021-06-28 11:50:17.385000+00:00 | MoneyValue(currency='usd', units=0, nano=-80000000) | MoneyValue(currency='usd', units=0, nano=0) | OperationState.OPERATION_STATE_EXECUTED | 0 | Удержание комиссии за операцию\n",
      "Продажа ценных бумаг | share | BBG000PTSB12 |  | 2021-06-28 07:45:15.966000+00:00 | MoneyValue(currency='usd', units=30, nano=100000000) | MoneyValue(currency='usd', units=15, nano=50000000) | OperationState.OPERATION_STATE_EXECUTED | 2 | Продажа ценных бумаг\n",
      "Удержание комиссии за операцию\n",
      "Удержание комиссии за операцию | share | BBG000PTSB12 | 266314746380 | 2021-06-28 07:45:15.966000+00:00 | MoneyValue(currency='usd', units=0, nano=-90000000) | MoneyValue(currency='usd', units=0, nano=0) | OperationState.OPERATION_STATE_EXECUTED | 0 | Удержание комиссии за операцию\n",
      "Продажа ценных бумаг | share | BBG000P7S7L7 |  | 2021-06-28 07:40:26.536000+00:00 | MoneyValue(currency='usd', units=17, nano=280000000) | MoneyValue(currency='usd', units=8, nano=640000000) | OperationState.OPERATION_STATE_EXECUTED | 2 | Продажа ценных бумаг\n",
      "Удержание комиссии за операцию\n",
      "Удержание комиссии за операцию | share | BBG000P7S7L7 | 266311523860 | 2021-06-28 07:40:26.536000+00:00 | MoneyValue(currency='usd', units=0, nano=-50000000) | MoneyValue(currency='usd', units=0, nano=0) | OperationState.OPERATION_STATE_EXECUTED | 0 | Удержание комиссии за операцию\n",
      "Покупка ценных бумаг |  |  |  | 2021-06-25 07:50:00.005000+00:00 | MoneyValue(currency='usd', units=-13, nano=-130000000) | MoneyValue(currency='usd', units=13, nano=130000000) | OperationState.OPERATION_STATE_EXECUTED | 1 | Покупка ценных бумаг\n",
      "Удержание комиссии за операцию\n",
      "Удержание комиссии за операцию |  |  | 265790433960 | 2021-06-25 07:50:00.005000+00:00 | MoneyValue(currency='usd', units=0, nano=-40000000) | MoneyValue(currency='usd', units=0, nano=0) | OperationState.OPERATION_STATE_EXECUTED | 0 | Удержание комиссии за операцию\n",
      "Покупка ценных бумаг | share | BBG000PTSB12 |  | 2021-06-15 21:25:02.489000+00:00 | MoneyValue(currency='usd', units=-140, nano=-800000000) | MoneyValue(currency='usd', units=12, nano=800000000) | OperationState.OPERATION_STATE_EXECUTED | 11 | Покупка ценных бумаг\n",
      "Удержание комиссии за операцию\n",
      "Удержание комиссии за операцию | share | BBG000PTSB12 | 261082348710 | 2021-06-15 21:25:02.489000+00:00 | MoneyValue(currency='usd', units=0, nano=-420000000) | MoneyValue(currency='usd', units=0, nano=0) | OperationState.OPERATION_STATE_EXECUTED | 0 | Удержание комиссии за операцию\n",
      "Пополнение брокерского счёта |  |  |  | 2021-06-15 21:25:02+00:00 | MoneyValue(currency='usd', units=141, nano=230000000) | MoneyValue(currency='usd', units=0, nano=0) | OperationState.OPERATION_STATE_EXECUTED | 0 | Пополнение брокерского счёта\n",
      "Покупка ценных бумаг | share | BBG000P7S7L7 |  | 2021-06-15 16:10:14.100000+00:00 | MoneyValue(currency='usd', units=-15, nano=-880000000) | MoneyValue(currency='usd', units=7, nano=940000000) | OperationState.OPERATION_STATE_EXECUTED | 2 | Покупка ценных бумаг\n",
      "Удержание комиссии за операцию\n",
      "Удержание комиссии за операцию | share | BBG000P7S7L7 | 260909059540 | 2021-06-15 16:10:14.100000+00:00 | MoneyValue(currency='usd', units=0, nano=-40000000) | MoneyValue(currency='usd', units=0, nano=0) | OperationState.OPERATION_STATE_EXECUTED | 0 | Удержание комиссии за операцию\n",
      "Покупка ценных бумаг | share | BBG000PLF6N0 |  | 2021-06-14 12:26:37.911000+00:00 | MoneyValue(currency='usd', units=-10, nano=-600000000) | MoneyValue(currency='usd', units=10, nano=600000000) | OperationState.OPERATION_STATE_EXECUTED | 1 | Покупка ценных бумаг\n",
      "Удержание комиссии за операцию\n",
      "Удержание комиссии за операцию | share | BBG000PLF6N0 | 260140066210 | 2021-06-14 12:26:37.911000+00:00 | MoneyValue(currency='usd', units=0, nano=-30000000) | MoneyValue(currency='usd', units=0, nano=0) | OperationState.OPERATION_STATE_EXECUTED | 0 | Удержание комиссии за операцию\n",
      "Покупка ценных бумаг | share | BBG000BTYP37 |  | 2021-06-14 09:53:50.642000+00:00 | MoneyValue(currency='usd', units=-11, nano=-840000000) | MoneyValue(currency='usd', units=5, nano=920000000) | OperationState.OPERATION_STATE_EXECUTED | 2 | Покупка ценных бумаг\n",
      "Удержание комиссии за операцию\n",
      "Удержание комиссии за операцию | share | BBG000BTYP37 | 260096781600 | 2021-06-14 09:53:50.642000+00:00 | MoneyValue(currency='usd', units=0, nano=-40000000) | MoneyValue(currency='usd', units=0, nano=0) | OperationState.OPERATION_STATE_EXECUTED | 0 | Удержание комиссии за операцию\n",
      "Покупка ценных бумаг | share | BBG000PTSB12 |  | 2021-06-11 19:36:38.106000+00:00 | MoneyValue(currency='usd', units=-12, nano=-480000000) | MoneyValue(currency='usd', units=12, nano=480000000) | OperationState.OPERATION_STATE_EXECUTED | 1 | Покупка ценных бумаг\n",
      "Удержание комиссии за операцию\n",
      "Удержание комиссии за операцию | share | BBG000PTSB12 | 259986061310 | 2021-06-11 19:36:38.106000+00:00 | MoneyValue(currency='usd', units=0, nano=-40000000) | MoneyValue(currency='usd', units=0, nano=0) | OperationState.OPERATION_STATE_EXECUTED | 0 | Удержание комиссии за операцию\n",
      "Покупка ценных бумаг | share | BBG000PTSB12 |  | 2021-06-11 08:58:37.585000+00:00 | MoneyValue(currency='usd', units=0, nano=0) | MoneyValue(currency='usd', units=12, nano=390000000) | OperationState.OPERATION_STATE_CANCELED | 1 | Покупка ценных бумаг\n",
      "Покупка ценных бумаг |  |  |  | 2021-06-10 21:24:45.965000+00:00 | MoneyValue(currency='usd', units=-13, nano=-640000000) | MoneyValue(currency='usd', units=13, nano=640000000) | OperationState.OPERATION_STATE_EXECUTED | 1 | Покупка ценных бумаг\n",
      "Удержание комиссии за операцию\n",
      "Удержание комиссии за операцию |  |  | 259475008350 | 2021-06-10 21:24:45.965000+00:00 | MoneyValue(currency='usd', units=0, nano=-40000000) | MoneyValue(currency='usd', units=0, nano=0) | OperationState.OPERATION_STATE_EXECUTED | 0 | Удержание комиссии за операцию\n",
      "Покупка ценных бумаг | share | BBG000P7S7L7 |  | 2021-06-10 21:23:33.120000+00:00 | MoneyValue(currency='usd', units=-82, nano=-200000000) | MoneyValue(currency='usd', units=8, nano=220000000) | OperationState.OPERATION_STATE_EXECUTED | 10 | Покупка ценных бумаг\n",
      "Удержание комиссии за операцию\n",
      "Удержание комиссии за операцию | share | BBG000P7S7L7 | 259474956460 | 2021-06-10 21:23:33.120000+00:00 | MoneyValue(currency='usd', units=0, nano=-250000000) | MoneyValue(currency='usd', units=0, nano=0) | OperationState.OPERATION_STATE_EXECUTED | 0 | Удержание комиссии за операцию\n",
      "Покупка ценных бумаг | share | BBG000PTSB12 |  | 2021-06-10 20:09:14.446000+00:00 | MoneyValue(currency='usd', units=0, nano=0) | MoneyValue(currency='usd', units=11, nano=0) | OperationState.OPERATION_STATE_CANCELED | 14 | Покупка ценных бумаг\n",
      "Покупка ценных бумаг | share | BBG000PTSB12 |  | 2021-06-10 14:55:28.024000+00:00 | MoneyValue(currency='usd', units=-45, nano=-200000000) | MoneyValue(currency='usd', units=11, nano=300000000) | OperationState.OPERATION_STATE_EXECUTED | 4 | Покупка ценных бумаг\n",
      "Удержание комиссии за операцию\n",
      "Удержание комиссии за операцию | share | BBG000PTSB12 | 259206196170 | 2021-06-10 14:55:28.024000+00:00 | MoneyValue(currency='usd', units=0, nano=-140000000) | MoneyValue(currency='usd', units=0, nano=0) | OperationState.OPERATION_STATE_EXECUTED | 0 | Удержание комиссии за операцию\n",
      "Вывод денежных средств |  |  |  | 2021-06-10 13:55:15+00:00 | MoneyValue(currency='rub', units=-9, nano=-690000000) | MoneyValue(currency='rub', units=0, nano=0) | OperationState.OPERATION_STATE_EXECUTED | 0 | Вывод денежных средств\n",
      "Удержание налога |  |  |  | 2021-06-10 13:55:15+00:00 | MoneyValue(currency='rub', units=-51, nano=0) | MoneyValue(currency='rub', units=0, nano=0) | OperationState.OPERATION_STATE_EXECUTED | 0 | Удержание налога\n",
      "Покупка ценных бумаг | share | BBG000PTSB12 |  | 2021-06-10 13:47:11.091000+00:00 | MoneyValue(currency='usd', units=0, nano=0) | MoneyValue(currency='usd', units=11, nano=380000000) | OperationState.OPERATION_STATE_CANCELED | 18 | Покупка ценных бумаг\n",
      "Продажа ценных бумаг | share | BBG000BCTLF6 |  | 2021-06-10 13:38:47.710000+00:00 | MoneyValue(currency='usd', units=0, nano=0) | MoneyValue(currency='usd', units=43, nano=300000000) | OperationState.OPERATION_STATE_CANCELED | 1 | Продажа ценных бумаг\n",
      "Покупка ценных бумаг | share | BBG000PTSB12 |  | 2021-06-10 13:34:07.265000+00:00 | MoneyValue(currency='usd', units=0, nano=0) | MoneyValue(currency='usd', units=11, nano=250000000) | OperationState.OPERATION_STATE_CANCELED | 18 | Покупка ценных бумаг\n",
      "Продажа ценных бумаг | share | BBG000QDVR53 |  | 2021-06-10 13:29:54.435000+00:00 | MoneyValue(currency='usd', units=23, nano=260000000) | MoneyValue(currency='usd', units=23, nano=260000000) | OperationState.OPERATION_STATE_EXECUTED | 1 | Продажа ценных бумаг\n",
      "Удержание комиссии за операцию\n",
      "Удержание комиссии за операцию | share | BBG000QDVR53 | 259041318230 | 2021-06-10 13:29:54.435000+00:00 | MoneyValue(currency='usd', units=0, nano=-70000000) | MoneyValue(currency='usd', units=0, nano=0) | OperationState.OPERATION_STATE_EXECUTED | 0 | Удержание комиссии за операцию\n",
      "Продажа ценных бумаг | share | BBG000BM2FL9 |  | 2021-06-10 13:29:33.384000+00:00 | MoneyValue(currency='usd', units=65, nano=640000000) | MoneyValue(currency='usd', units=10, nano=940000000) | OperationState.OPERATION_STATE_EXECUTED | 6 | Продажа ценных бумаг\n",
      "Удержание комиссии за операцию\n",
      "Удержание комиссии за операцию | share | BBG000BM2FL9 | 259041160240 | 2021-06-10 13:29:33.384000+00:00 | MoneyValue(currency='usd', units=0, nano=-200000000) | MoneyValue(currency='usd', units=0, nano=0) | OperationState.OPERATION_STATE_EXECUTED | 0 | Удержание комиссии за операцию\n",
      "Продажа ценных бумаг | share | BBG000BBK4B9 |  | 2021-06-10 13:27:42.357000+00:00 | MoneyValue(currency='usd', units=10, nano=310000000) | MoneyValue(currency='usd', units=10, nano=310000000) | OperationState.OPERATION_STATE_EXECUTED | 1 | Продажа ценных бумаг\n",
      "Удержание комиссии за операцию\n",
      "Удержание комиссии за операцию | share | BBG000BBK4B9 | 259040691250 | 2021-06-10 13:27:42.357000+00:00 | MoneyValue(currency='usd', units=0, nano=-30000000) | MoneyValue(currency='usd', units=0, nano=0) | OperationState.OPERATION_STATE_EXECUTED | 0 | Удержание комиссии за операцию\n",
      "Продажа ценных бумаг | share | BBG000B9ZLB0 |  | 2021-06-10 13:26:53.228000+00:00 | MoneyValue(currency='usd', units=15, nano=660000000) | MoneyValue(currency='usd', units=7, nano=830000000) | OperationState.OPERATION_STATE_EXECUTED | 2 | Продажа ценных бумаг\n",
      "Удержание комиссии за операцию\n",
      "Удержание комиссии за операцию | share | BBG000B9ZLB0 | 259040499270 | 2021-06-10 13:26:53.228000+00:00 | MoneyValue(currency='usd', units=0, nano=-50000000) | MoneyValue(currency='usd', units=0, nano=0) | OperationState.OPERATION_STATE_EXECUTED | 0 | Удержание комиссии за операцию\n",
      "Продажа ценных бумаг | share | BBG000BWPXQ8 |  | 2021-06-10 13:26:34.841000+00:00 | MoneyValue(currency='usd', units=40, nano=80000000) | MoneyValue(currency='usd', units=40, nano=80000000) | OperationState.OPERATION_STATE_EXECUTED | 1 | Продажа ценных бумаг\n",
      "Удержание комиссии за операцию\n",
      "Удержание комиссии за операцию | share | BBG000BWPXQ8 | 259040440310 | 2021-06-10 13:26:34.841000+00:00 | MoneyValue(currency='usd', units=0, nano=-120000000) | MoneyValue(currency='usd', units=0, nano=0) | OperationState.OPERATION_STATE_EXECUTED | 0 | Удержание комиссии за операцию\n",
      "Продажа ценных бумаг | share | BBG0320C1036 |  | 2021-06-10 13:25:38.563000+00:00 | MoneyValue(currency='usd', units=21, nano=840000000) | MoneyValue(currency='usd', units=10, nano=920000000) | OperationState.OPERATION_STATE_EXECUTED | 2 | Продажа ценных бумаг\n",
      "Удержание комиссии за операцию\n",
      "Удержание комиссии за операцию | share | BBG0320C1036 | 259040245710 | 2021-06-10 13:25:38.563000+00:00 | MoneyValue(currency='usd', units=0, nano=-60000000) | MoneyValue(currency='usd', units=0, nano=0) | OperationState.OPERATION_STATE_EXECUTED | 0 | Удержание комиссии за операцию\n",
      "Продажа ценных бумаг | share | BBG000KGYRF8 |  | 2021-06-10 13:24:56.509000+00:00 | MoneyValue(currency='usd', units=15, nano=340000000) | MoneyValue(currency='usd', units=7, nano=670000000) | OperationState.OPERATION_STATE_EXECUTED | 2 | Продажа ценных бумаг\n",
      "Удержание комиссии за операцию\n"
     ]
    },
    {
     "name": "stdout",
     "output_type": "stream",
     "text": [
      "Удержание комиссии за операцию | share | BBG000KGYRF8 | 259040072990 | 2021-06-10 13:24:56.509000+00:00 | MoneyValue(currency='usd', units=0, nano=-40000000) | MoneyValue(currency='usd', units=0, nano=0) | OperationState.OPERATION_STATE_EXECUTED | 0 | Удержание комиссии за операцию\n",
      "Продажа ценных бумаг | share | BBG000BCWG90 |  | 2021-06-10 13:24:40.058000+00:00 | MoneyValue(currency='usd', units=11, nano=650000000) | MoneyValue(currency='usd', units=11, nano=650000000) | OperationState.OPERATION_STATE_EXECUTED | 1 | Продажа ценных бумаг\n",
      "Удержание комиссии за операцию\n",
      "Удержание комиссии за операцию | share | BBG000BCWG90 | 259040029990 | 2021-06-10 13:24:40.058000+00:00 | MoneyValue(currency='usd', units=0, nano=-30000000) | MoneyValue(currency='usd', units=0, nano=0) | OperationState.OPERATION_STATE_EXECUTED | 0 | Удержание комиссии за операцию\n",
      "Покупка ценных бумаг | share | BBG000B9ZLB0 |  | 2021-06-09 21:58:51.686000+00:00 | MoneyValue(currency='usd', units=-7, nano=-810000000) | MoneyValue(currency='usd', units=7, nano=810000000) | OperationState.OPERATION_STATE_EXECUTED | 1 | Покупка ценных бумаг\n",
      "Удержание комиссии за операцию\n",
      "Удержание комиссии за операцию | share | BBG000B9ZLB0 | 258871431060 | 2021-06-09 21:58:51.686000+00:00 | MoneyValue(currency='usd', units=0, nano=-20000000) | MoneyValue(currency='usd', units=0, nano=0) | OperationState.OPERATION_STATE_EXECUTED | 0 | Удержание комиссии за операцию\n",
      "Продажа ценных бумаг | share | BBG00Y4RPMM1 |  | 2021-06-09 21:57:44.586000+00:00 | MoneyValue(currency='usd', units=7, nano=120000000) | MoneyValue(currency='usd', units=7, nano=120000000) | OperationState.OPERATION_STATE_EXECUTED | 1 | Продажа ценных бумаг\n",
      "Удержание комиссии за операцию\n",
      "Удержание комиссии за операцию | share | BBG00Y4RPMM1 | 258871371370 | 2021-06-09 21:57:44.586000+00:00 | MoneyValue(currency='usd', units=0, nano=-20000000) | MoneyValue(currency='usd', units=0, nano=0) | OperationState.OPERATION_STATE_EXECUTED | 0 | Удержание комиссии за операцию\n",
      "Покупка ценных бумаг | share | BBG000BM2FL9 |  | 2021-06-09 20:22:08.845000+00:00 | MoneyValue(currency='usd', units=-54, nano=-800000000) | MoneyValue(currency='usd', units=10, nano=960000000) | OperationState.OPERATION_STATE_EXECUTED | 5 | Покупка ценных бумаг\n",
      "Удержание комиссии за операцию\n",
      "Удержание комиссии за операцию | share | BBG000BM2FL9 | 258865222120 | 2021-06-09 20:22:08.845000+00:00 | MoneyValue(currency='usd', units=0, nano=-170000000) | MoneyValue(currency='usd', units=0, nano=0) | OperationState.OPERATION_STATE_EXECUTED | 0 | Удержание комиссии за операцию\n",
      "Продажа ценных бумаг | share | BBG000BWVCP8 |  | 2021-06-09 18:22:36.872000+00:00 | MoneyValue(currency='usd', units=28, nano=240000000) | MoneyValue(currency='usd', units=28, nano=240000000) | OperationState.OPERATION_STATE_EXECUTED | 1 | Продажа ценных бумаг\n",
      "Удержание комиссии за операцию\n",
      "Удержание комиссии за операцию | share | BBG000BWVCP8 | 258796757480 | 2021-06-09 18:22:36.872000+00:00 | MoneyValue(currency='usd', units=0, nano=-80000000) | MoneyValue(currency='usd', units=0, nano=0) | OperationState.OPERATION_STATE_EXECUTED | 0 | Удержание комиссии за операцию\n",
      "Продажа ценных бумаг | share | BBG00W0KZD98 |  | 2021-06-09 15:19:04.366000+00:00 | MoneyValue(currency='usd', units=27, nano=930000000) | MoneyValue(currency='usd', units=27, nano=930000000) | OperationState.OPERATION_STATE_EXECUTED | 1 | Продажа ценных бумаг\n",
      "Удержание комиссии за операцию\n",
      "Удержание комиссии за операцию | share | BBG00W0KZD98 | 258651058880 | 2021-06-09 15:19:04.366000+00:00 | MoneyValue(currency='usd', units=0, nano=-80000000) | MoneyValue(currency='usd', units=0, nano=0) | OperationState.OPERATION_STATE_EXECUTED | 0 | Удержание комиссии за операцию\n",
      "Покупка ценных бумаг | currency | BBG0013HGFT4 |  | 2021-06-09 15:17:24+00:00 | MoneyValue(currency='rub', units=-72, nano=-310000000) | MoneyValue(currency='rub', units=72, nano=310000000) | OperationState.OPERATION_STATE_EXECUTED | 1 | Покупка ценных бумаг\n",
      "Удержание комиссии за операцию\n",
      "Удержание комиссии за операцию | currency | BBG0013HGFT4 | 21870225088 | 2021-06-09 15:17:24+00:00 | MoneyValue(currency='rub', units=0, nano=-220000000) | MoneyValue(currency='rub', units=0, nano=0) | OperationState.OPERATION_STATE_EXECUTED | 0 | Удержание комиссии за операцию\n",
      "Выплата дивидендов | share | BBG000C0G1D1 |  | 2021-06-09 03:00:00+00:00 | MoneyValue(currency='usd', units=0, nano=250000000) | MoneyValue(currency='usd', units=0, nano=0) | OperationState.OPERATION_STATE_EXECUTED | 0 | Выплата дивидендов\n",
      "Удержание налога по дивидендам | share | BBG00475K6C3 |  | 2021-06-09 03:00:00+00:00 | MoneyValue(currency='rub', units=-6, nano=0) | MoneyValue(currency='rub', units=0, nano=0) | OperationState.OPERATION_STATE_EXECUTED | 0 | Удержание налога по дивидендам\n",
      "Выплата дивидендов | share | BBG00475K6C3 |  | 2021-06-09 03:00:00+00:00 | MoneyValue(currency='rub', units=46, nano=770000000) | MoneyValue(currency='rub', units=0, nano=0) | OperationState.OPERATION_STATE_EXECUTED | 0 | Выплата дивидендов\n",
      "Выплата дивидендов | share | BBG00475K6C3 |  | 2021-06-09 03:00:00+00:00 | MoneyValue(currency='rub', units=36, nano=270000000) | MoneyValue(currency='rub', units=0, nano=0) | OperationState.OPERATION_STATE_EXECUTED | 0 | Выплата дивидендов\n",
      "Удержание налога по дивидендам | share | BBG00475K6C3 |  | 2021-06-09 03:00:00+00:00 | MoneyValue(currency='rub', units=-5, nano=0) | MoneyValue(currency='rub', units=0, nano=0) | OperationState.OPERATION_STATE_EXECUTED | 0 | Удержание налога по дивидендам\n",
      "Покупка ценных бумаг | share | BBG000B9ZLB0 |  | 2021-06-07 11:23:37.073000+00:00 | MoneyValue(currency='usd', units=-7, nano=-380000000) | MoneyValue(currency='usd', units=7, nano=380000000) | OperationState.OPERATION_STATE_EXECUTED | 1 | Покупка ценных бумаг\n",
      "Удержание комиссии за операцию\n",
      "Удержание комиссии за операцию | share | BBG000B9ZLB0 | 257229914880 | 2021-06-07 11:23:37.073000+00:00 | MoneyValue(currency='usd', units=0, nano=-20000000) | MoneyValue(currency='usd', units=0, nano=0) | OperationState.OPERATION_STATE_EXECUTED | 0 | Удержание комиссии за операцию\n",
      "Покупка ценных бумаг | share | BBG00Y4RPMM1 |  | 2021-06-07 11:19:56.458000+00:00 | MoneyValue(currency='usd', units=-6, nano=-720000000) | MoneyValue(currency='usd', units=6, nano=720000000) | OperationState.OPERATION_STATE_EXECUTED | 1 | Покупка ценных бумаг\n",
      "Удержание комиссии за операцию\n",
      "Удержание комиссии за операцию | share | BBG00Y4RPMM1 | 257229025410 | 2021-06-07 11:19:56.458000+00:00 | MoneyValue(currency='usd', units=0, nano=-20000000) | MoneyValue(currency='usd', units=0, nano=0) | OperationState.OPERATION_STATE_EXECUTED | 0 | Удержание комиссии за операцию\n",
      "Продажа ценных бумаг | share | BBG000KGYRF8 |  | 2021-06-07 11:13:41.027000+00:00 | MoneyValue(currency='usd', units=7, nano=500000000) | MoneyValue(currency='usd', units=7, nano=500000000) | OperationState.OPERATION_STATE_EXECUTED | 1 | Продажа ценных бумаг\n",
      "Удержание комиссии за операцию\n",
      "Удержание комиссии за операцию | share | BBG000KGYRF8 | 257227359100 | 2021-06-07 11:13:41.027000+00:00 | MoneyValue(currency='usd', units=0, nano=-20000000) | MoneyValue(currency='usd', units=0, nano=0) | OperationState.OPERATION_STATE_EXECUTED | 0 | Удержание комиссии за операцию\n",
      "Продажа ценных бумаг | share | BBG000KGYRF8 |  | 2021-06-07 11:11:38.401000+00:00 | MoneyValue(currency='usd', units=7, nano=500000000) | MoneyValue(currency='usd', units=7, nano=500000000) | OperationState.OPERATION_STATE_EXECUTED | 1 | Продажа ценных бумаг\n",
      "Удержание комиссии за операцию\n",
      "Удержание комиссии за операцию | share | BBG000KGYRF8 | 257226791220 | 2021-06-07 11:11:38.401000+00:00 | MoneyValue(currency='usd', units=0, nano=-20000000) | MoneyValue(currency='usd', units=0, nano=0) | OperationState.OPERATION_STATE_EXECUTED | 0 | Удержание комиссии за операцию\n",
      "Покупка ценных бумаг | share | BBG000KGYRF8 |  | 2021-06-03 10:52:02.358000+00:00 | MoneyValue(currency='usd', units=-7, nano=-310000000) | MoneyValue(currency='usd', units=7, nano=310000000) | OperationState.OPERATION_STATE_EXECUTED | 1 | Покупка ценных бумаг\n",
      "Удержание комиссии за операцию\n",
      "Удержание комиссии за операцию | share | BBG000KGYRF8 | 255820950610 | 2021-06-03 10:52:02.358000+00:00 | MoneyValue(currency='usd', units=0, nano=-20000000) | MoneyValue(currency='usd', units=0, nano=0) | OperationState.OPERATION_STATE_EXECUTED | 0 | Удержание комиссии за операцию\n",
      "Покупка ценных бумаг | share | BBG000KGYRF8 |  | 2021-06-03 08:40:05.451000+00:00 | MoneyValue(currency='usd', units=-14, nano=-820000000) | MoneyValue(currency='usd', units=7, nano=410000000) | OperationState.OPERATION_STATE_EXECUTED | 2 | Покупка ценных бумаг\n",
      "Удержание комиссии за операцию\n",
      "Удержание комиссии за операцию | share | BBG000KGYRF8 | 255774842910 | 2021-06-03 08:40:05.451000+00:00 | MoneyValue(currency='usd', units=0, nano=-40000000) | MoneyValue(currency='usd', units=0, nano=0) | OperationState.OPERATION_STATE_EXECUTED | 0 | Удержание комиссии за операцию\n",
      "Покупка ценных бумаг | share | BBG000KGYRF8 |  | 2021-06-03 08:28:51.241000+00:00 | MoneyValue(currency='usd', units=0, nano=0) | MoneyValue(currency='usd', units=7, nano=380000000) | OperationState.OPERATION_STATE_CANCELED | 2 | Покупка ценных бумаг\n",
      "Покупка ценных бумаг | share | BBG000BCTLF6 |  | 2021-06-03 08:22:26.383000+00:00 | MoneyValue(currency='usd', units=-42, nano=-830000000) | MoneyValue(currency='usd', units=42, nano=830000000) | OperationState.OPERATION_STATE_EXECUTED | 1 | Покупка ценных бумаг\n",
      "Удержание комиссии за операцию\n",
      "Удержание комиссии за операцию | share | BBG000BCTLF6 | 255768037160 | 2021-06-03 08:22:26.383000+00:00 | MoneyValue(currency='usd', units=0, nano=-130000000) | MoneyValue(currency='usd', units=0, nano=0) | OperationState.OPERATION_STATE_EXECUTED | 0 | Удержание комиссии за операцию\n",
      "Покупка ценных бумаг | share | BBG000BCTLF6 |  | 2021-06-03 08:12:47.991000+00:00 | MoneyValue(currency='usd', units=0, nano=0) | MoneyValue(currency='usd', units=42, nano=820000000) | OperationState.OPERATION_STATE_CANCELED | 1 | Покупка ценных бумаг\n",
      "Покупка ценных бумаг |  |  |  | 2021-06-02 16:28:05.326000+00:00 | MoneyValue(currency='usd', units=-14, nano=-100000000) | MoneyValue(currency='usd', units=14, nano=100000000) | OperationState.OPERATION_STATE_EXECUTED | 1 | Покупка ценных бумаг\n",
      "Удержание комиссии за операцию\n",
      "Удержание комиссии за операцию |  |  | 255458228140 | 2021-06-02 16:28:05.326000+00:00 | MoneyValue(currency='usd', units=0, nano=-40000000) | MoneyValue(currency='usd', units=0, nano=0) | OperationState.OPERATION_STATE_EXECUTED | 0 | Удержание комиссии за операцию\n",
      "Продажа ценных бумаг | share | BBG000BQPC32 |  | 2021-06-02 14:11:15.394000+00:00 | MoneyValue(currency='usd', units=29, nano=800000000) | MoneyValue(currency='usd', units=14, nano=900000000) | OperationState.OPERATION_STATE_EXECUTED | 2 | Продажа ценных бумаг\n",
      "Удержание комиссии за операцию\n",
      "Удержание комиссии за операцию | share | BBG000BQPC32 | 255250994020 | 2021-06-02 14:11:15.394000+00:00 | MoneyValue(currency='usd', units=0, nano=-90000000) | MoneyValue(currency='usd', units=0, nano=0) | OperationState.OPERATION_STATE_EXECUTED | 0 | Удержание комиссии за операцию\n",
      "Покупка ценных бумаг | share | BBG000PTSB12 |  | 2021-06-02 10:49:21.331000+00:00 | MoneyValue(currency='usd', units=-10, nano=-280000000) | MoneyValue(currency='usd', units=10, nano=280000000) | OperationState.OPERATION_STATE_EXECUTED | 1 | Покупка ценных бумаг\n",
      "Удержание комиссии за операцию\n",
      "Удержание комиссии за операцию | share | BBG000PTSB12 | 255104169210 | 2021-06-02 10:49:21.331000+00:00 | MoneyValue(currency='usd', units=0, nano=-30000000) | MoneyValue(currency='usd', units=0, nano=0) | OperationState.OPERATION_STATE_EXECUTED | 0 | Удержание комиссии за операцию\n",
      "Продажа ценных бумаг | etf | BBG111111111 |  | 2021-06-02 10:48:31.607000+00:00 | MoneyValue(currency='usd', units=15, nano=450000000) | MoneyValue(currency='usd', units=0, nano=103000000) | OperationState.OPERATION_STATE_EXECUTED | 150 | Продажа ценных бумаг\n",
      "Покупка ценных бумаг | share | BBG000QDVR53 |  | 2021-06-01 07:43:04.834000+00:00 | MoneyValue(currency='usd', units=-23, nano=-90000000) | MoneyValue(currency='usd', units=23, nano=90000000) | OperationState.OPERATION_STATE_EXECUTED | 1 | Покупка ценных бумаг\n",
      "Удержание комиссии за операцию\n",
      "Удержание комиссии за операцию | share | BBG000QDVR53 | 254337771200 | 2021-06-01 07:43:04.834000+00:00 | MoneyValue(currency='usd', units=0, nano=-70000000) | MoneyValue(currency='usd', units=0, nano=0) | OperationState.OPERATION_STATE_EXECUTED | 0 | Удержание комиссии за операцию\n",
      "Покупка ценных бумаг |  |  |  | 2021-06-01 07:42:40.956000+00:00 | MoneyValue(currency='usd', units=-14, nano=-70000000) | MoneyValue(currency='usd', units=14, nano=70000000) | OperationState.OPERATION_STATE_EXECUTED | 1 | Покупка ценных бумаг\n",
      "Удержание комиссии за операцию\n",
      "Удержание комиссии за операцию |  |  | 254337536580 | 2021-06-01 07:42:40.956000+00:00 | MoneyValue(currency='usd', units=0, nano=-40000000) | MoneyValue(currency='usd', units=0, nano=0) | OperationState.OPERATION_STATE_EXECUTED | 0 | Удержание комиссии за операцию\n",
      "Покупка ценных бумаг | currency | BBG0013HGFT4 |  | 2021-06-01 07:40:15+00:00 | MoneyValue(currency='rub', units=-5563, nano=-960000000) | MoneyValue(currency='rub', units=73, nano=210000000) | OperationState.OPERATION_STATE_EXECUTED | 76 | Покупка ценных бумаг\n",
      "Удержание комиссии за операцию\n",
      "Удержание комиссии за операцию | currency | BBG0013HGFT4 | 21836503402 | 2021-06-01 07:40:15+00:00 | MoneyValue(currency='rub', units=-16, nano=-690000000) | MoneyValue(currency='rub', units=0, nano=0) | OperationState.OPERATION_STATE_EXECUTED | 0 | Удержание комиссии за операцию\n",
      "Продажа ценных бумаг | share | BBG000F6H7K3 |  | 2021-06-01 07:39:28.991000+00:00 | MoneyValue(currency='rub', units=625, nano=500000000) | MoneyValue(currency='rub', units=0, nano=6255000) | OperationState.OPERATION_STATE_EXECUTED | 100000 | Продажа ценных бумаг\n",
      "Удержание комиссии за операцию\n",
      "Удержание комиссии за операцию | share | BBG000F6H7K3 | 24207165100 | 2021-06-01 07:39:28.991000+00:00 | MoneyValue(currency='rub', units=-1, nano=-880000000) | MoneyValue(currency='rub', units=0, nano=0) | OperationState.OPERATION_STATE_EXECUTED | 0 | Удержание комиссии за операцию\n",
      "Пополнение брокерского счёта |  |  |  | 2021-06-01 07:23:01+00:00 | MoneyValue(currency='rub', units=5000, nano=0) | MoneyValue(currency='rub', units=0, nano=0) | OperationState.OPERATION_STATE_EXECUTED | 0 | Пополнение брокерского счёта\n",
      "Покупка ценных бумаг | currency | BBG0013HGFT4 |  | 2021-05-31 06:36:23+00:00 | MoneyValue(currency='rub', units=-366, nano=-700000000) | MoneyValue(currency='rub', units=73, nano=340000000) | OperationState.OPERATION_STATE_EXECUTED | 5 | Покупка ценных бумаг\n",
      "Удержание комиссии за операцию\n",
      "Удержание комиссии за операцию | currency | BBG0013HGFT4 | 21833222234 | 2021-05-31 06:36:23+00:00 | MoneyValue(currency='rub', units=-1, nano=-100000000) | MoneyValue(currency='rub', units=0, nano=0) | OperationState.OPERATION_STATE_EXECUTED | 0 | Удержание комиссии за операцию\n",
      "Выплата дивидендов | share | BBG0047315Y7 |  | 2021-05-31 03:00:00+00:00 | MoneyValue(currency='rub', units=374, nano=0) | MoneyValue(currency='rub', units=0, nano=0) | OperationState.OPERATION_STATE_EXECUTED | 0 | Выплата дивидендов\n",
      "Удержание налога по дивидендам | share | BBG0047315Y7 |  | 2021-05-31 03:00:00+00:00 | MoneyValue(currency='rub', units=-49, nano=0) | MoneyValue(currency='rub', units=0, nano=0) | OperationState.OPERATION_STATE_EXECUTED | 0 | Удержание налога по дивидендам\n",
      "Покупка ценных бумаг | share | BBG000R7Z112 |  | 2021-05-27 14:33:30.831000+00:00 | MoneyValue(currency='usd', units=-47, nano=-600000000) | MoneyValue(currency='usd', units=47, nano=600000000) | OperationState.OPERATION_STATE_EXECUTED | 1 | Покупка ценных бумаг\n",
      "Удержание комиссии за операцию\n",
      "Удержание комиссии за операцию | share | BBG000R7Z112 | 253331428780 | 2021-05-27 14:33:30.831000+00:00 | MoneyValue(currency='usd', units=0, nano=-140000000) | MoneyValue(currency='usd', units=0, nano=0) | OperationState.OPERATION_STATE_EXECUTED | 0 | Удержание комиссии за операцию\n",
      "Продажа ценных бумаг | share | BBG000BQPC32 |  | 2021-05-27 14:32:47.292000+00:00 | MoneyValue(currency='usd', units=44, nano=10000000) | MoneyValue(currency='usd', units=14, nano=670000000) | OperationState.OPERATION_STATE_EXECUTED | 3 | Продажа ценных бумаг\n",
      "Удержание комиссии за операцию\n",
      "Удержание комиссии за операцию | share | BBG000BQPC32 | 253330161280 | 2021-05-27 14:32:47.292000+00:00 | MoneyValue(currency='usd', units=0, nano=-120000000) | MoneyValue(currency='usd', units=0, nano=0) | OperationState.OPERATION_STATE_EXECUTED | 0 | Удержание комиссии за операцию\n",
      "Покупка ценных бумаг | share | BBG00W0KZD98 |  | 2021-05-27 09:42:25.783000+00:00 | MoneyValue(currency='usd', units=-23, nano=-550000000) | MoneyValue(currency='usd', units=23, nano=550000000) | OperationState.OPERATION_STATE_EXECUTED | 1 | Покупка ценных бумаг\n",
      "Удержание комиссии за операцию\n",
      "Удержание комиссии за операцию | share | BBG00W0KZD98 | 253130508420 | 2021-05-27 09:42:25.783000+00:00 | MoneyValue(currency='usd', units=0, nano=-70000000) | MoneyValue(currency='usd', units=0, nano=0) | OperationState.OPERATION_STATE_EXECUTED | 0 | Удержание комиссии за операцию\n",
      "Покупка ценных бумаг | currency | BBG0013HGFT4 |  | 2021-05-25 16:52:58+00:00 | MoneyValue(currency='rub', units=-367, nano=-510000000) | MoneyValue(currency='rub', units=73, nano=502000000) | OperationState.OPERATION_STATE_EXECUTED | 5 | Покупка ценных бумаг\n",
      "Удержание комиссии за операцию\n",
      "Удержание комиссии за операцию | currency | BBG0013HGFT4 | 21817000126 | 2021-05-25 16:52:58+00:00 | MoneyValue(currency='rub', units=-1, nano=-100000000) | MoneyValue(currency='rub', units=0, nano=0) | OperationState.OPERATION_STATE_EXECUTED | 0 | Удержание комиссии за операцию\n",
      "Продажа ценных бумаг | share | BBG000BH5LT6 |  | 2021-05-25 11:34:40.393000+00:00 | MoneyValue(currency='usd', units=3, nano=810000000) | MoneyValue(currency='usd', units=3, nano=810000000) | OperationState.OPERATION_STATE_EXECUTED | 1 | Продажа ценных бумаг\n",
      "Удержание комиссии за операцию\n",
      "Удержание комиссии за операцию | share | BBG000BH5LT6 | 251947278120 | 2021-05-25 11:34:40.393000+00:00 | MoneyValue(currency='usd', units=0, nano=-10000000) | MoneyValue(currency='usd', units=0, nano=0) | OperationState.OPERATION_STATE_EXECUTED | 0 | Удержание комиссии за операцию\n",
      "Продажа ценных бумаг | share | BBG000FVXD63 |  | 2021-05-25 10:39:07.770000+00:00 | MoneyValue(currency='usd', units=14, nano=140000000) | MoneyValue(currency='usd', units=14, nano=140000000) | OperationState.OPERATION_STATE_EXECUTED | 1 | Продажа ценных бумаг\n",
      "Удержание комиссии за операцию\n",
      "Удержание комиссии за операцию | share | BBG000FVXD63 | 251930695620 | 2021-05-25 10:39:07.770000+00:00 | MoneyValue(currency='usd', units=0, nano=-40000000) | MoneyValue(currency='usd', units=0, nano=0) | OperationState.OPERATION_STATE_EXECUTED | 0 | Удержание комиссии за операцию\n",
      "Покупка ценных бумаг | share | BBG000PTSB12 |  | 2021-05-24 17:57:21.747000+00:00 | MoneyValue(currency='usd', units=-9, nano=-870000000) | MoneyValue(currency='usd', units=9, nano=870000000) | OperationState.OPERATION_STATE_EXECUTED | 1 | Покупка ценных бумаг\n",
      "Удержание комиссии за операцию\n",
      "Удержание комиссии за операцию | share | BBG000PTSB12 | 251719404140 | 2021-05-24 17:57:21.747000+00:00 | MoneyValue(currency='usd', units=0, nano=-30000000) | MoneyValue(currency='usd', units=0, nano=0) | OperationState.OPERATION_STATE_EXECUTED | 0 | Удержание комиссии за операцию\n",
      "Покупка ценных бумаг | share | BBG000BCWG90 |  | 2021-05-24 10:43:34.010000+00:00 | MoneyValue(currency='usd', units=-10, nano=-950000000) | MoneyValue(currency='usd', units=10, nano=950000000) | OperationState.OPERATION_STATE_EXECUTED | 1 | Покупка ценных бумаг\n",
      "Удержание комиссии за операцию\n",
      "Удержание комиссии за операцию | share | BBG000BCWG90 | 251359315030 | 2021-05-24 10:43:34.010000+00:00 | MoneyValue(currency='usd', units=0, nano=-30000000) | MoneyValue(currency='usd', units=0, nano=0) | OperationState.OPERATION_STATE_EXECUTED | 0 | Удержание комиссии за операцию\n",
      "Покупка ценных бумаг | share | BBG00475K6C3 |  | 2021-05-24 10:27:02.704000+00:00 | MoneyValue(currency='rub', units=-1781, nano=0) | MoneyValue(currency='rub', units=1781, nano=0) | OperationState.OPERATION_STATE_EXECUTED | 1 | Покупка ценных бумаг\n",
      "Удержание комиссии за операцию\n",
      "Удержание комиссии за операцию | share | BBG00475K6C3 | 24114911644 | 2021-05-24 10:27:02.704000+00:00 | MoneyValue(currency='rub', units=-5, nano=-340000000) | MoneyValue(currency='rub', units=0, nano=0) | OperationState.OPERATION_STATE_EXECUTED | 0 | Удержание комиссии за операцию\n",
      "Покупка ценных бумаг | share | BBG0320C1036 |  | 2021-05-24 10:09:52.774000+00:00 | MoneyValue(currency='usd', units=-17, nano=-820000000) | MoneyValue(currency='usd', units=8, nano=910000000) | OperationState.OPERATION_STATE_EXECUTED | 2 | Покупка ценных бумаг\n",
      "Удержание комиссии за операцию\n",
      "Удержание комиссии за операцию | share | BBG0320C1036 | 251352739210 | 2021-05-24 10:09:52.774000+00:00 | MoneyValue(currency='usd', units=0, nano=-50000000) | MoneyValue(currency='usd', units=0, nano=0) | OperationState.OPERATION_STATE_EXECUTED | 0 | Удержание комиссии за операцию\n",
      "Покупка ценных бумаг | share | BBG0047315Y7 |  | 2021-05-24 09:54:19.650000+00:00 | MoneyValue(currency='rub', units=-2819, nano=-900000000) | MoneyValue(currency='rub', units=281, nano=990000000) | OperationState.OPERATION_STATE_EXECUTED | 10 | Покупка ценных бумаг\n",
      "Удержание комиссии за операцию\n",
      "Удержание комиссии за операцию | share | BBG0047315Y7 | 24114275588 | 2021-05-24 09:54:19.650000+00:00 | MoneyValue(currency='rub', units=-8, nano=-460000000) | MoneyValue(currency='rub', units=0, nano=0) | OperationState.OPERATION_STATE_EXECUTED | 0 | Удержание комиссии за операцию\n",
      "Продажа ценных бумаг | bond | TCS00A103117 |  | 2021-05-24 09:52:39.293000+00:00 | MoneyValue(currency='rub', units=5029, nano=0) | MoneyValue(currency='rub', units=999, nano=200000000) | OperationState.OPERATION_STATE_EXECUTED | 5 | Продажа ценных бумаг\n",
      "Удержание комиссии за операцию\n",
      "Удержание комиссии за операцию | bond | TCS00A103117 | 24114248012 | 2021-05-24 09:52:39.293000+00:00 | MoneyValue(currency='rub', units=-14, nano=-990000000) | MoneyValue(currency='rub', units=0, nano=0) | OperationState.OPERATION_STATE_EXECUTED | 0 | Удержание комиссии за операцию\n",
      "Продажа ценных бумаг | share | BBG00W0KZD98 |  | 2021-05-24 08:04:57.002000+00:00 | MoneyValue(currency='usd', units=43, nano=320000000) | MoneyValue(currency='usd', units=21, nano=660000000) | OperationState.OPERATION_STATE_EXECUTED | 2 | Продажа ценных бумаг\n",
      "Удержание комиссии за операцию\n",
      "Удержание комиссии за операцию | share | BBG00W0KZD98 | 251316711110 | 2021-05-24 08:04:57.002000+00:00 | MoneyValue(currency='usd', units=0, nano=-130000000) | MoneyValue(currency='usd', units=0, nano=0) | OperationState.OPERATION_STATE_EXECUTED | 0 | Удержание комиссии за операцию\n",
      "Покупка ценных бумаг | share | BBG000F6H7K3 |  | 2021-05-21 12:57:48.103000+00:00 | MoneyValue(currency='rub', units=-613, nano=0) | MoneyValue(currency='rub', units=0, nano=6130000) | OperationState.OPERATION_STATE_EXECUTED | 100000 | Покупка ценных бумаг\n",
      "Удержание комиссии за операцию\n",
      "Удержание комиссии за операцию | share | BBG000F6H7K3 | 24099343143 | 2021-05-21 12:57:48.103000+00:00 | MoneyValue(currency='rub', units=-1, nano=-840000000) | MoneyValue(currency='rub', units=0, nano=0) | OperationState.OPERATION_STATE_EXECUTED | 0 | Удержание комиссии за операцию\n",
      "Продажа ценных бумаг | share | BBG000F6H7K3 |  | 2021-05-21 07:13:36.442000+00:00 | MoneyValue(currency='rub', units=632, nano=500000000) | MoneyValue(currency='rub', units=0, nano=6325000) | OperationState.OPERATION_STATE_EXECUTED | 100000 | Продажа ценных бумаг\n",
      "Удержание комиссии за операцию\n",
      "Удержание комиссии за операцию | share | BBG000F6H7K3 | 24090127060 | 2021-05-21 07:13:36.442000+00:00 | MoneyValue(currency='rub', units=-1, nano=-900000000) | MoneyValue(currency='rub', units=0, nano=0) | OperationState.OPERATION_STATE_EXECUTED | 0 | Удержание комиссии за операцию\n",
      "Покупка ценных бумаг | share | BBG000F6H7K3 |  | 2021-05-21 07:01:00.152000+00:00 | MoneyValue(currency='rub', units=-622, nano=-500000000) | MoneyValue(currency='rub', units=0, nano=6225000) | OperationState.OPERATION_STATE_EXECUTED | 100000 | Покупка ценных бумаг\n",
      "Удержание комиссии за операцию\n",
      "Удержание комиссии за операцию | share | BBG000F6H7K3 | 24089441914 | 2021-05-21 07:01:00.152000+00:00 | MoneyValue(currency='rub', units=-1, nano=-870000000) | MoneyValue(currency='rub', units=0, nano=0) | OperationState.OPERATION_STATE_EXECUTED | 0 | Удержание комиссии за операцию\n",
      "Пополнение брокерского счёта |  |  |  | 2021-05-21 07:00:59+00:00 | MoneyValue(currency='rub', units=631, nano=890000000) | MoneyValue(currency='rub', units=0, nano=0) | OperationState.OPERATION_STATE_EXECUTED | 0 | Пополнение брокерского счёта\n",
      "Покупка ценных бумаг | share | BBG000BH5LT6 |  | 2021-05-14 14:40:49.042000+00:00 | MoneyValue(currency='usd', units=-4, nano=-50000000) | MoneyValue(currency='usd', units=4, nano=50000000) | OperationState.OPERATION_STATE_EXECUTED | 1 | Покупка ценных бумаг\n",
      "Удержание комиссии за операцию\n",
      "Удержание комиссии за операцию | share | BBG000BH5LT6 | 247228072390 | 2021-05-14 14:40:49.042000+00:00 | MoneyValue(currency='usd', units=0, nano=-10000000) | MoneyValue(currency='usd', units=0, nano=0) | OperationState.OPERATION_STATE_EXECUTED | 0 | Удержание комиссии за операцию\n",
      "Покупка ценных бумаг | share | BBG000KGYRF8 |  | 2021-05-14 14:40:01.995000+00:00 | MoneyValue(currency='usd', units=-6, nano=-710000000) | MoneyValue(currency='usd', units=6, nano=710000000) | OperationState.OPERATION_STATE_EXECUTED | 1 | Покупка ценных бумаг\n",
      "Удержание комиссии за операцию\n",
      "Удержание комиссии за операцию | share | BBG000KGYRF8 | 247226667530 | 2021-05-14 14:40:01.995000+00:00 | MoneyValue(currency='usd', units=0, nano=-20000000) | MoneyValue(currency='usd', units=0, nano=0) | OperationState.OPERATION_STATE_EXECUTED | 0 | Удержание комиссии за операцию\n",
      "Покупка ценных бумаг | share | BBG000FVXD63 |  | 2021-05-14 14:39:16.071000+00:00 | MoneyValue(currency='usd', units=-12, nano=-290000000) | MoneyValue(currency='usd', units=12, nano=290000000) | OperationState.OPERATION_STATE_EXECUTED | 1 | Покупка ценных бумаг\n",
      "Удержание комиссии за операцию\n",
      "Удержание комиссии за операцию | share | BBG000FVXD63 | 247225398560 | 2021-05-14 14:39:16.071000+00:00 | MoneyValue(currency='usd', units=0, nano=-40000000) | MoneyValue(currency='usd', units=0, nano=0) | OperationState.OPERATION_STATE_EXECUTED | 0 | Удержание комиссии за операцию\n",
      "Покупка ценных бумаг | share | BBG000PTSB12 |  | 2021-05-13 11:17:49.789000+00:00 | MoneyValue(currency='usd', units=0, nano=0) | MoneyValue(currency='usd', units=10, nano=10000000) | OperationState.OPERATION_STATE_CANCELED | 1 | Покупка ценных бумаг\n",
      "Покупка ценных бумаг | share | BBG000BM2FL9 |  | 2021-05-13 11:16:04.623000+00:00 | MoneyValue(currency='usd', units=-9, nano=-470000000) | MoneyValue(currency='usd', units=9, nano=470000000) | OperationState.OPERATION_STATE_EXECUTED | 1 | Покупка ценных бумаг\n",
      "Удержание комиссии за операцию\n",
      "Удержание комиссии за операцию | share | BBG000BM2FL9 | 246065173840 | 2021-05-13 11:16:04.623000+00:00 | MoneyValue(currency='usd', units=0, nano=-30000000) | MoneyValue(currency='usd', units=0, nano=0) | OperationState.OPERATION_STATE_EXECUTED | 0 | Удержание комиссии за операцию\n",
      "Покупка ценных бумаг | share | BBG000BWPXQ8 |  | 2021-05-13 10:13:00.637000+00:00 | MoneyValue(currency='usd', units=-39, nano=-30000000) | MoneyValue(currency='usd', units=39, nano=30000000) | OperationState.OPERATION_STATE_EXECUTED | 1 | Покупка ценных бумаг\n",
      "Удержание комиссии за операцию\n",
      "Удержание комиссии за операцию | share | BBG000BWPXQ8 | 246041327090 | 2021-05-13 10:13:00.637000+00:00 | MoneyValue(currency='usd', units=0, nano=-120000000) | MoneyValue(currency='usd', units=0, nano=0) | OperationState.OPERATION_STATE_EXECUTED | 0 | Удержание комиссии за операцию\n",
      "Продажа ценных бумаг | share | BBG000C0G1D1 |  | 2021-05-12 20:49:20.692000+00:00 | MoneyValue(currency='usd', units=53, nano=640000000) | MoneyValue(currency='usd', units=53, nano=640000000) | OperationState.OPERATION_STATE_EXECUTED | 1 | Продажа ценных бумаг\n",
      "Удержание комиссии за операцию\n",
      "Удержание комиссии за операцию | share | BBG000C0G1D1 | 245894469790 | 2021-05-12 20:49:20.692000+00:00 | MoneyValue(currency='usd', units=0, nano=-160000000) | MoneyValue(currency='usd', units=0, nano=0) | OperationState.OPERATION_STATE_EXECUTED | 0 | Удержание комиссии за операцию\n",
      "Покупка ценных бумаг | share | BBG000C8H633 |  | 2021-05-12 14:19:24.133000+00:00 | MoneyValue(currency='usd', units=0, nano=0) | MoneyValue(currency='usd', units=11, nano=400000000) | OperationState.OPERATION_STATE_CANCELED | 1 | Покупка ценных бумаг\n",
      "Покупка ценных бумаг | etf | BBG111111111 |  | 2021-05-11 10:15:47.617000+00:00 | MoneyValue(currency='usd', units=-1, nano=-170000000) | MoneyValue(currency='usd', units=0, nano=97500000) | OperationState.OPERATION_STATE_EXECUTED | 12 | Покупка ценных бумаг\n",
      "Покупка ценных бумаг | share | BBG000BBK4B9 |  | 2021-05-11 05:23:04.614000+00:00 | MoneyValue(currency='usd', units=-10, nano=-200000000) | MoneyValue(currency='usd', units=10, nano=200000000) | OperationState.OPERATION_STATE_EXECUTED | 1 | Покупка ценных бумаг\n",
      "Удержание комиссии за операцию\n",
      "Удержание комиссии за операцию | share | BBG000BBK4B9 | 243963551160 | 2021-05-11 05:23:04.614000+00:00 | MoneyValue(currency='usd', units=0, nano=-30000000) | MoneyValue(currency='usd', units=0, nano=0) | OperationState.OPERATION_STATE_EXECUTED | 0 | Удержание комиссии за операцию\n",
      "Покупка ценных бумаг | share | BBG00W0KZD98 |  | 2021-05-10 20:49:17.692000+00:00 | MoneyValue(currency='usd', units=-16, nano=-960000000) | MoneyValue(currency='usd', units=16, nano=960000000) | OperationState.OPERATION_STATE_EXECUTED | 1 | Покупка ценных бумаг\n",
      "Удержание комиссии за операцию\n"
     ]
    },
    {
     "name": "stdout",
     "output_type": "stream",
     "text": [
      "Удержание комиссии за операцию | share | BBG00W0KZD98 | 243955424940 | 2021-05-10 20:49:17.692000+00:00 | MoneyValue(currency='usd', units=0, nano=-50000000) | MoneyValue(currency='usd', units=0, nano=0) | OperationState.OPERATION_STATE_EXECUTED | 0 | Удержание комиссии за операцию\n",
      "Покупка ценных бумаг | share | BBG000BWVCP8 |  | 2021-05-10 20:38:54.475000+00:00 | MoneyValue(currency='usd', units=-25, nano=-650000000) | MoneyValue(currency='usd', units=25, nano=650000000) | OperationState.OPERATION_STATE_EXECUTED | 1 | Покупка ценных бумаг\n",
      "Удержание комиссии за операцию\n",
      "Удержание комиссии за операцию | share | BBG000BWVCP8 | 243954734250 | 2021-05-10 20:38:54.475000+00:00 | MoneyValue(currency='usd', units=0, nano=-80000000) | MoneyValue(currency='usd', units=0, nano=0) | OperationState.OPERATION_STATE_EXECUTED | 0 | Удержание комиссии за операцию\n",
      "Продажа ценных бумаг | share | BBG002WLDMW5 |  | 2021-05-10 20:15:51.138000+00:00 | MoneyValue(currency='usd', units=34, nano=500000000) | MoneyValue(currency='usd', units=34, nano=500000000) | OperationState.OPERATION_STATE_EXECUTED | 1 | Продажа ценных бумаг\n",
      "Удержание комиссии за операцию\n",
      "Удержание комиссии за операцию | share | BBG002WLDMW5 | 243952898900 | 2021-05-10 20:15:51.138000+00:00 | MoneyValue(currency='usd', units=0, nano=-100000000) | MoneyValue(currency='usd', units=0, nano=0) | OperationState.OPERATION_STATE_EXECUTED | 0 | Удержание комиссии за операцию\n",
      "Продажа ценных бумаг | share | BBG002WLDMW5 |  | 2021-05-10 20:13:53.611000+00:00 | MoneyValue(currency='usd', units=34, nano=540000000) | MoneyValue(currency='usd', units=34, nano=540000000) | OperationState.OPERATION_STATE_EXECUTED | 2 | Продажа ценных бумаг\n",
      "Удержание комиссии за операцию\n",
      "Удержание комиссии за операцию | share | BBG002WLDMW5 | 243952697720 | 2021-05-10 20:13:53.611000+00:00 | MoneyValue(currency='usd', units=0, nano=-100000000) | MoneyValue(currency='usd', units=0, nano=0) | OperationState.OPERATION_STATE_EXECUTED | 0 | Удержание комиссии за операцию\n",
      "Продажа ценных бумаг | share | BBG002WLDMW5 |  | 2021-05-10 20:02:15.307000+00:00 | MoneyValue(currency='usd', units=0, nano=0) | MoneyValue(currency='usd', units=35, nano=110000000) | OperationState.OPERATION_STATE_CANCELED | 2 | Продажа ценных бумаг\n",
      "Покупка ценных бумаг | share | BBG000PTSB12 |  | 2021-05-10 10:41:29.872000+00:00 | MoneyValue(currency='usd', units=-22, nano=0) | MoneyValue(currency='usd', units=11, nano=0) | OperationState.OPERATION_STATE_EXECUTED | 2 | Покупка ценных бумаг\n",
      "Удержание комиссии за операцию\n",
      "Удержание комиссии за операцию | share | BBG000PTSB12 | 243333242850 | 2021-05-10 10:41:29.872000+00:00 | MoneyValue(currency='usd', units=0, nano=-60000000) | MoneyValue(currency='usd', units=0, nano=0) | OperationState.OPERATION_STATE_EXECUTED | 0 | Удержание комиссии за операцию\n",
      "Покупка ценных бумаг | currency | BBG0013HGFT4 |  | 2021-05-10 10:01:11+00:00 | MoneyValue(currency='rub', units=-1702, nano=-690000000) | MoneyValue(currency='rub', units=74, nano=30000000) | OperationState.OPERATION_STATE_EXECUTED | 23 | Покупка ценных бумаг\n",
      "Удержание комиссии за операцию\n",
      "Удержание комиссии за операцию | currency | BBG0013HGFT4 | 21742720327 | 2021-05-10 10:01:11+00:00 | MoneyValue(currency='rub', units=-5, nano=-110000000) | MoneyValue(currency='rub', units=0, nano=0) | OperationState.OPERATION_STATE_EXECUTED | 0 | Удержание комиссии за операцию\n",
      "Пополнение брокерского счёта |  |  |  | 2021-05-10 09:56:37+00:00 | MoneyValue(currency='rub', units=1696, nano=200000000) | MoneyValue(currency='rub', units=0, nano=0) | OperationState.OPERATION_STATE_EXECUTED | 0 | Пополнение брокерского счёта\n",
      "Продажа ценных бумаг | etf | BBG00Y6D0N45 |  | 2021-05-07 12:32:15.050000+00:00 | MoneyValue(currency='usd', units=3, nano=470000000) | MoneyValue(currency='usd', units=1, nano=156667000) | OperationState.OPERATION_STATE_EXECUTED | 3 | Продажа ценных бумаг\n",
      "Удержание комиссии за операцию\n",
      "Удержание комиссии за операцию | etf | BBG00Y6D0N45 | 23881275403 | 2021-05-07 12:32:15.050000+00:00 | MoneyValue(currency='usd', units=0, nano=-20000000) | MoneyValue(currency='usd', units=0, nano=0) | OperationState.OPERATION_STATE_EXECUTED | 0 | Удержание комиссии за операцию\n",
      "Покупка ценных бумаг | etf | BBG111111111 |  | 2021-05-07 07:44:04.177000+00:00 | MoneyValue(currency='usd', units=-13, nano=-970000000) | MoneyValue(currency='usd', units=0, nano=101232000) | OperationState.OPERATION_STATE_EXECUTED | 138 | Покупка ценных бумаг\n",
      "Покупка ценных бумаг | currency | BBG0013HGFT4 |  | 2021-05-07 07:42:53+00:00 | MoneyValue(currency='rub', units=-1038, nano=-520000000) | MoneyValue(currency='rub', units=74, nano=180000000) | OperationState.OPERATION_STATE_EXECUTED | 14 | Покупка ценных бумаг\n",
      "Удержание комиссии за операцию\n",
      "Удержание комиссии за операцию | currency | BBG0013HGFT4 | 21736071897 | 2021-05-07 07:42:53+00:00 | MoneyValue(currency='rub', units=-3, nano=-120000000) | MoneyValue(currency='rub', units=0, nano=0) | OperationState.OPERATION_STATE_EXECUTED | 0 | Удержание комиссии за операцию\n",
      "Продажа ценных бумаг | etf | BBG000000001 |  | 2021-05-07 07:41:28.205000+00:00 | MoneyValue(currency='rub', units=1020, nano=530000000) | MoneyValue(currency='rub', units=5, nano=968012000) | OperationState.OPERATION_STATE_EXECUTED | 171 | Продажа ценных бумаг\n",
      "Покупка ценных бумаг | share | BBG002WLDMW5 |  | 2021-05-06 14:59:11.214000+00:00 | MoneyValue(currency='usd', units=-38, nano=-390000000) | MoneyValue(currency='usd', units=38, nano=390000000) | OperationState.OPERATION_STATE_EXECUTED | 1 | Покупка ценных бумаг\n",
      "Удержание комиссии за операцию\n",
      "Удержание комиссии за операцию | share | BBG002WLDMW5 | 242166620250 | 2021-05-06 14:59:11.214000+00:00 | MoneyValue(currency='usd', units=0, nano=-120000000) | MoneyValue(currency='usd', units=0, nano=0) | OperationState.OPERATION_STATE_EXECUTED | 0 | Удержание комиссии за операцию\n",
      "Пополнение брокерского счёта |  |  |  | 2021-05-06 14:59:10+00:00 | MoneyValue(currency='usd', units=38, nano=510000000) | MoneyValue(currency='usd', units=0, nano=0) | OperationState.OPERATION_STATE_EXECUTED | 0 | Пополнение брокерского счёта\n",
      "Покупка ценных бумаг | etf | BBG00Y6D0N45 |  | 2021-05-06 11:19:16.501000+00:00 | MoneyValue(currency='usd', units=-3, nano=-450000000) | MoneyValue(currency='usd', units=1, nano=150000000) | OperationState.OPERATION_STATE_EXECUTED | 3 | Покупка ценных бумаг\n",
      "Удержание комиссии за операцию\n",
      "Удержание комиссии за операцию | etf | BBG00Y6D0N45 | 23860368107 | 2021-05-06 11:19:16.501000+00:00 | MoneyValue(currency='usd', units=0, nano=-10000000) | MoneyValue(currency='usd', units=0, nano=0) | OperationState.OPERATION_STATE_EXECUTED | 0 | Удержание комиссии за операцию\n",
      "Покупка ценных бумаг | share | BBG00W0KZD98 |  | 2021-05-06 09:52:38.270000+00:00 | MoneyValue(currency='usd', units=-18, nano=-980000000) | MoneyValue(currency='usd', units=18, nano=980000000) | OperationState.OPERATION_STATE_EXECUTED | 1 | Покупка ценных бумаг\n",
      "Удержание комиссии за операцию\n",
      "Удержание комиссии за операцию | share | BBG00W0KZD98 | 241909458990 | 2021-05-06 09:52:38.270000+00:00 | MoneyValue(currency='usd', units=0, nano=-60000000) | MoneyValue(currency='usd', units=0, nano=0) | OperationState.OPERATION_STATE_EXECUTED | 0 | Удержание комиссии за операцию\n",
      "Покупка ценных бумаг | share | BBG002WLDMW5 |  | 2021-05-06 09:51:48.870000+00:00 | MoneyValue(currency='usd', units=-43, nano=-690000000) | MoneyValue(currency='usd', units=43, nano=690000000) | OperationState.OPERATION_STATE_EXECUTED | 1 | Покупка ценных бумаг\n",
      "Удержание комиссии за операцию\n",
      "Удержание комиссии за операцию | share | BBG002WLDMW5 | 241909207170 | 2021-05-06 09:51:48.870000+00:00 | MoneyValue(currency='usd', units=0, nano=-130000000) | MoneyValue(currency='usd', units=0, nano=0) | OperationState.OPERATION_STATE_EXECUTED | 0 | Удержание комиссии за операцию\n",
      "Покупка ценных бумаг | currency | BBG0013HGFT4 |  | 2021-05-06 09:51:01+00:00 | MoneyValue(currency='rub', units=-4924, nano=-920000000) | MoneyValue(currency='rub', units=74, nano=620000000) | OperationState.OPERATION_STATE_EXECUTED | 66 | Покупка ценных бумаг\n",
      "Удержание комиссии за операцию\n",
      "Удержание комиссии за операцию | currency | BBG0013HGFT4 | 21731406256 | 2021-05-06 09:51:01+00:00 | MoneyValue(currency='rub', units=-14, nano=-770000000) | MoneyValue(currency='rub', units=0, nano=0) | OperationState.OPERATION_STATE_EXECUTED | 0 | Удержание комиссии за операцию\n",
      "Продажа ценных бумаг | bond | BBG00RKDZWG3 |  | 2021-05-06 07:19:08.373000+00:00 | MoneyValue(currency='rub', units=4964, nano=600000000) | MoneyValue(currency='rub', units=991, nano=780000000) | OperationState.OPERATION_STATE_EXECUTED | 5 | Продажа ценных бумаг\n",
      "Удержание комиссии за операцию\n",
      "Удержание комиссии за операцию | bond | BBG00RKDZWG3 | 23854455513 | 2021-05-06 07:19:08.373000+00:00 | MoneyValue(currency='rub', units=-14, nano=-880000000) | MoneyValue(currency='rub', units=0, nano=0) | OperationState.OPERATION_STATE_EXECUTED | 0 | Удержание комиссии за операцию\n",
      "Продажа ценных бумаг | bond | BBG00RKDZWG3 |  | 2021-05-06 07:16:46.317000+00:00 | MoneyValue(currency='rub', units=0, nano=0) | MoneyValue(currency='rub', units=991, nano=810000000) | OperationState.OPERATION_STATE_CANCELED | 5 | Продажа ценных бумаг\n",
      "Покупка ценных бумаг | share | BBG000BQPC32 |  | 2021-04-30 09:42:12.190000+00:00 | MoneyValue(currency='usd', units=-56, nano=-850000000) | MoneyValue(currency='usd', units=11, nano=370000000) | OperationState.OPERATION_STATE_EXECUTED | 5 | Покупка ценных бумаг\n",
      "Удержание комиссии за операцию\n",
      "Удержание комиссии за операцию | share | BBG000BQPC32 | 239785404260 | 2021-04-30 09:42:12.190000+00:00 | MoneyValue(currency='usd', units=0, nano=-170000000) | MoneyValue(currency='usd', units=0, nano=0) | OperationState.OPERATION_STATE_EXECUTED | 0 | Удержание комиссии за операцию\n",
      "Пополнение брокерского счёта |  |  |  | 2021-04-30 09:42:11+00:00 | MoneyValue(currency='usd', units=57, nano=230000000) | MoneyValue(currency='usd', units=0, nano=0) | OperationState.OPERATION_STATE_EXECUTED | 0 | Пополнение брокерского счёта\n",
      "Покупка ценных бумаг | share | BBG000C0G1D1 |  | 2021-04-29 21:45:27.953000+00:00 | MoneyValue(currency='usd', units=-58, nano=-80000000) | MoneyValue(currency='usd', units=58, nano=80000000) | OperationState.OPERATION_STATE_EXECUTED | 1 | Покупка ценных бумаг\n",
      "Удержание комиссии за операцию\n",
      "Удержание комиссии за операцию | share | BBG000C0G1D1 | 239744604970 | 2021-04-29 21:45:27.953000+00:00 | MoneyValue(currency='usd', units=0, nano=-170000000) | MoneyValue(currency='usd', units=0, nano=0) | OperationState.OPERATION_STATE_EXECUTED | 0 | Удержание комиссии за операцию\n",
      "Пополнение брокерского счёта |  |  |  | 2021-04-29 21:45:27+00:00 | MoneyValue(currency='usd', units=58, nano=450000000) | MoneyValue(currency='usd', units=0, nano=0) | OperationState.OPERATION_STATE_EXECUTED | 0 | Пополнение брокерского счёта\n",
      "Покупка ценных бумаг | share | BBG000BN56Q9 |  | 2021-04-29 12:34:04.806000+00:00 | MoneyValue(currency='rub', units=-2986, nano=-800000000) | MoneyValue(currency='rub', units=149, nano=340000000) | OperationState.OPERATION_STATE_EXECUTED | 20 | Покупка ценных бумаг\n",
      "Удержание комиссии за операцию\n",
      "Удержание комиссии за операцию | share | BBG000BN56Q9 | 23781146335 | 2021-04-29 12:34:04.806000+00:00 | MoneyValue(currency='rub', units=-8, nano=-960000000) | MoneyValue(currency='rub', units=0, nano=0) | OperationState.OPERATION_STATE_EXECUTED | 0 | Удержание комиссии за операцию\n",
      "Пополнение брокерского счёта |  |  |  | 2021-04-29 12:34:04+00:00 | MoneyValue(currency='rub', units=3004, nano=990000000) | MoneyValue(currency='rub', units=0, nano=0) | OperationState.OPERATION_STATE_EXECUTED | 0 | Пополнение брокерского счёта\n",
      "Покупка ценных бумаг | bond | BBG00RKDZWG3 |  | 2021-04-29 12:22:39.750000+00:00 | MoneyValue(currency='rub', units=-4960, nano=-550000000) | MoneyValue(currency='rub', units=991, nano=870000000) | OperationState.OPERATION_STATE_EXECUTED | 5 | Покупка ценных бумаг\n",
      "Удержание комиссии за операцию\n",
      "Удержание комиссии за операцию | bond | BBG00RKDZWG3 | 23780950008 | 2021-04-29 12:22:39.750000+00:00 | MoneyValue(currency='rub', units=-14, nano=-880000000) | MoneyValue(currency='rub', units=0, nano=0) | OperationState.OPERATION_STATE_EXECUTED | 0 | Удержание комиссии за операцию\n",
      "Пополнение брокерского счёта |  |  |  | 2021-04-29 12:22:39+00:00 | MoneyValue(currency='rub', units=4990, nano=330000000) | MoneyValue(currency='rub', units=0, nano=0) | OperationState.OPERATION_STATE_EXECUTED | 0 | Пополнение брокерского счёта\n",
      "Покупка ценных бумаг | etf | BBG000000001 |  | 2021-04-29 12:18:41.258000+00:00 | MoneyValue(currency='rub', units=-418, nano=-970000000) | MoneyValue(currency='rub', units=5, nano=900986000) | OperationState.OPERATION_STATE_EXECUTED | 71 | Покупка ценных бумаг\n",
      "Покупка ценных бумаг | share | BBG0047315Y7 |  | 2021-04-29 12:10:58.625000+00:00 | MoneyValue(currency='rub', units=-5682, nano=0) | MoneyValue(currency='rub', units=284, nano=100000000) | OperationState.OPERATION_STATE_EXECUTED | 20 | Покупка ценных бумаг\n",
      "Удержание комиссии за операцию\n",
      "Удержание комиссии за операцию | share | BBG0047315Y7 | 23780744541 | 2021-04-29 12:10:58.625000+00:00 | MoneyValue(currency='rub', units=-17, nano=-50000000) | MoneyValue(currency='rub', units=0, nano=0) | OperationState.OPERATION_STATE_EXECUTED | 0 | Удержание комиссии за операцию\n",
      "Пополнение брокерского счёта |  |  |  | 2021-04-29 12:10:58+00:00 | MoneyValue(currency='rub', units=5716, nano=300000000) | MoneyValue(currency='rub', units=0, nano=0) | OperationState.OPERATION_STATE_EXECUTED | 0 | Пополнение брокерского счёта\n",
      "Покупка ценных бумаг | bond | TCS00A103117 |  | 2021-04-28 10:05:54.258000+00:00 | MoneyValue(currency='rub', units=-5007, nano=0) | MoneyValue(currency='rub', units=1000, nano=0) | OperationState.OPERATION_STATE_EXECUTED | 5 | Покупка ценных бумаг\n",
      "Удержание комиссии за операцию\n",
      "Удержание комиссии за операцию | bond | TCS00A103117 | 23757187588 | 2021-04-28 10:05:54.258000+00:00 | MoneyValue(currency='rub', units=-15, nano=0) | MoneyValue(currency='rub', units=0, nano=0) | OperationState.OPERATION_STATE_EXECUTED | 0 | Удержание комиссии за операцию\n",
      "Пополнение брокерского счёта |  |  |  | 2021-04-28 10:05:53+00:00 | MoneyValue(currency='rub', units=5022, nano=0) | MoneyValue(currency='rub', units=0, nano=0) | OperationState.OPERATION_STATE_EXECUTED | 0 | Пополнение брокерского счёта\n",
      "Покупка ценных бумаг | etf | BBG000000001 |  | 2021-04-27 12:53:30.016000+00:00 | MoneyValue(currency='rub', units=-592, nano=-700000000) | MoneyValue(currency='rub', units=5, nano=927000000) | OperationState.OPERATION_STATE_EXECUTED | 100 | Покупка ценных бумаг\n",
      "Пополнение брокерского счёта |  |  |  | 2021-04-27 12:47:11+00:00 | MoneyValue(currency='rub', units=1000, nano=0) | MoneyValue(currency='rub', units=0, nano=0) | OperationState.OPERATION_STATE_EXECUTED | 0 | Пополнение брокерского счёта\n"
     ]
    }
   ],
   "source": [
    "un_type = []\n",
    "\n",
    "\n",
    "with Client(token) as client:\n",
    "    r = client.operations.get_operations(account_id='2059303392',\n",
    "                                         from_=datetime.datetime(2021,1,8),\n",
    "                                         to=datetime.datetime.now()\n",
    "                                        )\n",
    "    for operation in r.operations:\n",
    "        if operation.type == 'Удержание комиссии за операцию' :\n",
    "            #print(operation.parent_operation_id)\n",
    "            print(operation.type)\n",
    "        print(operation.type, '|', operation.instrument_type,'|', operation.figi,'|', operation.parent_operation_id,'|',operation.date,'|',  operation.payment,'|', operation.price,'|', operation.state,'|', operation.quantity,'|', operation.type)\n",
    "    #print(r)"
   ]
  },
  {
   "cell_type": "code",
   "execution_count": null,
   "metadata": {},
   "outputs": [],
   "source": []
  }
 ],
 "metadata": {
  "kernelspec": {
   "display_name": "Python 3",
   "language": "python",
   "name": "python3"
  },
  "language_info": {
   "codemirror_mode": {
    "name": "ipython",
    "version": 3
   },
   "file_extension": ".py",
   "mimetype": "text/x-python",
   "name": "python",
   "nbconvert_exporter": "python",
   "pygments_lexer": "ipython3",
   "version": "3.8.3"
  }
 },
 "nbformat": 4,
 "nbformat_minor": 4
}
